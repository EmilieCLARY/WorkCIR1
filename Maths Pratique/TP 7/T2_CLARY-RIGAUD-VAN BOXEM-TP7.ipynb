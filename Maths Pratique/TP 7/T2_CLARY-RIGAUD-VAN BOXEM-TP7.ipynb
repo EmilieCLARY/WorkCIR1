{
 "cells": [
  {
   "cell_type": "markdown",
   "metadata": {},
   "source": [
    "<p><span style=\"font-size: large; background-color: #ffffff; color: #000000;\"><strong>Consignes :</strong></span></p>\n",
    "<ul>\n",
    "<li><span style=\"font-size: large; background-color: #ffffff; color: #000000;\"><strong><strong>Renommer ce fichier en ordre alphab&eacute;tique avec le numéro i de votre Tiers <span style=\"color: #ff0000;\">Ti_nom1-nom2-TP7</span></strong></strong></span></li>\n",
    "<li><span style=\"font-size: large; background-color: #ffffff; color: #000000;\"><strong><strong><strong>TP &agrave; rendre sur Teams&nbsp;<span><span style=\"color: #ff0000;\">pour le 28 janvier</span>.</span>&nbsp;</strong></strong></strong></span></li>\n",
    "<li><span style=\"font-size: large; background-color: #ffffff; color: #000000;\"><strong>TP &agrave; faire en groupe de 2. Le groupe de travail est le m&ecirc;me pour toute l'ann&eacute;e.</strong></span></li>\n",
    "<li><span style=\"font-size: large; background-color: #ffffff; color: #ff0000;\"><span style=\"color: #000000;\"><strong>&Agrave; compl&eacute;ter :</strong></span></span></li>\n",
    "</ul>\n",
    "<p><span style=\"font-size: large; background-color: #ffffff; color: #ff0000;\"><strong>NOM PRENOM 1 : CLARY Émilie<br /></strong></span></p>\n",
    "<p><span style=\"font-size: large; background-color: #ffffff; color: #ff0000;\"><strong>NOM PRENOM 2 : RIGAUD Mathilde</strong></span></p>\n",
    "<p><span style=\"font-size: large; background-color: #ffffff; color: #ff0000;\"><strong>NOM PRENOM 3 : VAN BOXEM Rémi</strong></span></p>\n",
    "<p>&nbsp;</p>\n",
    "<p><br /><span style=\"font-size: large;\"><strong></strong><strong>TP 7 : Arithm&eacute;tique dans $\\mathbb{Z}$ et le codage de César<br /></strong></span></p>\n",
    "<p><span style=\"font-size: large;\"><strong><br style=\"font-size: medium;\" /></strong></span></p>\n",
    "<p>Certaines commandes utiles pour l'arithm&eacute;tique dans $\\mathbb{Z}$ :</p>\n",
    "<ul>\n",
    "<li>//</li>\n",
    "<li>%</li>\n",
    "<li>gcd(a,b)</li>\n",
    "</ul>\n"
   ]
  },
  {
   "cell_type": "markdown",
   "metadata": {},
   "source": [
    "<p><span style=\"text-decoration: underline;\">EXERCICE 1</span><br />Pythagore aurait défini l’amitié (de deux entiers)\n",
    "ainsi :\n",
    "\n",
    "<b>Définition</b> Deux nombres sont <i>amiables</i> ou <i>amicaux</i> s'ils sont distincts et chacun est la somme des diviseurs propres de l’autre.\n",
    "\n",
    "<p><li>Ecrire une fonction <b>amiable(N)</b> qui affiche la liste des paires de nombres amiables dont\n",
    "le plus petit des deux est inférieurs à N.</p>\n",
    "<p><div><li>Afficher la liste des paires de nombres amiables dont le plus petit des deux est inférieur à 300</div></p>"
   ]
  },
  {
   "cell_type": "code",
   "execution_count": 93,
   "metadata": {},
   "outputs": [
    {
     "data": {
      "text/html": [
       "<html><script type=\"math/tex; mode=display\">\\newcommand{\\Bold}[1]{\\mathbf{#1}}64</script></html>"
      ],
      "text/plain": [
       "64"
      ]
     },
     "metadata": {},
     "output_type": "display_data"
    },
    {
     "data": {
      "text/html": [
       "<html><script type=\"math/tex; mode=display\">\\newcommand{\\Bold}[1]{\\mathbf{#1}}\\left[\\left(220, 284\\right), \\left(284, 220\\right)\\right]</script></html>"
      ],
      "text/plain": [
       "[(220, 284), (284, 220)]"
      ]
     },
     "metadata": {},
     "output_type": "display_data"
    }
   ],
   "source": [
    "def sommediv(n):\n",
    "    somme = 0\n",
    "    for j in range(1, n):\n",
    "        if n%j == 0:\n",
    "            somme = somme + j\n",
    "    return somme\n",
    "    \n",
    "show(sommediv(122))\n",
    "        \n",
    "def amiable(N):\n",
    "    \n",
    "    liste = []\n",
    "    for i in range(1,N):\n",
    "        p = sommediv(i)\n",
    "        if (i != p) and (i == sommediv(p)):\n",
    "            liste.append((i,p))\n",
    "    return liste\n",
    "\n",
    "show(amiable(300))"
   ]
  },
  {
   "cell_type": "markdown",
   "metadata": {},
   "source": [
    "<span style=\"text-decoration: underline;\">EXERCICE 2</span><br />Ecrire une fonction que vous allez appeler&nbsp;<strong>cesar(message,k)</strong>&nbsp;qui prend en entr&eacute;e un message en majuscule et le d&eacute;calage de Cesar et qui returne le message crypt&eacute; ou decrypté.<br />\n",
    "<p></p>\n",
    "\n",
    "\n",
    "\n",
    "<u>Suggestions</u> : \n",
    "<p>\n",
    "<li> <i>La commande <b>ord</b> permet de transcrire les lettres d'un message en code ASCII.</i></li> \n",
    "\n",
    "Le code ASCII. . . Mais savez-vous de quoi il s’agit ?\n",
    "La mémoire de l’ordinateur conserve toutes les données sous forme numérique.\n",
    "Il n’existe pas de méthode pour stocker directement les caractères.\n",
    "Chaque caractère possède donc son équivalent numérique : c’est le code\n",
    "ASCII (American Standard Code for Information Interchange). Le code\n",
    "ASCII de base permettait de chiffer 128 caractères :\n",
    "<ul style=\"list-style-type: none;\">\n",
    "<li>- Les codes 0 à 31 ne sont pas à proprement parler des caractères. On les\n",
    "appelle caractères de contrôle, car ils permettent de faire des actions\n",
    "telles que : retour à la ligne ou bip sonore.</li>\n",
    "<li>- Les codes 48 à 57 représentent les chiffres.</li>\n",
    "<li>- Les codes 65 à 90 représentent les majuscules.</li>\n",
    "<li>-Les codes 97 à 122 représentent les minuscules.</li>\n",
    "</ul></p>\n",
    " <i> Attention au decalage des lettres ! </i>\n",
    "<p><li>  <i> La transformation inverse se fait par la fonction <strong>chr</strong> : chr(65) renvoie le caract&egrave;re A, chr(66) renvoie B...</p> </i>\n",
    "\n",
    "\n",
    " <p>\n",
    "<li> <i>Un message est une chaine de caract&egrave;res, qui se comporte comme une liste.</p> </i>\n",
    "<p><strong>message =[]&nbsp;</strong> #liste vide</p>\n",
    "<p>Si message est une chaîne alors <strong>message[0]</strong> est la pr&egrave;miere lettre, <strong>message[1]</strong> la deuxi&egrave;me lettre...et la boucle <strong>for lettre in message :</strong> permet de parcourir chacune des lettres.</p>\n",
    "<p>Pour ajouter une lettre &agrave; une liste, faites <strong>maliste.append(lettre)</strong>.&nbsp;</p>\n",
    "<p>Enfin pour transformer une liste de caract&egrave;res en une chaine, faites<strong> \"\".join(maliste)</strong></p>\n",
    "<p>&nbsp;</p>\n",
    "\n"
   ]
  },
  {
   "cell_type": "code",
   "execution_count": 86,
   "metadata": {},
   "outputs": [],
   "source": [
    "def cesar(message, k):\n",
    "    liste = []\n",
    "    for i in range (0, len(message)):\n",
    "        test = ord(message[i])+k\n",
    "        if test > 90 :\n",
    "            test = test - 26\n",
    "        if test < 65 :\n",
    "            test = test + 26\n",
    "        liste.append(chr(test))\n",
    "    return liste"
   ]
  },
  {
   "cell_type": "markdown",
   "metadata": {},
   "source": [
    "<p class=\" CodeMirror-line sagews-output-cm-text\"><span style=\"background-color: #ffffff; color: #000000;\"><span class=\"CodeMirror-widget\"><span class=\"sagews-output sagews-output-done\"><span class=\"sagews-output-html\"><span style=\"text-decoration: underline;\">EXERCICE 3</span>&nbsp;<br /> Tester votre fonction avec $k=13$ et la phrase suivante : <span style=\"text-decoration: underline;\">La vita &egrave; bella</span>\n",
    "<p>Vérifier aussi le déchiffrement.</p>\n",
    "    \n",
    "<>Suggestion : Ecrire le message en majuscule et sans espaces. "
   ]
  },
  {
   "cell_type": "code",
   "execution_count": 87,
   "metadata": {},
   "outputs": [
    {
     "data": {
      "text/html": [
       "<html><script type=\"math/tex; mode=display\">\\newcommand{\\Bold}[1]{\\mathbf{#1}}\\left[\\verb|Y|, \\verb|N|, \\verb|I|, \\verb|V|, \\verb|G|, \\verb|N|, \\verb|R|, \\verb|O|, \\verb|R|, \\verb|Y|, \\verb|Y|, \\verb|N|\\right]</script></html>"
      ],
      "text/plain": [
       "['Y', 'N', 'I', 'V', 'G', 'N', 'R', 'O', 'R', 'Y', 'Y', 'N']"
      ]
     },
     "metadata": {},
     "output_type": "display_data"
    }
   ],
   "source": [
    "show(cesar(\"LAVITAEBELLA\",13))"
   ]
  },
  {
   "cell_type": "markdown",
   "metadata": {},
   "source": [
    "<p class=\" CodeMirror-line sagews-output-cm-text\"><span style=\"color: #000000; font-family: arial,helvetica,sans-serif;\"><span class=\"CodeMirror-widget\"><span class=\"sagews-output sagews-output-done\"><span class=\"sagews-output-html\"><span style=\"text-decoration: underline;\">EXERCICE 4</span>&nbsp;<br />Avec votre fonction, d&eacute;crypter</span></span></span></span></p>\n",
    "<p align=\"center\"><span style=\"color: #000000; font-family: arial,helvetica,sans-serif;\">OHFUBSWDJHHVWODUWGHFRGHUXQPHVVDJH, -3 \n",
    "   </span></p>"
   ]
  },
  {
   "cell_type": "code",
   "execution_count": 88,
   "metadata": {},
   "outputs": [
    {
     "data": {
      "text/html": [
       "<html><script type=\"math/tex; mode=display\">\\newcommand{\\Bold}[1]{\\mathbf{#1}}\\left[\\verb|L|, \\verb|E|, \\verb|C|, \\verb|R|, \\verb|Y|, \\verb|P|, \\verb|T|, \\verb|A|, \\verb|G|, \\verb|E|, \\verb|E|, \\verb|S|, \\verb|T|, \\verb|L|, \\verb|A|, \\verb|R|, \\verb|T|, \\verb|D|, \\verb|E|, \\verb|C|, \\verb|O|, \\verb|D|, \\verb|E|, \\verb|R|, \\verb|U|, \\verb|N|, \\verb|M|, \\verb|E|, \\verb|S|, \\verb|S|, \\verb|A|, \\verb|G|, \\verb|E|\\right]</script></html>"
      ],
      "text/plain": [
       "['L',\n",
       " 'E',\n",
       " 'C',\n",
       " 'R',\n",
       " 'Y',\n",
       " 'P',\n",
       " 'T',\n",
       " 'A',\n",
       " 'G',\n",
       " 'E',\n",
       " 'E',\n",
       " 'S',\n",
       " 'T',\n",
       " 'L',\n",
       " 'A',\n",
       " 'R',\n",
       " 'T',\n",
       " 'D',\n",
       " 'E',\n",
       " 'C',\n",
       " 'O',\n",
       " 'D',\n",
       " 'E',\n",
       " 'R',\n",
       " 'U',\n",
       " 'N',\n",
       " 'M',\n",
       " 'E',\n",
       " 'S',\n",
       " 'S',\n",
       " 'A',\n",
       " 'G',\n",
       " 'E']"
      ]
     },
     "metadata": {},
     "output_type": "display_data"
    }
   ],
   "source": [
    "show(cesar(\"OHFUBSWDJHHVWODUWGHFRGHUXQPHVVDJH\", -3))"
   ]
  },
  {
   "cell_type": "markdown",
   "metadata": {},
   "source": [
    "<p class=\" CodeMirror-line sagews-output-cm-text\"><span><span style=\"text-decoration: underline;\">EXERCICE 5</span>&nbsp;<br />Avec votre fonction, d&eacute;crypter</span></p>\n",
    "<p align=\"center\">ARZDVIRZJDZVLOVKIVCVGIVDZVIUREJLEMZCCRXVHLVCVJVTFEURIFDV</p>\n"
   ]
  },
  {
   "cell_type": "code",
   "execution_count": 92,
   "metadata": {},
   "outputs": [
    {
     "data": {
      "text/html": [
       "<html><script type=\"math/tex; mode=display\">\\newcommand{\\Bold}[1]{\\mathbf{#1}}\\left[\\verb|J|, \\verb|A|, \\verb|I|, \\verb|M|, \\verb|E|, \\verb|R|, \\verb|A|, \\verb|I|, \\verb|S|, \\verb|M|, \\verb|I|, \\verb|E|, \\verb|U|, \\verb|X|, \\verb|E|, \\verb|T|, \\verb|R|, \\verb|E|, \\verb|L|, \\verb|E|, \\verb|P|, \\verb|R|, \\verb|E|, \\verb|M|, \\verb|I|, \\verb|E|, \\verb|R|, \\verb|D|, \\verb|A|, \\verb|N|, \\verb|S|, \\verb|U|, \\verb|N|, \\verb|V|, \\verb|I|, \\verb|L|, \\verb|L|, \\verb|A|, \\verb|G|, \\verb|E|, \\verb|Q|, \\verb|U|, \\verb|E|, \\verb|L|, \\verb|E|, \\verb|S|, \\verb|E|, \\verb|C|, \\verb|O|, \\verb|N|, \\verb|D|, \\verb|A|, \\verb|R|, \\verb|O|, \\verb|M|, \\verb|E|\\right]</script></html>"
      ],
      "text/plain": [
       "['J',\n",
       " 'A',\n",
       " 'I',\n",
       " 'M',\n",
       " 'E',\n",
       " 'R',\n",
       " 'A',\n",
       " 'I',\n",
       " 'S',\n",
       " 'M',\n",
       " 'I',\n",
       " 'E',\n",
       " 'U',\n",
       " 'X',\n",
       " 'E',\n",
       " 'T',\n",
       " 'R',\n",
       " 'E',\n",
       " 'L',\n",
       " 'E',\n",
       " 'P',\n",
       " 'R',\n",
       " 'E',\n",
       " 'M',\n",
       " 'I',\n",
       " 'E',\n",
       " 'R',\n",
       " 'D',\n",
       " 'A',\n",
       " 'N',\n",
       " 'S',\n",
       " 'U',\n",
       " 'N',\n",
       " 'V',\n",
       " 'I',\n",
       " 'L',\n",
       " 'L',\n",
       " 'A',\n",
       " 'G',\n",
       " 'E',\n",
       " 'Q',\n",
       " 'U',\n",
       " 'E',\n",
       " 'L',\n",
       " 'E',\n",
       " 'S',\n",
       " 'E',\n",
       " 'C',\n",
       " 'O',\n",
       " 'N',\n",
       " 'D',\n",
       " 'A',\n",
       " 'R',\n",
       " 'O',\n",
       " 'M',\n",
       " 'E']"
      ]
     },
     "metadata": {},
     "output_type": "display_data"
    }
   ],
   "source": [
    "show(cesar(\"ARZDVIRZJDZVLOVKIVCVGIVDZVIUREJLEMZCCRXVHLVCVJVTFEURIFDV\", -17))"
   ]
  },
  {
   "cell_type": "code",
   "execution_count": null,
   "metadata": {},
   "outputs": [],
   "source": []
  }
 ],
 "metadata": {
  "kernelspec": {
   "display_name": "Python 3",
   "language": "python",
   "name": "python3"
  },
  "language_info": {
   "codemirror_mode": {
    "name": "ipython",
    "version": 3
   },
   "file_extension": ".py",
   "mimetype": "text/x-python",
   "name": "python",
   "nbconvert_exporter": "python",
   "pygments_lexer": "ipython3",
   "version": "3.8.5"
  }
 },
 "nbformat": 4,
 "nbformat_minor": 2
}
