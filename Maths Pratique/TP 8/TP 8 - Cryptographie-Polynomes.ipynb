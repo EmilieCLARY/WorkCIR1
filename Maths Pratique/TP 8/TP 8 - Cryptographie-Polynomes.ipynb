{
 "cells": [
  {
   "cell_type": "markdown",
   "metadata": {},
   "source": [
    "<p><span style=\"font-size: large; background-color: #ffffff; color: #000000;\"><strong>Consignes :</strong></span></p>\n",
    "<ul>\n",
    "<li><span style=\"font-size: large; background-color: #ffffff; color: #000000;\"><strong><strong>Renommer ce fichier en ordre alphab&eacute;tique avec le numéro i de votre Tiers <span style=\"color: #ff0000;\">Ti_nom1-nom2-TP8</span></strong></strong></span></li>\n",
    "<li><span style=\"font-size: large; background-color: #ffffff; color: #000000;\"><strong><strong><strong>TP &agrave; rendre sur Teams&nbsp;<span><span style=\"color: #ff0000;\">pour le 18 février</span>.</span>&nbsp;</strong></strong></strong></span></li>\n",
    "<li><span style=\"font-size: large; background-color: #ffffff; color: #000000;\"><strong>TP &agrave; faire en groupe de 2. Le groupe de travail est le m&ecirc;me pour toute l'ann&eacute;e.</strong></span></li>\n",
    "<li><span style=\"font-size: large; background-color: #ffffff; color: #ff0000;\"><span style=\"color: #000000;\"><strong>&Agrave; compl&eacute;ter :</strong></span></span></li>\n",
    "</ul>\n",
    "<p><span style=\"font-size: large; background-color: #ffffff; color: #ff0000;\"><strong>NOM PRENOM 1 : <br /></strong></span></p>\n",
    "<p><span style=\"font-size: large; background-color: #ffffff; color: #ff0000;\"><strong>NOM PRENOM 2 : </strong></span></p>\n",
    "<p>&nbsp;</p>\n",
    "<p><br /><span style=\"font-size: large;\"><strong></strong><strong>TP 8 : Cryptographie et Polynômes<br /></strong></span></p>\n",
    "\n",
    "\n",
    "\n",
    "<p><span style=\"font-size: medium;\"><strong><span style=\"font-size: large;\"><br /></span></strong></span></p>\n",
    "<p><span style=\"text-decoration: underline;\">EXERCICE 1</span></p>\n",
    "<p>Une compagnie veut instaurer un syst&eacute;me de commandes sur Internet. Elle instaure donc un cryptage &agrave; cl&eacute; publique (RSA) pour la transmission du num&eacute;ro de carte de cr&eacute;dit. Le num&eacute;ro de carte de cr&eacute;dit est un num&eacute;ro de 16 chiffres auquel on ajoute les 4 chiffres qui correspondent &agrave; la date d'expiration, soit un nombre de 20 chiffres.</p>\n",
    "<p>La compagnie choisit donc $p$ et $q$ deux grands nombres premiers :</p>\n",
    "<p>$$p=9760959751111112041886431$$</p>\n",
    "<p>$$q=8345523998678341256491111$$</p>\n",
    "<p>La compagnie choisit sa cl&eacute; d'ncryptage $e=45879256903$.</p>\n",
    "<p>Un client dont le num&eacute;ro de sa carte de cr&eacute;dit est $1234 \\ 5678 \\ 9098 \\ 7654$ et la date d'expiration est le 01/06 enverra donc le message $M=12345678909876540106$.</p>\n",
    "<p>&nbsp;</p>\n",
    "\n",
    "<b>Commenter soigneusement votre code !</b>\n",
    "<p>1) Quel est le message $M'$ transmis par le logicel d'envoi ?</p>\n",
    "<p>2) V&eacute;rifier que le num&eacute;ro r&eacute;&ccedil;u correspond bien au num&eacute;ro de la carte de cr&eacute;dit du client ainsi que sa date d'expiration.</p>\n",
    "\n",
    "Suggestion : voir help(inverse_mod) et help(power_mod)\n",
    "<pre>&nbsp;</pre>\n",
    "\n",
    "\n"
   ]
  },
  {
   "cell_type": "code",
   "execution_count": null,
   "metadata": {},
   "outputs": [],
   "source": []
  },
  {
   "cell_type": "markdown",
   "metadata": {},
   "source": [
    "<p><span style=\"text-decoration: underline;\">EXERCICE 2</span></p>\n",
    "<p><span>Alice a pris connaissance de la cl&eacute; publique de Bob : (253,3), o&ugrave; 253 correspond &agrave; $n$ et 3 &agrave; $e$.</span><br /><span>Elle veut lui envoyer le message OUI.</span><br /><span><span><span class=\"CodeMirror-widget\"><span class=\"sagews-output sagews-output-done\"><span class=\"sagews-output-html\">Elle chiffre le message selon le code standard sur 26 lettres (A=0, B=1, C=2 ...) et elle envoie lettre par lettre</span></span></span></span><br /><span><span class=\"CodeMirror-widget\"><span class=\"sagews-output sagews-output-done\"><span class=\"sagews-output-html\">O = ..., U=..., I =....</span></span></span></span></span><br /><span>A l'aide de Sage (voir par exemple help(factor)):</span></p>\n",
    "<p class=\" CodeMirror-line sagews-output-cm-text\"><span>1) D&eacute;terminer le message $M$ en clair et ensuite le message $M'$. Quel est le message $M'$ cod&eacute; ?</span></p>"
   ]
  },
  {
   "cell_type": "code",
   "execution_count": null,
   "metadata": {},
   "outputs": [],
   "source": [
    "reset()\n",
    "0=14\n",
    "U=8\n",
    "I=8\n",
    "e=20\n",
    "n=253\n",
    "power_mod(0,e,n)\n",
    "power_mod(U,e,n)\n",
    "power_mod(I,e)"
   ]
  },
  {
   "cell_type": "markdown",
   "metadata": {},
   "source": [
    "2) D&eacute;terminer dans ce cas simple, les 2 nombres premiers $p$ et <span style=\"color: #000000; font-family: arial,helvetica,sans-serif;\"><span class=\"CodeMirror-widget\"><span class=\"sagews-output sagews-output-done\"><span class=\"sagews-output-html\">$q$</span></span></span></span>, $\\varphi(n)$ et la cl&eacute; $ d$ de decodage.<br /> "
   ]
  },
  {
   "cell_type": "code",
   "execution_count": null,
   "metadata": {},
   "outputs": [],
   "source": []
  },
  {
   "cell_type": "markdown",
   "metadata": {},
   "source": [
    " 3) Assurez-vous, en d&eacute;crytptant le message, que vous obtenez bien le message OUI en clair.<br />"
   ]
  },
  {
   "cell_type": "code",
   "execution_count": null,
   "metadata": {},
   "outputs": [],
   "source": []
  },
  {
   "cell_type": "markdown",
   "metadata": {},
   "source": [
    "4) Montrer et expliquer pourquoi on n'aurait pas pu d&eacute;crypter le message correctement si Alice avait voulu trasmettre son message en un seul bloc.<br /> "
   ]
  },
  {
   "cell_type": "code",
   "execution_count": null,
   "metadata": {},
   "outputs": [],
   "source": []
  },
  {
   "cell_type": "markdown",
   "metadata": {},
   "source": [
    "5) Elle d&eacute;cide alors d'utiliser les nombres premiers $p=5147$ et $q=7351$. Montrer que la cl&eacute; $e=307$ est compatible puis coder ce message en un bloc.<br />"
   ]
  },
  {
   "cell_type": "code",
   "execution_count": null,
   "metadata": {},
   "outputs": [],
   "source": []
  },
  {
   "cell_type": "markdown",
   "metadata": {},
   "source": [
    " 6) Calculer la cl&eacute; $d$ de d&eacute;codage et assurez-vous du message d&eacute;cod&eacute;."
   ]
  },
  {
   "cell_type": "code",
   "execution_count": null,
   "metadata": {},
   "outputs": [],
   "source": []
  },
  {
   "cell_type": "markdown",
   "metadata": {},
   "source": [
    "<p class=\"shrunk\"><span style=\"text-decoration: underline;\">EXERCICE 2(b)</span></p>\n",
    "<p class=\"shrunk\">En utilisant les mêmes donn&eacute;es (253,3) de l'exo 3 d&eacute;chiffrez :</p>\n",
    "<p class=\"shrunk\">1, 106, 0, 153, 214, 153, 214, 157, 13, 0, 153, 64, 192, 1, 6, 64, 173, 8, 214, 210, 86, 106, 6, 13</p>"
   ]
  },
  {
   "cell_type": "code",
   "execution_count": null,
   "metadata": {},
   "outputs": [],
   "source": [
    "1, 106, 0, 153, 214, 153, 214, 157, 13, 0, 153, 64, 192, 1, 6, 64, 173, 8, 214, 210, 86, 106, 6, 13"
   ]
  },
  {
   "cell_type": "markdown",
   "metadata": {},
   "source": [
    "<p class=\" CodeMirror-line sagews-output-cm-text\"><span style=\"text-decoration: underline;\">EXERCICE 3</span><br /><br /></p>\n",
    "En utilisant l'<a href=\"https://fr.wikipedia.org/wiki/Analyse_fr%C3%A9quentielle\">analyse fréquentielle</a>\n"
   ]
  },
  {
   "cell_type": "code",
   "execution_count": 5,
   "metadata": {},
   "outputs": [],
   "source": [
    "def freqs(s):\n",
    "    \n",
    "    res = {}\n",
    "    \n",
    "    for c in s:\n",
    "        if not c in res:\n",
    "            res[c] = 0\n",
    "        res[c] += 1\n",
    "\n",
    "    res = sorted(res.items(), key=operator.itemgetter(1), reverse=True)\n",
    "    \n",
    "    img = Graphics()\n",
    "    \n",
    "    r = .25\n",
    "    \n",
    "    for i in range(len(res)):\n",
    "        c,f = res[i]\n",
    "        img += polygon( [(i+r, 0), (i+r, f), (i+1-r, f), (i+1-r, 0)] )\n",
    "        img += text(c, (i+.5,f/2), color=\"white\")\n",
    "        \n",
    "    show(img, aspect_ratio=\"auto\")"
   ]
  },
  {
   "cell_type": "markdown",
   "metadata": {},
   "source": [
    "et la rotation inverse de l'alphabet"
   ]
  },
  {
   "cell_type": "code",
   "execution_count": 6,
   "metadata": {},
   "outputs": [],
   "source": [
    "def rot(s,i,alpha):\n",
    "\n",
    "    res = \"\"\n",
    "    \n",
    "    for c in s:\n",
    "        if c in alpha:\n",
    "            res += alpha[ (alpha.index(c) + i) % len(alpha) ]\n",
    "        else:\n",
    "            #print u\"Caractère %s ignoré\" % c\n",
    "            res += c\n",
    "            \n",
    "    return res"
   ]
  },
  {
   "cell_type": "markdown",
   "metadata": {},
   "source": [
    "comme dans l'exemple ci-dessous :"
   ]
  },
  {
   "cell_type": "code",
   "execution_count": 7,
   "metadata": {},
   "outputs": [
    {
     "data": {
      "image/png": "[encoded data removed]",
      "text/plain": [
       "Graphics object consisting of 42 graphics primitives"
      ]
     },
     "metadata": {},
     "output_type": "display_data"
    }
   ],
   "source": [
    "m = \"SXYVVHUTUSUIQHJHUILEYHUJHEFSBQIIYGKUIKHLYDWJIYNBUJJHUIJEKJYBCQHSXURYUDTKFHUCYUHSEKF\"\n",
    "freqs(m)"
   ]
  },
  {
   "cell_type": "code",
   "execution_count": 8,
   "metadata": {},
   "outputs": [
    {
     "name": "stdout",
     "output_type": "stream",
     "text": [
      "CHIFFREDECESARTRESVOIRETROPCLASSIQUESURVINGTSIXLETTRESTOUTILMARCHEBIENDUPREMIERCOUP\n"
     ]
    }
   ],
   "source": [
    "alpha = \"ABCDEFGHIJKLMNOPQRSTUVWXYZ\"\n",
    "k = alpha.index(\"U\") - alpha.index(\"E\")  # 16\n",
    "\n",
    "print(rot(m,-k,alpha))"
   ]
  },
  {
   "cell_type": "markdown",
   "metadata": {},
   "source": [
    "décrypter :"
   ]
  },
  {
   "cell_type": "code",
   "execution_count": 9,
   "metadata": {},
   "outputs": [
    {
     "name": "stdout",
     "output_type": "stream",
     "text": [
      "PAPX WPD?YD P?D W?;D,PLWT;!PEEEDPYDRPYP,LWDTWD\n",
      "QL?!DQLT,PD!,P;DL!!PY!TZYDLDWJLW SLMP!D?!TWT;P\n",
      "DP!DLDWJZ,O,PDOLY;DWP.?PWDNPW?TKNTDP;!DPN,T!DH\n"
     ]
    }
   ],
   "source": [
    "m = \"PAPX WPD?YD P?D W?;D,PLWT;!PEEEDPYDRPYP,LWDTWD\\nQL?!DQLT,PD!,P;DL!!PY!TZYDLDWJLW SLMP!D?!TWT;P\\nDP!DLDWJZ,O,PDOLY;DWP.?PWDNPW?TKNTDP;!DPN,T!DH\"\n",
    "print(m)"
   ]
  },
  {
   "cell_type": "code",
   "execution_count": null,
   "metadata": {},
   "outputs": [],
   "source": []
  },
  {
   "cell_type": "markdown",
   "metadata": {},
   "source": [
    "<p><br /><span style=\"font-size: large;\"><strong></strong><strong>Polynômes<br /></strong></span></p>\n",
    "\n",
    "<p>Certaines commandes utiles sur les&nbsp;<a href=\"http://doc.sagemath.org/html/en/reference/polynomial_rings/sage/rings/polynomial/multi_polynomial_element.html\">polyn&ocirc;mes</a>&nbsp; ou&nbsp;<a href=\"http://doc.sagemath.org/html/fr/tutorial/tour_polynomial.html\">ici</a>&nbsp;:</p>\n",
    "<p>&nbsp;</p>\n",
    "<ul>\n",
    "<li>P.&lt;X&gt; = ZZ[] : on cr&eacute;e un&nbsp;&nbsp;un polyn&ocirc;me sur un ensemble $\\mathbb{K}$ ($\\mathbb{Z}$, $\\mathbb{Q}$,&nbsp;&nbsp;$\\mathbb{R}$ ou&nbsp;$\\mathbb{C}$)</li>\n",
    "<li>P.degree()</li>\n",
    "<li>P.roots()</li>\n",
    "<li>P.variables()</li>\n",
    "<li>P.variable_name()</li>\n",
    "<li>P.coefficients()</li>\n",
    "<li>gcd(P,Q)</li>\n",
    "<li>xgcd(P,Q)</li>\n",
    "<li>lcm(P,Q)</li>\n",
    "</ul>"
   ]
  },
  {
   "cell_type": "markdown",
   "metadata": {},
   "source": [
    "<p class=\" CodeMirror-line sagews-output-cm-text\"><span style=\"text-decoration: underline;\">EXERCICE 4</span><br /><br /></p>\n",
    "<p>On consid&egrave;re les&nbsp;polyn&ocirc;mes suivants :</p>\n",
    "<p>$$P = 3(X-1)(X+1)(X+2) \\qquad \\text{ et } \\qquad Q=(X-1)^2(X+2)(X^2+3)$$&nbsp;</p>\n",
    "<p>Donner leur degr&eacute; et calculer le ppcm entre $P$ et $Q$.</p>"
   ]
  },
  {
   "cell_type": "code",
   "execution_count": 1,
   "metadata": {},
   "outputs": [
    {
     "name": "stdout",
     "output_type": "stream",
     "text": [
      "Help on function factor in module sage.arith.misc:\n",
      "\n",
      "factor(n, proof=None, int_=False, algorithm='pari', verbose=0, **kwds)\n",
      "    Return the factorization of ``n``.  The result depends on the\n",
      "    type of ``n``.\n",
      "    \n",
      "    If ``n`` is an integer, returns the factorization as an object\n",
      "    of type ``Factorization``.\n",
      "    \n",
      "    If n is not an integer, ``n.factor(proof=proof, **kwds)`` gets called.\n",
      "    See ``n.factor??`` for more documentation in this case.\n",
      "    \n",
      "    .. warning::\n",
      "    \n",
      "       This means that applying ``factor`` to an integer result of\n",
      "       a symbolic computation will not factor the integer, because it is\n",
      "       considered as an element of a larger symbolic ring.\n",
      "    \n",
      "       EXAMPLES::\n",
      "    \n",
      "           sage: f(n)=n^2\n",
      "           sage: is_prime(f(3))\n",
      "           False\n",
      "           sage: factor(f(3))\n",
      "           9\n",
      "    \n",
      "    INPUT:\n",
      "    \n",
      "    -  ``n`` - an nonzero integer\n",
      "    \n",
      "    -  ``proof`` - bool or None (default: None)\n",
      "    \n",
      "    -  ``int_`` - bool (default: False) whether to return\n",
      "       answers as Python ints\n",
      "    \n",
      "    -  ``algorithm`` - string\n",
      "    \n",
      "       - ``'pari'`` - (default) use the PARI c library\n",
      "    \n",
      "       - ``'kash'`` - use KASH computer algebra system (requires the\n",
      "         optional kash package be installed)\n",
      "    \n",
      "       - ``'magma'`` - use Magma (requires magma be installed)\n",
      "    \n",
      "    -  ``verbose`` - integer (default: 0); PARI's debug\n",
      "       variable is set to this; e.g., set to 4 or 8 to see lots of output\n",
      "       during factorization.\n",
      "    \n",
      "    OUTPUT:\n",
      "    \n",
      "    -  factorization of n\n",
      "    \n",
      "    The qsieve and ecm commands give access to highly optimized\n",
      "    implementations of algorithms for doing certain integer\n",
      "    factorization problems. These implementations are not used by the\n",
      "    generic factor command, which currently just calls PARI (note that\n",
      "    PARI also implements sieve and ecm algorithms, but they are not as\n",
      "    optimized). Thus you might consider using them instead for certain\n",
      "    numbers.\n",
      "    \n",
      "    The factorization returned is an element of the class\n",
      "    :class:`~sage.structure.factorization.Factorization`; see Factorization??\n",
      "    for more details, and examples below for usage. A Factorization contains\n",
      "    both the unit factor (+1 or -1) and a sorted list of (prime, exponent)\n",
      "    pairs.\n",
      "    \n",
      "    The factorization displays in pretty-print format but it is easy to\n",
      "    obtain access to the (prime,exponent) pairs and the unit, to\n",
      "    recover the number from its factorization, and even to multiply two\n",
      "    factorizations. See examples below.\n",
      "    \n",
      "    EXAMPLES::\n",
      "    \n",
      "        sage: factor(500)\n",
      "        2^2 * 5^3\n",
      "        sage: factor(-20)\n",
      "        -1 * 2^2 * 5\n",
      "        sage: f=factor(-20)\n",
      "        sage: list(f)\n",
      "        [(2, 2), (5, 1)]\n",
      "        sage: f.unit()\n",
      "        -1\n",
      "        sage: f.value()\n",
      "        -20\n",
      "        sage: factor( -next_prime(10^2) * next_prime(10^7) )\n",
      "        -1 * 101 * 10000019\n",
      "    \n",
      "    ::\n",
      "    \n",
      "        sage: factor(-500, algorithm='kash')      # optional - kash\n",
      "        -1 * 2^2 * 5^3\n",
      "    \n",
      "    ::\n",
      "    \n",
      "        sage: factor(-500, algorithm='magma')     # optional - magma\n",
      "        -1 * 2^2 * 5^3\n",
      "    \n",
      "    ::\n",
      "    \n",
      "        sage: factor(0)\n",
      "        Traceback (most recent call last):\n",
      "        ...\n",
      "        ArithmeticError: factorization of 0 is not defined\n",
      "        sage: factor(1)\n",
      "        1\n",
      "        sage: factor(-1)\n",
      "        -1\n",
      "        sage: factor(2^(2^7)+1)\n",
      "        59649589127497217 * 5704689200685129054721\n",
      "    \n",
      "    Sage calls PARI's factor, which has proof False by default.\n",
      "    Sage has a global proof flag, set to True by default (see\n",
      "    :mod:`sage.structure.proof.proof`, or proof.[tab]). To override\n",
      "    the default, call this function with proof=False.\n",
      "    \n",
      "    ::\n",
      "    \n",
      "        sage: factor(3^89-1, proof=False)\n",
      "        2 * 179 * 1611479891519807 * 5042939439565996049162197\n",
      "    \n",
      "    ::\n",
      "    \n",
      "        sage: factor(2^197 + 1)  # long time (2s)\n",
      "        3 * 197002597249 * 1348959352853811313 * 251951573867253012259144010843\n",
      "    \n",
      "    Any object which has a factor method can be factored like this::\n",
      "    \n",
      "        sage: K.<i> = QuadraticField(-1)\n",
      "        sage: factor(122 - 454*i)\n",
      "        (-3*i - 2) * (-i - 2)^3 * (i + 1)^3 * (i + 4)\n",
      "    \n",
      "    To access the data in a factorization::\n",
      "    \n",
      "        sage: f = factor(420); f\n",
      "        2^2 * 3 * 5 * 7\n",
      "        sage: [x for x in f]\n",
      "        [(2, 2), (3, 1), (5, 1), (7, 1)]\n",
      "        sage: [p for p,e in f]\n",
      "        [2, 3, 5, 7]\n",
      "        sage: [e for p,e in f]\n",
      "        [2, 1, 1, 1]\n",
      "        sage: [p^e for p,e in f]\n",
      "        [4, 3, 5, 7]\n",
      "    \n",
      "    We can factor Python, numpy and gmpy2 numbers::\n",
      "    \n",
      "        sage: factor(math.pi)\n",
      "        3.141592653589793\n",
      "        sage: import numpy\n",
      "        sage: factor(numpy.int8(30))\n",
      "        2 * 3 * 5\n",
      "        sage: import gmpy2\n",
      "        sage: factor(gmpy2.mpz(30))\n",
      "        2 * 3 * 5\n",
      "    \n",
      "    TESTS::\n",
      "    \n",
      "        sage: factor(Mod(4, 100))\n",
      "        Traceback (most recent call last):\n",
      "        ...\n",
      "        TypeError: unable to factor 4\n",
      "        sage: factor(\"xyz\")\n",
      "        Traceback (most recent call last):\n",
      "        ...\n",
      "        TypeError: unable to factor 'xyz'\n",
      "\n"
     ]
    }
   ],
   "source": [
    "help(factor)"
   ]
  },
  {
   "cell_type": "code",
   "execution_count": null,
   "metadata": {},
   "outputs": [],
   "source": []
  },
  {
   "cell_type": "markdown",
   "metadata": {},
   "source": [
    "<p class=\" CodeMirror-line sagews-output-cm-text\"><span><span style=\"text-decoration: underline;\">EXERCICE 5</span><br /><br /></span></p>\n",
    "<p>Calculer le pgcd et les coefficients de B&eacute;zout des polyn&ocirc;mes : \n",
    "    $$ A=8X^4-26X^3+21X^2-X-2  \\qquad \\text{ et } \\qquad B=X^3-2X^2 $$ \n",
    "    </p>\n",
    "<p>&nbsp;</p>"
   ]
  },
  {
   "cell_type": "code",
   "execution_count": null,
   "metadata": {},
   "outputs": [],
   "source": []
  },
  {
   "cell_type": "markdown",
   "metadata": {},
   "source": [
    "<p><span style=\"text-decoration: underline;\"><span style=\"font-family: arial,helvetica,sans-serif;\">EXERCICE 6</span></span></p>\n",
    "<p class=\" CodeMirror-line sagews-output-cm-text\"><span style=\"color: #000000; font-family: arial,helvetica,sans-serif;\"><span class=\"CodeMirror-widget\"><span class=\"sagews-output sagews-output-done\"><span class=\"sagews-output-html\"> Soit $ P(X)=X^2+1 $</span></span></span></span></p>\n",
    "<ol>\n",
    "<li>\n",
    "<p><span style=\"color: #000000; font-family: arial,helvetica,sans-serif;\">D&eacute;finir $P$ sur&nbsp;<span style=\"color: #000000; font-family: arial,helvetica,sans-serif;\">$\\mathbb{R}$</span> et <span style=\"color: #000000; font-family: arial,helvetica,sans-serif;\">$\\mathbb{C}$.</span><br /></span></p>\n",
    "</li>\n",
    "<li>\n",
    "<p><span style=\"color: #000000; font-family: arial,helvetica,sans-serif;\">Trouver les racines du polyn&ocirc;me $P$ dans $\\mathbb{R}$ et dans $\\mathbb{C}$.</span></p>\n",
    "</li>\n",
    "<li>\n",
    "<p><span style=\"color: #000000; font-family: arial,helvetica,sans-serif;\">Factoriser $P$ dans $\\mathbb{R}$ et dans $\\mathbb{C}$.</span></p>\n",
    "</li>\n",
    "    <li>\n",
    "<p><span style=\"color: #000000; font-family: arial,helvetica,sans-serif;\">Commenter vos résultats.</span></p>\n",
    "</li>\n",
    "</ol>"
   ]
  },
  {
   "cell_type": "code",
   "execution_count": null,
   "metadata": {},
   "outputs": [],
   "source": []
  },
  {
   "cell_type": "markdown",
   "metadata": {},
   "source": [
    "<p><br /><span style=\"font-size: large;\"><strong></strong><strong>M&Eacute;THODE DE RUFFINI<br /></strong></span></p>\n",
    "\n",
    "La méthode de Ruffni est, la plupart du temps, utilisée à des fins de factorisation.\n",
    "\n",
    "On vérifie si un polynôme est divisible par $X -\\alpha$.\n",
    "\n",
    "Si tel est le cas, le reste de la division est nul et on factorise le polynôme\n",
    "$P(X) = Q(X)(X -\\alpha)$.\n",
    "\n",
    "Si ce n'est pas le cas, le reste n'est pas nul et vaut $R$, on peut écrire :\n",
    "$P(X) = Q(X)(X -\\alpha) + R$.\n",
    "\n",
    "Donc cette méthode nous permet aussi de diviser un polynôme $P$ par un binôme de la\n",
    "forme $X -\\alpha$.\n",
    "\n",
    "<p><span style=\"text-decoration: underline;\"><span style=\"font-family: arial,helvetica,sans-serif;\">EXERCICE 7</span></span></p>\n",
    "\n",
    "Implementer une fonction $ruffini(P,alpha)$.<br> \n",
    "Elle prend en entrée un polynome $P$ et un coefficient $\\alpha \\in \\mathbb{R}$.\n",
    "Elle donne en sortie le quotient $Q$ et le reste $R$ de la division par $X -\\alpha$.\n",
    "\n",
    "Tester votre fonction sur le polynôme $X^3-X^2-5X-3$, avec $\\alpha=-1, 1, 2$."
   ]
  },
  {
   "cell_type": "code",
   "execution_count": null,
   "metadata": {},
   "outputs": [],
   "source": []
  }
 ],
 "metadata": {
  "kernelspec": {
   "display_name": "SageMath 9.2",
   "language": "sage",
   "name": "sagemath"
  },
  "language_info": {
   "codemirror_mode": {
    "name": "ipython",
    "version": 3
   },
   "file_extension": ".py",
   "mimetype": "text/x-python",
   "name": "python",
   "nbconvert_exporter": "python",
   "pygments_lexer": "ipython3",
   "version": "3.9.2"
  }
 },
 "nbformat": 4,
 "nbformat_minor": 2
}
