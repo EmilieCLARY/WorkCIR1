{
 "cells": [
  {
   "cell_type": "markdown",
   "metadata": {},
   "source": [
    "<p><span style=\"font-size: large; background-color: #ffffff; color: #000000;\"><strong>Consignes :</strong></span></p>\n",
    "<ul>\n",
    "<li><span style=\"font-size: large; background-color: #ffffff; color: #000000;\"><strong><strong>Renommer ce fichier en ordre alphab&eacute;tique avec le numéro i de votre Tiers <span style=\"color: #ff0000;\">Ti_nom1-nom2-TP9</span></strong></strong></span></li>\n",
    "<li><span style=\"font-size: large; background-color: #ffffff; color: #000000;\"><strong><strong><strong>TP &agrave; rendre sur Teams&nbsp;<span><span style=\"color: #ff0000;\">pour le 18 mars</span>.</span>&nbsp;</strong></strong></strong></span></li>\n",
    "<li><span style=\"font-size: large; background-color: #ffffff; color: #000000;\"><strong>TP &agrave; faire en groupe de 2. Le groupe de travail est le m&ecirc;me pour toute l'ann&eacute;e.</strong></span></li>\n",
    "<li><span style=\"font-size: large; background-color: #ffffff; color: #ff0000;\"><span style=\"color: #000000;\"><strong>&Agrave; compl&eacute;ter :</strong></span></span></li>\n",
    "</ul>\n",
    "<p><span style=\"font-size: large; background-color: #ffffff; color: #ff0000;\"><strong>NOM PRENOM 1 : <br /></strong></span></p>\n",
    "<p><span style=\"font-size: large; background-color: #ffffff; color: #ff0000;\"><strong>NOM PRENOM 2 : </strong></span></p>\n",
    "<p>&nbsp;</p>\n",
    "<p><br /><span style=\"font-size: large;\"><strong></strong><strong>TP 9 : Matrices<br /></strong></span></p>\n",
    "<p><span style=\"font-size: large;\"><strong><br style=\"font-size: medium;\" /></strong></span></p>\n",
    "<ul>\n",
    "<li><span style=\"font-size: medium;\">La commande&nbsp;<strong>matrix(n,p,[ [ligne1], [ligne2], ... ])</strong>&nbsp;d&eacute;finit une matrice $n$ lignes et $p$ colonnes.</span></li>\n",
    "<li><span style=\"font-size: medium;\">On peut pr&eacute;ciser l'ensemble $\\mathbb{K}$ sur lequel on travail,&nbsp;&nbsp;<strong>A=matrix(QQ, [1,2], [3,4])</strong></span></li>\n",
    "<li><span style=\"font-size: medium;\">REMARQUE :&nbsp;Pour Sage, pour une matrice de taille $n$ les indices varient de $0$ &agrave; $n-1$.</span></li>\n",
    "<li><span style=\"font-size: medium;\">On peut aussi d&eacute;finir des vecteurs par&nbsp;<strong>vector([x1,x2,...,xn])</strong></span></li>\n",
    "<li><span style=\"font-size: medium;\">Si on d&eacute;finit un vecteur, par exemple&nbsp;<strong>v=vector([1,2,3,4])&nbsp;</strong>alors<strong>&nbsp;L=matrix(v)&nbsp;</strong>renvoie la matrice ligne correspondante.&nbsp;<strong>C=L.transpose()&nbsp;</strong>renvoie la matrice colonne correspondante.</span></li>\n",
    "<li><span style=\"font-size: medium;\">On multiplie deux matrices (compatibles) par&nbsp;<strong>A*B</strong></span></li>\n",
    "<li><span style=\"font-size: medium;\">On d&eacute;finit la matrice identit&eacute; de taille $n$ par&nbsp;<strong>I=identity_matrix(n)</strong></span></li>\n",
    "<li><span style=\"font-size: medium;\">On calcule le determinant par<strong>&nbsp;det(A)&nbsp;</strong>ou<strong>&nbsp;A.det()&nbsp;</strong></span></li>\n",
    "<li><span style=\"font-size: medium;\">On calcule l'inverse par&nbsp;<strong>A^-1</strong>&nbsp;ou&nbsp;<strong>A.inverse()</strong>&nbsp;ou&nbsp;<strong>~A</strong></span></li>\n",
    "</ul>\n",
    "<p>&nbsp;&nbsp;</p>\n",
    "<p>Consultez la documentation pour les <a style=\"font-size: medium;\" href=\"http://doc.sagemath.org/html/en/reference/matrices/sage/matrix/constructor.html\">matrices</a></p>\n",
    "<p><span style=\"font-size: medium;\"><strong><span style=\"font-size: large;\"><br /></span></strong></span></p>\n",
    "\n",
    "\n",
    "\n",
    "\n"
   ]
  },
  {
   "cell_type": "code",
   "execution_count": 1,
   "metadata": {},
   "outputs": [
    {
     "name": "stdout",
     "output_type": "stream",
     "text": [
      "La matrice A  est :\n"
     ]
    },
    {
     "data": {
      "text/html": [
       "<html><script type=\"math/tex; mode=display\">\\newcommand{\\Bold}[1]{\\mathbf{#1}}\\left(\\begin{array}{rr}\n",
       "1 & 2 \\\\\n",
       "3 & 4\n",
       "\\end{array}\\right)</script></html>"
      ],
      "text/latex": [
       "\\begin{math}\n",
       "\\newcommand{\\Bold}[1]{\\mathbf{#1}}\\left(\\begin{array}{rr}\n",
       "1 & 2 \\\\\n",
       "3 & 4\n",
       "\\end{array}\\right)\n",
       "\\end{math}"
      ],
      "text/plain": [
       "[1 2]\n",
       "[3 4]"
      ]
     },
     "metadata": {},
     "output_type": "display_data"
    },
    {
     "name": "stdout",
     "output_type": "stream",
     "text": [
      "La matrice B  est :\n"
     ]
    },
    {
     "data": {
      "text/html": [
       "<html><script type=\"math/tex; mode=display\">\\newcommand{\\Bold}[1]{\\mathbf{#1}}\\left(\\begin{array}{rr}\n",
       "7 & 2 \\\\\n",
       "3 & 4\n",
       "\\end{array}\\right)</script></html>"
      ],
      "text/latex": [
       "\\begin{math}\n",
       "\\newcommand{\\Bold}[1]{\\mathbf{#1}}\\left(\\begin{array}{rr}\n",
       "7 & 2 \\\\\n",
       "3 & 4\n",
       "\\end{array}\\right)\n",
       "\\end{math}"
      ],
      "text/plain": [
       "[7 2]\n",
       "[3 4]"
      ]
     },
     "metadata": {},
     "output_type": "display_data"
    },
    {
     "name": "stdout",
     "output_type": "stream",
     "text": [
      "La matrice A  est :\n"
     ]
    },
    {
     "data": {
      "text/html": [
       "<html><script type=\"math/tex; mode=display\">\\newcommand{\\Bold}[1]{\\mathbf{#1}}\\left(\\begin{array}{rr}\n",
       "7 & 2 \\\\\n",
       "3 & 4\n",
       "\\end{array}\\right)</script></html>"
      ],
      "text/latex": [
       "\\begin{math}\n",
       "\\newcommand{\\Bold}[1]{\\mathbf{#1}}\\left(\\begin{array}{rr}\n",
       "7 & 2 \\\\\n",
       "3 & 4\n",
       "\\end{array}\\right)\n",
       "\\end{math}"
      ],
      "text/plain": [
       "[7 2]\n",
       "[3 4]"
      ]
     },
     "metadata": {},
     "output_type": "display_data"
    }
   ],
   "source": [
    "#REMARQUE\n",
    "\n",
    "A=matrix([[1,2],[3,4]])\n",
    "print(\"La matrice A  est :\")\n",
    "show(A)\n",
    "B=A\n",
    "A[0,0]=7  #modification sur A\n",
    "\n",
    "print(\"La matrice B  est :\")\n",
    "show(B)\n",
    "print(\"La matrice A  est :\")\n",
    "show(A)"
   ]
  },
  {
   "cell_type": "markdown",
   "metadata": {},
   "source": [
    "<p>Qu'est-ce que vous remarquez ?</p>\n",
    "<p>Si on modifie la matrice $A$, la matrice $B$ est aussi modifi&eacute;e!</p>\n",
    "<p>POURQUOI ?</p>\n",
    "<p>$A$ ne contient pas les coefficients de la matrice, mais l'adresse o&ugrave; ils sont stock&eacute;s. Comme $A$ et $B$ pointent vers la même zone qui a &eacute;t&eacute; modifi&eacute;e, les deux matrices $A$ et $B$ sont modifi&eacute;es.</p>\n",
    "<p>Pour pouvoir d&eacute;finir une copie de $A$ avec une nouvelle adresse mais les mêmes coefficients, on &eacute;crit&nbsp;<strong><span>B = copy(A)</span></strong>. Les modifications sur $A$ ne changeront pas $B$.</p>"
   ]
  },
  {
   "cell_type": "code",
   "execution_count": 2,
   "metadata": {},
   "outputs": [
    {
     "name": "stdout",
     "output_type": "stream",
     "text": [
      "La matrice A  est :\n"
     ]
    },
    {
     "data": {
      "text/html": [
       "<html><script type=\"math/tex; mode=display\">\\newcommand{\\Bold}[1]{\\mathbf{#1}}\\left(\\begin{array}{rr}\n",
       "1 & 2 \\\\\n",
       "3 & 4\n",
       "\\end{array}\\right)</script></html>"
      ],
      "text/latex": [
       "\\begin{math}\n",
       "\\newcommand{\\Bold}[1]{\\mathbf{#1}}\\left(\\begin{array}{rr}\n",
       "1 & 2 \\\\\n",
       "3 & 4\n",
       "\\end{array}\\right)\n",
       "\\end{math}"
      ],
      "text/plain": [
       "[1 2]\n",
       "[3 4]"
      ]
     },
     "metadata": {},
     "output_type": "display_data"
    },
    {
     "name": "stdout",
     "output_type": "stream",
     "text": [
      "La matrice B  est :\n"
     ]
    },
    {
     "data": {
      "text/html": [
       "<html><script type=\"math/tex; mode=display\">\\newcommand{\\Bold}[1]{\\mathbf{#1}}\\left(\\begin{array}{rr}\n",
       "1 & 2 \\\\\n",
       "3 & 4\n",
       "\\end{array}\\right)</script></html>"
      ],
      "text/latex": [
       "\\begin{math}\n",
       "\\newcommand{\\Bold}[1]{\\mathbf{#1}}\\left(\\begin{array}{rr}\n",
       "1 & 2 \\\\\n",
       "3 & 4\n",
       "\\end{array}\\right)\n",
       "\\end{math}"
      ],
      "text/plain": [
       "[1 2]\n",
       "[3 4]"
      ]
     },
     "metadata": {},
     "output_type": "display_data"
    },
    {
     "name": "stdout",
     "output_type": "stream",
     "text": [
      "La matrice A  est :\n"
     ]
    },
    {
     "data": {
      "text/html": [
       "<html><script type=\"math/tex; mode=display\">\\newcommand{\\Bold}[1]{\\mathbf{#1}}\\left(\\begin{array}{rr}\n",
       "7 & 2 \\\\\n",
       "3 & 4\n",
       "\\end{array}\\right)</script></html>"
      ],
      "text/latex": [
       "\\begin{math}\n",
       "\\newcommand{\\Bold}[1]{\\mathbf{#1}}\\left(\\begin{array}{rr}\n",
       "7 & 2 \\\\\n",
       "3 & 4\n",
       "\\end{array}\\right)\n",
       "\\end{math}"
      ],
      "text/plain": [
       "[7 2]\n",
       "[3 4]"
      ]
     },
     "metadata": {},
     "output_type": "display_data"
    }
   ],
   "source": [
    "A=matrix([[1,2],[3,4]])\n",
    "print(\"La matrice A  est :\")\n",
    "show(A)\n",
    "B=copy(A)\n",
    "A[0,0]=7  #modification sur A\n",
    "\n",
    "print(\"La matrice B  est :\")\n",
    "show(B)\n",
    "print(\"La matrice A  est :\")\n",
    "show(A)"
   ]
  },
  {
   "cell_type": "code",
   "execution_count": null,
   "metadata": {},
   "outputs": [],
   "source": []
  },
  {
   "cell_type": "markdown",
   "metadata": {},
   "source": [
    "<p><span style=\"text-decoration: underline;\">EXERCICE 1&nbsp;</span></p>\n",
    "<p>Soit les matrices :</p>\n",
    "<p>$$A=\\left[\\begin{matrix}1 & 2 & 3\\\\ -1 & 0 & 1 \\\\ 0 & 1 & 0\\\\ \\end{matrix}\\right], \\quad B=\\left[\\begin{matrix}2 & -1 & 0 \\\\ -1 & 0 & 1 \\\\ \\end{matrix}\\right], \\quad u=\\left[\\begin{matrix}1 \\\\ x \\\\x^2 \\end{matrix}\\right] , \\quad \\quad v=\\left[\\begin{matrix}1 \\\\ 0 \\\\ 1\\\\\\end{matrix}\\right]$$</p>\n",
    "<ol>\n",
    "<li>Calculer tous les produits possibles &agrave; partir de $A$, $B$,$u$, $v$.</li>\n",
    "  \n",
    "</ol>"
   ]
  },
  {
   "cell_type": "code",
   "execution_count": 24,
   "metadata": {},
   "outputs": [
    {
     "data": {
      "text/html": [
       "<html><script type=\"math/tex; mode=display\">\\newcommand{\\Bold}[1]{\\mathbf{#1}}\\verb|Les|\\phantom{\\verb!x!}\\verb|différents|\\phantom{\\verb!x!}\\verb|produits|\\phantom{\\verb!x!}\\verb|possibles|\\phantom{\\verb!x!}\\verb|sont|\\phantom{\\verb!x!}\\verb|:|</script></html>"
      ],
      "text/latex": [
       "\\begin{math}\n",
       "\\newcommand{\\Bold}[1]{\\mathbf{#1}}\\verb|Les|\\phantom{\\verb!x!}\\verb|différents|\\phantom{\\verb!x!}\\verb|produits|\\phantom{\\verb!x!}\\verb|possibles|\\phantom{\\verb!x!}\\verb|sont|\\phantom{\\verb!x!}\\verb|:|\n",
       "\\end{math}"
      ],
      "text/plain": [
       "'Les différents produits possibles sont :'"
      ]
     },
     "metadata": {},
     "output_type": "display_data"
    },
    {
     "data": {
      "text/html": [
       "<html><script type=\"math/tex; mode=display\">\\newcommand{\\Bold}[1]{\\mathbf{#1}}\\verb|La|\\phantom{\\verb!x!}\\verb|matrice|\\phantom{\\verb!x!}\\verb|B*A|\\phantom{\\verb!xx!}\\verb|est|\\phantom{\\verb!x!}\\verb|:|</script></html>"
      ],
      "text/latex": [
       "\\begin{math}\n",
       "\\newcommand{\\Bold}[1]{\\mathbf{#1}}\\verb|La|\\phantom{\\verb!x!}\\verb|matrice|\\phantom{\\verb!x!}\\verb|B*A|\\phantom{\\verb!xx!}\\verb|est|\\phantom{\\verb!x!}\\verb|:|\n",
       "\\end{math}"
      ],
      "text/plain": [
       "'La matrice B*A  est :'"
      ]
     },
     "metadata": {},
     "output_type": "display_data"
    },
    {
     "data": {
      "text/html": [
       "<html><script type=\"math/tex; mode=display\">\\newcommand{\\Bold}[1]{\\mathbf{#1}}\\left(\\begin{array}{rrr}\n",
       "3 & 4 & 5 \\\\\n",
       "-1 & -1 & -3\n",
       "\\end{array}\\right)</script></html>"
      ],
      "text/latex": [
       "\\begin{math}\n",
       "\\newcommand{\\Bold}[1]{\\mathbf{#1}}\\left(\\begin{array}{rrr}\n",
       "3 & 4 & 5 \\\\\n",
       "-1 & -1 & -3\n",
       "\\end{array}\\right)\n",
       "\\end{math}"
      ],
      "text/plain": [
       "[ 3  4  5]\n",
       "[-1 -1 -3]"
      ]
     },
     "metadata": {},
     "output_type": "display_data"
    },
    {
     "data": {
      "text/html": [
       "<html><script type=\"math/tex; mode=display\">\\newcommand{\\Bold}[1]{\\mathbf{#1}}\\verb|La|\\phantom{\\verb!x!}\\verb|matrice|\\phantom{\\verb!x!}\\verb|A*u|\\phantom{\\verb!xx!}\\verb|est|\\phantom{\\verb!x!}\\verb|:|</script></html>"
      ],
      "text/latex": [
       "\\begin{math}\n",
       "\\newcommand{\\Bold}[1]{\\mathbf{#1}}\\verb|La|\\phantom{\\verb!x!}\\verb|matrice|\\phantom{\\verb!x!}\\verb|A*u|\\phantom{\\verb!xx!}\\verb|est|\\phantom{\\verb!x!}\\verb|:|\n",
       "\\end{math}"
      ],
      "text/plain": [
       "'La matrice A*u  est :'"
      ]
     },
     "metadata": {},
     "output_type": "display_data"
    },
    {
     "data": {
      "text/html": [
       "<html><script type=\"math/tex; mode=display\">\\newcommand{\\Bold}[1]{\\mathbf{#1}}\\left(\\begin{array}{r}\n",
       "3 \\, X^{2} + 2 \\, X + 1 \\\\\n",
       "X^{2} - 1 \\\\\n",
       "X\n",
       "\\end{array}\\right)</script></html>"
      ],
      "text/latex": [
       "\\begin{math}\n",
       "\\newcommand{\\Bold}[1]{\\mathbf{#1}}\\left(\\begin{array}{r}\n",
       "3 \\, X^{2} + 2 \\, X + 1 \\\\\n",
       "X^{2} - 1 \\\\\n",
       "X\n",
       "\\end{array}\\right)\n",
       "\\end{math}"
      ],
      "text/plain": [
       "[3*X^2 + 2*X + 1]\n",
       "[        X^2 - 1]\n",
       "[              X]"
      ]
     },
     "metadata": {},
     "output_type": "display_data"
    },
    {
     "data": {
      "text/html": [
       "<html><script type=\"math/tex; mode=display\">\\newcommand{\\Bold}[1]{\\mathbf{#1}}\\verb|La|\\phantom{\\verb!x!}\\verb|matrice|\\phantom{\\verb!x!}\\verb|B*u|\\phantom{\\verb!xx!}\\verb|est|\\phantom{\\verb!x!}\\verb|:|</script></html>"
      ],
      "text/latex": [
       "\\begin{math}\n",
       "\\newcommand{\\Bold}[1]{\\mathbf{#1}}\\verb|La|\\phantom{\\verb!x!}\\verb|matrice|\\phantom{\\verb!x!}\\verb|B*u|\\phantom{\\verb!xx!}\\verb|est|\\phantom{\\verb!x!}\\verb|:|\n",
       "\\end{math}"
      ],
      "text/plain": [
       "'La matrice B*u  est :'"
      ]
     },
     "metadata": {},
     "output_type": "display_data"
    },
    {
     "data": {
      "text/html": [
       "<html><script type=\"math/tex; mode=display\">\\newcommand{\\Bold}[1]{\\mathbf{#1}}\\left(\\begin{array}{r}\n",
       "-X + 2 \\\\\n",
       "X^{2} - 1\n",
       "\\end{array}\\right)</script></html>"
      ],
      "text/latex": [
       "\\begin{math}\n",
       "\\newcommand{\\Bold}[1]{\\mathbf{#1}}\\left(\\begin{array}{r}\n",
       "-X + 2 \\\\\n",
       "X^{2} - 1\n",
       "\\end{array}\\right)\n",
       "\\end{math}"
      ],
      "text/plain": [
       "[ -X + 2]\n",
       "[X^2 - 1]"
      ]
     },
     "metadata": {},
     "output_type": "display_data"
    },
    {
     "data": {
      "text/html": [
       "<html><script type=\"math/tex; mode=display\">\\newcommand{\\Bold}[1]{\\mathbf{#1}}\\verb|La|\\phantom{\\verb!x!}\\verb|matrice|\\phantom{\\verb!x!}\\verb|A*v|\\phantom{\\verb!xx!}\\verb|est|\\phantom{\\verb!x!}\\verb|:|</script></html>"
      ],
      "text/latex": [
       "\\begin{math}\n",
       "\\newcommand{\\Bold}[1]{\\mathbf{#1}}\\verb|La|\\phantom{\\verb!x!}\\verb|matrice|\\phantom{\\verb!x!}\\verb|A*v|\\phantom{\\verb!xx!}\\verb|est|\\phantom{\\verb!x!}\\verb|:|\n",
       "\\end{math}"
      ],
      "text/plain": [
       "'La matrice A*v  est :'"
      ]
     },
     "metadata": {},
     "output_type": "display_data"
    },
    {
     "data": {
      "text/html": [
       "<html><script type=\"math/tex; mode=display\">\\newcommand{\\Bold}[1]{\\mathbf{#1}}\\left(\\begin{array}{r}\n",
       "4 \\\\\n",
       "0 \\\\\n",
       "0\n",
       "\\end{array}\\right)</script></html>"
      ],
      "text/latex": [
       "\\begin{math}\n",
       "\\newcommand{\\Bold}[1]{\\mathbf{#1}}\\left(\\begin{array}{r}\n",
       "4 \\\\\n",
       "0 \\\\\n",
       "0\n",
       "\\end{array}\\right)\n",
       "\\end{math}"
      ],
      "text/plain": [
       "[4]\n",
       "[0]\n",
       "[0]"
      ]
     },
     "metadata": {},
     "output_type": "display_data"
    },
    {
     "data": {
      "text/html": [
       "<html><script type=\"math/tex; mode=display\">\\newcommand{\\Bold}[1]{\\mathbf{#1}}\\verb|La|\\phantom{\\verb!x!}\\verb|matrice|\\phantom{\\verb!x!}\\verb|B*v|\\phantom{\\verb!xx!}\\verb|est|\\phantom{\\verb!x!}\\verb|:|</script></html>"
      ],
      "text/latex": [
       "\\begin{math}\n",
       "\\newcommand{\\Bold}[1]{\\mathbf{#1}}\\verb|La|\\phantom{\\verb!x!}\\verb|matrice|\\phantom{\\verb!x!}\\verb|B*v|\\phantom{\\verb!xx!}\\verb|est|\\phantom{\\verb!x!}\\verb|:|\n",
       "\\end{math}"
      ],
      "text/plain": [
       "'La matrice B*v  est :'"
      ]
     },
     "metadata": {},
     "output_type": "display_data"
    },
    {
     "data": {
      "text/html": [
       "<html><script type=\"math/tex; mode=display\">\\newcommand{\\Bold}[1]{\\mathbf{#1}}\\left(\\begin{array}{r}\n",
       "2 \\\\\n",
       "0\n",
       "\\end{array}\\right)</script></html>"
      ],
      "text/latex": [
       "\\begin{math}\n",
       "\\newcommand{\\Bold}[1]{\\mathbf{#1}}\\left(\\begin{array}{r}\n",
       "2 \\\\\n",
       "0\n",
       "\\end{array}\\right)\n",
       "\\end{math}"
      ],
      "text/plain": [
       "[2]\n",
       "[0]"
      ]
     },
     "metadata": {},
     "output_type": "display_data"
    }
   ],
   "source": [
    "x=var('X')\n",
    "\n",
    "A=matrix([[1,2,3],[-1, 0,1],[0,1,0]])\n",
    "B=matrix([[2,-1,0],[-1,0,1]])\n",
    "u=matrix([[1],[x],[x^2]])\n",
    "v=matrix([[1],[0],[1]])\n",
    "\n",
    "show(\"Les différents produits possibles sont :\")\n",
    "\n",
    "show(\"La matrice B*A  est :\")\n",
    "show(B*A)\n",
    "\n",
    "show(\"La matrice A*u  est :\")\n",
    "show(A*u)\n",
    "\n",
    "show(\"La matrice B*u  est :\")\n",
    "show(B*u)\n",
    "\n",
    "show(\"La matrice A*v  est :\")\n",
    "show(A*v)\n",
    "\n",
    "show(\"La matrice B*v  est :\")\n",
    "show(B*v)\n"
   ]
  },
  {
   "cell_type": "markdown",
   "metadata": {},
   "source": [
    "2. Calculer $(A-I)^7$ et en extraire le coefficient en position $(2,3)$."
   ]
  },
  {
   "cell_type": "code",
   "execution_count": 42,
   "metadata": {},
   "outputs": [
    {
     "data": {
      "text/html": [
       "<html><script type=\"math/tex; mode=display\">\\newcommand{\\Bold}[1]{\\mathbf{#1}}\\left(\\begin{array}{rrr}\n",
       "-16 & -46 & 11 \\\\\n",
       "-25 & -73 & 153 \\\\\n",
       "32 & 57 & -137\n",
       "\\end{array}\\right)</script></html>"
      ],
      "text/latex": [
       "\\begin{math}\n",
       "\\newcommand{\\Bold}[1]{\\mathbf{#1}}\\left(\\begin{array}{rrr}\n",
       "-16 & -46 & 11 \\\\\n",
       "-25 & -73 & 153 \\\\\n",
       "32 & 57 & -137\n",
       "\\end{array}\\right)\n",
       "\\end{math}"
      ],
      "text/plain": [
       "[ -16  -46   11]\n",
       "[ -25  -73  153]\n",
       "[  32   57 -137]"
      ]
     },
     "metadata": {},
     "output_type": "display_data"
    },
    {
     "data": {
      "text/html": [
       "<html><script type=\"math/tex; mode=display\">\\newcommand{\\Bold}[1]{\\mathbf{#1}}\\verb|Le|\\phantom{\\verb!x!}\\verb|coefficient|\\phantom{\\verb!x!}\\verb|de|\\phantom{\\verb!x!}\\verb|(2,3)|\\phantom{\\verb!x!}\\verb|vaut|\\phantom{\\verb!x!}\\verb|:|</script></html>"
      ],
      "text/latex": [
       "\\begin{math}\n",
       "\\newcommand{\\Bold}[1]{\\mathbf{#1}}\\verb|Le|\\phantom{\\verb!x!}\\verb|coefficient|\\phantom{\\verb!x!}\\verb|de|\\phantom{\\verb!x!}\\verb|(2,3)|\\phantom{\\verb!x!}\\verb|vaut|\\phantom{\\verb!x!}\\verb|:|\n",
       "\\end{math}"
      ],
      "text/plain": [
       "'Le coefficient de (2,3) vaut :'"
      ]
     },
     "metadata": {},
     "output_type": "display_data"
    },
    {
     "data": {
      "text/html": [
       "<html><script type=\"math/tex; mode=display\">\\newcommand{\\Bold}[1]{\\mathbf{#1}}153</script></html>"
      ],
      "text/latex": [
       "\\begin{math}\n",
       "\\newcommand{\\Bold}[1]{\\mathbf{#1}}153\n",
       "\\end{math}"
      ],
      "text/plain": [
       "153"
      ]
     },
     "metadata": {},
     "output_type": "display_data"
    }
   ],
   "source": [
    "A=matrix([[1,2,3],[-1, 0,1],[0,1,0]])\n",
    "I=identity_matrix(3)\n",
    "R=(A-I)^7\n",
    "show(R)\n",
    "show('Le coefficient de (2,3) vaut :')\n",
    "show(R[1,2])"
   ]
  },
  {
   "cell_type": "markdown",
   "metadata": {},
   "source": [
    "3. Calculer $A^{-1}$."
   ]
  },
  {
   "cell_type": "code",
   "execution_count": 57,
   "metadata": {},
   "outputs": [
    {
     "data": {
      "text/html": [
       "<html><script type=\"math/tex; mode=display\">\\newcommand{\\Bold}[1]{\\mathbf{#1}}\\verb|L'inverse|\\phantom{\\verb!x!}\\verb|de|\\phantom{\\verb!x!}\\verb|A|\\phantom{\\verb!x!}\\verb|vaut|\\phantom{\\verb!x!}\\verb|:| \\left(\\begin{array}{rrr}\n",
       "\\frac{1}{4} & -\\frac{3}{4} & -\\frac{1}{2} \\\\\n",
       "0 & 0 & 1 \\\\\n",
       "\\frac{1}{4} & \\frac{1}{4} & -\\frac{1}{2}\n",
       "\\end{array}\\right)</script></html>"
      ],
      "text/latex": [
       "\\begin{math}\n",
       "\\newcommand{\\Bold}[1]{\\mathbf{#1}}\\verb|L'inverse|\\phantom{\\verb!x!}\\verb|de|\\phantom{\\verb!x!}\\verb|A|\\phantom{\\verb!x!}\\verb|vaut|\\phantom{\\verb!x!}\\verb|:| \\left(\\begin{array}{rrr}\n",
       "\\frac{1}{4} & -\\frac{3}{4} & -\\frac{1}{2} \\\\\n",
       "0 & 0 & 1 \\\\\n",
       "\\frac{1}{4} & \\frac{1}{4} & -\\frac{1}{2}\n",
       "\\end{array}\\right)\n",
       "\\end{math}"
      ],
      "text/plain": [
       "\"L'inverse de A vaut : \" [ 1/4 -3/4 -1/2]\n",
       "[   0    0    1]\n",
       "[ 1/4  1/4 -1/2]"
      ]
     },
     "metadata": {},
     "output_type": "display_data"
    }
   ],
   "source": [
    "A=matrix([[1,2,3],[-1, 0,1],[0,1,0]])\n",
    "#show(\"L'inverse de A vaut : \", ~A)\n",
    "show(\"L'inverse de A vaut : \", A^-1)"
   ]
  },
  {
   "cell_type": "markdown",
   "metadata": {},
   "source": [
    "4. Remplacer tous les nombres 1 de la matrice $A$ par 10, sans modifier la matrice $A$"
   ]
  },
  {
   "cell_type": "code",
   "execution_count": 55,
   "metadata": {},
   "outputs": [
    {
     "data": {
      "text/html": [
       "<html><script type=\"math/tex; mode=display\">\\newcommand{\\Bold}[1]{\\mathbf{#1}}\\verb|La|\\phantom{\\verb!x!}\\verb|matrice|\\phantom{\\verb!x!}\\verb|A|\\phantom{\\verb!x!}\\verb|vaut|\\phantom{\\verb!x!}\\verb|:|</script></html>"
      ],
      "text/latex": [
       "\\begin{math}\n",
       "\\newcommand{\\Bold}[1]{\\mathbf{#1}}\\verb|La|\\phantom{\\verb!x!}\\verb|matrice|\\phantom{\\verb!x!}\\verb|A|\\phantom{\\verb!x!}\\verb|vaut|\\phantom{\\verb!x!}\\verb|:|\n",
       "\\end{math}"
      ],
      "text/plain": [
       "'La matrice A vaut :'"
      ]
     },
     "metadata": {},
     "output_type": "display_data"
    },
    {
     "data": {
      "text/html": [
       "<html><script type=\"math/tex; mode=display\">\\newcommand{\\Bold}[1]{\\mathbf{#1}}\\left(\\begin{array}{rrr}\n",
       "1 & 2 & 3 \\\\\n",
       "-1 & 0 & 1 \\\\\n",
       "0 & 1 & 0\n",
       "\\end{array}\\right)</script></html>"
      ],
      "text/latex": [
       "\\begin{math}\n",
       "\\newcommand{\\Bold}[1]{\\mathbf{#1}}\\left(\\begin{array}{rrr}\n",
       "1 & 2 & 3 \\\\\n",
       "-1 & 0 & 1 \\\\\n",
       "0 & 1 & 0\n",
       "\\end{array}\\right)\n",
       "\\end{math}"
      ],
      "text/plain": [
       "[ 1  2  3]\n",
       "[-1  0  1]\n",
       "[ 0  1  0]"
      ]
     },
     "metadata": {},
     "output_type": "display_data"
    },
    {
     "data": {
      "text/html": [
       "<html><script type=\"math/tex; mode=display\">\\newcommand{\\Bold}[1]{\\mathbf{#1}}\\verb|Une|\\phantom{\\verb!x!}\\verb|fois|\\phantom{\\verb!x!}\\verb|remplacée|\\phantom{\\verb!x!}\\verb|:|</script></html>"
      ],
      "text/latex": [
       "\\begin{math}\n",
       "\\newcommand{\\Bold}[1]{\\mathbf{#1}}\\verb|Une|\\phantom{\\verb!x!}\\verb|fois|\\phantom{\\verb!x!}\\verb|remplacée|\\phantom{\\verb!x!}\\verb|:|\n",
       "\\end{math}"
      ],
      "text/plain": [
       "'Une fois remplacée :'"
      ]
     },
     "metadata": {},
     "output_type": "display_data"
    },
    {
     "data": {
      "text/html": [
       "<html><script type=\"math/tex; mode=display\">\\newcommand{\\Bold}[1]{\\mathbf{#1}}\\left(\\begin{array}{rrr}\n",
       "10 & 2 & 3 \\\\\n",
       "-1 & 0 & 10 \\\\\n",
       "0 & 10 & 0\n",
       "\\end{array}\\right)</script></html>"
      ],
      "text/latex": [
       "\\begin{math}\n",
       "\\newcommand{\\Bold}[1]{\\mathbf{#1}}\\left(\\begin{array}{rrr}\n",
       "10 & 2 & 3 \\\\\n",
       "-1 & 0 & 10 \\\\\n",
       "0 & 10 & 0\n",
       "\\end{array}\\right)\n",
       "\\end{math}"
      ],
      "text/plain": [
       "[10  2  3]\n",
       "[-1  0 10]\n",
       "[ 0 10  0]"
      ]
     },
     "metadata": {},
     "output_type": "display_data"
    }
   ],
   "source": [
    "A=matrix([[1,2,3],[-1, 0,1],[0,1,0]])\n",
    "B=copy(A)\n",
    "\n",
    "for i in range (3) :\n",
    "    for j in range (3) :\n",
    "        if (A[i,j]==1) :\n",
    "            B[i,j]=10\n",
    "    \n",
    "\n",
    "show(\"La matrice A vaut :\")\n",
    "show(A)\n",
    "show(\"Une fois remplacée :\")\n",
    "show(B)"
   ]
  },
  {
   "cell_type": "markdown",
   "metadata": {},
   "source": [
    "<p><span style=\"text-decoration: underline;\">EXERCICE 2</span></p>\n",
    "<p>Calculer le d&eacute;terminant des matrices suivantes :</p>\n",
    "<p>$$A=\\left[\\begin{matrix} -11 & 3 \\\\ 1 & 0\\\\ \\end{matrix}\\right], \\quad B=\\left[\\begin{matrix}10 & 0 & -5 & 15\\\\-2 & 7 & 3 & 0\\\\8 & 14 & 0 & 2\\\\0 & -21 & 1 & -1\\\\\\end{matrix}\\right], \\quad C=\\left[\\begin{matrix}m & 0 & 1 & 2m\\\\1 & m & 0 & 0\\\\0 & 2m+2 & m & 1\\\\m & 0 & 0 & m\\\\\\end{matrix}\\right]$$</p>"
   ]
  },
  {
   "cell_type": "code",
   "execution_count": null,
   "metadata": {},
   "outputs": [],
   "source": []
  },
  {
   "cell_type": "markdown",
   "metadata": {},
   "source": [
    "<p><span style=\"text-decoration: underline;\">EXERCICE 3</span></p>\n",
    "<p>Construire, de mani&egrave;re judicieuse, les matrices suivantes :</p>\n",
    "<p>&nbsp;</p>\n",
    "<p>$$A=\\left[\\begin{matrix}1 & 0 & 0 & 0 & 0 & 0 & 0\\\\0 & 2 & 0 & 0 & 0 & 0 & 0\\\\0 & 0 & 3 & 0 & 0 & 0 & 0\\\\0 & 0 & 0 & 4 & 0 & 0 & 0\\\\0 & 0 & 0 & 0 & 5 & 0 & 0\\\\0 & 0 & 0 & 0 & 0 & 6 & 0\\\\0 & 0 & 0 & 0 & 0 & 0 & 7\\\\\\end{matrix}\\right], \\quad B=\\left[\\begin{matrix} 1 & 0 & 0 & 0 & 0 & 0 & 0 & 0 & 0 \\\\1 & 0 & 0 & 0 & 0 & 0 & 0 & 0& 0 \\\\ 1 & 0 & 0 & 0 & 0 & 0 & 0 & 0& 0 \\\\1 & 0 & 0 & 0 & 0 & 0 & 0 & 0& 0 \\\\\\end{matrix}\\right], \\quad C=\\left[\\begin{matrix}2 & 1 & -1 & -1 & -1 \\\\2 & 2 & -1 & -1 & -1 \\\\2 & 3 & -1 & -1 & -1 \\\\\\end{matrix}\\right]$$</p>\n",
    "<p>&nbsp;</p>\n",
    "<p>&nbsp;</p>\n",
    "<p><em>Suggestion : voir&nbsp;<span>diagonal_matrix</span>, par exemple ou avec des boucles ou help(matrix)</em></p>"
   ]
  },
  {
   "cell_type": "code",
   "execution_count": null,
   "metadata": {},
   "outputs": [],
   "source": []
  },
  {
   "cell_type": "markdown",
   "metadata": {},
   "source": [
    "<p><span style=\"text-decoration: underline;\">EXERCICE 4&nbsp;</span></p>\n",
    "<p>D&eacute;finir votre propre fonction \"produit de deux matrices\".</p>\n",
    "<p>Elle s'appellera&nbsp;<span><span style=\"font-family: 'courier new', courier;\"><strong>prod_M</strong></span>,</span>&nbsp;elle prendra en entr&eacute;e deux matrices $(A, B)$ et elle retournera le produit $(A \\cdot B )$.</p>\n",
    "<p><em>Commentez votre code en expliquant ce que vous implementez!</em></p>\n",
    "<p>&nbsp;</p>\n",
    "<p>Tester votre fonction pour les produits $A\\cdot B$, $B\\cdot A$, $B\\cdot C$ et $C\\cdot B$, o&ugrave;&nbsp;$A,B,C$ sont les matrices suivantes :</p>\n",
    "<p>&nbsp;</p>\n",
    "<p> $$A=\\left[\\begin{matrix}1 & -1&  1\\\\2 & 1 & 3\\\\0 & 2 & 0\\\\\\end{matrix}\\right], \\quad B=\\left[\\begin{matrix}-1 & 0&  2\\\\ 0 & 1&  1\\\\ -1 & 1&  1\\\\ \\end{matrix}\\right], \\quad C=\\left[\\begin{matrix}1 & 3 \\\\2 & 4 \\\\ 0 & 1 \\\\\\end{matrix}\\right]$$</p>\n",
    "<p>V&eacute;rifier vos calculs avec le produit de matrices de Python.</p>"
   ]
  },
  {
   "cell_type": "code",
   "execution_count": 106,
   "metadata": {},
   "outputs": [
    {
     "ename": "IndexError",
     "evalue": "matrix index out of range",
     "output_type": "error",
     "traceback": [
      "\u001b[0;31m---------------------------------------------------------------------------\u001b[0m",
      "\u001b[0;31mIndexError\u001b[0m                                Traceback (most recent call last)",
      "\u001b[0;32m/usr/lib/python3.9/site-packages/sage/all_cmdline.py\u001b[0m in \u001b[0;36m<module>\u001b[0;34m\u001b[0m\n\u001b[1;32m     19\u001b[0m     \u001b[0;32mreturn\u001b[0m \u001b[0mD\u001b[0m\u001b[0;34m\u001b[0m\u001b[0;34m\u001b[0m\u001b[0m\n\u001b[1;32m     20\u001b[0m \u001b[0;34m\u001b[0m\u001b[0m\n\u001b[0;32m---> 21\u001b[0;31m \u001b[0mshow\u001b[0m\u001b[0;34m(\u001b[0m\u001b[0mprod_M\u001b[0m\u001b[0;34m(\u001b[0m\u001b[0mA\u001b[0m\u001b[0;34m,\u001b[0m\u001b[0mB\u001b[0m\u001b[0;34m)\u001b[0m\u001b[0;34m)\u001b[0m\u001b[0;34m\u001b[0m\u001b[0;34m\u001b[0m\u001b[0m\n\u001b[0m\u001b[1;32m     22\u001b[0m \u001b[0mshow\u001b[0m\u001b[0;34m(\u001b[0m\u001b[0mA\u001b[0m\u001b[0;34m*\u001b[0m\u001b[0mB\u001b[0m\u001b[0;34m)\u001b[0m\u001b[0;34m\u001b[0m\u001b[0;34m\u001b[0m\u001b[0m\n",
      "\u001b[0;32m/usr/lib/python3.9/site-packages/sage/all_cmdline.py\u001b[0m in \u001b[0;36mprod_M\u001b[0;34m(matA, matB)\u001b[0m\n\u001b[1;32m     15\u001b[0m             \u001b[0;32mfor\u001b[0m \u001b[0mj\u001b[0m \u001b[0;32min\u001b[0m \u001b[0mrange\u001b[0m\u001b[0;34m(\u001b[0m\u001b[0mmatB\u001b[0m\u001b[0;34m.\u001b[0m\u001b[0mncols\u001b[0m\u001b[0;34m(\u001b[0m\u001b[0;34m)\u001b[0m\u001b[0;34m+\u001b[0m\u001b[0mInteger\u001b[0m\u001b[0;34m(\u001b[0m\u001b[0;36m1\u001b[0m\u001b[0;34m)\u001b[0m\u001b[0;34m)\u001b[0m\u001b[0;34m:\u001b[0m \u001b[0;31m# nombre de colonne de B\u001b[0m\u001b[0;34m\u001b[0m\u001b[0;34m\u001b[0m\u001b[0m\n\u001b[1;32m     16\u001b[0m                 \u001b[0;32mfor\u001b[0m \u001b[0mk\u001b[0m \u001b[0;32min\u001b[0m \u001b[0mrange\u001b[0m \u001b[0;34m(\u001b[0m\u001b[0mmatA\u001b[0m\u001b[0;34m.\u001b[0m\u001b[0mncols\u001b[0m\u001b[0;34m(\u001b[0m\u001b[0;34m)\u001b[0m\u001b[0;34m+\u001b[0m\u001b[0mInteger\u001b[0m\u001b[0;34m(\u001b[0m\u001b[0;36m1\u001b[0m\u001b[0;34m)\u001b[0m\u001b[0;34m)\u001b[0m\u001b[0;34m:\u001b[0m \u001b[0;31m# nombre de colonne de A\u001b[0m\u001b[0;34m\u001b[0m\u001b[0;34m\u001b[0m\u001b[0m\n\u001b[0;32m---> 17\u001b[0;31m                     \u001b[0mD\u001b[0m\u001b[0;34m[\u001b[0m\u001b[0mi\u001b[0m\u001b[0;34m,\u001b[0m\u001b[0mj\u001b[0m\u001b[0;34m]\u001b[0m \u001b[0;34m=\u001b[0m \u001b[0mmatA\u001b[0m\u001b[0;34m[\u001b[0m\u001b[0mi\u001b[0m\u001b[0;34m,\u001b[0m\u001b[0mk\u001b[0m\u001b[0;34m]\u001b[0m\u001b[0;34m*\u001b[0m\u001b[0mmatB\u001b[0m\u001b[0;34m[\u001b[0m\u001b[0mk\u001b[0m\u001b[0;34m,\u001b[0m\u001b[0mj\u001b[0m\u001b[0;34m]\u001b[0m\u001b[0;34m\u001b[0m\u001b[0;34m\u001b[0m\u001b[0m\n\u001b[0m\u001b[1;32m     18\u001b[0m \u001b[0;34m\u001b[0m\u001b[0m\n\u001b[1;32m     19\u001b[0m     \u001b[0;32mreturn\u001b[0m \u001b[0mD\u001b[0m\u001b[0;34m\u001b[0m\u001b[0;34m\u001b[0m\u001b[0m\n",
      "\u001b[0;32m/usr/lib/python3.9/site-packages/sage/matrix/matrix0.pyx\u001b[0m in \u001b[0;36msage.matrix.matrix0.Matrix.__getitem__ (build/cythonized/sage/matrix/matrix0.c:7516)\u001b[0;34m()\u001b[0m\n\u001b[1;32m    980\u001b[0m                     \u001b[0mcol\u001b[0m \u001b[0;34m+=\u001b[0m \u001b[0mncols\u001b[0m\u001b[0;34m\u001b[0m\u001b[0;34m\u001b[0m\u001b[0m\n\u001b[1;32m    981\u001b[0m                 \u001b[0;32mif\u001b[0m \u001b[0mcol\u001b[0m \u001b[0;34m<\u001b[0m \u001b[0;36m0\u001b[0m \u001b[0;32mor\u001b[0m \u001b[0mcol\u001b[0m \u001b[0;34m>=\u001b[0m \u001b[0mncols\u001b[0m\u001b[0;34m:\u001b[0m\u001b[0;34m\u001b[0m\u001b[0;34m\u001b[0m\u001b[0m\n\u001b[0;32m--> 982\u001b[0;31m                     \u001b[0;32mraise\u001b[0m \u001b[0mIndexError\u001b[0m\u001b[0;34m(\u001b[0m\u001b[0;34m\"matrix index out of range\"\u001b[0m\u001b[0;34m)\u001b[0m\u001b[0;34m\u001b[0m\u001b[0;34m\u001b[0m\u001b[0m\n\u001b[0m\u001b[1;32m    983\u001b[0m                 \u001b[0msingle_col\u001b[0m \u001b[0;34m=\u001b[0m \u001b[0;36m1\u001b[0m\u001b[0;34m\u001b[0m\u001b[0;34m\u001b[0m\u001b[0m\n\u001b[1;32m    984\u001b[0m \u001b[0;34m\u001b[0m\u001b[0m\n",
      "\u001b[0;31mIndexError\u001b[0m: matrix index out of range"
     ]
    }
   ],
   "source": [
    "reset()\n",
    "\n",
    "A=matrix([[1,-1,1],[2, 1,3],[0,2,0]])\n",
    "B=matrix([[-1,0,2],[0, 1,1],[-1,1,1]])\n",
    "C=matrix([[1,3],[2, 4],[0,1]])\n",
    "\n",
    "\n",
    "def prod_M(matA, matB):\n",
    "    \n",
    "    D=matrix([[0,0,0],[0,0,0]])\n",
    "    \n",
    "    if ((matA.nrows()+1) == (matB.ncols()+1)) :\n",
    "        \n",
    "        for i in range((matA.nrows())+1): # nombre de ligne de A\n",
    "            for j in range(matB.ncols()+1): # nombre de colonne de B\n",
    "                for k in range (matA.ncols()+1): # nombre de colonne de A\n",
    "                    D[i,j] = matA[i,k]*matB[k,j]\n",
    "                    \n",
    "    return D\n",
    "\n",
    "show(prod_M(A,B))\n",
    "show(A*B)"
   ]
  },
  {
   "cell_type": "markdown",
   "metadata": {},
   "source": [
    "<p><span style=\"text-decoration: underline;\">EXERCICE 5&nbsp;</span></p>\n",
    "Les matrices peuvent être utilisées pour représenter des <a href=https://fr.wikipedia.org/wiki/Image_matricielle>images matricielles</a>.\n",
    "\n",
    "Avec Sagemath, nous pouvons utiliser les matrices comme des objets graphiques en utilsant la commande <b>matrix_plot</b>.\n",
    "\n",
    "Cette commande permet d'associer à chaque élément de la matrice une couleur. \n",
    "Par defaut l'échelle est en noir et blanc.\n",
    "\n",
    "Voir help(matrix_plot) pour les différentes options.\n",
    "\n"
   ]
  },
  {
   "cell_type": "code",
   "execution_count": 95,
   "metadata": {},
   "outputs": [
    {
     "data": {
      "text/html": [
       "<html><script type=\"math/tex; mode=display\">\\newcommand{\\Bold}[1]{\\mathbf{#1}}\\left(\\begin{array}{rr}\n",
       "0.000000000000000 & 0.300000000000000 \\\\\n",
       "0.600000000000000 & 1.00000000000000\n",
       "\\end{array}\\right)</script></html>"
      ],
      "text/latex": [
       "\\begin{math}\n",
       "\\newcommand{\\Bold}[1]{\\mathbf{#1}}\\left(\\begin{array}{rr}\n",
       "0.000000000000000 & 0.300000000000000 \\\\\n",
       "0.600000000000000 & 1.00000000000000\n",
       "\\end{array}\\right)\n",
       "\\end{math}"
      ],
      "text/plain": [
       "[0.000000000000000 0.300000000000000]\n",
       "[0.600000000000000  1.00000000000000]"
      ]
     },
     "metadata": {},
     "output_type": "display_data"
    },
    {
     "data": {
      "image/png": "[encoded data removed]",
      "text/plain": [
       "Graphics object consisting of 1 graphics primitive"
      ]
     },
     "execution_count": 95,
     "metadata": {},
     "output_type": "execute_result"
    }
   ],
   "source": [
    "#EXEMPLE \n",
    "M = matrix(2,[0,0.3,0.6,1])\n",
    "show(M)                                 \n",
    "matrix_plot(M,colorbar=True)"
   ]
  },
  {
   "cell_type": "code",
   "execution_count": null,
   "metadata": {},
   "outputs": [],
   "source": []
  },
  {
   "cell_type": "markdown",
   "metadata": {},
   "source": [
    "En utilisant cette commande et les opérations sur les matrices, reproduire les quatres figures suivantes :\n",
    "<img src=\"m10.png\">\n",
    "<img src=\"m10_2.png\">\n",
    "<img src=\"m100.png\">\n",
    "<img src=\"m100_2.png\">\n"
   ]
  },
  {
   "cell_type": "code",
   "execution_count": null,
   "metadata": {},
   "outputs": [],
   "source": [
    "\n"
   ]
  },
  {
   "cell_type": "markdown",
   "metadata": {},
   "source": [
    "<p><span style=\"text-decoration: underline;\">EXERCICE 6&nbsp;</span></p>\n",
    "Nous pouvons considérer des transformations des images comme opérateurs sur les matrices.\n",
    "\n",
    "Considérer les deux images $A$ et $B$ suivantes : \n",
    "\n",
    "<img src=\"A.png\">\n",
    "<img src=\"B.png\">\n",
    "\n",
    "Vous aller effectuer un \"<a href=https://fr.wikipedia.org/wiki/Morphing>morphing</a>\" d'images.\n",
    "\n",
    "\n",
    "Déterminer et visualiser les matrices $C$ obtenues en se baladant sur le segment $(1 - t) A + t B$, avec $t\\in[0,1]$.\n",
    "\n",
    "\n"
   ]
  },
  {
   "cell_type": "code",
   "execution_count": null,
   "metadata": {},
   "outputs": [],
   "source": [
    "reset()\n",
    "\n",
    "A=\n",
    "\n",
    "B="
   ]
  },
  {
   "cell_type": "markdown",
   "metadata": {},
   "source": [
    "<p><span style=\"text-decoration: underline;\">EXERCICE 7&nbsp;</span></p>\n",
    "Amusez-vous avec la commande <b>matrix_plot</b> pour obtenir des jolies figures, même en couleurs.\n",
    "\n",
    "Inspirez-vous des <a href=\"https://www.google.com/search?q=pixel+art&tbm=isch&ved=2ahUKEwiPtIvlxe3nAhUO_IUKHUhzBzcQ2-cCegQIABAA&oq=pixel&gs_l=img.1.0.0i67l10.16537.16537..17882...0.0..0.51.51.1......0....1..gws-wiz-img.o9OHrP0JPx0&ei=84NVXs9ujviXBMjmnbgD%3E\" target=\"_blank\">\"pixel art\"</a> ou encore mieux, de <a href=\"https://www.google.com/search?q=pixel+pixar+art&tbm=isch&ved=2ahUKEwih6oOoye3nAhUJ9BoKHW_KAy8Q2-cCegQIABAA&oq=pixel+pixar+art&gs_l=img.3..35i39j0i8i30l4.13473.13859..14268...0.0..0.50.185.4......0....1..gws-wiz-img.......0i30.DcVgza15C1Q&ei=pIdVXqGIK4noa--Uj_gC\" target=\"_blank\">\"Pixar pixel art\"</a> ou utilisez votre fantaisie ! \n",
    "\n",
    "Nous publierons sur les reseaux sociaux de l'ISEN, et aussi aux journées portes ouvertes, vos plus belles représentations!"
   ]
  },
  {
   "cell_type": "code",
   "execution_count": null,
   "metadata": {},
   "outputs": [],
   "source": []
  },
  {
   "cell_type": "code",
   "execution_count": null,
   "metadata": {},
   "outputs": [],
   "source": []
  },
  {
   "cell_type": "code",
   "execution_count": null,
   "metadata": {},
   "outputs": [],
   "source": []
  },
  {
   "cell_type": "code",
   "execution_count": null,
   "metadata": {},
   "outputs": [],
   "source": []
  },
  {
   "cell_type": "code",
   "execution_count": null,
   "metadata": {},
   "outputs": [],
   "source": []
  },
  {
   "cell_type": "code",
   "execution_count": null,
   "metadata": {},
   "outputs": [],
   "source": []
  },
  {
   "cell_type": "code",
   "execution_count": null,
   "metadata": {},
   "outputs": [],
   "source": []
  },
  {
   "cell_type": "code",
   "execution_count": null,
   "metadata": {},
   "outputs": [],
   "source": []
  },
  {
   "cell_type": "code",
   "execution_count": null,
   "metadata": {},
   "outputs": [],
   "source": []
  },
  {
   "cell_type": "code",
   "execution_count": null,
   "metadata": {},
   "outputs": [],
   "source": []
  }
 ],
 "metadata": {
  "kernelspec": {
   "display_name": "SageMath 9.2",
   "language": "sage",
   "name": "sagemath"
  },
  "language_info": {
   "codemirror_mode": {
    "name": "ipython",
    "version": 3
   },
   "file_extension": ".py",
   "mimetype": "text/x-python",
   "name": "python",
   "nbconvert_exporter": "python",
   "pygments_lexer": "ipython3",
   "version": "3.9.2"
  }
 },
 "nbformat": 4,
 "nbformat_minor": 2
}
