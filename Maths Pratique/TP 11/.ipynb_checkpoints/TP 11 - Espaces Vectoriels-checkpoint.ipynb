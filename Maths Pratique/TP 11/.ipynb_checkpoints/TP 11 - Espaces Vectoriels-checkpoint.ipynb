{
 "cells": [
  {
   "cell_type": "markdown",
   "metadata": {},
   "source": [
    "<p><span style=\"font-size: large; background-color: #ffffff; color: #000000;\"><strong>Consignes :</strong></span></p>\n",
    "<ul>\n",
    "<li><span style=\"font-size: large; background-color: #ffffff; color: #000000;\"><strong><strong>Renommer ce fichier en ordre alphab&eacute;tique avec le numéro i de votre Tiers <span style=\"color: #ff0000;\">Ti_nom1-nom2-TP11</span></strong></strong></span></li>\n",
    "<li><span style=\"font-size: large; background-color: #ffffff; color: #000000;\"><strong><strong><strong>TP &agrave; rendre sur Teams&nbsp;<span><span style=\"color: #ff0000;\">pour le 22 avril</span>.</span>&nbsp;</strong></strong></strong></span></li>\n",
    "<li><span style=\"font-size: large; background-color: #ffffff; color: #000000;\"><strong>TP &agrave; faire en groupe de 2. Le groupe de travail est le m&ecirc;me pour toute l'ann&eacute;e.</strong></span></li>\n",
    "<li><span style=\"font-size: large; background-color: #ffffff; color: #ff0000;\"><span style=\"color: #000000;\"><strong>&Agrave; compl&eacute;ter :</strong></span></span></li>\n",
    "</ul>\n",
    "<p><span style=\"font-size: large; background-color: #ffffff; color: #ff0000;\"><strong>NOM PRENOM 1 : CLARY Emilie <br /></strong></span></p>\n",
    "<p><span style=\"font-size: large; background-color: #ffffff; color: #ff0000;\"><strong>NOM PRENOM 2 : RIGAUD Mathilde </strong></span></p>\n",
    "<p><span style=\"font-size: large; background-color: #ffffff; color: #ff0000;\"><strong>NOM PRENOM 3 : VAN BOXEM Rémi</strong></span></p>\n",
    "<p>&nbsp;</p>\n",
    "<p><br /><span style=\"font-size: large;\"><strong></strong><strong>TP 11 : Espaces vectoriels<br /></strong></span></p>\n",
    "\n",
    "\n",
    "\n",
    "\n"
   ]
  },
  {
   "cell_type": "markdown",
   "metadata": {},
   "source": [
    "<p><span style=\"font-size: medium;\">Avant de commencer: prenez le temps de r&eacute;viser les concepts li&eacute;s aux matrices, vecteurs, syst&egrave;mes d'&eacute;quations lin&eacute;aires, ... des s&eacute;ances de TP pr&eacute;c&eacute;dentes.</span></p>\n",
    "<p><span style=\"font-size: medium;\"><strong></strong><strong><br /></strong></span></p>\n",
    "<p><span style=\"text-decoration: underline;\">EXERCICE 1 (Interpolation polynomiale)</span></p>\n",
    "<p>Consid&eacute;rons le probl&egrave;me suivant: on cherche un polyn&ocirc;me $P(X)$ &agrave; coefficients r&eacute;els dont le graphe passe par les points</p>\n",
    "<p>$$ (1,4), \\ (2,-1), \\ (3,2), \\ (4,3), \\ (5, 1). $$</p>\n",
    "<p>a) Soit $V$ l'espace vectoriel des polyn&ocirc;mes de degr&eacute; $\\leq 4$ et $f: V \\to \\mathbb{R}^5$ l'application lin&eacute;aire d&eacute;finie par</p>\n",
    "<p>$$ f(P) = (P(1), P(2), P(3), P(4), P(5)) $$</p>\n",
    "<p>Construire informatiquement une matrice $A$ repr&eacute;sentant $f$ en calculant tout d'abord $f(1), \\ f(X), \\ f(X^2), \\ f(X^3), \\ f(X^4).$</p>"
   ]
  },
  {
   "cell_type": "code",
   "execution_count": 32,
   "metadata": {},
   "outputs": [
    {
     "data": {
      "text/html": [
       "<html><script type=\"math/tex; mode=display\">\\newcommand{\\Bold}[1]{\\mathbf{#1}}\\left(\\begin{array}{rrrrr}\n",
       "1 & x & x^{2} & x^{3} & x^{4} \\\\\n",
       "1 & x & x^{2} & x^{3} & x^{4} \\\\\n",
       "1 & x & x^{2} & x^{3} & x^{4} \\\\\n",
       "1 & x & x^{2} & x^{3} & x^{4} \\\\\n",
       "1 & x & x^{2} & x^{3} & x^{4}\n",
       "\\end{array}\\right)</script></html>"
      ],
      "text/latex": [
       "\\begin{math}\n",
       "\\newcommand{\\Bold}[1]{\\mathbf{#1}}\\left(\\begin{array}{rrrrr}\n",
       "1 & x & x^{2} & x^{3} & x^{4} \\\\\n",
       "1 & x & x^{2} & x^{3} & x^{4} \\\\\n",
       "1 & x & x^{2} & x^{3} & x^{4} \\\\\n",
       "1 & x & x^{2} & x^{3} & x^{4} \\\\\n",
       "1 & x & x^{2} & x^{3} & x^{4}\n",
       "\\end{array}\\right)\n",
       "\\end{math}"
      ],
      "text/plain": [
       "[  1   x x^2 x^3 x^4]\n",
       "[  1   x x^2 x^3 x^4]\n",
       "[  1   x x^2 x^3 x^4]\n",
       "[  1   x x^2 x^3 x^4]\n",
       "[  1   x x^2 x^3 x^4]"
      ]
     },
     "metadata": {},
     "output_type": "display_data"
    }
   ],
   "source": [
    "A=matrix([[1,4],[2, -1], [3, 2], [4,3], [5,1]])\n",
    "\n",
    "x = var('x')\n",
    "\n",
    "def f(P) :\n",
    "    return vector([P(X=1), P(X=2), P(X=3), P(X=4), P(X=5)])\n",
    "\n",
    "A = matrix([f(x^i) for i in range(5)]).transpose()\n",
    "\n",
    "show(A)\n",
    "\n",
    "#def f() :\n",
    "#    grandtableau = []\n",
    "#    for i in range(0, 5):\n",
    "#        petittableau = []\n",
    "#        for j in range(1,6):\n",
    "#            if i == 0:\n",
    "#                petittableau.append(1)\n",
    "#            else :\n",
    "#                petittableau.append(j^i)\n",
    "#        grandtableau.append(petittableau)\n",
    "#\n",
    "#    return(grandtableau)\n",
    "\n",
    "#show(matrix(f()))\n"
   ]
  },
  {
   "cell_type": "markdown",
   "metadata": {},
   "source": [
    "<p>b) V&eacute;rifier la validit&eacute; de votre matrice $A$ de la question pr&eacute;c&eacute;dente en l'utilisant pour calculer $f(Q)$ et $f(R)$ avec $Q(X) = X^3 - X + 1$ et $R(X) = 2X^4 - 1$ (et v&eacute;rifiez que vous obtenez bien les bonnes r&eacute;ponses !).</p>"
   ]
  },
  {
   "cell_type": "code",
   "execution_count": 20,
   "metadata": {},
   "outputs": [
    {
     "ename": "IndentationError",
     "evalue": "expected an indented block (<ipython-input-20-da57b0005fab>, line 5)",
     "output_type": "error",
     "traceback": [
      "\u001b[0;36m  File \u001b[0;32m\"<ipython-input-20-da57b0005fab>\"\u001b[0;36m, line \u001b[0;32m5\u001b[0m\n\u001b[0;31m    def pol(coeffs) :\u001b[0m\n\u001b[0m    ^\u001b[0m\n\u001b[0;31mIndentationError\u001b[0m\u001b[0;31m:\u001b[0m expected an indented block\n"
     ]
    }
   ],
   "source": [
    "#Coefficient pratiques\n",
    "\n",
    "def coeffs(pol, l) :\n",
    "    \n",
    "def pol(coeffs) :"
   ]
  },
  {
   "cell_type": "code",
   "execution_count": 33,
   "metadata": {},
   "outputs": [
    {
     "data": {
      "text/html": [
       "<html><script type=\"math/tex; mode=display\">\\newcommand{\\Bold}[1]{\\mathbf{#1}}\\left(x^{3} - x + 1,\\,x^{3} - x + 1,\\,x^{3} - x + 1,\\,x^{3} - x + 1,\\,x^{3} - x + 1\\right)</script></html>"
      ],
      "text/latex": [
       "\\begin{math}\n",
       "\\newcommand{\\Bold}[1]{\\mathbf{#1}}\\left(x^{3} - x + 1,\\,x^{3} - x + 1,\\,x^{3} - x + 1,\\,x^{3} - x + 1,\\,x^{3} - x + 1\\right)\n",
       "\\end{math}"
      ],
      "text/plain": [
       "(x^3 - x + 1, x^3 - x + 1, x^3 - x + 1, x^3 - x + 1, x^3 - x + 1)"
      ]
     },
     "metadata": {},
     "output_type": "display_data"
    },
    {
     "data": {
      "text/html": [
       "<html><script type=\"math/tex; mode=display\">\\newcommand{\\Bold}[1]{\\mathbf{#1}}\\left(2 \\, x^{4} - 1,\\,2 \\, x^{4} - 1,\\,2 \\, x^{4} - 1,\\,2 \\, x^{4} - 1,\\,2 \\, x^{4} - 1\\right)</script></html>"
      ],
      "text/latex": [
       "\\begin{math}\n",
       "\\newcommand{\\Bold}[1]{\\mathbf{#1}}\\left(2 \\, x^{4} - 1,\\,2 \\, x^{4} - 1,\\,2 \\, x^{4} - 1,\\,2 \\, x^{4} - 1,\\,2 \\, x^{4} - 1\\right)\n",
       "\\end{math}"
      ],
      "text/plain": [
       "(2*x^4 - 1, 2*x^4 - 1, 2*x^4 - 1, 2*x^4 - 1, 2*x^4 - 1)"
      ]
     },
     "metadata": {},
     "output_type": "display_data"
    }
   ],
   "source": [
    "Q(x) = x^3 - x +1\n",
    "R(x) = 2*x^4-1\n",
    "\n",
    "show(f(Q))\n",
    "show(f(R))"
   ]
  },
  {
   "cell_type": "markdown",
   "metadata": {},
   "source": [
    "<p>c) Pour revenir &agrave; la question initiale: convainquez-vous que $f$ est bijective en remarquant que $A$ est inversible, et d&eacute;terminez $f^{-1}(4,-1,2,3,1)$ en utilisant $A^{-1}$.</p>"
   ]
  },
  {
   "cell_type": "code",
   "execution_count": 38,
   "metadata": {},
   "outputs": [
    {
     "data": {
      "text/html": [
       "<html><script type=\"math/tex; mode=display\">\\newcommand{\\Bold}[1]{\\mathbf{#1}}\\verb|Le|\\phantom{\\verb!x!}\\verb|déterminant|\\phantom{\\verb!x!}\\verb|de|\\phantom{\\verb!x!}\\verb|A|\\phantom{\\verb!x!}\\verb|vaut|\\phantom{\\verb!x!}\\verb|:|</script></html>"
      ],
      "text/latex": [
       "\\begin{math}\n",
       "\\newcommand{\\Bold}[1]{\\mathbf{#1}}\\verb|Le|\\phantom{\\verb!x!}\\verb|déterminant|\\phantom{\\verb!x!}\\verb|de|\\phantom{\\verb!x!}\\verb|A|\\phantom{\\verb!x!}\\verb|vaut|\\phantom{\\verb!x!}\\verb|:|\n",
       "\\end{math}"
      ],
      "text/plain": [
       "'Le déterminant de A vaut :'"
      ]
     },
     "metadata": {},
     "output_type": "display_data"
    },
    {
     "data": {
      "text/html": [
       "<html><script type=\"math/tex; mode=display\">\\newcommand{\\Bold}[1]{\\mathbf{#1}}0</script></html>"
      ],
      "text/latex": [
       "\\begin{math}\n",
       "\\newcommand{\\Bold}[1]{\\mathbf{#1}}0\n",
       "\\end{math}"
      ],
      "text/plain": [
       "0"
      ]
     },
     "metadata": {},
     "output_type": "display_data"
    },
    {
     "data": {
      "text/html": [
       "<html><script type=\"math/tex; mode=display\">\\newcommand{\\Bold}[1]{\\mathbf{#1}}\\verb|On|\\phantom{\\verb!x!}\\verb|remarque|\\phantom{\\verb!x!}\\verb|que|\\phantom{\\verb!x!}\\verb|le|\\phantom{\\verb!x!}\\verb|déterminant|\\phantom{\\verb!x!}\\verb|de|\\phantom{\\verb!x!}\\verb|A|\\phantom{\\verb!x!}\\verb|est|\\phantom{\\verb!x!}\\verb|différent|\\phantom{\\verb!x!}\\verb|de|\\phantom{\\verb!x!}\\verb|0.|</script></html>"
      ],
      "text/latex": [
       "\\begin{math}\n",
       "\\newcommand{\\Bold}[1]{\\mathbf{#1}}\\verb|On|\\phantom{\\verb!x!}\\verb|remarque|\\phantom{\\verb!x!}\\verb|que|\\phantom{\\verb!x!}\\verb|le|\\phantom{\\verb!x!}\\verb|déterminant|\\phantom{\\verb!x!}\\verb|de|\\phantom{\\verb!x!}\\verb|A|\\phantom{\\verb!x!}\\verb|est|\\phantom{\\verb!x!}\\verb|différent|\\phantom{\\verb!x!}\\verb|de|\\phantom{\\verb!x!}\\verb|0.|\n",
       "\\end{math}"
      ],
      "text/plain": [
       "'On remarque que le déterminant de A est différent de 0.'"
      ]
     },
     "metadata": {},
     "output_type": "display_data"
    },
    {
     "data": {
      "text/html": [
       "<html><script type=\"math/tex; mode=display\">\\newcommand{\\Bold}[1]{\\mathbf{#1}}\\verb|On|\\phantom{\\verb!x!}\\verb|en|\\phantom{\\verb!x!}\\verb|déduit|\\phantom{\\verb!x!}\\verb|que|\\phantom{\\verb!x!}\\verb|A|\\phantom{\\verb!x!}\\verb|est|\\phantom{\\verb!x!}\\verb|inversible.|</script></html>"
      ],
      "text/latex": [
       "\\begin{math}\n",
       "\\newcommand{\\Bold}[1]{\\mathbf{#1}}\\verb|On|\\phantom{\\verb!x!}\\verb|en|\\phantom{\\verb!x!}\\verb|déduit|\\phantom{\\verb!x!}\\verb|que|\\phantom{\\verb!x!}\\verb|A|\\phantom{\\verb!x!}\\verb|est|\\phantom{\\verb!x!}\\verb|inversible.|\n",
       "\\end{math}"
      ],
      "text/plain": [
       "'On en déduit que A est inversible.'"
      ]
     },
     "metadata": {},
     "output_type": "display_data"
    },
    {
     "data": {
      "text/html": [
       "<html><script type=\"math/tex; mode=display\">\\newcommand{\\Bold}[1]{\\mathbf{#1}}0.375000000000000 x^{4} - 5.41666666666667 x^{3} + 27.1250000000000 x^{2} - 54.0833333333333 x + 36.0000000000000</script></html>"
      ],
      "text/latex": [
       "\\begin{math}\n",
       "\\newcommand{\\Bold}[1]{\\mathbf{#1}}0.375000000000000 x^{4} - 5.41666666666667 x^{3} + 27.1250000000000 x^{2} - 54.0833333333333 x + 36.0000000000000\n",
       "\\end{math}"
      ],
      "text/plain": [
       "0.375000000000000*x^4 - 5.41666666666667*x^3 + 27.1250000000000*x^2 - 54.0833333333333*x + 36.0000000000000"
      ]
     },
     "metadata": {},
     "output_type": "display_data"
    }
   ],
   "source": [
    "show(\"Le déterminant de A vaut :\")\n",
    "show(det(A))\n",
    "show(\"On remarque que le déterminant de A est différent de 0.\")\n",
    "show(\"On en déduit que A est inversible.\")\n",
    "\n",
    "R = PolynomialRing(RR, 'x')\n",
    "points = [(1,4),(2,-1),(3,2),(4,3),(5,1)] # points d'interpolation\n",
    "f = R.lagrange_polynomial(points) # polynôme de interpolation\n",
    "\n",
    "show(f)"
   ]
  },
  {
   "cell_type": "markdown",
   "metadata": {},
   "source": [
    "<p>d) Repr&eacute;senter sur une m&ecirc;me figure: le graphe du polyn&ocirc;me $P$ obtenu &agrave; la question pr&eacute;c&eacute;dente ainsi que les $5$ points $(1,4), (2,-1), (3,2), (4,3), (5, 1)$ pour v&eacute;rifier que $P$ passe bien par ceux-ci.</p>"
   ]
  },
  {
   "cell_type": "code",
   "execution_count": 40,
   "metadata": {},
   "outputs": [
    {
     "data": {
      "image/png": "[encoded data removed]",
      "text/plain": [
       "Graphics object consisting of 2 graphics primitives"
      ]
     },
     "metadata": {},
     "output_type": "display_data"
    }
   ],
   "source": [
    "R = PolynomialRing(RR, 'x') \n",
    "    \n",
    "points = [(1,4),(2,-1),(3,2),(4,3),(5,1)] # Points d'interpolation\n",
    "\n",
    "f = R.lagrange_polynomial(points) # Polynôme de interpolation\n",
    "P = plot(f,-2,6)\n",
    "Q = line(points, marker='o', linestyle=\"\") # Graphique\n",
    "\n",
    "show(P+Q, xmin=-2, xmax=6, ymin=-10, ymax=50)"
   ]
  },
  {
   "cell_type": "markdown",
   "metadata": {},
   "source": [
    "<p>EXERCICE 2: (Interpolation d'Hermite)</p>\n",
    "<p>Encore un probl&egrave;me o&ugrave; on cherche un polyn&ocirc;me: on cherche cette fois-ci un polyn&ocirc;me $P$ de degr&eacute; $\\leq 3$ pour lequel</p>\n",
    "<p>$$ P(0) = 1, \\ P'(0) = -2, \\ P(1) = 4, \\ P'(1) = 2. $$</p>\n",
    "<p>a) Donner une repr&eacute;sentation matricielle de l'application $P \\mapsto (P(0), P'(0), P(1), P'(1))$.</p>"
   ]
  },
  {
   "cell_type": "code",
   "execution_count": null,
   "metadata": {},
   "outputs": [],
   "source": []
  },
  {
   "cell_type": "markdown",
   "metadata": {},
   "source": [
    "<p>b) V&eacute;rifier que votre repr&eacute;sentation matricielle fonctionne bien en l'utilisant pour calculer l'image de $Q(X) = X^3 + X^2 - X + 1$ et $R(X) = X^2 + 3 X$.</p>"
   ]
  },
  {
   "cell_type": "code",
   "execution_count": null,
   "metadata": {},
   "outputs": [],
   "source": []
  },
  {
   "cell_type": "markdown",
   "metadata": {},
   "source": [
    "\n",
    "\n"
   ]
  },
  {
   "cell_type": "markdown",
   "metadata": {},
   "source": [
    "<p>c) Montrer qu'il existe un unique polyn&ocirc;me de degr&eacute; inf&eacute;rieur ou &eacute;gal $3$ satisfaisant les conditions impos&eacute;es et d&eacute;terminez-le.</p>"
   ]
  },
  {
   "cell_type": "code",
   "execution_count": null,
   "metadata": {},
   "outputs": [],
   "source": []
  },
  {
   "cell_type": "markdown",
   "metadata": {},
   "source": [
    "<p>d) Repr&eacute;sentez, sur une m&ecirc;me figure, le graphe du polyn&ocirc;me trouv&eacute; &agrave; la question pr&eacute;c&eacute;dente, les points $(0,1)$ et $(1,4)$ ainsi que ses tangentes en $x = 0$ et $x = 1$ pour v&eacute;rifier la coh&eacute;rence de votre r&eacute;ponse.</p>"
   ]
  },
  {
   "cell_type": "code",
   "execution_count": null,
   "metadata": {},
   "outputs": [],
   "source": []
  },
  {
   "cell_type": "code",
   "execution_count": null,
   "metadata": {},
   "outputs": [],
   "source": []
  },
  {
   "cell_type": "code",
   "execution_count": null,
   "metadata": {},
   "outputs": [],
   "source": []
  },
  {
   "cell_type": "code",
   "execution_count": null,
   "metadata": {},
   "outputs": [],
   "source": [
    "\n"
   ]
  },
  {
   "cell_type": "markdown",
   "metadata": {},
   "source": [
    "\n"
   ]
  },
  {
   "cell_type": "code",
   "execution_count": null,
   "metadata": {},
   "outputs": [],
   "source": []
  },
  {
   "cell_type": "code",
   "execution_count": null,
   "metadata": {},
   "outputs": [],
   "source": [
    "\n"
   ]
  },
  {
   "cell_type": "code",
   "execution_count": null,
   "metadata": {},
   "outputs": [],
   "source": [
    "\n"
   ]
  },
  {
   "cell_type": "code",
   "execution_count": null,
   "metadata": {},
   "outputs": [],
   "source": []
  },
  {
   "cell_type": "code",
   "execution_count": null,
   "metadata": {},
   "outputs": [],
   "source": []
  },
  {
   "cell_type": "code",
   "execution_count": null,
   "metadata": {},
   "outputs": [],
   "source": []
  },
  {
   "cell_type": "code",
   "execution_count": null,
   "metadata": {},
   "outputs": [],
   "source": []
  },
  {
   "cell_type": "code",
   "execution_count": null,
   "metadata": {},
   "outputs": [],
   "source": []
  },
  {
   "cell_type": "code",
   "execution_count": null,
   "metadata": {},
   "outputs": [],
   "source": []
  },
  {
   "cell_type": "code",
   "execution_count": null,
   "metadata": {},
   "outputs": [],
   "source": []
  },
  {
   "cell_type": "code",
   "execution_count": null,
   "metadata": {},
   "outputs": [],
   "source": []
  },
  {
   "cell_type": "code",
   "execution_count": null,
   "metadata": {},
   "outputs": [],
   "source": []
  },
  {
   "cell_type": "code",
   "execution_count": null,
   "metadata": {},
   "outputs": [],
   "source": []
  },
  {
   "cell_type": "code",
   "execution_count": null,
   "metadata": {},
   "outputs": [],
   "source": []
  },
  {
   "cell_type": "code",
   "execution_count": null,
   "metadata": {},
   "outputs": [],
   "source": []
  },
  {
   "cell_type": "code",
   "execution_count": null,
   "metadata": {},
   "outputs": [],
   "source": []
  },
  {
   "cell_type": "code",
   "execution_count": null,
   "metadata": {},
   "outputs": [],
   "source": []
  },
  {
   "cell_type": "code",
   "execution_count": null,
   "metadata": {},
   "outputs": [],
   "source": []
  },
  {
   "cell_type": "code",
   "execution_count": null,
   "metadata": {},
   "outputs": [],
   "source": []
  }
 ],
 "metadata": {
  "kernelspec": {
   "display_name": "SageMath 9.2",
   "language": "sage",
   "name": "sagemath"
  },
  "language_info": {
   "codemirror_mode": {
    "name": "ipython",
    "version": 3
   },
   "file_extension": ".py",
   "mimetype": "text/x-python",
   "name": "python",
   "nbconvert_exporter": "python",
   "pygments_lexer": "ipython3",
   "version": "3.9.2"
  }
 },
 "nbformat": 4,
 "nbformat_minor": 2
}
