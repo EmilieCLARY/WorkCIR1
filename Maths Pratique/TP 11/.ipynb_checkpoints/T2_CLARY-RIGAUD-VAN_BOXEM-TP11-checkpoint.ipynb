{
 "cells": [
  {
   "cell_type": "markdown",
   "metadata": {},
   "source": [
    "<p><span style=\"font-size: large; background-color: #ffffff; color: #000000;\"><strong>Consignes :</strong></span></p>\n",
    "<ul>\n",
    "<li><span style=\"font-size: large; background-color: #ffffff; color: #000000;\"><strong><strong>Renommer ce fichier en ordre alphab&eacute;tique avec le numéro i de votre Tiers <span style=\"color: #ff0000;\">Ti_nom1-nom2-TP11</span></strong></strong></span></li>\n",
    "<li><span style=\"font-size: large; background-color: #ffffff; color: #000000;\"><strong><strong><strong>TP &agrave; rendre sur Teams&nbsp;<span><span style=\"color: #ff0000;\">pour le 22 avril</span>.</span>&nbsp;</strong></strong></strong></span></li>\n",
    "<li><span style=\"font-size: large; background-color: #ffffff; color: #000000;\"><strong>TP &agrave; faire en groupe de 2. Le groupe de travail est le m&ecirc;me pour toute l'ann&eacute;e.</strong></span></li>\n",
    "<li><span style=\"font-size: large; background-color: #ffffff; color: #ff0000;\"><span style=\"color: #000000;\"><strong>&Agrave; compl&eacute;ter :</strong></span></span></li>\n",
    "</ul>\n",
    "<p><span style=\"font-size: large; background-color: #ffffff; color: #ff0000;\"><strong>NOM PRENOM 1 : CLARY Emilie <br /></strong></span></p>\n",
    "<p><span style=\"font-size: large; background-color: #ffffff; color: #ff0000;\"><strong>NOM PRENOM 2 : RIGAUD Mathilde</strong></span></p>\n",
    "<p><span style=\"font-size: large; background-color: #ffffff; color: #ff0000;\"><strong>NOM PRENOM 2 : VAN BOXEM Rémi</strong></span></p>\n",
    "<p>&nbsp;</p>\n",
    "<p><br /><span style=\"font-size: large;\"><strong></strong><strong>TP 11 : Espaces vectoriels<br /></strong></span></p>\n",
    "\n",
    "\n",
    "\n",
    "\n"
   ]
  },
  {
   "cell_type": "markdown",
   "metadata": {},
   "source": [
    "<p><span style=\"font-size: medium;\">Avant de commencer: prenez le temps de r&eacute;viser les concepts li&eacute;s aux matrices, vecteurs, syst&egrave;mes d'&eacute;quations lin&eacute;aires, ... des s&eacute;ances de TP pr&eacute;c&eacute;dentes.</span></p>\n",
    "<p><span style=\"font-size: medium;\"><strong></strong><strong><br /></strong></span></p>\n",
    "<p><span style=\"text-decoration: underline;\">EXERCICE 1 (Interpolation polynomiale)</span></p>\n",
    "<p>Consid&eacute;rons le probl&egrave;me suivant: on cherche un polyn&ocirc;me $P(X)$ &agrave; coefficients r&eacute;els dont le graphe passe par les points</p>\n",
    "<p>$$ (1,4), \\ (2,-1), \\ (3,2), \\ (4,3), \\ (5, 1). $$</p>\n",
    "<p>a) Soit $V$ l'espace vectoriel des polyn&ocirc;mes de degr&eacute; $\\leq 4$ et $f: V \\to \\mathbb{R}^5$ l'application lin&eacute;aire d&eacute;finie par</p>\n",
    "<p>$$ f(P) = (P(1), P(2), P(3), P(4), P(5)) $$</p>\n",
    "<p>Construire informatiquement une matrice $A$ repr&eacute;sentant $f$ en calculant tout d'abord $f(1), \\ f(X), \\ f(X^2), \\ f(X^3), \\ f(X^4).$</p>"
   ]
  },
  {
   "cell_type": "code",
   "execution_count": 1,
   "metadata": {},
   "outputs": [
    {
     "data": {
      "text/html": [
       "<html><script type=\"math/tex; mode=display\">\\newcommand{\\Bold}[1]{\\mathbf{#1}}\\left(\\begin{array}{rrrrr}\n",
       "1 & 1 & 1 & 1 & 1 \\\\\n",
       "1 & 2 & 3 & 4 & 5 \\\\\n",
       "1 & 4 & 9 & 16 & 25 \\\\\n",
       "1 & 8 & 27 & 64 & 125 \\\\\n",
       "1 & 16 & 81 & 256 & 625\n",
       "\\end{array}\\right)</script></html>"
      ],
      "text/latex": [
       "\\begin{math}\n",
       "\\newcommand{\\Bold}[1]{\\mathbf{#1}}\\left(\\begin{array}{rrrrr}\n",
       "1 & 1 & 1 & 1 & 1 \\\\\n",
       "1 & 2 & 3 & 4 & 5 \\\\\n",
       "1 & 4 & 9 & 16 & 25 \\\\\n",
       "1 & 8 & 27 & 64 & 125 \\\\\n",
       "1 & 16 & 81 & 256 & 625\n",
       "\\end{array}\\right)\n",
       "\\end{math}"
      ],
      "text/plain": [
       "[  1   1   1   1   1]\n",
       "[  1   2   3   4   5]\n",
       "[  1   4   9  16  25]\n",
       "[  1   8  27  64 125]\n",
       "[  1  16  81 256 625]"
      ]
     },
     "metadata": {},
     "output_type": "display_data"
    }
   ],
   "source": [
    "x = var('x')\n",
    "def f(P):\n",
    "    return vector([P(x=1), P(x=2), P(x=3), P(x=4), P(x=5)])\n",
    "\n",
    "A = matrix([f(x^i) for i in range(5)])\n",
    "\n",
    "show(A)"
   ]
  },
  {
   "cell_type": "markdown",
   "metadata": {},
   "source": [
    "<p>b) V&eacute;rifier la validit&eacute; de votre matrice $A$ de la question pr&eacute;c&eacute;dente en l'utilisant pour calculer $f(Q)$ et $f(R)$ avec $Q(X) = X^3 - X + 1$ et $R(X) = 2X^4 - 1$ (et v&eacute;rifiez que vous obtenez bien les bonnes r&eacute;ponses !).</p>"
   ]
  },
  {
   "cell_type": "code",
   "execution_count": 2,
   "metadata": {},
   "outputs": [
    {
     "data": {
      "text/html": [
       "<html><script type=\"math/tex; mode=display\">\\newcommand{\\Bold}[1]{\\mathbf{#1}}\\left(1,\\,7,\\,25,\\,61,\\,121\\right)</script></html>"
      ],
      "text/latex": [
       "\\begin{math}\n",
       "\\newcommand{\\Bold}[1]{\\mathbf{#1}}\\left(1,\\,7,\\,25,\\,61,\\,121\\right)\n",
       "\\end{math}"
      ],
      "text/plain": [
       "(1, 7, 25, 61, 121)"
      ]
     },
     "metadata": {},
     "output_type": "display_data"
    },
    {
     "data": {
      "text/html": [
       "<html><script type=\"math/tex; mode=display\">\\newcommand{\\Bold}[1]{\\mathbf{#1}}\\left(1,\\,31,\\,161,\\,511,\\,1249\\right)</script></html>"
      ],
      "text/latex": [
       "\\begin{math}\n",
       "\\newcommand{\\Bold}[1]{\\mathbf{#1}}\\left(1,\\,31,\\,161,\\,511,\\,1249\\right)\n",
       "\\end{math}"
      ],
      "text/plain": [
       "(1, 31, 161, 511, 1249)"
      ]
     },
     "metadata": {},
     "output_type": "display_data"
    }
   ],
   "source": [
    "Q(x) = x^3 - x +1\n",
    "R(x) = 2*x^4-1\n",
    "\n",
    "show(f(Q))\n",
    "show(f(R))"
   ]
  },
  {
   "cell_type": "markdown",
   "metadata": {},
   "source": [
    "<p>c) Pour revenir &agrave; la question initiale: convainquez-vous que $f$ est bijective en remarquant que $A$ est inversible, et d&eacute;terminez $f^{-1}(4,-1,2,3,1)$ en utilisant $A^{-1}$.</p>"
   ]
  },
  {
   "cell_type": "code",
   "execution_count": 3,
   "metadata": {},
   "outputs": [
    {
     "data": {
      "text/html": [
       "<html><script type=\"math/tex; mode=display\">\\newcommand{\\Bold}[1]{\\mathbf{#1}}\\verb|Le|\\phantom{\\verb!x!}\\verb|déterminant|\\phantom{\\verb!x!}\\verb|de|\\phantom{\\verb!x!}\\verb|A|\\phantom{\\verb!x!}\\verb|est|\\phantom{\\verb!x!}\\verb|:|</script></html>"
      ],
      "text/latex": [
       "\\begin{math}\n",
       "\\newcommand{\\Bold}[1]{\\mathbf{#1}}\\verb|Le|\\phantom{\\verb!x!}\\verb|déterminant|\\phantom{\\verb!x!}\\verb|de|\\phantom{\\verb!x!}\\verb|A|\\phantom{\\verb!x!}\\verb|est|\\phantom{\\verb!x!}\\verb|:|\n",
       "\\end{math}"
      ],
      "text/plain": [
       "'Le déterminant de A est :'"
      ]
     },
     "metadata": {},
     "output_type": "display_data"
    },
    {
     "data": {
      "text/html": [
       "<html><script type=\"math/tex; mode=display\">\\newcommand{\\Bold}[1]{\\mathbf{#1}}288</script></html>"
      ],
      "text/latex": [
       "\\begin{math}\n",
       "\\newcommand{\\Bold}[1]{\\mathbf{#1}}288\n",
       "\\end{math}"
      ],
      "text/plain": [
       "288"
      ]
     },
     "metadata": {},
     "output_type": "display_data"
    },
    {
     "data": {
      "text/html": [
       "<html><script type=\"math/tex; mode=display\">\\newcommand{\\Bold}[1]{\\mathbf{#1}}\\verb|On|\\phantom{\\verb!x!}\\verb|remarque|\\phantom{\\verb!x!}\\verb|que|\\phantom{\\verb!x!}\\verb|le|\\phantom{\\verb!x!}\\verb|déterminant|\\phantom{\\verb!x!}\\verb|de|\\phantom{\\verb!x!}\\verb|A|\\phantom{\\verb!x!}\\verb|est|\\phantom{\\verb!x!}\\verb|différent|\\phantom{\\verb!x!}\\verb|de|\\phantom{\\verb!x!}\\verb|0.|</script></html>"
      ],
      "text/latex": [
       "\\begin{math}\n",
       "\\newcommand{\\Bold}[1]{\\mathbf{#1}}\\verb|On|\\phantom{\\verb!x!}\\verb|remarque|\\phantom{\\verb!x!}\\verb|que|\\phantom{\\verb!x!}\\verb|le|\\phantom{\\verb!x!}\\verb|déterminant|\\phantom{\\verb!x!}\\verb|de|\\phantom{\\verb!x!}\\verb|A|\\phantom{\\verb!x!}\\verb|est|\\phantom{\\verb!x!}\\verb|différent|\\phantom{\\verb!x!}\\verb|de|\\phantom{\\verb!x!}\\verb|0.|\n",
       "\\end{math}"
      ],
      "text/plain": [
       "'On remarque que le déterminant de A est différent de 0.'"
      ]
     },
     "metadata": {},
     "output_type": "display_data"
    },
    {
     "data": {
      "text/html": [
       "<html><script type=\"math/tex; mode=display\">\\newcommand{\\Bold}[1]{\\mathbf{#1}}\\verb|Donc|\\phantom{\\verb!x!}\\verb|A|\\phantom{\\verb!x!}\\verb|est|\\phantom{\\verb!x!}\\verb|inversible|\\phantom{\\verb!x!}\\verb|et|\\phantom{\\verb!x!}\\verb|est|\\phantom{\\verb!x!}\\verb|inversible.|</script></html>"
      ],
      "text/latex": [
       "\\begin{math}\n",
       "\\newcommand{\\Bold}[1]{\\mathbf{#1}}\\verb|Donc|\\phantom{\\verb!x!}\\verb|A|\\phantom{\\verb!x!}\\verb|est|\\phantom{\\verb!x!}\\verb|inversible|\\phantom{\\verb!x!}\\verb|et|\\phantom{\\verb!x!}\\verb|est|\\phantom{\\verb!x!}\\verb|inversible.|\n",
       "\\end{math}"
      ],
      "text/plain": [
       "'Donc A est inversible et est inversible.'"
      ]
     },
     "metadata": {},
     "output_type": "display_data"
    },
    {
     "data": {
      "text/html": [
       "<html><script type=\"math/tex; mode=display\">\\newcommand{\\Bold}[1]{\\mathbf{#1}}0.375000000000000 x^{4} - 5.41666666666667 x^{3} + 27.1250000000000 x^{2} - 54.0833333333333 x + 36.0000000000000</script></html>"
      ],
      "text/latex": [
       "\\begin{math}\n",
       "\\newcommand{\\Bold}[1]{\\mathbf{#1}}0.375000000000000 x^{4} - 5.41666666666667 x^{3} + 27.1250000000000 x^{2} - 54.0833333333333 x + 36.0000000000000\n",
       "\\end{math}"
      ],
      "text/plain": [
       "0.375000000000000*x^4 - 5.41666666666667*x^3 + 27.1250000000000*x^2 - 54.0833333333333*x + 36.0000000000000"
      ]
     },
     "metadata": {},
     "output_type": "display_data"
    }
   ],
   "source": [
    "show(\"Le déterminant de A est :\")\n",
    "show(det(A))\n",
    "show(\"On remarque que le déterminant de A est différent de 0.\")\n",
    "show(\"Donc A est inversible.\")\n",
    "\n",
    "R = PolynomialRing(RR, 'x')\n",
    "points = [(1,4),(2,-1),(3,2),(4,3),(5,1)] # points d'interpolation\n",
    "f = R.lagrange_polynomial(points) # polynôme de interpolation\n",
    "\n",
    "show(f)"
   ]
  },
  {
   "cell_type": "markdown",
   "metadata": {},
   "source": [
    "<p>d) Repr&eacute;senter sur une m&ecirc;me figure: le graphe du polyn&ocirc;me $P$ obtenu &agrave; la question pr&eacute;c&eacute;dente ainsi que les $5$ points $(1,4), (2,-1), (3,2), (4,3), (5, 1)$ pour v&eacute;rifier que $P$ passe bien par ceux-ci.</p>"
   ]
  },
  {
   "cell_type": "code",
   "execution_count": 4,
   "metadata": {},
   "outputs": [
    {
     "data": {
      "image/png": "[encoded data removed]",
      "text/plain": [
       "Graphics object consisting of 2 graphics primitives"
      ]
     },
     "metadata": {},
     "output_type": "display_data"
    }
   ],
   "source": [
    "R = PolynomialRing(RR, 'x') # anneau de polynômes à coefficients réels\n",
    "points = [(1,4),(2,-1),(3,2),(4,3),(5,1)] # points d'interpolation\n",
    "fonction = R.lagrange_polynomial(points) # polynôme de interpolation\n",
    "\n",
    "P = plot(f,-2,6) # graphique du polynôme\n",
    "Q = line(points, marker='o', linestyle=\"\") # graphique des points\n",
    "\n",
    "show(P+Q, xmin=-2, xmax=6, ymin=-10, ymax=50)"
   ]
  },
  {
   "cell_type": "markdown",
   "metadata": {},
   "source": [
    "<p>EXERCICE 2: (Interpolation d'Hermite)</p>\n",
    "<p>Encore un probl&egrave;me o&ugrave; on cherche un polyn&ocirc;me: on cherche cette fois-ci un polyn&ocirc;me $P$ de degr&eacute; $\\leq 3$ pour lequel</p>\n",
    "<p>$$ P(0) = 1, \\ P'(0) = -2, \\ P(1) = 4, \\ P'(1) = 2. $$</p>\n",
    "<p>a) Donner une repr&eacute;sentation matricielle de l'application $P \\mapsto (P(0), P'(0), P(1), P'(1))$.</p>"
   ]
  },
  {
   "cell_type": "code",
   "execution_count": 9,
   "metadata": {},
   "outputs": [
    {
     "data": {
      "text/html": [
       "<html><script type=\"math/tex; mode=display\">\\newcommand{\\Bold}[1]{\\mathbf{#1}}\\left(\\begin{array}{rrrr}\n",
       "1 & 0 & 0 & 0 \\\\\n",
       "0 & 1 & 0 & 0 \\\\\n",
       "1 & 1 & 1 & 1 \\\\\n",
       "0 & 1 & 2 & 3\n",
       "\\end{array}\\right)</script></html>"
      ],
      "text/latex": [
       "\\begin{math}\n",
       "\\newcommand{\\Bold}[1]{\\mathbf{#1}}\\left(\\begin{array}{rrrr}\n",
       "1 & 0 & 0 & 0 \\\\\n",
       "0 & 1 & 0 & 0 \\\\\n",
       "1 & 1 & 1 & 1 \\\\\n",
       "0 & 1 & 2 & 3\n",
       "\\end{array}\\right)\n",
       "\\end{math}"
      ],
      "text/plain": [
       "[1 0 0 0]\n",
       "[0 1 0 0]\n",
       "[1 1 1 1]\n",
       "[0 1 2 3]"
      ]
     },
     "metadata": {},
     "output_type": "display_data"
    }
   ],
   "source": [
    "# P(1)=[1,0,1,0], P(x)=[0,1,1,1], P(x²)=[0,0,1,2], P(x³)=[0,0,1,3]\n",
    "\n",
    "A = matrix([[1, 0, 0, 0],[0, 1, 0, 0],[1, 1, 1, 1],[0, 1, 2, 3]])\n",
    "\n",
    "# Représentation matricielle de l'application P\n",
    "show(A)"
   ]
  },
  {
   "cell_type": "markdown",
   "metadata": {},
   "source": [
    "<p>b) V&eacute;rifier que votre repr&eacute;sentation matricielle fonctionne bien en l'utilisant pour calculer l'image de $Q(X) = X^3 + X^2 - X + 1$ et $R(X) = X^2 + 3 X$.</p>"
   ]
  },
  {
   "cell_type": "code",
   "execution_count": 17,
   "metadata": {},
   "outputs": [
    {
     "data": {
      "text/html": [
       "<html><script type=\"math/tex; mode=display\">\\newcommand{\\Bold}[1]{\\mathbf{#1}}x^{3} + x^{2} - x + 1</script></html>"
      ],
      "text/latex": [
       "\\begin{math}\n",
       "\\newcommand{\\Bold}[1]{\\mathbf{#1}}x^{3} + x^{2} - x + 1\n",
       "\\end{math}"
      ],
      "text/plain": [
       "x^3 + x^2 - x + 1"
      ]
     },
     "metadata": {},
     "output_type": "display_data"
    },
    {
     "data": {
      "text/html": [
       "<html><script type=\"math/tex; mode=display\">\\newcommand{\\Bold}[1]{\\mathbf{#1}}{\\left(x^{2} + 3 \\, x\\right)}^{2} + 3 \\, x^{2} + 9 \\, x</script></html>"
      ],
      "text/latex": [
       "\\begin{math}\n",
       "\\newcommand{\\Bold}[1]{\\mathbf{#1}}{\\left(x^{2} + 3 \\, x\\right)}^{2} + 3 \\, x^{2} + 9 \\, x\n",
       "\\end{math}"
      ],
      "text/plain": [
       "(x^2 + 3*x)^2 + 3*x^2 + 9*x"
      ]
     },
     "metadata": {},
     "output_type": "display_data"
    }
   ],
   "source": [
    "Q(x) = x^3 + x^2 - x +1\n",
    "R(x) = x^2+3*x\n",
    "Qderive=3*x^2+2*x-1\n",
    "Rderive=2*x+3\n",
    "\n",
    "# Affichage des polynômes\n",
    "show(Q(x))\n",
    "show(R(R))"
   ]
  },
  {
   "cell_type": "code",
   "execution_count": 19,
   "metadata": {},
   "outputs": [
    {
     "name": "stdout",
     "output_type": "stream",
     "text": [
      "Q(0) = 1\n",
      "Q'(0)= -1\n",
      "Q(1)= 2\n",
      "Q'(1)= 4\n"
     ]
    }
   ],
   "source": [
    "# Vérification\n",
    "\n",
    "#Test pour Q\n",
    "\n",
    "#Pour x=0\n",
    "print(\"Q(0) =\", Q(0))\n",
    "print(\"Q'(0)=\",Qderive(0))\n",
    "\n",
    "#Puis pour x=1\n",
    "print(\"Q(1)=\",Q(1))\n",
    "print(\"Q'(1)=\",Qderive(1))"
   ]
  },
  {
   "cell_type": "code",
   "execution_count": 20,
   "metadata": {},
   "outputs": [
    {
     "name": "stdout",
     "output_type": "stream",
     "text": [
      "R(0)= 0\n",
      "R'(0)= 3\n",
      "R(1)= 4\n",
      "R'(1)= 5\n"
     ]
    }
   ],
   "source": [
    "#Test pour R\n",
    "\n",
    "#Pour x=0\n",
    "print(\"R(0)=\",R(0))\n",
    "print(\"R'(0)=\",Rderive(0))\n",
    "\n",
    "#Puis pour x=1\n",
    "print(\"R(1)=\",R(1))\n",
    "print(\"R'(1)=\",Rderive(1))"
   ]
  },
  {
   "cell_type": "markdown",
   "metadata": {},
   "source": [
    "\n",
    "\n"
   ]
  },
  {
   "cell_type": "markdown",
   "metadata": {},
   "source": [
    "<p>c) Montrer qu'il existe un unique polyn&ocirc;me de degr&eacute; inf&eacute;rieur ou &eacute;gal $3$ satisfaisant les conditions impos&eacute;es et d&eacute;terminez-le.</p>"
   ]
  },
  {
   "cell_type": "code",
   "execution_count": 28,
   "metadata": {},
   "outputs": [
    {
     "name": "stdout",
     "output_type": "stream",
     "text": [
      "A est inversible\n",
      "f⁻¹(1, -2, 4, 2) = (1, -2, 11, -6)\n"
     ]
    }
   ],
   "source": [
    "if A.det() == 0:\n",
    "    print(\"A n'est pas inversible\")\n",
    "\n",
    "else:\n",
    "    print(\"A est inversible\")\n",
    "    X = vector([1,-2,4,2])\n",
    "    Ainverse = ~A\n",
    "    print(\"f⁻¹(1, -2, 4, 2) =\", Ainverse*X)"
   ]
  },
  {
   "cell_type": "markdown",
   "metadata": {},
   "source": [
    "<p>d) Repr&eacute;sentez, sur une m&ecirc;me figure, le graphe du polyn&ocirc;me trouv&eacute; &agrave; la question pr&eacute;c&eacute;dente, les points $(0,1)$ et $(1,4)$ ainsi que ses tangentes en $x = 0$ et $x = 1$ pour v&eacute;rifier la coh&eacute;rence de votre r&eacute;ponse.</p>"
   ]
  },
  {
   "cell_type": "code",
   "execution_count": 35,
   "metadata": {},
   "outputs": [
    {
     "data": {
      "text/html": [
       "<html><script type=\"math/tex; mode=display\">\\newcommand{\\Bold}[1]{\\mathbf{#1}}\\verb|P|\\phantom{\\verb!x!}\\verb|(| 0 \\verb|)|\\phantom{\\verb!x!}\\verb|=| 1</script></html>"
      ],
      "text/latex": [
       "\\begin{math}\n",
       "\\newcommand{\\Bold}[1]{\\mathbf{#1}}\\verb|P|\\phantom{\\verb!x!}\\verb|(| 0 \\verb|)|\\phantom{\\verb!x!}\\verb|=| 1\n",
       "\\end{math}"
      ],
      "text/plain": [
       "'P (' 0 ') = ' 1"
      ]
     },
     "metadata": {},
     "output_type": "display_data"
    },
    {
     "data": {
      "text/html": [
       "<html><script type=\"math/tex; mode=display\">\\newcommand{\\Bold}[1]{\\mathbf{#1}}\\verb|P|\\phantom{\\verb!x!}\\verb|(| 1 \\verb|)|\\phantom{\\verb!x!}\\verb|=| 4</script></html>"
      ],
      "text/latex": [
       "\\begin{math}\n",
       "\\newcommand{\\Bold}[1]{\\mathbf{#1}}\\verb|P|\\phantom{\\verb!x!}\\verb|(| 1 \\verb|)|\\phantom{\\verb!x!}\\verb|=| 4\n",
       "\\end{math}"
      ],
      "text/plain": [
       "'P (' 1 ') = ' 4"
      ]
     },
     "metadata": {},
     "output_type": "display_data"
    }
   ],
   "source": [
    "# P = -6x³ + 11x² - 2x +1\n",
    "\n",
    "x=var('x')\n",
    "P=-6*x^3+11*x^2-2*x+1\n",
    "Pderive=-6*3*x^2+11*2*x-2\n",
    "for i in range (0,2):\n",
    "    temp=P(i)\n",
    "    show(\"P (\",i,\") = \",temp)"
   ]
  },
  {
   "cell_type": "code",
   "execution_count": 36,
   "metadata": {},
   "outputs": [
    {
     "name": "stdout",
     "output_type": "stream",
     "text": [
      "Graphique :\n"
     ]
    },
    {
     "name": "stderr",
     "output_type": "stream",
     "text": [
      "<ipython-input-36-aa4081f38b7b>:8: DeprecationWarning: Substitution using function-call syntax and unnamed arguments is deprecated and will be removed from a future release of Sage; you can use named arguments instead, like EXPR(x=..., y=...)\n",
      "See http://trac.sagemath.org/5930 for details.\n",
      "  show(plot(P,(x,Integer(0),Integer(3)),color='blue')+P1+P2+plot(tan(Integer(0),P,Pderive),(x,Integer(0),Integer(3)),color='red')+plot(tan(Integer(1),P,Pderive),(x,Integer(0),Integer(3)),color='red'))\n"
     ]
    },
    {
     "data": {
      "image/png": "[encoded data removed]",
      "text/plain": [
       "Graphics object consisting of 5 graphics primitives"
      ]
     },
     "metadata": {},
     "output_type": "display_data"
    }
   ],
   "source": [
    "print(\"Graphique :\")\n",
    "P1 = point((0,1),color='green')\n",
    "P2 = point((1,4),color='green')\n",
    "\n",
    "def tan(a,f,fderive): ## Tangente fonction\n",
    "    return fderive(a)*(x-a)+f(a)\n",
    "\n",
    "show(plot(P,(x,0,3),color='blue')+P1+P2+plot(tan(0,P,Pderive),(x,0,3),color='red')+plot(tan(1,P,Pderive),(x,0,3),color='red'))\n",
    "\n",
    "# On obtient un résultat cohérent\n"
   ]
  }
 ],
 "metadata": {
  "kernelspec": {
   "display_name": "SageMath 9.2",
   "language": "sage",
   "name": "sagemath"
  },
  "language_info": {
   "codemirror_mode": {
    "name": "ipython",
    "version": 3
   },
   "file_extension": ".py",
   "mimetype": "text/x-python",
   "name": "python",
   "nbconvert_exporter": "python",
   "pygments_lexer": "ipython3",
   "version": "3.9.3"
  }
 },
 "nbformat": 4,
 "nbformat_minor": 2
}
