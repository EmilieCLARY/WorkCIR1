{
 "cells": [
  {
   "cell_type": "markdown",
   "metadata": {},
   "source": [
    "<p><span style=\"font-size: large; background-color: #ffffff; color: #000000;\"><strong>Consignes :</strong></span></p>\n",
    "<ul>\n",
    "<li><span style=\"font-size: large; background-color: #ffffff; color: #000000;\"><strong><strong>Renommer ce fichier en ordre alphab&eacute;tique avec le numéro i de votre Tiers <span style=\"color: #ff0000;\">Ti_nom1-nom2-TP11</span></strong></strong></span></li>\n",
    "<li><span style=\"font-size: large; background-color: #ffffff; color: #000000;\"><strong><strong><strong>TP &agrave; rendre sur Teams&nbsp;<span><span style=\"color: #ff0000;\">pour le 22 avril</span>.</span>&nbsp;</strong></strong></strong></span></li>\n",
    "<li><span style=\"font-size: large; background-color: #ffffff; color: #000000;\"><strong>TP &agrave; faire en groupe de 2. Le groupe de travail est le m&ecirc;me pour toute l'ann&eacute;e.</strong></span></li>\n",
    "<li><span style=\"font-size: large; background-color: #ffffff; color: #ff0000;\"><span style=\"color: #000000;\"><strong>&Agrave; compl&eacute;ter :</strong></span></span></li>\n",
    "</ul>\n",
    "<p><span style=\"font-size: large; background-color: #ffffff; color: #ff0000;\"><strong>NOM PRENOM 1 : Mullier Tom  <br /></strong></span></p>\n",
    "<p><span style=\"font-size: large; background-color: #ffffff; color: #ff0000;\"><strong>NOM PRENOM 2 : Declemy Maxime<strong></span></p>\n",
    "<p>&nbsp;</p>\n",
    "<p><br /><span style=\"font-size: large;\"><strong></strong><strong>TP 11 : Espaces vectoriels<br /></strong></span></p>\n",
    "\n",
    "\n",
    "\n",
    "\n"
   ]
  },
  {
   "cell_type": "markdown",
   "metadata": {},
   "source": [
    "<p><span style=\"font-size: medium;\">Avant de commencer: prenez le temps de r&eacute;viser les concepts li&eacute;s aux matrices, vecteurs, syst&egrave;mes d'&eacute;quations lin&eacute;aires, ... des s&eacute;ances de TP pr&eacute;c&eacute;dentes.</span></p>\n",
    "<p><span style=\"font-size: medium;\"><strong></strong><strong><br /></strong></span></p>\n",
    "<p><span style=\"text-decoration: underline;\">EXERCICE 1 (Interpolation polynomiale)</span></p>\n",
    "<p>Consid&eacute;rons le probl&egrave;me suivant: on cherche un polyn&ocirc;me $P(X)$ &agrave; coefficients r&eacute;els dont le graphe passe par les points</p>\n",
    "<p>$$ (1,4), \\ (2,-1), \\ (3,2), \\ (4,3), \\ (5, 1). $$</p>\n",
    "<p>a) Soit $V$ l'espace vectoriel des polyn&ocirc;mes de degr&eacute; $\\leq 4$ et $f: V \\to \\mathbb{R}^5$ l'application lin&eacute;aire d&eacute;finie par</p>\n",
    "<p>$$ f(P) = (P(1), P(2), P(3), P(4), P(5)) $$</p>\n",
    "<p>Construire informatiquement une matrice $A$ repr&eacute;sentant $f$ en calculant tout d'abord $f(1), \\ f(X), \\ f(X^2), \\ f(X^3), \\ f(X^4).$</p>"
   ]
  },
  {
   "cell_type": "code",
   "execution_count": 4,
   "metadata": {},
   "outputs": [
    {
     "name": "stdout",
     "output_type": "stream",
     "text": [
      "Matrice A représentant f\n"
     ]
    },
    {
     "data": {
      "text/html": [
       "<html><script type=\"math/tex; mode=display\">\\newcommand{\\Bold}[1]{\\mathbf{#1}}\\left(\\begin{array}{rrrrr}\n",
       "1 & 1 & 1 & 1 & 1 \\\\\n",
       "1 & 2 & 4 & 8 & 16 \\\\\n",
       "1 & 3 & 9 & 27 & 81 \\\\\n",
       "1 & 4 & 16 & 64 & 256 \\\\\n",
       "1 & 5 & 25 & 125 & 625\n",
       "\\end{array}\\right)</script></html>"
      ],
      "text/latex": [
       "\\begin{math}\n",
       "\\newcommand{\\Bold}[1]{\\mathbf{#1}}\\left(\\begin{array}{rrrrr}\n",
       "1 & 1 & 1 & 1 & 1 \\\\\n",
       "1 & 2 & 4 & 8 & 16 \\\\\n",
       "1 & 3 & 9 & 27 & 81 \\\\\n",
       "1 & 4 & 16 & 64 & 256 \\\\\n",
       "1 & 5 & 25 & 125 & 625\n",
       "\\end{array}\\right)\n",
       "\\end{math}"
      ],
      "text/plain": [
       "[  1   1   1   1   1]\n",
       "[  1   2   4   8  16]\n",
       "[  1   3   9  27  81]\n",
       "[  1   4  16  64 256]\n",
       "[  1   5  25 125 625]"
      ]
     },
     "metadata": {},
     "output_type": "display_data"
    }
   ],
   "source": [
    "x=var('x')\n",
    "\n",
    "## f(1)=[1,1,1,1,1]\n",
    "## f(x)=[1,2,3,4,5]\n",
    "## f(x²)=[1,4,9,16,25]\n",
    "## f(x^3)=[1,8,27,64,125]\n",
    "## f(x^4)=[1,16,81,256,625]\n",
    "\n",
    "A=matrix([[1,1,1,1,1],[1,2,4,8,16],[1,3,9,27,81],[1,4,16,64,256],[1,5,25,125,625]])\n",
    "print(\"Matrice A représentant f\")\n",
    "show(A)\n"
   ]
  },
  {
   "cell_type": "markdown",
   "metadata": {},
   "source": [
    "<p>b) V&eacute;rifier la validit&eacute; de votre matrice $A$ de la question pr&eacute;c&eacute;dente en l'utilisant pour calculer $f(Q)$ et $f(R)$ avec $Q(X) = X^3 - X + 1$ et $R(X) = 2X^4 - 1$ (et v&eacute;rifiez que vous obtenez bien les bonnes r&eacute;ponses !).</p>"
   ]
  },
  {
   "cell_type": "code",
   "execution_count": 12,
   "metadata": {},
   "outputs": [
    {
     "name": "stdout",
     "output_type": "stream",
     "text": [
      "f(Q)\n"
     ]
    },
    {
     "data": {
      "text/html": [
       "<html><script type=\"math/tex; mode=display\">\\newcommand{\\Bold}[1]{\\mathbf{#1}}\\left(1,\\,7,\\,25,\\,61,\\,121\\right)</script></html>"
      ],
      "text/latex": [
       "\\begin{math}\n",
       "\\newcommand{\\Bold}[1]{\\mathbf{#1}}\\left(1,\\,7,\\,25,\\,61,\\,121\\right)\n",
       "\\end{math}"
      ],
      "text/plain": [
       "(1, 7, 25, 61, 121)"
      ]
     },
     "metadata": {},
     "output_type": "display_data"
    },
    {
     "name": "stdout",
     "output_type": "stream",
     "text": [
      "f(R)\n"
     ]
    },
    {
     "data": {
      "text/html": [
       "<html><script type=\"math/tex; mode=display\">\\newcommand{\\Bold}[1]{\\mathbf{#1}}\\left(1,\\,31,\\,161,\\,511,\\,1249\\right)</script></html>"
      ],
      "text/latex": [
       "\\begin{math}\n",
       "\\newcommand{\\Bold}[1]{\\mathbf{#1}}\\left(1,\\,31,\\,161,\\,511,\\,1249\\right)\n",
       "\\end{math}"
      ],
      "text/plain": [
       "(1, 31, 161, 511, 1249)"
      ]
     },
     "metadata": {},
     "output_type": "display_data"
    },
    {
     "name": "stdout",
     "output_type": "stream",
     "text": [
      "Q( 1 ) =  1\n",
      "Q( 2 ) =  7\n",
      "Q( 3 ) =  25\n",
      "Q( 4 ) =  61\n",
      "Q( 5 ) =  121\n",
      "R( 1 ) =  1\n",
      "R( 2 ) =  31\n",
      "R( 3 ) =  161\n",
      "R( 4 ) =  511\n",
      "R( 5 ) =  1249\n"
     ]
    }
   ],
   "source": [
    "Q=vector([1,-1,0,1,0])\n",
    "R=vector([-1,0,0,0,2])\n",
    "\n",
    "print(\"f(Q)\")\n",
    "show(A*Q)\n",
    "print(\"f(R)\")\n",
    "show(A*R)\n",
    "\n",
    "## Vérification\n",
    "x=var('x')\n",
    "polyQ=x**3-x+1\n",
    "polyR=2*x**4-1\n",
    "\n",
    "for i in range (1,6):\n",
    "    temp=polyQ(i)\n",
    "    print(\"Q(\",i,\") = \",temp)\n",
    "for j in range (1,6):\n",
    "    temp=polyR(j)\n",
    "    print(\"R(\",j,\") = \",temp)\n",
    "    \n",
    "## Les matrices obtenues sont donc bonnes"
   ]
  },
  {
   "cell_type": "markdown",
   "metadata": {},
   "source": [
    "<p>c) Pour revenir &agrave; la question initiale: convainquez-vous que $f$ est bijective en remarquant que $A$ est inversible, et d&eacute;terminez $f^{-1}(4,-1,2,3,1)$ en utilisant $A^{-1}$.</p>"
   ]
  },
  {
   "cell_type": "code",
   "execution_count": 17,
   "metadata": {},
   "outputs": [
    {
     "name": "stdout",
     "output_type": "stream",
     "text": [
      "A est inversible !\n",
      "f⁻¹(4, -1, 2, 3, 1) =\n"
     ]
    },
    {
     "data": {
      "text/html": [
       "<html><script type=\"math/tex; mode=display\">\\newcommand{\\Bold}[1]{\\mathbf{#1}}\\left(36,\\,-\\frac{649}{12},\\,\\frac{217}{8},\\,-\\frac{65}{12},\\,\\frac{3}{8}\\right)</script></html>"
      ],
      "text/latex": [
       "\\begin{math}\n",
       "\\newcommand{\\Bold}[1]{\\mathbf{#1}}\\left(36,\\,-\\frac{649}{12},\\,\\frac{217}{8},\\,-\\frac{65}{12},\\,\\frac{3}{8}\\right)\n",
       "\\end{math}"
      ],
      "text/plain": [
       "(36, -649/12, 217/8, -65/12, 3/8)"
      ]
     },
     "metadata": {},
     "output_type": "display_data"
    }
   ],
   "source": [
    "if A.det() != 0:\n",
    "    print(\"A est inversible !\")\n",
    "    Ainv = ~A\n",
    "    X = vector([4, -1, 2, 3, 1])\n",
    "    print(\"f⁻¹(4, -1, 2, 3, 1) =\")\n",
    "    show(Ainv*X)\n",
    "else:\n",
    "    print(\"A n'est pas inversible...\")"
   ]
  },
  {
   "cell_type": "markdown",
   "metadata": {},
   "source": [
    "<p>d) Repr&eacute;senter sur une m&ecirc;me figure: le graphe du polyn&ocirc;me $P$ obtenu &agrave; la question pr&eacute;c&eacute;dente ainsi que les $5$ points $(1,4), (2,-1), (3,2), (4,3), (5, 1)$ pour v&eacute;rifier que $P$ passe bien par ceux-ci.</p>"
   ]
  },
  {
   "cell_type": "code",
   "execution_count": 34,
   "metadata": {},
   "outputs": [
    {
     "name": "stdout",
     "output_type": "stream",
     "text": [
      "P( 1 ) = 4\n",
      "P( 2 ) = -1\n",
      "P( 3 ) = 2\n",
      "P( 4 ) = 3\n",
      "P( 5 ) = 1\n",
      "Graphique :\n"
     ]
    },
    {
     "data": {
      "image/png": "[encoded data removed]",
      "text/plain": [
       "Graphics object consisting of 6 graphics primitives"
      ]
     },
     "metadata": {},
     "output_type": "display_data"
    }
   ],
   "source": [
    "## On a donc P=(3/8)x**4-(65/12)x**3+(217/8)x**2-(649/12)x+36\n",
    "x=var('x')\n",
    "P=(3/8)*x**4-(65/12)*x**3+(217/8)*x**2-(649/12)*x+36\n",
    "\n",
    "for i in range (1,6):\n",
    "    temp=P(i)\n",
    "    print(\"P(\",i,\") =\",temp)\n",
    "    \n",
    "print(\"Graphique :\")\n",
    "P1 = point((1,4),color='red')\n",
    "P2 = point((2,-1),color='red')\n",
    "P3 = point((3,2),color='red')\n",
    "P4 = point((4,3),color='red')\n",
    "P5 = point((5,1),color='red')\n",
    "show(plot(P,(x,0,7),color='green')+P1+P2+P3+P4+P5)"
   ]
  },
  {
   "cell_type": "code",
   "execution_count": null,
   "metadata": {},
   "outputs": [],
   "source": []
  },
  {
   "cell_type": "code",
   "execution_count": 2,
   "metadata": {},
   "outputs": [],
   "source": []
  },
  {
   "cell_type": "markdown",
   "metadata": {},
   "source": [
    "<p>EXERCICE 2: (Interpolation d'Hermite)</p>\n",
    "<p>Encore un probl&egrave;me o&ugrave; on cherche un polyn&ocirc;me: on cherche cette fois-ci un polyn&ocirc;me $P$ de degr&eacute; $\\leq 3$ pour lequel</p>\n",
    "<p>$$ P(0) = 1, \\ P'(0) = -2, \\ P(1) = 4, \\ P'(1) = 2. $$</p>\n",
    "<p>a) Donner une repr&eacute;sentation matricielle de l'application $P \\mapsto (P(0), P'(0), P(1), P'(1))$.</p>"
   ]
  },
  {
   "cell_type": "code",
   "execution_count": 1,
   "metadata": {},
   "outputs": [
    {
     "name": "stdout",
     "output_type": "stream",
     "text": [
      "Matrice A représentant P\n"
     ]
    },
    {
     "data": {
      "text/html": [
       "<html><script type=\"math/tex; mode=display\">\\newcommand{\\Bold}[1]{\\mathbf{#1}}\\left(\\begin{array}{rrrr}\n",
       "1 & 0 & 0 & 0 \\\\\n",
       "0 & 1 & 0 & 0 \\\\\n",
       "1 & 1 & 1 & 1 \\\\\n",
       "0 & 1 & 2 & 3\n",
       "\\end{array}\\right)</script></html>"
      ],
      "text/latex": [
       "\\begin{math}\n",
       "\\newcommand{\\Bold}[1]{\\mathbf{#1}}\\left(\\begin{array}{rrrr}\n",
       "1 & 0 & 0 & 0 \\\\\n",
       "0 & 1 & 0 & 0 \\\\\n",
       "1 & 1 & 1 & 1 \\\\\n",
       "0 & 1 & 2 & 3\n",
       "\\end{array}\\right)\n",
       "\\end{math}"
      ],
      "text/plain": [
       "[1 0 0 0]\n",
       "[0 1 0 0]\n",
       "[1 1 1 1]\n",
       "[0 1 2 3]"
      ]
     },
     "metadata": {},
     "output_type": "display_data"
    }
   ],
   "source": [
    "## P(1)=[1,0,1,0]\n",
    "## P(x)=[0,1,1,1]\n",
    "## P(x²)=[0,0,1,2]\n",
    "## P(x^3)=[0,0,1,3]\n",
    "\n",
    "A = matrix([\n",
    "    [1, 0, 0, 0],\n",
    "    [0, 1, 0, 0],\n",
    "    [1, 1, 1, 1],\n",
    "    [0, 1, 2, 3],\n",
    "])\n",
    "\n",
    "print(\"Matrice A représentant P\")\n",
    "show(A)"
   ]
  },
  {
   "cell_type": "markdown",
   "metadata": {},
   "source": [
    "<p>b) V&eacute;rifier que votre repr&eacute;sentation matricielle fonctionne bien en l'utilisant pour calculer l'image de $Q(X) = X^3 + X^2 - X + 1$ et $R(X) = X^2 + 3 X$.</p>"
   ]
  },
  {
   "cell_type": "code",
   "execution_count": 44,
   "metadata": {},
   "outputs": [
    {
     "name": "stdout",
     "output_type": "stream",
     "text": [
      "P(Q)\n"
     ]
    },
    {
     "data": {
      "text/html": [
       "<html><script type=\"math/tex; mode=display\">\\newcommand{\\Bold}[1]{\\mathbf{#1}}\\left(1,\\,-1,\\,2,\\,4\\right)</script></html>"
      ],
      "text/latex": [
       "\\begin{math}\n",
       "\\newcommand{\\Bold}[1]{\\mathbf{#1}}\\left(1,\\,-1,\\,2,\\,4\\right)\n",
       "\\end{math}"
      ],
      "text/plain": [
       "(1, -1, 2, 4)"
      ]
     },
     "metadata": {},
     "output_type": "display_data"
    },
    {
     "name": "stdout",
     "output_type": "stream",
     "text": [
      "P(R)\n"
     ]
    },
    {
     "data": {
      "text/html": [
       "<html><script type=\"math/tex; mode=display\">\\newcommand{\\Bold}[1]{\\mathbf{#1}}\\left(0,\\,3,\\,4,\\,5\\right)</script></html>"
      ],
      "text/latex": [
       "\\begin{math}\n",
       "\\newcommand{\\Bold}[1]{\\mathbf{#1}}\\left(0,\\,3,\\,4,\\,5\\right)\n",
       "\\end{math}"
      ],
      "text/plain": [
       "(0, 3, 4, 5)"
      ]
     },
     "metadata": {},
     "output_type": "display_data"
    },
    {
     "name": "stdout",
     "output_type": "stream",
     "text": [
      "Q(0)= 1\n",
      "Q'(0)= -1\n",
      "Q(1)= 2\n",
      "Q'(1)= 4\n",
      "R(0)= 0\n",
      "R'(0)= 3\n",
      "R(1)= 4\n",
      "R'(1)= 5\n"
     ]
    }
   ],
   "source": [
    "Q=vector([1,-1,1,1])\n",
    "R=vector([0,3,1,0])\n",
    "\n",
    "print(\"P(Q)\")\n",
    "show(A*Q)\n",
    "print(\"P(R)\")\n",
    "show(A*R)\n",
    "\n",
    "## Vérification\n",
    "x=var('x')\n",
    "polyQ=x**3+x**2-x+1\n",
    "polyR=x**2+3*x\n",
    "derivQ=3*x**2+2*x-1\n",
    "derivR=2*x+3\n",
    "\n",
    "print(\"Q(0)=\",polyQ(0))\n",
    "print(\"Q'(0)=\",derivQ(0))\n",
    "print(\"Q(1)=\",polyQ(1))\n",
    "print(\"Q'(1)=\",derivQ(1))\n",
    "\n",
    "print(\"R(0)=\",polyR(0))\n",
    "print(\"R'(0)=\",derivR(0))\n",
    "print(\"R(1)=\",polyR(1))\n",
    "print(\"R'(1)=\",derivR(1))\n",
    "    \n",
    "## Les matrices obtenues sont donc bonnes"
   ]
  },
  {
   "cell_type": "markdown",
   "metadata": {},
   "source": [
    "\n",
    "\n"
   ]
  },
  {
   "cell_type": "markdown",
   "metadata": {},
   "source": [
    "<p>c) Montrer qu'il existe un unique polyn&ocirc;me de degr&eacute; inf&eacute;rieur ou &eacute;gal $3$ satisfaisant les conditions impos&eacute;es et d&eacute;terminez-le.</p>"
   ]
  },
  {
   "cell_type": "code",
   "execution_count": 46,
   "metadata": {
    "scrolled": true
   },
   "outputs": [
    {
     "name": "stdout",
     "output_type": "stream",
     "text": [
      "A est inversible !\n",
      "f⁻¹(1, -2, 4, 2) =\n"
     ]
    },
    {
     "data": {
      "text/html": [
       "<html><script type=\"math/tex; mode=display\">\\newcommand{\\Bold}[1]{\\mathbf{#1}}\\left(1,\\,-2,\\,11,\\,-6\\right)</script></html>"
      ],
      "text/latex": [
       "\\begin{math}\n",
       "\\newcommand{\\Bold}[1]{\\mathbf{#1}}\\left(1,\\,-2,\\,11,\\,-6\\right)\n",
       "\\end{math}"
      ],
      "text/plain": [
       "(1, -2, 11, -6)"
      ]
     },
     "metadata": {},
     "output_type": "display_data"
    }
   ],
   "source": [
    "if A.det() != 0:\n",
    "    print(\"A est inversible !\")\n",
    "    Ainv = ~A\n",
    "    X = vector([1,-2,4,2])\n",
    "    print(\"f⁻¹(1, -2, 4, 2) =\")\n",
    "    show(Ainv*X)\n",
    "else:\n",
    "    print(\"A n'est pas inversible...\")"
   ]
  },
  {
   "cell_type": "markdown",
   "metadata": {},
   "source": [
    "<p>d) Repr&eacute;sentez, sur une m&ecirc;me figure, le graphe du polyn&ocirc;me trouv&eacute; &agrave; la question pr&eacute;c&eacute;dente, les points $(0,1)$ et $(1,4)$ ainsi que ses tangentes en $x = 0$ et $x = 1$ pour v&eacute;rifier la coh&eacute;rence de votre r&eacute;ponse.</p>"
   ]
  },
  {
   "cell_type": "code",
   "execution_count": 7,
   "metadata": {},
   "outputs": [
    {
     "name": "stdout",
     "output_type": "stream",
     "text": [
      "P( 0 ) = 1\n",
      "P( 1 ) = 4\n",
      "Graphique :\n"
     ]
    },
    {
     "name": "stderr",
     "output_type": "stream",
     "text": [
      "/opt/sagemath-9.2/local/lib/python3.7/site-packages/sage/repl/ipython_kernel/__main__.py:14: DeprecationWarning: Substitution using function-call syntax and unnamed arguments is deprecated and will be removed from a future release of Sage; you can use named arguments instead, like EXPR(x=..., y=...)\n",
      "See http://trac.sagemath.org/5930 for details.\n"
     ]
    },
    {
     "data": {
      "image/png": "[encoded data removed]",
      "text/plain": [
       "Graphics object consisting of 5 graphics primitives"
      ]
     },
     "metadata": {},
     "output_type": "display_data"
    }
   ],
   "source": [
    "## On a donc P=-6x**3+11x**2-2x+1\n",
    "x=var('x')\n",
    "P=-6*x**3+11*x**2-2*x+1\n",
    "derivP=-6*3*x**2+11*2*x-2\n",
    "for i in range (0,2):\n",
    "    temp=P(i)\n",
    "    print(\"P(\",i,\") =\",temp)\n",
    "    \n",
    "print(\"Graphique :\")\n",
    "P1 = point((0,1),color='red')\n",
    "P2 = point((1,4),color='red')\n",
    "\n",
    "def tan(a,f,derivf): ## Tangente fonction\n",
    "    return derivf(a)*(x-a)+f(a)\n",
    "\n",
    "show(plot(P,(x,0,3),color='green')+P1+P2+plot(tan(0,P,derivP),(x,0,3),color='blue')+plot(tan(1,P,derivP),(x,0,3),color='blue'))\n",
    "\n",
    "##Cohérents avec les P' (coefficient directeur de la tangente)\n"
   ]
  },
  {
   "cell_type": "code",
   "execution_count": null,
   "metadata": {},
   "outputs": [],
   "source": []
  },
  {
   "cell_type": "code",
   "execution_count": null,
   "metadata": {},
   "outputs": [],
   "source": []
  },
  {
   "cell_type": "code",
   "execution_count": null,
   "metadata": {},
   "outputs": [],
   "source": [
    "\n"
   ]
  },
  {
   "cell_type": "markdown",
   "metadata": {},
   "source": [
    "\n"
   ]
  },
  {
   "cell_type": "code",
   "execution_count": null,
   "metadata": {},
   "outputs": [],
   "source": []
  },
  {
   "cell_type": "code",
   "execution_count": null,
   "metadata": {},
   "outputs": [],
   "source": [
    "\n"
   ]
  },
  {
   "cell_type": "code",
   "execution_count": null,
   "metadata": {},
   "outputs": [],
   "source": [
    "\n"
   ]
  },
  {
   "cell_type": "code",
   "execution_count": null,
   "metadata": {},
   "outputs": [],
   "source": []
  },
  {
   "cell_type": "code",
   "execution_count": null,
   "metadata": {},
   "outputs": [],
   "source": []
  },
  {
   "cell_type": "code",
   "execution_count": null,
   "metadata": {},
   "outputs": [],
   "source": []
  },
  {
   "cell_type": "code",
   "execution_count": null,
   "metadata": {},
   "outputs": [],
   "source": []
  },
  {
   "cell_type": "code",
   "execution_count": null,
   "metadata": {},
   "outputs": [],
   "source": []
  },
  {
   "cell_type": "code",
   "execution_count": null,
   "metadata": {},
   "outputs": [],
   "source": []
  },
  {
   "cell_type": "code",
   "execution_count": null,
   "metadata": {},
   "outputs": [],
   "source": []
  },
  {
   "cell_type": "code",
   "execution_count": null,
   "metadata": {},
   "outputs": [],
   "source": []
  },
  {
   "cell_type": "code",
   "execution_count": null,
   "metadata": {},
   "outputs": [],
   "source": []
  },
  {
   "cell_type": "code",
   "execution_count": null,
   "metadata": {},
   "outputs": [],
   "source": []
  },
  {
   "cell_type": "code",
   "execution_count": null,
   "metadata": {},
   "outputs": [],
   "source": []
  },
  {
   "cell_type": "code",
   "execution_count": null,
   "metadata": {},
   "outputs": [],
   "source": []
  },
  {
   "cell_type": "code",
   "execution_count": null,
   "metadata": {},
   "outputs": [],
   "source": []
  },
  {
   "cell_type": "code",
   "execution_count": null,
   "metadata": {},
   "outputs": [],
   "source": []
  },
  {
   "cell_type": "code",
   "execution_count": null,
   "metadata": {},
   "outputs": [],
   "source": []
  },
  {
   "cell_type": "code",
   "execution_count": null,
   "metadata": {},
   "outputs": [],
   "source": []
  }
 ],
 "metadata": {
  "kernelspec": {
   "display_name": "SageMath 9.2",
   "language": "sage",
   "name": "sagemath"
  },
  "language_info": {
   "codemirror_mode": {
    "name": "ipython",
    "version": 3
   },
   "file_extension": ".py",
   "mimetype": "text/x-python",
   "name": "python",
   "nbconvert_exporter": "python",
   "pygments_lexer": "ipython3",
   "version": "3.9.3"
  }
 },
 "nbformat": 4,
 "nbformat_minor": 2
}
