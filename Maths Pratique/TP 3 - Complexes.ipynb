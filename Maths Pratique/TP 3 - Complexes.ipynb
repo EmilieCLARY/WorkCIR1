{
 "cells": [
  {
   "cell_type": "markdown",
   "metadata": {},
   "source": [
    "<p><span style=\"font-size: large; background-color: #ffffff; color: #000000;\"><strong>Consignes :</strong></span></p>\n",
    "<ul>\n",
    "<li><span style=\"font-size: large; background-color: #ffffff; color: #000000;\"><strong><strong>Renommer ce fichier en ordre alphab&eacute;tique <span style=\"color: #ff0000;\">Ti-nom1-nom2-TP3</span> avec i le numéro de votre groupe de TP</strong></strong></span></li>\n",
    "<li><span style=\"font-size: large; background-color: #ffffff; color: #000000;\"><strong><strong><strong>TP &agrave; rendre sur Teams&nbsp;<span><span style=\"color: #ff0000;\">&agrave; la fin de la s&eacute;ance</span>.</span>&nbsp;</strong></strong></strong></span></li>\n",
    "<li><span style=\"font-size: large; background-color: #ffffff; color: #000000;\"><strong>TP &agrave; faire en groupe de 2. Le groupe de travail sera le m&ecirc;me pour toute l'ann&eacute;e.</strong></span></li>\n",
    "<li><span style=\"font-size: large; background-color: #ffffff; color: #ff0000;\"><span style=\"color: #000000;\"><strong>&Agrave; compl&eacute;ter :</strong></span></span></li>\n",
    "</ul>\n",
    "<p><span style=\"font-size: large; background-color: #ffffff; color: #ff0000;\"><strong>NOM PRENOM 1 : CLARY Emilie<br /></strong></span></p>\n",
    "<p><span style=\"font-size: large; background-color: #ffffff; color: #ff0000;\"><strong>NOM PRENOM 2 : VAN BOXEM Rémi </strong></span></p>\n",
    "<p>&nbsp;</p>\n",
    "<strong>TP 3 : Nombres complexes<br /></strong></span></span></p>\n",
    "<p>Avec Sage nous pouvons faire des calculs avec les nombres complexes.</p>\n",
    "<p>Le symbole <code class=\"docutils literal\"><span class=\"pre\">I</span></code> repr&eacute;sente la racine carr&eacute;e de<code class=\"docutils literal\"><span class=\"pre\"> -1.</span></code> La notation habituelle <code class=\"docutils literal\"><span class=\"pre\">i</span></code> est synonyme de <code class=\"docutils literal\"><span class=\"pre\">I</span></code>. <strong></strong></p>\n",
    "<p><code class=\"docutils literal\"><span class=\"pre\">I</span></code> n&rsquo;appartient pas aux rationnels :</p>"
   ]
  },
  {
   "cell_type": "code",
   "execution_count": 1,
   "metadata": {},
   "outputs": [
    {
     "data": {
      "text/plain": [
       "I"
      ]
     },
     "execution_count": 1,
     "metadata": {},
     "output_type": "execute_result"
    }
   ],
   "source": [
    "I"
   ]
  },
  {
   "cell_type": "code",
   "execution_count": 2,
   "metadata": {},
   "outputs": [
    {
     "data": {
      "text/plain": [
       "I"
      ]
     },
     "execution_count": 2,
     "metadata": {},
     "output_type": "execute_result"
    }
   ],
   "source": [
    "i"
   ]
  },
  {
   "cell_type": "code",
   "execution_count": 1,
   "metadata": {},
   "outputs": [
    {
     "data": {
      "text/plain": [
       "-1"
      ]
     },
     "execution_count": 1,
     "metadata": {},
     "output_type": "execute_result"
    }
   ],
   "source": [
    "i^2"
   ]
  },
  {
   "cell_type": "code",
   "execution_count": 4,
   "metadata": {},
   "outputs": [
    {
     "data": {
      "text/plain": [
       "-1"
      ]
     },
     "execution_count": 4,
     "metadata": {},
     "output_type": "execute_result"
    }
   ],
   "source": [
    "i^2"
   ]
  },
  {
   "cell_type": "code",
   "execution_count": 2,
   "metadata": {},
   "outputs": [
    {
     "data": {
      "text/plain": [
       "False"
      ]
     },
     "execution_count": 2,
     "metadata": {},
     "output_type": "execute_result"
    }
   ],
   "source": [
    "I in QQ"
   ]
  },
  {
   "cell_type": "markdown",
   "metadata": {},
   "source": [
    "Le nombre décimal 1.2 est considéré comme un élément de QQ :"
   ]
  },
  {
   "cell_type": "code",
   "execution_count": 3,
   "metadata": {},
   "outputs": [
    {
     "data": {
      "text/plain": [
       "True"
      ]
     },
     "execution_count": 3,
     "metadata": {},
     "output_type": "execute_result"
    }
   ],
   "source": [
    "1.2 in QQ"
   ]
  },
  {
   "cell_type": "markdown",
   "metadata": {},
   "source": [
    "<p>On peut calculer la partie r&eacute;elle (par la commande <strong><span style=\"font-family: courier new,courier;\">real_part</span></strong>), la partie imaginaire (<strong><span style=\"font-family: courier new,courier;\">imag_part</span></strong>), le module (<strong><span style=\"font-family: courier new,courier;\">abs</span></strong>) et l'argument (<strong><span style=\"font-family: courier new,courier;\">arg</span></strong>) d'un nombre complexe $z=ai+b$.</p>"
   ]
  },
  {
   "cell_type": "code",
   "execution_count": 5,
   "metadata": {},
   "outputs": [
    {
     "name": "stdout",
     "output_type": "stream",
     "text": [
      "1 -1 sqrt(2) -1/4*pi\n"
     ]
    }
   ],
   "source": [
    "z=1-I\n",
    "print real_part(z), imag_part(z), abs(z), arg(z)"
   ]
  },
  {
   "cell_type": "code",
   "execution_count": 8,
   "metadata": {},
   "outputs": [
    {
     "data": {
      "text/html": [
       "<html><script type=\"math/tex; mode=display\">\\newcommand{\\Bold}[1]{\\mathbf{#1}}\\sqrt{2}</script></html>"
      ],
      "text/plain": [
       "sqrt(2)"
      ]
     },
     "metadata": {},
     "output_type": "display_data"
    }
   ],
   "source": [
    "show(abs(z))"
   ]
  },
  {
   "cell_type": "markdown",
   "metadata": {},
   "source": [
    "<p><span style=\"text-decoration: underline;\"><strong>EXERCICE 1</strong></span></p>\n",
    "<p>Calculer et afficher la partie re&eacute;lle, imaginaire, le module et l'argument de $z^0,z^1,z^2\\ldots z^{10}$ avec $z=1+2I$.<span style=\"text-decoration: underline;\"><strong><br /></strong></span></p>"
   ]
  },
  {
   "cell_type": "code",
   "execution_count": 3,
   "metadata": {},
   "outputs": [
    {
     "name": "stdout",
     "output_type": "stream",
     "text": [
      "1 0 1 0\n",
      "1 2 sqrt(5) arctan(2)\n",
      "-3 4 5 pi - arctan(4/3)\n",
      "-11 -2 5*sqrt(5) -pi + arctan(2/11)\n",
      "-7 -24 25 -pi + arctan(24/7)\n",
      "41 -38 25*sqrt(5) -arctan(38/41)\n",
      "117 44 125 arctan(44/117)\n",
      "29 278 125*sqrt(5) arctan(278/29)\n",
      "-527 336 625 pi - arctan(336/527)\n",
      "-1199 -718 625*sqrt(5) -pi + arctan(718/1199)\n"
     ]
    }
   ],
   "source": [
    "for i in range (0, 10) :\n",
    "\n",
    "    z=(1+2*I)^i\n",
    "    print(real_part(z), imag_part(z), abs(z), arg(z))\n"
   ]
  },
  {
   "cell_type": "markdown",
   "metadata": {},
   "source": [
    "<p>Sage peut trouver les solutions d'une &eacute;quation.</p>\n",
    "<p>La fonction <strong><code class=\"docutils literal\"><span class=\"pre\">solve</span></code></strong> r&eacute;sout des &eacute;quations. Pour l&rsquo;utiliser, il convient de sp&eacute;cifier d&rsquo;abord les variables.</p>\n",
    "<p>Les arguments de <span style=\"font-family: courier new,courier;\"><strong><code class=\"docutils literal\"><span class=\"pre\">solve</span></code></strong></span> sont alors une &eacute;quation suivie de la ou des variables &agrave; calculer.</p>"
   ]
  },
  {
   "cell_type": "code",
   "execution_count": 10,
   "metadata": {},
   "outputs": [
    {
     "data": {
      "text/plain": [
       "[x == -1, x == 1]"
      ]
     },
     "execution_count": 10,
     "metadata": {},
     "output_type": "execute_result"
    }
   ],
   "source": [
    "x = var('x')\n",
    "solve(x^2-1,x)"
   ]
  },
  {
   "cell_type": "markdown",
   "metadata": {},
   "source": [
    "<p><strong><span style=\"text-decoration: underline;\">EXERCICE 2</span></strong></p>\n",
    "<p>R&eacute;soudre les &eacute;quations suivantes :<br /><br /></p>\n",
    "<ol>\n",
    "<li>$z^2+2z+6=0$</li>\n",
    "<li>$2z^2-(1+3\\mathrm{i})z+2(-1+\\mathrm{i})=0$</li>\n",
    "<li>$z^3-(14+\\mathrm{i})z^2+(58+14\\mathrm{i})z-58\\mathrm{i}=0$</li>\n",
    "</ol>"
   ]
  },
  {
   "cell_type": "code",
   "execution_count": 28,
   "metadata": {},
   "outputs": [
    {
     "name": "stdout",
     "output_type": "stream",
     "text": [
      "[\n",
      "z == -I*sqrt(5) - 1,\n",
      "z == I*sqrt(5) - 1\n",
      "]\n",
      "[\n",
      "z == -1/4*sqrt(-10*I + 8) + 3/4*I + 1/4,\n",
      "z == 1/4*sqrt(-10*I + 8) + 3/4*I + 1/4\n",
      "]\n",
      "[\n",
      "z == I,\n",
      "z == (-3*I + 7),\n",
      "z == (3*I + 7)\n",
      "]\n"
     ]
    }
   ],
   "source": [
    "z=var('z')\n",
    "print(solve(z^2+2*z+6,z))\n",
    "print(solve(2*(z)^(2)-(1+3*I)*z + 2*(-1+I),z))\n",
    "print(solve(z^3-(14+I)*z^2 + (58+14*I)*z - 58*I,z))"
   ]
  },
  {
   "cell_type": "markdown",
   "metadata": {},
   "source": [
    "<p><strong><span style=\"text-decoration: underline;\">EXERCICE 3</span> :</strong></p>\n",
    "<p>Soient&nbsp; $f_1$, $f_2$ et $f_3$ trois transformations du plan complexe d&eacute;finies par :</p>\n",
    "<ol style=\"list-style-type: lower-alpha;\">\n",
    "<li>$f_1(z)=\\frac{1}{3}z+\\frac{1}{3}\\mathrm{i}$&nbsp;</li>\n",
    "<li>$f_2(z)=2\\mathrm{i}z+1-\\mathrm{i}$</li>\n",
    "<li>$f_3(z)=(2-\\mathrm{i}) \\overline{z}-\\frac{3}{2}$</li>\n",
    "</ol>\n",
    "<p> et $A$, $B$, $C$ des points d'affixes respectives</p>\n",
    "<ul>\n",
    "<li>$z_A = 0 $</li>\n",
    "<li>$z_B = 1+\\mathrm{i}$</li>\n",
    "<li>$z_C = -\\frac{3}{2}+\\frac{2}{3}\\mathrm{i}$</li>\n",
    "</ul>\n",
    "<p>Repr&eacute;senter graphiquement les points $A$, $B$, $C$ et les images respectives par la fonction $f_1$</p>\n",
    "<p>&nbsp;</p>\n",
    "<p>SUGGESTIONS :</p>\n",
    "<ul>\n",
    "<li>Utiliser la commande <span style=\"font-family: courier new,courier;\"><strong>point</strong></span></li>\n",
    "<li><span style=\"font-family: courier new,courier;\"><span style=\"font-family: courier new,courier;\"><span id=\"cell_outer_16\"><span style=\"font-family: arial,helvetica,sans-serif;\">Si vous voulez ajouter du texte sur le graphe, utiliser la commande<strong><span style=\"font-family: courier new,courier;\"> text</span></strong></span></span></span></span></li>\n",
    "<li>On <span style=\"font-family: courier new,courier;\"><span id=\"cell_outer_16\"><span style=\"font-family: arial,helvetica,sans-serif;\">peut dessiner sur un seul graphe plusieurs fonctions ou du texte avec le symbole <strong>+</strong> <br /></span></span></span></li>\n",
    "</ul>\n",
    "<p><span style=\"font-family: courier new,courier;\"><span id=\"cell_outer_16\"><span style=\"font-family: arial,helvetica,sans-serif;\">&nbsp;&nbsp;&nbsp;&nbsp;&nbsp;&nbsp;&nbsp;&nbsp;&nbsp;&nbsp;&nbsp;&nbsp;&nbsp; Exemple : <strong><span style=\"font-family: courier new,courier;\">point((2,3)) + text( \"(2,3)\", (2.1,3.1), xmin = 2, xmax = 3.5, ymin = 2, ymax = 3.5) </span></strong></span></span></span></p>"
   ]
  },
  {
   "cell_type": "code",
   "execution_count": 23,
   "metadata": {},
   "outputs": [
    {
     "data": {
      "image/png": "[encoded data removed]",
      "text/plain": [
       "Graphics object consisting of 6 graphics primitives"
      ]
     },
     "execution_count": 23,
     "metadata": {},
     "output_type": "execute_result"
    }
   ],
   "source": [
    " point((0,1/3)) + text( \"(A)\", (0.15,1/3), xmin = -2, xmax = 2, ymin = -2, ymax = 2) + point((1/3,2/3)) + text( \"(B)\", (0.75,0.5)) + point((-1/2,5/9)) + text( \"(C)\", (-1,(5/9)))"
   ]
  },
  {
   "cell_type": "markdown",
   "metadata": {},
   "source": [
    "<p><strong><span style=\"text-decoration: underline;\">EXERCICE 4</span> :</strong></p>\n",
    "<ol style=\"list-style-type: lower-alpha;\">\n",
    "<li>Utiliser la fonction ci-dessous (<strong>sim</strong>) pour repr&eacute;senter graphiquement le polygone d&eacute;fini par $A$, $B$, $C$ de l'exercice pr&eacute;c&eacute;dent et les images respectives par les trois fonctions $f_1$, $f_2$ et $f_3$.</li>\n",
    "<li>Exp&eacute;rimenter l'utilisation de la fonction <strong>sim</strong> sur le polygone ABC et sur un autre exemple &agrave; choisir.</li>\n",
    "</ol>"
   ]
  },
  {
   "cell_type": "code",
   "execution_count": 12,
   "metadata": {
    "collapsed": true
   },
   "outputs": [],
   "source": [
    "#Definition de la fonction similitude\n",
    "#Entree : liste de points, paramètres de la similitude (z'=az+b) a et b, \n",
    "#         nombre de similitudes, si c=1, on calcule la similitude indirecte.\n",
    "t = var('t')\n",
    "def sim(P,a,b,numSim,c):\n",
    "    g = Graphics();\n",
    "    m=matrix(CC, numSim+1,len(P));\n",
    "    for k in range(len(P)):\n",
    "        m[0,k]=P[k];\n",
    "    for k in range(len(P)-1) :\n",
    "        g += line([(real(m[0,k]),imag(m[0,k])) , (real(m[0,k+1]),imag(m[0,k+1]))], color='red', aspect_ratio=1)\n",
    "    if c == 1 :\n",
    "        for k in range(len(P)):\n",
    "            m[0,k]=conjugate(P[k]);  \n",
    "    for n in range(numSim):\n",
    "        for k in range(len(P)):\n",
    "            m[n+1,k]=a*m[n,k]+b;\n",
    "    for n in range(numSim):\n",
    "        for k in range(len(P)-1) :\n",
    "            g += line([(real(m[n+1,k]),imag(m[n+1,k])) , (real(m[n+1,k+1]),imag(m[n+1,k+1]))]) \n",
    "            g.set_aspect_ratio(1)\n",
    "    return g"
   ]
  },
  {
   "cell_type": "code",
   "execution_count": 27,
   "metadata": {},
   "outputs": [
    {
     "ename": "TypeError",
     "evalue": "too many arguments in matrix constructor",
     "output_type": "error",
     "traceback": [
      "\u001b[0;31m---------------------------------------------------------------------------\u001b[0m",
      "\u001b[0;31mTypeError\u001b[0m                                 Traceback (most recent call last)",
      "\u001b[0;32m<ipython-input-27-012d65c3e4a5>\u001b[0m in \u001b[0;36m<module>\u001b[0;34m()\u001b[0m\n\u001b[1;32m     22\u001b[0m \u001b[0;34m\u001b[0m\u001b[0m\n\u001b[1;32m     23\u001b[0m \u001b[0mP\u001b[0m\u001b[0;34m=\u001b[0m\u001b[0;34m[\u001b[0m\u001b[0mInteger\u001b[0m\u001b[0;34m(\u001b[0m\u001b[0;36m0\u001b[0m\u001b[0;34m)\u001b[0m\u001b[0;34m,\u001b[0m\u001b[0;34m(\u001b[0m\u001b[0mInteger\u001b[0m\u001b[0;34m(\u001b[0m\u001b[0;36m1\u001b[0m\u001b[0;34m)\u001b[0m\u001b[0;34m/\u001b[0m\u001b[0mInteger\u001b[0m\u001b[0;34m(\u001b[0m\u001b[0;36m3\u001b[0m\u001b[0;34m)\u001b[0m\u001b[0;34m)\u001b[0m\u001b[0;34m*\u001b[0m\u001b[0mI\u001b[0m\u001b[0;34m,\u001b[0m\u001b[0mInteger\u001b[0m\u001b[0;34m(\u001b[0m\u001b[0;36m1\u001b[0m\u001b[0;34m)\u001b[0m\u001b[0;34m/\u001b[0m\u001b[0mInteger\u001b[0m\u001b[0;34m(\u001b[0m\u001b[0;36m3\u001b[0m\u001b[0;34m)\u001b[0m\u001b[0;34m,\u001b[0m\u001b[0;34m(\u001b[0m\u001b[0mInteger\u001b[0m\u001b[0;34m(\u001b[0m\u001b[0;36m2\u001b[0m\u001b[0;34m)\u001b[0m\u001b[0;34m/\u001b[0m\u001b[0mInteger\u001b[0m\u001b[0;34m(\u001b[0m\u001b[0;36m3\u001b[0m\u001b[0;34m)\u001b[0m\u001b[0;34m)\u001b[0m\u001b[0;34m*\u001b[0m\u001b[0mI\u001b[0m\u001b[0;34m,\u001b[0m\u001b[0;34m(\u001b[0m\u001b[0;34m-\u001b[0m\u001b[0mInteger\u001b[0m\u001b[0;34m(\u001b[0m\u001b[0;36m1\u001b[0m\u001b[0;34m)\u001b[0m\u001b[0;34m/\u001b[0m\u001b[0mInteger\u001b[0m\u001b[0;34m(\u001b[0m\u001b[0;36m2\u001b[0m\u001b[0;34m)\u001b[0m\u001b[0;34m)\u001b[0m\u001b[0;34m,\u001b[0m \u001b[0;34m(\u001b[0m\u001b[0mInteger\u001b[0m\u001b[0;34m(\u001b[0m\u001b[0;36m5\u001b[0m\u001b[0;34m)\u001b[0m\u001b[0;34m/\u001b[0m\u001b[0mInteger\u001b[0m\u001b[0;34m(\u001b[0m\u001b[0;36m9\u001b[0m\u001b[0;34m)\u001b[0m\u001b[0;34m)\u001b[0m\u001b[0;34m*\u001b[0m\u001b[0mI\u001b[0m\u001b[0;34m]\u001b[0m\u001b[0;34m\u001b[0m\u001b[0;34m\u001b[0m\u001b[0m\n\u001b[0;32m---> 24\u001b[0;31m \u001b[0msim\u001b[0m\u001b[0;34m(\u001b[0m\u001b[0mP\u001b[0m\u001b[0;34m,\u001b[0m\u001b[0mI\u001b[0m\u001b[0;34m,\u001b[0m\u001b[0mInteger\u001b[0m\u001b[0;34m(\u001b[0m\u001b[0;36m1\u001b[0m\u001b[0;34m)\u001b[0m\u001b[0;34m/\u001b[0m\u001b[0mInteger\u001b[0m\u001b[0;34m(\u001b[0m\u001b[0;36m3\u001b[0m\u001b[0;34m)\u001b[0m\u001b[0;34m,\u001b[0m\u001b[0mInteger\u001b[0m\u001b[0;34m(\u001b[0m\u001b[0;36m1\u001b[0m\u001b[0;34m)\u001b[0m\u001b[0;34m/\u001b[0m\u001b[0mInteger\u001b[0m\u001b[0;34m(\u001b[0m\u001b[0;36m3\u001b[0m\u001b[0;34m)\u001b[0m\u001b[0;34m,\u001b[0m\u001b[0mInteger\u001b[0m\u001b[0;34m(\u001b[0m\u001b[0;36m0\u001b[0m\u001b[0;34m)\u001b[0m\u001b[0;34m)\u001b[0m\u001b[0;34m\u001b[0m\u001b[0;34m\u001b[0m\u001b[0m\n\u001b[0m\u001b[1;32m     25\u001b[0m \u001b[0;34m\u001b[0m\u001b[0m\n",
      "\u001b[0;32m<ipython-input-27-012d65c3e4a5>\u001b[0m in \u001b[0;36msim\u001b[0;34m(P, a, b, numSim, c)\u001b[0m\n\u001b[1;32m      4\u001b[0m \u001b[0;32mdef\u001b[0m \u001b[0msim\u001b[0m\u001b[0;34m(\u001b[0m\u001b[0mP\u001b[0m\u001b[0;34m,\u001b[0m\u001b[0ma\u001b[0m\u001b[0;34m,\u001b[0m\u001b[0mb\u001b[0m\u001b[0;34m,\u001b[0m\u001b[0mnumSim\u001b[0m\u001b[0;34m,\u001b[0m\u001b[0mc\u001b[0m\u001b[0;34m)\u001b[0m\u001b[0;34m:\u001b[0m\u001b[0;34m\u001b[0m\u001b[0;34m\u001b[0m\u001b[0m\n\u001b[1;32m      5\u001b[0m     \u001b[0mg\u001b[0m \u001b[0;34m=\u001b[0m \u001b[0mGraphics\u001b[0m\u001b[0;34m(\u001b[0m\u001b[0;34m)\u001b[0m\u001b[0;34m;\u001b[0m\u001b[0;34m\u001b[0m\u001b[0;34m\u001b[0m\u001b[0m\n\u001b[0;32m----> 6\u001b[0;31m     \u001b[0mm\u001b[0m\u001b[0;34m=\u001b[0m\u001b[0mmatrix\u001b[0m\u001b[0;34m(\u001b[0m\u001b[0mCC\u001b[0m\u001b[0;34m,\u001b[0m \u001b[0mnumSim\u001b[0m\u001b[0;34m+\u001b[0m\u001b[0mInteger\u001b[0m\u001b[0;34m(\u001b[0m\u001b[0;36m1\u001b[0m\u001b[0;34m)\u001b[0m\u001b[0;34m,\u001b[0m\u001b[0mlen\u001b[0m\u001b[0;34m(\u001b[0m\u001b[0mP\u001b[0m\u001b[0;34m)\u001b[0m\u001b[0;34m)\u001b[0m\u001b[0;34m;\u001b[0m\u001b[0;34m\u001b[0m\u001b[0;34m\u001b[0m\u001b[0m\n\u001b[0m\u001b[1;32m      7\u001b[0m     \u001b[0;32mfor\u001b[0m \u001b[0mk\u001b[0m \u001b[0;32min\u001b[0m \u001b[0mrange\u001b[0m\u001b[0;34m(\u001b[0m\u001b[0mlen\u001b[0m\u001b[0;34m(\u001b[0m\u001b[0mP\u001b[0m\u001b[0;34m)\u001b[0m\u001b[0;34m)\u001b[0m\u001b[0;34m:\u001b[0m\u001b[0;34m\u001b[0m\u001b[0;34m\u001b[0m\u001b[0m\n\u001b[1;32m      8\u001b[0m         \u001b[0mm\u001b[0m\u001b[0;34m[\u001b[0m\u001b[0mInteger\u001b[0m\u001b[0;34m(\u001b[0m\u001b[0;36m0\u001b[0m\u001b[0;34m)\u001b[0m\u001b[0;34m,\u001b[0m\u001b[0mk\u001b[0m\u001b[0;34m]\u001b[0m\u001b[0;34m=\u001b[0m\u001b[0mP\u001b[0m\u001b[0;34m[\u001b[0m\u001b[0mk\u001b[0m\u001b[0;34m]\u001b[0m\u001b[0;34m;\u001b[0m\u001b[0;34m\u001b[0m\u001b[0;34m\u001b[0m\u001b[0m\n",
      "\u001b[0;32m/opt/sagemath-9.1/local/lib/python3.7/site-packages/sage/matrix/constructor.pyx\u001b[0m in \u001b[0;36msage.matrix.constructor.matrix (build/cythonized/sage/matrix/constructor.c:2477)\u001b[0;34m()\u001b[0m\n\u001b[1;32m    634\u001b[0m     \"\"\"\n\u001b[1;32m    635\u001b[0m     \u001b[0mimmutable\u001b[0m \u001b[0;34m=\u001b[0m \u001b[0mkwds\u001b[0m\u001b[0;34m.\u001b[0m\u001b[0mpop\u001b[0m\u001b[0;34m(\u001b[0m\u001b[0;34m'immutable'\u001b[0m\u001b[0;34m,\u001b[0m \u001b[0;32mFalse\u001b[0m\u001b[0;34m)\u001b[0m\u001b[0;34m\u001b[0m\u001b[0;34m\u001b[0m\u001b[0m\n\u001b[0;32m--> 636\u001b[0;31m     \u001b[0mM\u001b[0m \u001b[0;34m=\u001b[0m \u001b[0mMatrixArgs\u001b[0m\u001b[0;34m(\u001b[0m\u001b[0;34m*\u001b[0m\u001b[0margs\u001b[0m\u001b[0;34m,\u001b[0m \u001b[0;34m**\u001b[0m\u001b[0mkwds\u001b[0m\u001b[0;34m)\u001b[0m\u001b[0;34m.\u001b[0m\u001b[0mmatrix\u001b[0m\u001b[0;34m(\u001b[0m\u001b[0;34m)\u001b[0m\u001b[0;34m\u001b[0m\u001b[0;34m\u001b[0m\u001b[0m\n\u001b[0m\u001b[1;32m    637\u001b[0m     \u001b[0;32mif\u001b[0m \u001b[0mimmutable\u001b[0m\u001b[0;34m:\u001b[0m\u001b[0;34m\u001b[0m\u001b[0;34m\u001b[0m\u001b[0m\n\u001b[1;32m    638\u001b[0m         \u001b[0mM\u001b[0m\u001b[0;34m.\u001b[0m\u001b[0mset_immutable\u001b[0m\u001b[0;34m(\u001b[0m\u001b[0;34m)\u001b[0m\u001b[0;34m\u001b[0m\u001b[0;34m\u001b[0m\u001b[0m\n",
      "\u001b[0;32m/opt/sagemath-9.1/local/lib/python3.7/site-packages/sage/matrix/args.pyx\u001b[0m in \u001b[0;36msage.matrix.args.MatrixArgs.__init__ (build/cythonized/sage/matrix/args.c:5046)\u001b[0;34m()\u001b[0m\n\u001b[1;32m    350\u001b[0m             \u001b[0;32mif\u001b[0m \u001b[0margi\u001b[0m \u001b[0;34m==\u001b[0m \u001b[0margc\u001b[0m\u001b[0;34m:\u001b[0m \u001b[0;32mreturn\u001b[0m\u001b[0;34m\u001b[0m\u001b[0;34m\u001b[0m\u001b[0m\n\u001b[1;32m    351\u001b[0m \u001b[0;34m\u001b[0m\u001b[0m\n\u001b[0;32m--> 352\u001b[0;31m         \u001b[0;32mraise\u001b[0m \u001b[0mTypeError\u001b[0m\u001b[0;34m(\u001b[0m\u001b[0;34m\"too many arguments in matrix constructor\"\u001b[0m\u001b[0;34m)\u001b[0m\u001b[0;34m\u001b[0m\u001b[0;34m\u001b[0m\u001b[0m\n\u001b[0m\u001b[1;32m    353\u001b[0m \u001b[0;34m\u001b[0m\u001b[0m\n\u001b[1;32m    354\u001b[0m     \u001b[0;32mdef\u001b[0m \u001b[0m__repr__\u001b[0m\u001b[0;34m(\u001b[0m\u001b[0mself\u001b[0m\u001b[0;34m)\u001b[0m\u001b[0;34m:\u001b[0m\u001b[0;34m\u001b[0m\u001b[0;34m\u001b[0m\u001b[0m\n",
      "\u001b[0;31mTypeError\u001b[0m: too many arguments in matrix constructor"
     ]
    }
   ],
   "source": [
    "#Exemple\n",
    "\n",
    "t = var('t')\n",
    "def sim(P,a,b,numSim,c):\n",
    "    g = Graphics();\n",
    "    m=matrix(CC, numSim+1,len(P));\n",
    "    for k in range(len(P)):\n",
    "        m[0,k]=P[k];\n",
    "    for k in range(len(P)-1) :\n",
    "        g += line([(real(m[0,k]),imag(m[0,k])) , (real(m[0,k+1]),imag(m[0,k+1]))], color='red', aspect_ratio=1)\n",
    "    if c == 1 :\n",
    "        for k in range(len(P)):\n",
    "            m[0,k]=conjugate(P[k]);  \n",
    "    for n in range(numSim):\n",
    "        for k in range(len(P)):\n",
    "            m[n+1,k]=a*m[n,k]+b;\n",
    "    for n in range(numSim):\n",
    "        for k in range(len(P)-1) :\n",
    "            g += line([(real(m[n+1,k]),imag(m[n+1,k])) , (real(m[n+1,k+1]),imag(m[n+1,k+1]))]) \n",
    "            g.set_aspect_ratio(1)\n",
    "    return g\n",
    "\n",
    "P=[0,(1/3)*I,1/3,(2/3)*I,(-1/2), (5/9)*I]\n",
    "sim(P,I,0,5,0)\n",
    "\n"
   ]
  },
  {
   "cell_type": "code",
   "execution_count": null,
   "metadata": {},
   "outputs": [],
   "source": []
  },
  {
   "cell_type": "markdown",
   "metadata": {
    "collapsed": true
   },
   "source": [
    "<p><strong><span><strong><span style=\"text-decoration: underline;\">EXERCICE 5</span> :</strong> Repr&eacute;sentation des racines n-i&egrave;me de l'unit&eacute;</span></strong></p>\n",
    "<p>Dessiner les polygones r&eacute;guliers de 4, 5 et 6 c&ocirc;t&eacute;s.</p><br>\n",
    "<i>Suggestions :</i><br>\n",
    "\n",
    "<li>Vous pouvez utiliser la fonction <span style=\"font-family: courier new,courier;\"><strong>sim</strong></span>.\n",
    "<li>Vous pouvez dessiner en plus le cercle trigonom&eacute;trique avec la commande :<br>\n",
    "<span style=\"font-family: courier new,courier;\"><strong>parametric_plot( (cos(t), sin(t)), (t, 0, 2*pi) ) <br /></strong>\n",
    "<li><span style=\"font-family: arial,helvetica,sans-serif;\">On peut dessiner sur un seul graphe plusieurs fonctions avec le symbole + :</span><br>\n",
    "<span style=\"font-family: courier new,courier;\"><strong><strong><strong>parametric_plot( (2*cos(t), sin(t)), (t, 0, 2*pi) )&nbsp;</strong> + parametric_plot( (cos(t), sin(t)), (t, 0, 2*pi) ) </strong></strong></span>"
   ]
  },
  {
   "cell_type": "code",
   "execution_count": 29,
   "metadata": {},
   "outputs": [
    {
     "data": {
      "image/png": "[encoded data removed]",
      "text/plain": [
       "Graphics object consisting of 12 graphics primitives"
      ]
     },
     "execution_count": 29,
     "metadata": {},
     "output_type": "execute_result"
    }
   ],
   "source": [
    "t = var('t')\n",
    "def sim(P,a,b,numSim,c):\n",
    "    g = Graphics();\n",
    "    m=matrix(CC, numSim+1,len(P));\n",
    "    for k in range(len(P)):\n",
    "        m[0,k]=P[k];\n",
    "    for k in range(len(P)-1) :\n",
    "        g += line([(real(m[0,k]),imag(m[0,k])) , (real(m[0,k+1]),imag(m[0,k+1]))], color='red', aspect_ratio=1)\n",
    "    if c == 1 :\n",
    "        for k in range(len(P)):\n",
    "            m[0,k]=conjugate(P[k]);  \n",
    "    for n in range(numSim):\n",
    "        for k in range(len(P)):\n",
    "            m[n+1,k]=a*m[n,k]+b;\n",
    "    for n in range(numSim):\n",
    "        for k in range(len(P)-1) :\n",
    "            g += line([(real(m[n+1,k]),imag(m[n+1,k])) , (real(m[n+1,k+1]),imag(m[n+1,k+1]))]) \n",
    "            g.set_aspect_ratio(1)\n",
    "    return g\n",
    "\n",
    "P=[0,1+I,(-3/2)+(2/3)*I,0]\n",
    "sim(P,I,(1/3)+(1/3)*I,3,0)\n",
    "\n"
   ]
  },
  {
   "cell_type": "code",
   "execution_count": null,
   "metadata": {},
   "outputs": [],
   "source": []
  }
 ],
 "metadata": {
  "kernelspec": {
   "display_name": "SageMath 9.1",
   "language": "sage",
   "name": "sagemath"
  },
  "language_info": {
   "codemirror_mode": {
    "name": "ipython",
    "version": 3
   },
   "file_extension": ".py",
   "mimetype": "text/x-python",
   "name": "python",
   "nbconvert_exporter": "python",
   "pygments_lexer": "ipython3",
   "version": "3.7.3"
  }
 },
 "nbformat": 4,
 "nbformat_minor": 1
}
