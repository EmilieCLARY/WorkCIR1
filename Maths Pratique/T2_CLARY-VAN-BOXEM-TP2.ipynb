{
 "cells": [
  {
   "cell_type": "markdown",
   "metadata": {},
   "source": [
    "<p><span style=\"font-size: large; background-color: #ffffff; color: #000000;\"><strong>Consignes :</strong></span></p>\n",
    "<ul>\n",
    "<li><span style=\"font-size: large; background-color: #ffffff; color: #000000;\"><strong><strong>Renommer ce fichier en ordre alphab&eacute;tique, avec le num&eacute;ro de groupe i <span style=\"color: #ff0000;\">Ti_nom1-nom2-TP2</span></strong></strong></span></li>\n",
    "<li><span style=\"font-size: large; background-color: #ffffff; color: #000000;\"><strong><strong><strong>TP &agrave; rendre sur Teams&nbsp;<span><span style=\"color: #ff0000;\">&agrave; la fin de la s&eacute;ance</span>.</span>&nbsp;</strong></strong></strong></span></li>\n",
    "<li><span style=\"font-size: large; background-color: #ffffff; color: #000000;\"><strong>TP &agrave; faire par groupes de 2. Le groupe de travail sera le m&ecirc;me pour toute l'ann&eacute;e.</strong></span></li>\n",
    "<li><span style=\"font-size: large; background-color: #ffffff; color: #ff0000;\"><span style=\"color: #000000;\"><strong>&Agrave; compl&eacute;ter :</strong></span></span></li>\n",
    "</ul>\n",
    "<p><span style=\"font-size: large; background-color: #ffffff; color: #ff0000;\"><strong>NOM PRENOM 1 : CLARY Emilie <br /></strong></span></p>\n",
    "<p><span style=\"font-size: large; background-color: #ffffff; color: #ff0000;\"><strong>NOM PRENOM 2 : VAN BOXEM Rémi \n",
    "   </strong></span></p>\n",
    "<p>&nbsp;</p>\n",
    "<p><span style=\"font-size: medium;\"><span style=\"font-size: large;\"><strong></strong><strong>TP 2 : Introduction &agrave; Sage</strong></span></span></p>\n",
    "<p>&nbsp;</p>\n",
    "<p><strong style=\"font-size: medium;\"><span style=\"text-decoration: underline;\">EXERCICE 1</span></strong></p>\n",
    "<p>&nbsp;</p>\n",
    "<p>Calculer :</p>\n",
    "<p>&nbsp;</p>\n",
    "<p>a) $\\sqrt{\\frac{1}{5}}+8^3$</p>\n",
    "<p><strong style=\"font-size: medium;\"><span style=\"text-decoration: underline;\"><br /></span></strong></p>\n",
    "<p>&nbsp;</p>"
   ]
  },
  {
   "cell_type": "code",
   "execution_count": 4,
   "metadata": {},
   "outputs": [
    {
     "data": {
      "text/plain": [
       "sqrt(1/5) + 512"
      ]
     },
     "execution_count": 4,
     "metadata": {},
     "output_type": "execute_result"
    }
   ],
   "source": [
    "a=sqrt(1/5)+8^3\n",
    "a"
   ]
  },
  {
   "cell_type": "markdown",
   "metadata": {},
   "source": [
    "b) $\\binom{13}{4} \\cdot \\sqrt[3]{\\frac{27}{22}} \\cdot 17!$"
   ]
  },
  {
   "cell_type": "code",
   "execution_count": 55,
   "metadata": {},
   "outputs": [
    {
     "data": {
      "text/plain": [
       "2.9e17"
      ]
     },
     "execution_count": 55,
     "metadata": {},
     "output_type": "execute_result"
    }
   ],
   "source": [
    "binomial(13,4)*sqrt(27/22,3)*factorial(17)"
   ]
  },
  {
   "cell_type": "markdown",
   "metadata": {},
   "source": [
    "<p>c) Assigner &agrave; la variable $y$ la valeur 7. Multiplier $y$ par 4. Combien vaut $y$ ?</p>"
   ]
  },
  {
   "cell_type": "code",
   "execution_count": 21,
   "metadata": {},
   "outputs": [
    {
     "data": {
      "text/plain": [
       "28"
      ]
     },
     "execution_count": 21,
     "metadata": {},
     "output_type": "execute_result"
    }
   ],
   "source": [
    "y=7\n",
    "y*=4\n",
    "y"
   ]
  },
  {
   "cell_type": "markdown",
   "metadata": {},
   "source": [
    "<p><span style=\"text-decoration: underline;\"><strong>EXERCICE 2</strong></span></p>\n",
    "<p class=\" CodeMirror-line sagews-output-cm-text\"><span><span class=\"CodeMirror-widget\"><span class=\"sagews-output\"><span class=\"sagews-output-html\">Expliquer pas &agrave; pas ce qu'il se passe lors de la s&eacute;quence d'instruction : <br />u = var('u') <br />u = u+1 <br />u <br />u+2 </span></span></span></span></p>"
   ]
  },
  {
   "cell_type": "code",
   "execution_count": null,
   "metadata": {
    "collapsed": true
   },
   "outputs": [],
   "source": [
    "u=var('u') # On définit la variable u, contenant u\n",
    "u=u+1 # On ajoute 1 à la variable u\n",
    "u # On affiche u (ce qui donne \"u+1\")\n",
    "u+2 # On ajoute 2 à la variable u, ce qui donne \"u+3\""
   ]
  },
  {
   "cell_type": "markdown",
   "metadata": {},
   "source": [
    "<p><strong><span style=\"text-decoration: underline;\">EXERCICE 3<br /></span></strong></p>\n",
    "<ol style=\"list-style-type: lower-alpha;\">\n",
    "<li>D&eacute;finissez la fonction symbolique $f(x)=\\frac{1}{2+x^4}$.</li>\n",
    "<li>Calculez $f(2)$ de deux fa&ccedil;ons diff&eacute;rentes (valeur exacte et approximation).</li>\n",
    "<li>Tracer le graphe de $f$ en bleu sur l'intervalle $[-3,3]$ .</li>\n",
    "<li>$f$ est-elle injective ? surjective ? bijective ? Justifier.</li>\n",
    "</ol>"
   ]
  },
  {
   "cell_type": "code",
   "execution_count": 61,
   "metadata": {},
   "outputs": [
    {
     "name": "stdout",
     "output_type": "stream",
     "text": [
      "f(x)=1/(2+x^4)\n",
      "f(2)= 1/18\n",
      "f(2) est environ égal à 0.0555555555555556\n",
      "F n'est pas injective car f(2) = f(-2) = 1/18 et f est surjective car f est continue\n"
     ]
    },
    {
     "data": {
      "image/png": "[encoded data removed]",
      "text/plain": [
       "Graphics object consisting of 1 graphics primitive"
      ]
     },
     "execution_count": 61,
     "metadata": {},
     "output_type": "execute_result"
    }
   ],
   "source": [
    "f(x)=1/(2+x^4)\n",
    "print(\"f(x)=1/(2+x^4)\")\n",
    "print(\"f(2)=\",f(2))\n",
    "print(\"f(2) est environ égal à\",numerical_approx(f(2)))\n",
    "print(\"F n'est pas injective car f(2) = f(-2) = 1/18 et f est surjective car f est continue\")\n",
    "plot(f(x), (-3,3), color=\"blue\")"
   ]
  },
  {
   "cell_type": "markdown",
   "metadata": {},
   "source": [
    "<p><strong><span style=\"text-decoration: underline;\">EXERCICE 4<br /></span></strong></p>\n",
    "<ol>\n",
    "<li>Pour un entier $n=10$ fix&eacute;, programmer avec une boucle le calcul de la somme $S_n=1^2+2^2+3^2+\\ldots+n^2=\\displaystyle \\sum_{k=1}^n k^2$</li>\n",
    "<li>V&eacute;rifier votre r&eacute;sultat avec la commande <strong><span style=\"font-family: courier new,courier;\">sum</span></strong></li>\n",
    "</ol>"
   ]
  },
  {
   "cell_type": "code",
   "execution_count": 39,
   "metadata": {},
   "outputs": [
    {
     "name": "stdout",
     "output_type": "stream",
     "text": [
      "385\n"
     ]
    }
   ],
   "source": [
    "n=10\n",
    "r=0\n",
    "for i in range (1, n+1):\n",
    "    r+=i^2\n",
    "    \n",
    "print(r)"
   ]
  },
  {
   "cell_type": "code",
   "execution_count": 46,
   "metadata": {},
   "outputs": [
    {
     "data": {
      "text/plain": [
       "385"
      ]
     },
     "execution_count": 46,
     "metadata": {},
     "output_type": "execute_result"
    }
   ],
   "source": [
    "z=var(\"z\")\n",
    "sum(z^2, z, 1, 10)"
   ]
  },
  {
   "cell_type": "markdown",
   "metadata": {},
   "source": [
    "<p><span style=\"text-decoration: underline;\"><strong>EXERCICE 5</strong></span></p>\n",
    "\n",
    "On tire 5 cartes dans un jeu de 32 cartes usuel. Combien y a-t-il de tirages possibles vérifiant la\n",
    "condition suivante :\n",
    "\n",
    "<p style=\"text-align: center;\">Il y a au moins un 10 parmi les cartes tir&eacute;es</p>\n",
    "\n",
    "Donnez votre réponse de deux manières diff&eacute;rentes, en impl&eacute;mentant une boucle.\n",
    "\n",
    "\n"
   ]
  },
  {
   "cell_type": "code",
   "execution_count": 3,
   "metadata": {},
   "outputs": [
    {
     "data": {
      "text/plain": [
       "1/2*n^2 + 1/2*n"
      ]
     },
     "execution_count": 3,
     "metadata": {},
     "output_type": "execute_result"
    }
   ],
   "source": [
    "k,n = var('k,n')\n",
    "sum(k , k, 1, n)"
   ]
  },
  {
   "cell_type": "code",
   "execution_count": 59,
   "metadata": {
    "scrolled": true
   },
   "outputs": [
    {
     "data": {
      "text/plain": [
       "103096"
      ]
     },
     "execution_count": 59,
     "metadata": {},
     "output_type": "execute_result"
    }
   ],
   "source": [
    "binomial(32,5)-binomial(28,5)"
   ]
  },
  {
   "cell_type": "code",
   "execution_count": 54,
   "metadata": {},
   "outputs": [
    {
     "name": "stdout",
     "output_type": "stream",
     "text": [
      "103096\n"
     ]
    }
   ],
   "source": [
    "n=4\n",
    "j=0\n",
    "for i in range (1,5):\n",
    "    j+=binomial(4,i)*binomial(28,5-i)\n",
    "print(j)"
   ]
  },
  {
   "cell_type": "code",
   "execution_count": null,
   "metadata": {},
   "outputs": [],
   "source": []
  }
 ],
 "metadata": {
  "kernelspec": {
   "display_name": "SageMath 9.1",
   "language": "sage",
   "name": "sagemath"
  },
  "language_info": {
   "codemirror_mode": {
    "name": "ipython",
    "version": 3
   },
   "file_extension": ".py",
   "mimetype": "text/x-python",
   "name": "python",
   "nbconvert_exporter": "python",
   "pygments_lexer": "ipython3",
   "version": "3.8.5"
  }
 },
 "nbformat": 4,
 "nbformat_minor": 1
}
