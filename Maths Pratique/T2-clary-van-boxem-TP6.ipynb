{
 "cells": [
  {
   "cell_type": "markdown",
   "metadata": {},
   "source": [
    "<p><span style=\"font-size: large; background-color: #ffffff; color: #000000;\"><strong>Consignes :</strong></span></p>\n",
    "<ul>\n",
    "<li><span style=\"font-size: large; background-color: #ffffff; color: #000000;\"><strong><strong>Renommer ce fichier en ordre alphab&eacute;tique avec le numéro i de votre Tiers <span style=\"color: #ff0000;\">Ti_nom1-nom2-TP6</span></strong></strong></span></li>\n",
    "<li><span style=\"font-size: large; background-color: #ffffff; color: #000000;\"><strong><strong><strong>TP &agrave; rendre sur Teams&nbsp;<span><span style=\"color: #ff0000;\">pour le 14 décembre</span>.</span>&nbsp;</strong></strong></strong></span></li>\n",
    "<li><span style=\"font-size: large; background-color: #ffffff; color: #000000;\"><strong>TP &agrave; faire en groupe de 2. Le groupe de travail est le m&ecirc;me pour toute l'ann&eacute;e.</strong></span></li>\n",
    "<li><span style=\"font-size: large; background-color: #ffffff; color: #ff0000;\"><span style=\"color: #000000;\"><strong>&Agrave; compl&eacute;ter :</strong></span></span></li>\n",
    "</ul>\n",
    "<p><span style=\"font-size: large; background-color: #ffffff; color: #ff0000;\"><strong>NOM PRENOM 1 : CLARY ÉMILIE <br /></strong></span></p>\n",
    "<p><span style=\"font-size: large; background-color: #ffffff; color: #ff0000;\"><strong>NOM PRENOM 2 : VAN BOXEM RÉMI</strong></span></p>\n",
    "<p>&nbsp;</p>\n",
    "<p><br /><span style=\"font-size: large;\"><strong></strong><strong>TP 6 : <span style=\"font-size: large;\"><strong>Limites et <span style=\"font-size: large;\"><strong>d&eacute;veloppements limit&eacute;s</strong></span></strong></span><br /></strong></span></p>\n",
    "<p><span style=\"font-size: large;\"><strong><br style=\"font-size: medium;\" /></strong></span></p>\n",
    "<p><span style=\"font-size: medium;\">Consultez la documentation (<strong>limits</strong>) pour les limites ou le <a href=\"https://www.sagemath.org/calctut/limits.html\">tutorial</a></span></p>\n",
    "<p><span style=\"font-size: medium;\">Pour les développements limit&eacute;s voir <strong>taylor</strong> pour la partie r&eacute;guli&egrave;re et la commande <a href=\"http://doc.sagemath.org/html/en/reference/calculus/sage/symbolic/series.html\">series</a> pour le développement complet.<br style=\"font-size: medium;\" /></span></p>"
   ]
  },
  {
   "cell_type": "code",
   "execution_count": 1,
   "metadata": {},
   "outputs": [
    {
     "name": "stdout",
     "output_type": "stream",
     "text": [
      "Help on function limit in module sage.calculus.calculus:\n",
      "\n",
      "limit(ex, dir=None, taylor=False, algorithm='maxima', **argv)\n",
      "    Return the limit as the variable `v` approaches `a`\n",
      "    from the given direction.\n",
      "    \n",
      "    ::\n",
      "    \n",
      "       expr.limit(x = a)\n",
      "       expr.limit(x = a, dir='+')\n",
      "    \n",
      "    INPUT:\n",
      "    \n",
      "    - ``dir`` - (default: None); dir may have the value\n",
      "      'plus' (or '+' or 'right' or 'above') for a limit from above,\n",
      "      'minus' (or '-' or 'left' or 'below') for a limit from below, or may be omitted\n",
      "      (implying a two-sided limit is to be computed).\n",
      "    \n",
      "    - ``taylor`` - (default: False); if True, use Taylor\n",
      "      series, which allows more limits to be computed (but may also\n",
      "      crash in some obscure cases due to bugs in Maxima).\n",
      "    \n",
      "    - ``**argv`` - 1 named parameter\n",
      "    \n",
      "    .. note::\n",
      "    \n",
      "       The output may also use 'und' (undefined), 'ind'\n",
      "       (indefinite but bounded), and 'infinity' (complex\n",
      "       infinity).\n",
      "    \n",
      "    EXAMPLES::\n",
      "    \n",
      "        sage: x = var('x')\n",
      "        sage: f = (1+1/x)^x\n",
      "        sage: f.limit(x = oo)\n",
      "        e\n",
      "        sage: f.limit(x = 5)\n",
      "        7776/3125\n",
      "        sage: f.limit(x = 1.2)\n",
      "        2.06961575467...\n",
      "        sage: f.limit(x = I, taylor=True)\n",
      "        (-I + 1)^I\n",
      "        sage: f(x=1.2)\n",
      "        2.0696157546720...\n",
      "        sage: f(x=I)\n",
      "        (-I + 1)^I\n",
      "        sage: CDF(f(x=I))\n",
      "        2.0628722350809046 + 0.7450070621797239*I\n",
      "        sage: CDF(f.limit(x = I))\n",
      "        2.0628722350809046 + 0.7450070621797239*I\n",
      "    \n",
      "    Notice that Maxima may ask for more information::\n",
      "    \n",
      "        sage: var('a')\n",
      "        a\n",
      "        sage: limit(x^a,x=0)\n",
      "        Traceback (most recent call last):\n",
      "        ...\n",
      "        ValueError: Computation failed since Maxima requested additional\n",
      "        constraints; using the 'assume' command before evaluation\n",
      "        *may* help (example of legal syntax is 'assume(a>0)', see\n",
      "        `assume?` for more details)\n",
      "        Is a positive, negative or zero?\n",
      "    \n",
      "    With this example, Maxima is looking for a LOT of information::\n",
      "    \n",
      "        sage: assume(a>0)\n",
      "        sage: limit(x^a,x=0)\n",
      "        Traceback (most recent call last):\n",
      "        ...\n",
      "        ValueError: Computation failed since Maxima requested additional\n",
      "        constraints; using the 'assume' command before evaluation *may* help\n",
      "        (example of legal syntax is 'assume(a>0)', see `assume?` for\n",
      "         more details)\n",
      "        Is a an integer?\n",
      "        sage: assume(a,'integer')\n",
      "        sage: limit(x^a,x=0)\n",
      "        Traceback (most recent call last):\n",
      "        ...\n",
      "        ValueError: Computation failed since Maxima requested additional\n",
      "        constraints; using the 'assume' command before evaluation *may* help\n",
      "        (example of legal syntax is 'assume(a>0)', see `assume?` for\n",
      "         more details)\n",
      "        Is a an even number?\n",
      "        sage: assume(a,'even')\n",
      "        sage: limit(x^a,x=0)\n",
      "        0\n",
      "        sage: forget()\n",
      "    \n",
      "    More examples::\n",
      "    \n",
      "        sage: limit(x*log(x), x = 0, dir='+')\n",
      "        0\n",
      "        sage: lim((x+1)^(1/x), x = 0)\n",
      "        e\n",
      "        sage: lim(e^x/x, x = oo)\n",
      "        +Infinity\n",
      "        sage: lim(e^x/x, x = -oo)\n",
      "        0\n",
      "        sage: lim(-e^x/x, x = oo)\n",
      "        -Infinity\n",
      "        sage: lim((cos(x))/(x^2), x = 0)\n",
      "        +Infinity\n",
      "        sage: lim(sqrt(x^2+1) - x, x = oo)\n",
      "        0\n",
      "        sage: lim(x^2/(sec(x)-1), x=0)\n",
      "        2\n",
      "        sage: lim(cos(x)/(cos(x)-1), x=0)\n",
      "        -Infinity\n",
      "        sage: lim(x*sin(1/x), x=0)\n",
      "        0\n",
      "        sage: limit(e^(-1/x), x=0, dir='right')\n",
      "        0\n",
      "        sage: limit(e^(-1/x), x=0, dir='left')\n",
      "        +Infinity\n",
      "    \n",
      "    ::\n",
      "    \n",
      "        sage: f = log(log(x))/log(x)\n",
      "        sage: forget(); assume(x<-2); lim(f, x=0, taylor=True)\n",
      "        0\n",
      "        sage: forget()\n",
      "    \n",
      "    Here ind means \"indefinite but bounded\"::\n",
      "    \n",
      "        sage: lim(sin(1/x), x = 0)\n",
      "        ind\n",
      "    \n",
      "    We can use other packages than maxima::\n",
      "    \n",
      "        sage: (x / (x+2^x+cos(x))).limit(x=-infinity, algorithm='fricas')       # optional - fricas\n",
      "        1\n",
      "        sage: limit(e^(-1/x), x=0, dir='right', algorithm='fricas')             # optional - fricas\n",
      "        0\n",
      "        sage: limit(e^(-1/x), x=0, dir='left', algorithm='fricas')              # optional - fricas\n",
      "        +Infinity\n",
      "    \n",
      "    TESTS::\n",
      "    \n",
      "        sage: lim(x^2, x=2, dir='nugget')\n",
      "        Traceback (most recent call last):\n",
      "        ...\n",
      "        ValueError: dir must be one of None, 'plus', '+', 'above', 'right',\n",
      "        'minus', '-', 'below', 'left'\n",
      "    \n",
      "        sage: x.limit(x=3, algorithm='nugget')\n",
      "        Traceback (most recent call last):\n",
      "        ...\n",
      "        ValueError: Unknown algorithm: nugget\n",
      "    \n",
      "    We check that :trac:`3718` is fixed, so that\n",
      "    Maxima gives correct limits for the floor function::\n",
      "    \n",
      "        sage: limit(floor(x), x=0, dir='-')\n",
      "        -1\n",
      "        sage: limit(floor(x), x=0, dir='+')\n",
      "        0\n",
      "        sage: limit(floor(x), x=0)\n",
      "        und\n",
      "    \n",
      "    Maxima gives the right answer here, too, showing\n",
      "    that :trac:`4142` is fixed::\n",
      "    \n",
      "        sage: f = sqrt(1-x^2)\n",
      "        sage: g = diff(f, x); g\n",
      "        -x/sqrt(-x^2 + 1)\n",
      "        sage: limit(g, x=1, dir='-')\n",
      "        -Infinity\n",
      "    \n",
      "    ::\n",
      "    \n",
      "        sage: limit(1/x, x=0)\n",
      "        Infinity\n",
      "        sage: limit(1/x, x=0, dir='+')\n",
      "        +Infinity\n",
      "        sage: limit(1/x, x=0, dir='-')\n",
      "        -Infinity\n",
      "    \n",
      "    Check that :trac:`8942` is fixed::\n",
      "    \n",
      "        sage: f(x) = (cos(pi/4-x) - tan(x)) / (1 - sin(pi/4+x))\n",
      "        sage: limit(f(x), x = pi/4, dir='minus')\n",
      "        +Infinity\n",
      "        sage: limit(f(x), x = pi/4, dir='plus')\n",
      "        -Infinity\n",
      "        sage: limit(f(x), x = pi/4)\n",
      "        Infinity\n",
      "    \n",
      "    Check that :trac:`12708` is fixed::\n",
      "    \n",
      "        sage: limit(tanh(x),x=0)\n",
      "        0\n",
      "    \n",
      "    Check that :trac:`15386` is fixed::\n",
      "    \n",
      "        sage: n = var('n')\n",
      "        sage: assume(n>0)\n",
      "        sage: sequence = -(3*n^2 + 1)*(-1)^n/sqrt(n^5 + 8*n^3 + 8)\n",
      "        sage: limit(sequence, n=infinity)\n",
      "        0\n",
      "    \n",
      "    Check if :trac:`23048` is fixed::\n",
      "    \n",
      "        sage: (1/(x-3)).limit(x=3, dir='below')\n",
      "        -Infinity\n",
      "    \n",
      "    From :trac:`14677`::\n",
      "    \n",
      "        sage: f = (x^x-sin(x)^sin(x))/(x^3*log(x))\n",
      "        sage: limit(f, x=0, algorithm='fricas')                                 # optional - fricas\n",
      "        und\n",
      "    \n",
      "        sage: limit(f, x=0, dir='right', algorithm='fricas')                    # optional - fricas\n",
      "        1/6\n",
      "    \n",
      "    From :trac:`26497`::\n",
      "    \n",
      "        sage: mu, y, sigma = var(\"mu, y, sigma\")\n",
      "        sage: f = 1/2*sqrt(2)*e^(-1/2*(mu - log(y))^2/sigma^2)/(sqrt(pi)*sigma*y)\n",
      "        sage: limit(f, y=0, algorithm='fricas')                                 # optional - fricas\n",
      "        0\n",
      "\n",
      "Help on function taylor in module sage.calculus.functional:\n",
      "\n",
      "taylor(f, *args)\n",
      "    Expands self in a truncated Taylor or Laurent series in the\n",
      "    variable `v` around the point `a`, containing terms\n",
      "    through `(x - a)^n`. Functions in more variables are also\n",
      "    supported.\n",
      "    \n",
      "    INPUT:\n",
      "    \n",
      "    - ``*args`` - the following notation is supported\n",
      "    \n",
      "    - ``x, a, n`` - variable, point, degree\n",
      "    \n",
      "    - ``(x, a), (y, b), ..., n`` - variables with points, degree of polynomial\n",
      "    \n",
      "    EXAMPLES::\n",
      "    \n",
      "        sage: var('x,k,n')\n",
      "        (x, k, n)\n",
      "        sage: taylor (sqrt (1 - k^2*sin(x)^2), x, 0, 6)\n",
      "        -1/720*(45*k^6 - 60*k^4 + 16*k^2)*x^6 - 1/24*(3*k^4 - 4*k^2)*x^4 - 1/2*k^2*x^2 + 1\n",
      "    \n",
      "    ::\n",
      "    \n",
      "        sage: taylor ((x + 1)^n, x, 0, 4)\n",
      "        1/24*(n^4 - 6*n^3 + 11*n^2 - 6*n)*x^4 + 1/6*(n^3 - 3*n^2 + 2*n)*x^3 + 1/2*(n^2 - n)*x^2 + n*x + 1\n",
      "    \n",
      "    ::\n",
      "    \n",
      "        sage: taylor ((x + 1)^n, x, 0, 4)\n",
      "        1/24*(n^4 - 6*n^3 + 11*n^2 - 6*n)*x^4 + 1/6*(n^3 - 3*n^2 + 2*n)*x^3 + 1/2*(n^2 - n)*x^2 + n*x + 1\n",
      "    \n",
      "    Taylor polynomial in two variables::\n",
      "    \n",
      "        sage: x,y=var('x y'); taylor(x*y^3,(x,1),(y,-1),4)\n",
      "        (x - 1)*(y + 1)^3 - 3*(x - 1)*(y + 1)^2 + (y + 1)^3 + 3*(x - 1)*(y + 1) - 3*(y + 1)^2 - x + 3*y + 3\n",
      "\n"
     ]
    }
   ],
   "source": [
    "help(limit)\n",
    "help(taylor)"
   ]
  },
  {
   "cell_type": "markdown",
   "metadata": {},
   "source": [
    "<p><span style=\"text-decoration: underline;\">EXERCICE 1</span></p>\n",
    "<ol>\n",
    "<li>Calculer les limites suivantes : \n",
    "$$a)\\quad \\lim_{x\\rightarrow 0} \\ \\bigg(\\dfrac{1}{x^2}-\\dfrac{1}{\\sin^2 x}\\bigg) \\quad \\text{ et }\\quad \\text{ b)} \\quad \\lim_{x \\rightarrow +\\infty} \\ \\sqrt{x} - \\sqrt{x+\\sqrt{x}}$$\n",
    "</li>\n",
    "<li>V&eacute;rifier la valeur de la limite graphiquement.</li>\n",
    "</ol>"
   ]
  },
  {
   "cell_type": "code",
   "execution_count": 3,
   "metadata": {},
   "outputs": [
    {
     "data": {
      "text/html": [
       "<html><script type=\"math/tex; mode=display\">\\newcommand{\\Bold}[1]{\\mathbf{#1}}-\\frac{1}{3}</script></html>"
      ],
      "text/latex": [
       "\\begin{math}\n",
       "\\newcommand{\\Bold}[1]{\\mathbf{#1}}-\\frac{1}{3}\n",
       "\\end{math}"
      ],
      "text/plain": [
       "-1/3"
      ]
     },
     "metadata": {},
     "output_type": "display_data"
    }
   ],
   "source": [
    "#Question 1.a): \n",
    "show(limit(((1/(x^2))-(1/(sin(x)^2))), x=0))"
   ]
  },
  {
   "cell_type": "code",
   "execution_count": 12,
   "metadata": {},
   "outputs": [
    {
     "data": {
      "text/html": [
       "<html><script type=\"math/tex; mode=display\">\\newcommand{\\Bold}[1]{\\mathbf{#1}}-\\frac{1}{2}</script></html>"
      ],
      "text/latex": [
       "\\begin{math}\n",
       "\\newcommand{\\Bold}[1]{\\mathbf{#1}}-\\frac{1}{2}\n",
       "\\end{math}"
      ],
      "text/plain": [
       "-1/2"
      ]
     },
     "metadata": {},
     "output_type": "display_data"
    }
   ],
   "source": [
    "#Question 1.b): \n",
    "show(limit(((sqrt(x))-sqrt(x+sqrt(x))),x=oo))"
   ]
  },
  {
   "cell_type": "code",
   "execution_count": 19,
   "metadata": {},
   "outputs": [
    {
     "data": {
      "image/png": "[encoded data removed]",
      "text/plain": [
       "Graphics object consisting of 1 graphics primitive"
      ]
     },
     "execution_count": 19,
     "metadata": {},
     "output_type": "execute_result"
    }
   ],
   "source": [
    "#Question 2.a):\n",
    "f=(1/x^2 - 1/(sin(x)^2))\n",
    "x = var ('x')\n",
    "plot(f(x), (-1.5, 1.5), color=\"blue\")"
   ]
  },
  {
   "cell_type": "code",
   "execution_count": 21,
   "metadata": {},
   "outputs": [
    {
     "data": {
      "image/png": "[encoded data removed]",
      "text/plain": [
       "Graphics object consisting of 1 graphics primitive"
      ]
     },
     "execution_count": 21,
     "metadata": {},
     "output_type": "execute_result"
    }
   ],
   "source": [
    "g=(sqrt(x)-sqrt(x+sqrt(x)))\n",
    "x = var ('x')\n",
    "plot(g(x), (0, 1000), color=\"red\")"
   ]
  },
  {
   "cell_type": "markdown",
   "metadata": {},
   "source": [
    "<p><span style=\"text-decoration: underline;\">EXERCICE 2<br /></span></p>\n",
    "<ol>\n",
    "<li>Calculer la valeur de la limite a) de l'exercice 1 pour $x \\rightarrow \\pi$.</li>\n",
    "<li>Dessiner le graphe de la fonction entre $(-4\\pi,4\\pi)$, en faisant attention au domaine de définition.</li>\n",
    "</ol>"
   ]
  },
  {
   "cell_type": "code",
   "execution_count": 22,
   "metadata": {},
   "outputs": [
    {
     "data": {
      "text/html": [
       "<html><script type=\"math/tex; mode=display\">\\newcommand{\\Bold}[1]{\\mathbf{#1}}-\\infty</script></html>"
      ],
      "text/latex": [
       "\\begin{math}\n",
       "\\newcommand{\\Bold}[1]{\\mathbf{#1}}-\\infty\n",
       "\\end{math}"
      ],
      "text/plain": [
       "-Infinity"
      ]
     },
     "metadata": {},
     "output_type": "display_data"
    }
   ],
   "source": [
    "#Question 1: \n",
    "show(limit(((1/(x^2))-(1/(sin(x)^2))), x=pi))"
   ]
  },
  {
   "cell_type": "code",
   "execution_count": 46,
   "metadata": {},
   "outputs": [
    {
     "data": {
      "text/html": [
       "<html><script type=\"math/tex; mode=display\">\\newcommand{\\Bold}[1]{\\mathbf{#1}}\\frac{1}{x^{2}} - \\frac{1}{\\sin\\left(x\\right)^{2}}</script></html>"
      ],
      "text/latex": [
       "\\begin{math}\n",
       "\\newcommand{\\Bold}[1]{\\mathbf{#1}}\\frac{1}{x^{2}} - \\frac{1}{\\sin\\left(x\\right)^{2}}\n",
       "\\end{math}"
      ],
      "text/plain": [
       "1/x^2 - 1/sin(x)^2"
      ]
     },
     "metadata": {},
     "output_type": "display_data"
    },
    {
     "data": {
      "image/png": "[encoded data removed]",
      "text/plain": [
       "Graphics object consisting of 8 graphics primitives"
      ]
     },
     "execution_count": 46,
     "metadata": {},
     "output_type": "execute_result"
    }
   ],
   "source": [
    "#Question 2:\n",
    "f=(1/x^2 - 1/(sin(x)^2))\n",
    "x = var ('x')\n",
    "show(f)\n",
    "plot(f(x), (-3.9*pi, -3.1*pi), color=\"blue\") + plot(f(x), (-2.9*pi, -2.1*pi), color=\"blue\") + plot(f(x), (-1.9*pi, -1.1*pi), color=\"blue\") + plot(f(x), (-0.9*pi, -0.1*pi), color=\"blue\") + plot(f(x), (0.1*pi, 0.9*pi), color=\"blue\") + plot(f(x), (1.1*pi, 1.9*pi), color=\"blue\") + plot(f(x), (2.1*pi, 2.9*pi), color=\"blue\") + plot(f(x), (3.1*pi, 3.9*pi), color=\"blue\") "
   ]
  },
  {
   "cell_type": "markdown",
   "metadata": {},
   "source": [
    "<p><span style=\"text-decoration: underline;\">EXERCICE <span style=\"text-decoration: underline;\">3</span><br /></span></p>\n",
    "<ol>\n",
    "<li>Tracer sur le m&ecirc;me graphe les fonctions $$x\\mapsto x, x^2,\\sqrt{x}$$ et &eacute;tudier leur comportement ( &eacute;quivalence, negligeabilit&eacute;, domination) au voisinage de 0.</li>\n",
    "<li>M&ecirc;me chose mais au voisinage de $+\\infty$. avec&nbsp;&nbsp;$$x\\mapsto \\frac{1}{x}, \\frac{1}{x^3},-\\ln x.$$</li>\n",
    "</ol>\n",
    "<p>&nbsp;</p>\n",
    "<p><span style=\"text-decoration: underline;\"><br /></span></p>"
   ]
  },
  {
   "cell_type": "code",
   "execution_count": 51,
   "metadata": {},
   "outputs": [
    {
     "data": {
      "text/html": [
       "<html><script type=\"math/tex; mode=display\">\\newcommand{\\Bold}[1]{\\mathbf{#1}}\\verb|Au|\\phantom{\\verb!x!}\\verb|voisinage|\\phantom{\\verb!x!}\\verb|de|\\phantom{\\verb!x!}\\verb|0,|\\phantom{\\verb!x!}\\verb|x^2|\\phantom{\\verb!x!}\\verb|est|\\phantom{\\verb!x!}\\verb|négligeable|\\phantom{\\verb!x!}\\verb|par|\\phantom{\\verb!x!}\\verb|rapport|\\phantom{\\verb!x!}\\verb|à|\\phantom{\\verb!x!}\\verb|x.|</script></html>"
      ],
      "text/latex": [
       "\\begin{math}\n",
       "\\newcommand{\\Bold}[1]{\\mathbf{#1}}\\verb|Au|\\phantom{\\verb!x!}\\verb|voisinage|\\phantom{\\verb!x!}\\verb|de|\\phantom{\\verb!x!}\\verb|0,|\\phantom{\\verb!x!}\\verb|x^2|\\phantom{\\verb!x!}\\verb|est|\\phantom{\\verb!x!}\\verb|négligeable|\\phantom{\\verb!x!}\\verb|par|\\phantom{\\verb!x!}\\verb|rapport|\\phantom{\\verb!x!}\\verb|à|\\phantom{\\verb!x!}\\verb|x.|\n",
       "\\end{math}"
      ],
      "text/plain": [
       "'Au voisinage de 0, x^2 est négligeable par rapport à x.'"
      ]
     },
     "metadata": {},
     "output_type": "display_data"
    },
    {
     "data": {
      "text/html": [
       "<html><script type=\"math/tex; mode=display\">\\newcommand{\\Bold}[1]{\\mathbf{#1}}\\verb|Au|\\phantom{\\verb!x!}\\verb|voisinage|\\phantom{\\verb!x!}\\verb|de|\\phantom{\\verb!x!}\\verb|0,|\\phantom{\\verb!x!}\\verb|x^2|\\phantom{\\verb!x!}\\verb|est|\\phantom{\\verb!x!}\\verb|négligeable|\\phantom{\\verb!x!}\\verb|par|\\phantom{\\verb!x!}\\verb|rapport|\\phantom{\\verb!x!}\\verb|à|\\phantom{\\verb!x!}\\verb|sqrt(x).|</script></html>"
      ],
      "text/latex": [
       "\\begin{math}\n",
       "\\newcommand{\\Bold}[1]{\\mathbf{#1}}\\verb|Au|\\phantom{\\verb!x!}\\verb|voisinage|\\phantom{\\verb!x!}\\verb|de|\\phantom{\\verb!x!}\\verb|0,|\\phantom{\\verb!x!}\\verb|x^2|\\phantom{\\verb!x!}\\verb|est|\\phantom{\\verb!x!}\\verb|négligeable|\\phantom{\\verb!x!}\\verb|par|\\phantom{\\verb!x!}\\verb|rapport|\\phantom{\\verb!x!}\\verb|à|\\phantom{\\verb!x!}\\verb|sqrt(x).|\n",
       "\\end{math}"
      ],
      "text/plain": [
       "'Au voisinage de 0, x^2 est négligeable par rapport à sqrt(x).'"
      ]
     },
     "metadata": {},
     "output_type": "display_data"
    },
    {
     "data": {
      "image/png": "[encoded data removed]",
      "text/plain": [
       "Graphics object consisting of 3 graphics primitives"
      ]
     },
     "execution_count": 51,
     "metadata": {},
     "output_type": "execute_result"
    }
   ],
   "source": [
    "#Question 1:\n",
    "\n",
    "show(\"Au voisinage de 0, x^2 est négligeable par rapport à x.\")\n",
    "show(\"Au voisinage de 0, x^2 est négligeable par rapport à sqrt(x).\")\n",
    "\n",
    "f=(x)\n",
    "g=(x^2)\n",
    "h=(sqrt(x))\n",
    "x = var ('x')\n",
    "plot(f(x), (-1, 1), color=\"blue\") + plot(g(x), (-1, 1), color=\"red\") + plot(h(x), (0, 1), color=\"green\")"
   ]
  },
  {
   "cell_type": "code",
   "execution_count": 58,
   "metadata": {},
   "outputs": [
    {
     "data": {
      "text/html": [
       "<html><script type=\"math/tex; mode=display\">\\newcommand{\\Bold}[1]{\\mathbf{#1}}\\verb|Au|\\phantom{\\verb!x!}\\verb|voisinage|\\phantom{\\verb!x!}\\verb|de|\\phantom{\\verb!x!}\\verb|+inf,|\\phantom{\\verb!x!}\\verb|1/x|\\phantom{\\verb!x!}\\verb|et|\\phantom{\\verb!x!}\\verb|1/x^3|\\phantom{\\verb!x!}\\verb|sont|\\phantom{\\verb!x!}\\verb|négligeables|\\phantom{\\verb!x!}\\verb|par|\\phantom{\\verb!x!}\\verb|rapport|\\phantom{\\verb!x!}\\verb|à|\\phantom{\\verb!x!}\\verb|ln(x).|</script></html>"
      ],
      "text/latex": [
       "\\begin{math}\n",
       "\\newcommand{\\Bold}[1]{\\mathbf{#1}}\\verb|Au|\\phantom{\\verb!x!}\\verb|voisinage|\\phantom{\\verb!x!}\\verb|de|\\phantom{\\verb!x!}\\verb|+inf,|\\phantom{\\verb!x!}\\verb|1/x|\\phantom{\\verb!x!}\\verb|et|\\phantom{\\verb!x!}\\verb|1/x^3|\\phantom{\\verb!x!}\\verb|sont|\\phantom{\\verb!x!}\\verb|négligeables|\\phantom{\\verb!x!}\\verb|par|\\phantom{\\verb!x!}\\verb|rapport|\\phantom{\\verb!x!}\\verb|à|\\phantom{\\verb!x!}\\verb|ln(x).|\n",
       "\\end{math}"
      ],
      "text/plain": [
       "'Au voisinage de +inf, 1/x et 1/x^3 sont négligeables par rapport à ln(x).'"
      ]
     },
     "metadata": {},
     "output_type": "display_data"
    },
    {
     "data": {
      "text/html": [
       "<html><script type=\"math/tex; mode=display\">\\newcommand{\\Bold}[1]{\\mathbf{#1}}\\verb|Au|\\phantom{\\verb!x!}\\verb|voisinage|\\phantom{\\verb!x!}\\verb|de|\\phantom{\\verb!x!}\\verb|+inf,|\\phantom{\\verb!x!}\\verb|1/x|\\phantom{\\verb!x!}\\verb|et|\\phantom{\\verb!x!}\\verb|1/x^3|\\phantom{\\verb!x!}\\verb|semblent|\\phantom{\\verb!x!}\\verb|équivalentes.|</script></html>"
      ],
      "text/latex": [
       "\\begin{math}\n",
       "\\newcommand{\\Bold}[1]{\\mathbf{#1}}\\verb|Au|\\phantom{\\verb!x!}\\verb|voisinage|\\phantom{\\verb!x!}\\verb|de|\\phantom{\\verb!x!}\\verb|+inf,|\\phantom{\\verb!x!}\\verb|1/x|\\phantom{\\verb!x!}\\verb|et|\\phantom{\\verb!x!}\\verb|1/x^3|\\phantom{\\verb!x!}\\verb|semblent|\\phantom{\\verb!x!}\\verb|équivalentes.|\n",
       "\\end{math}"
      ],
      "text/plain": [
       "'Au voisinage de +inf, 1/x et 1/x^3 semblent équivalentes.'"
      ]
     },
     "metadata": {},
     "output_type": "display_data"
    },
    {
     "data": {
      "image/png": "[encoded data removed]",
      "text/plain": [
       "Graphics object consisting of 4 graphics primitives"
      ]
     },
     "execution_count": 58,
     "metadata": {},
     "output_type": "execute_result"
    }
   ],
   "source": [
    "#Question 2:\n",
    "\n",
    "show(\"Au voisinage de +inf, 1/x et 1/x^3 sont négligeables par rapport à ln(x).\")\n",
    "\n",
    "show(\"Au voisinage de +inf, 1/x et 1/x^3 semblent équivalentes.\")\n",
    "\n",
    "f=(1/x)\n",
    "g=(1/x^3)\n",
    "h=(-ln(x))\n",
    "x = var ('x')\n",
    "plot(f(x), (1, 50), color=\"blue\") + plot(g(x), (1, 50), color=\"red\") + plot(h(x), (1, 50), color=\"green\")"
   ]
  },
  {
   "cell_type": "markdown",
   "metadata": {},
   "source": [
    "<p>&nbsp;</p>\n",
    "<p>&nbsp;</p>\n",
    "<p><span style=\"text-decoration: underline;\">EXERCICE 4 :<span style=\"color: #000000;\"><span class=\"CodeMirror-widget\"><span class=\"sagews-output sagews-output-done\"><span class=\"sagews-output-html\"> M&Eacute;THODE DE LA DICHOTOMIE </span></span></span></span></span></p>\n",
    "<p>&nbsp;Nous voulons d&eacute;terminer une valeur approch&eacute;e d'une solution d'&eacute;quation du type $f(x)=0$ en utilisant la dichotomie.</p>\n",
    "<ol>\n",
    "<li><span style=\"color: #000000;\"><span class=\"CodeMirror-widget\"><span class=\"sagews-output sagews-output-done\"><span class=\"sagews-output-html\"><span style=\"color: #000000;\"><span class=\"CodeMirror-widget\"><span class=\"sagews-output sagews-output-done\"><span class=\"sagews-output-html\">D&eacute;finir une fonction<span style=\"font-family: courier new,courier;\"> <strong>dicho_n(f,a,b,n)</strong></span></span></span></span></span> qui prend en entr&eacute;e une fonction <strong>f</strong>, les extrêmes de l'intervalle <strong>a</strong> e<strong> b</strong>, et le nombre d'&eacute;tapes voulues <strong>n</strong>. Elle renvoie en sortie l'encadrement pour la solution approch&eacute;e par dichotomie, donc les nouvelles valeurs de $a$ et $b$.</span></span></span></span></li>\n",
    "<li><span style=\"color: #000000;\"><span class=\"CodeMirror-widget\"><span class=\"sagews-output sagews-output-done\"><span class=\"sagews-output-html\"><span style=\"color: #000000;\"><span class=\"CodeMirror-widget\"><span class=\"sagews-output sagews-output-done\"><span class=\"sagews-output-html\"><span style=\"color: #000000;\"><span class=\"CodeMirror-widget\"><span class=\"sagews-output sagews-output-done\"><span class=\"sagews-output-html\">D&eacute;finir une fonction<span style=\"font-family: courier new,courier;\"> <strong>dicho_prec(f,a,b,prec)</strong></span></span></span></span></span> qui prend en entr&eacute;e une fonction <strong>f</strong>, les extrêmes de l'intervalle <strong>a</strong> et <strong>b</strong>, et la pr&eacute;cision souhait&eacute;e <strong>prec</strong>. Elle renvoie en sortie l'encadrement pour la solution approch&eacute;e par dichotomie, donc les nouvelles valeurs de a et b.</span></span></span></span></span></span></span></span></li>\n",
    "<li><span style=\"color: #000000;\"><span class=\"CodeMirror-widget\"><span class=\"sagews-output sagews-output-done\"><span class=\"sagews-output-html\"><span style=\"color: #000000;\"><span class=\"CodeMirror-widget\"><span class=\"sagews-output sagews-output-done\"><span class=\"sagews-output-html\">Dessiner&nbsp;&nbsp;$f(x)=x^3+2x-1$ sur $[0,1]$. Expliquer pourquoi l'&eacute;quation $f(x)=0$ admet une unique solution $\\alpha$ et v&eacute;rifier que $\\alpha \\in [0,1]$.</span></span></span></span></span></span></span></span></li>\n",
    "<li><span style=\"color: #000000;\"><span class=\"CodeMirror-widget\"><span class=\"sagews-output sagews-output-done\"><span class=\"sagews-output-html\"><span style=\"color: #000000;\"><span class=\"CodeMirror-widget\"><span class=\"sagews-output sagews-output-done\"><span class=\"sagews-output-html\">Tester vos fonctions sur $f(x)=x^3+2x-1$.</span></span></span></span></span></span></span></span></li>\n",
    "</ol>\n",
    "<p><span style=\"color: #000000;\"><span class=\"CodeMirror-widget\"><span class=\"sagews-output sagews-output-done\"><span class=\"sagews-output-html\"><span style=\"color: #000000;\"><span class=\"CodeMirror-widget\"><span class=\"sagews-output sagews-output-done\"><span class=\"sagews-output-html\"><br /></span></span></span></span></span></span></span></span></p>"
   ]
  },
  {
   "cell_type": "code",
   "execution_count": 141,
   "metadata": {},
   "outputs": [],
   "source": [
    "def dicho_n(f,a,b,n):\n",
    "    a2 = a\n",
    "    b2 = b\n",
    "    x = var('x')\n",
    "    for i in range (0,n):\n",
    "        if a == b:\n",
    "            return (\"Les bornes sont identiques\")\n",
    "        if f(a2)*(f((a2+b2)/2)) < 0:\n",
    "            a2 = a2\n",
    "            b2 = (a2+b2)/2\n",
    "        else:\n",
    "            a2 = (a2+b2)/2\n",
    "            b2 = b2\n",
    "    return (f\"f(x)=0 est compris entre {a2} et {b2}\")\n"
   ]
  },
  {
   "cell_type": "code",
   "execution_count": 142,
   "metadata": {},
   "outputs": [],
   "source": [
    "def dicho_prec(f,a,b,prec):\n",
    "    a2 = a\n",
    "    b2 = b\n",
    "    while prec <= (b2 - a2) :\n",
    "        if a == b:\n",
    "            return (\"Les bornes sont identiques\")\n",
    "        mid = (a2+b2)/2\n",
    "        if f(a2)*f((a2+b2)/2) < 0:\n",
    "            a2 = a2\n",
    "            b2 = (a2+b2)/2\n",
    "        else :\n",
    "            a2 = (a2+b2)/2\n",
    "            b2 = b2\n",
    "    return (f\"f(x)=0 est compris entre {a2} et {b2}\")\n"
   ]
  },
  {
   "cell_type": "code",
   "execution_count": 151,
   "metadata": {
    "scrolled": true
   },
   "outputs": [
    {
     "data": {
      "text/html": [
       "<html><script type=\"math/tex; mode=display\">\\newcommand{\\Bold}[1]{\\mathbf{#1}}\\verb|f(x)=0|\\phantom{\\verb!x!}\\verb|est|\\phantom{\\verb!x!}\\verb|compris|\\phantom{\\verb!x!}\\verb|entre|\\phantom{\\verb!x!}\\verb|7/16|\\phantom{\\verb!x!}\\verb|et|\\phantom{\\verb!x!}\\verb|15/32|</script></html>"
      ],
      "text/latex": [
       "\\begin{math}\n",
       "\\newcommand{\\Bold}[1]{\\mathbf{#1}}\\verb|f(x)=0|\\phantom{\\verb!x!}\\verb|est|\\phantom{\\verb!x!}\\verb|compris|\\phantom{\\verb!x!}\\verb|entre|\\phantom{\\verb!x!}\\verb|7/16|\\phantom{\\verb!x!}\\verb|et|\\phantom{\\verb!x!}\\verb|15/32|\n",
       "\\end{math}"
      ],
      "text/plain": [
       "'f(x)=0 est compris entre 7/16 et 15/32'"
      ]
     },
     "metadata": {},
     "output_type": "display_data"
    },
    {
     "data": {
      "text/html": [
       "<html><script type=\"math/tex; mode=display\">\\newcommand{\\Bold}[1]{\\mathbf{#1}}\\verb|f(x)=0|\\phantom{\\verb!x!}\\verb|est|\\phantom{\\verb!x!}\\verb|compris|\\phantom{\\verb!x!}\\verb|entre|\\phantom{\\verb!x!}\\verb|29/64|\\phantom{\\verb!x!}\\verb|et|\\phantom{\\verb!x!}\\verb|59/128|</script></html>"
      ],
      "text/latex": [
       "\\begin{math}\n",
       "\\newcommand{\\Bold}[1]{\\mathbf{#1}}\\verb|f(x)=0|\\phantom{\\verb!x!}\\verb|est|\\phantom{\\verb!x!}\\verb|compris|\\phantom{\\verb!x!}\\verb|entre|\\phantom{\\verb!x!}\\verb|29/64|\\phantom{\\verb!x!}\\verb|et|\\phantom{\\verb!x!}\\verb|59/128|\n",
       "\\end{math}"
      ],
      "text/plain": [
       "'f(x)=0 est compris entre 29/64 et 59/128'"
      ]
     },
     "metadata": {},
     "output_type": "display_data"
    }
   ],
   "source": [
    "x = var('x')\n",
    "f(x)=(x^3+2*x-1)\n",
    "show(dicho_n(f,0,1,5))\n",
    "show(dicho_prec(f,0,1,0.01))"
   ]
  },
  {
   "cell_type": "markdown",
   "metadata": {},
   "source": [
    "<p><span style=\"text-decoration: underline;\">EXERCICE 5 :<span class=\"CodeMirror-widget\"><span class=\"sagews-output sagews-output-done\"><span class=\"sagews-output-html\"><span class=\"CodeMirror-widget\"><span class=\"sagews-output sagews-output-done\"><span class=\"sagews-output-html\"><span class=\"CodeMirror-widget\"><span class=\"sagews-output sagews-output-done\"><span class=\"sagews-output-html\"><span class=\"CodeMirror-widget\"><span class=\"sagews-output sagews-output-done\"><span class=\"sagews-output-html\"><span class=\"CodeMirror-widget\"><span class=\"sagews-output sagews-output-done\"><span class=\"sagews-output-html\"><span class=\"CodeMirror-widget\"><span class=\"sagews-output sagews-output-done\"><span class=\"sagews-output-html\">&nbsp;M&Eacute;THODE DE NEWTON POUR LA RACINE CARR&Eacute;E</span></span></span></span></span></span></span></span></span></span></span></span></span></span></span></span></span></span></span></p>\n",
    "<p>&nbsp;</p>\n",
    "<p>Nous voulons d&eacute;terminer une valeur approch&eacute;e d'une solution d'&eacute;quation du type $f(x)=0$ en utilisant la m&eacute;thode de Newton.</p>\n",
    "<p>Soient&nbsp;$f:[a,b]\\rightarrow \\mathbb{R}$ une fonction d&eacute;rivable et $x_0$ un point de $u_0 \\in[a,b].$ On appelle $(u_1,0)$ l'intersection de la tangente au graphe de $f$ en $(u_0,f(u_0))$ avec l'axe des abscisses. Si $u_1\\in [a,b]$ alors on recommence l'op&eacute;ration avec la tangente au point d'abscisse $u_1$. Ce processus conduit &agrave; la d&eacute;finition d'une suite r&eacute;currente :</p>\n",
    "<p>$$u_0 \\in [a,b] \\qquad \\text{ et } \\qquad u_{n+1}=u_n-\\frac{f(u_n)}{f'(u_n)}.$$</p>\n",
    "<ol>\n",
    "<li><span>Avec vos mots et des formules, si n&eacute;cessaire, expliquer comment la m&eacute;thode de Newton fonctionne.</span></li>\n",
    "</ol>\n",
    "<div>A partir de la suite de Newton, si on pose $f(x)=x^p-a$, avec $f'(x)=p \\ x^{p-1}$, on peut calculer $a^{\\frac{1}{p}}$.&nbsp;</div>\n",
    "<div>&nbsp;</div>\n",
    "<div><span class=\"CodeMirror-widget\"><span class=\"sagews-output sagews-output-done\"><span class=\"sagews-output-html\">&nbsp; &nbsp; &nbsp; &nbsp; &nbsp; 2. Reformuler la r&eacute;currence de Newton.</span></span></span></div>\n",
    "<div><span class=\"CodeMirror-widget\"><span class=\"sagews-output sagews-output-done\"><span class=\"sagews-output-html\">&nbsp; &nbsp; &nbsp; &nbsp; &nbsp; 3. D&eacute;finir une fonction&nbsp;<strong>racine_newton(a,p,u,n)</strong></span></span></span>&nbsp;qui prend en entr&eacute;e un r&eacute;el&nbsp;<strong>a</strong>&nbsp;$\\geq 0$, une puissance <strong>p</strong>, une valeur initiale&nbsp;<strong>u</strong>&nbsp;et le nombre&nbsp;<strong>n</strong>&nbsp;d'it&eacute;rations. Elle renvoie en sortie la valeur approch&eacute;e de $a^{\\frac{1}{p}}$.</div>\n",
    "<div>&nbsp; &nbsp; &nbsp; &nbsp; &nbsp; 4. Donner une approximation apr&egrave;s 4 &eacute;tapes de $(1,10)^{\\frac{1}{12}}$.</div>"
   ]
  },
  {
   "cell_type": "code",
   "execution_count": 157,
   "metadata": {},
   "outputs": [
    {
     "data": {
      "text/html": [
       "<html><script type=\"math/tex; mode=display\">\\newcommand{\\Bold}[1]{\\mathbf{#1}}\\verb|On|\\phantom{\\verb!x!}\\verb|réalise|\\phantom{\\verb!x!}\\verb|le|\\phantom{\\verb!x!}\\verb|produit|\\phantom{\\verb!x!}\\verb|de|\\phantom{\\verb!x!}\\verb|la|\\phantom{\\verb!x!}\\verb|fonction|\\phantom{\\verb!x!}\\verb|f(u_n)|\\phantom{\\verb!x!}\\verb|par|\\phantom{\\verb!x!}\\verb|la|\\phantom{\\verb!x!}\\verb|tangente|\\phantom{\\verb!x!}\\verb|au|\\phantom{\\verb!x!}\\verb|point|\\phantom{\\verb!x!}\\verb|U_n|\\phantom{\\verb!x!}\\verb|a|\\phantom{\\verb!x!}\\verb|qui|\\phantom{\\verb!x!}\\verb|on|\\phantom{\\verb!x!}\\verb|soustrait|\\phantom{\\verb!x!}\\verb|U_n.|</script></html>"
      ],
      "text/latex": [
       "\\begin{math}\n",
       "\\newcommand{\\Bold}[1]{\\mathbf{#1}}\\verb|On|\\phantom{\\verb!x!}\\verb|réalise|\\phantom{\\verb!x!}\\verb|le|\\phantom{\\verb!x!}\\verb|produit|\\phantom{\\verb!x!}\\verb|de|\\phantom{\\verb!x!}\\verb|la|\\phantom{\\verb!x!}\\verb|fonction|\\phantom{\\verb!x!}\\verb|f(u_n)|\\phantom{\\verb!x!}\\verb|par|\\phantom{\\verb!x!}\\verb|la|\\phantom{\\verb!x!}\\verb|tangente|\\phantom{\\verb!x!}\\verb|au|\\phantom{\\verb!x!}\\verb|point|\\phantom{\\verb!x!}\\verb|U_n|\\phantom{\\verb!x!}\\verb|a|\\phantom{\\verb!x!}\\verb|qui|\\phantom{\\verb!x!}\\verb|on|\\phantom{\\verb!x!}\\verb|soustrait|\\phantom{\\verb!x!}\\verb|U_n.|\n",
       "\\end{math}"
      ],
      "text/plain": [
       "'On réalise le produit de la fonction f(u_n) par la tangente au point U_n a qui on soustrait U_n. '"
      ]
     },
     "metadata": {},
     "output_type": "display_data"
    },
    {
     "data": {
      "text/html": [
       "<html><script type=\"math/tex; mode=display\">\\newcommand{\\Bold}[1]{\\mathbf{#1}}\\verb|On|\\phantom{\\verb!x!}\\verb|prend|\\phantom{\\verb!x!}\\verb|un|\\phantom{\\verb!x!}\\verb|point|\\phantom{\\verb!x!}\\verb|aléatoire|\\phantom{\\verb!x!}\\verb|sur|\\phantom{\\verb!x!}\\verb|un|\\phantom{\\verb!x!}\\verb|intervalle|\\phantom{\\verb!x!}\\verb|[a;b]|\\phantom{\\verb!x!}\\verb|et|\\phantom{\\verb!x!}\\verb|on|\\phantom{\\verb!x!}\\verb|trace|\\phantom{\\verb!x!}\\verb|la|\\phantom{\\verb!x!}\\verb|tangente|\\phantom{\\verb!x!}\\verb|en|\\phantom{\\verb!x!}\\verb|ce|\\phantom{\\verb!x!}\\verb|point.|</script></html>"
      ],
      "text/latex": [
       "\\begin{math}\n",
       "\\newcommand{\\Bold}[1]{\\mathbf{#1}}\\verb|On|\\phantom{\\verb!x!}\\verb|prend|\\phantom{\\verb!x!}\\verb|un|\\phantom{\\verb!x!}\\verb|point|\\phantom{\\verb!x!}\\verb|aléatoire|\\phantom{\\verb!x!}\\verb|sur|\\phantom{\\verb!x!}\\verb|un|\\phantom{\\verb!x!}\\verb|intervalle|\\phantom{\\verb!x!}\\verb|[a;b]|\\phantom{\\verb!x!}\\verb|et|\\phantom{\\verb!x!}\\verb|on|\\phantom{\\verb!x!}\\verb|trace|\\phantom{\\verb!x!}\\verb|la|\\phantom{\\verb!x!}\\verb|tangente|\\phantom{\\verb!x!}\\verb|en|\\phantom{\\verb!x!}\\verb|ce|\\phantom{\\verb!x!}\\verb|point.|\n",
       "\\end{math}"
      ],
      "text/plain": [
       "'On prend un point aléatoire sur un intervalle [a;b] et on trace la tangente en ce point.'"
      ]
     },
     "metadata": {},
     "output_type": "display_data"
    },
    {
     "data": {
      "text/html": [
       "<html><script type=\"math/tex; mode=display\">\\newcommand{\\Bold}[1]{\\mathbf{#1}}\\verb|Cette|\\phantom{\\verb!x!}\\verb|tangente,|\\phantom{\\verb!x!}\\verb|à|\\phantom{\\verb!x!}\\verb|l'endroit|\\phantom{\\verb!x!}\\verb|ou|\\phantom{\\verb!x!}\\verb|elle|\\phantom{\\verb!x!}\\verb|coupe|\\phantom{\\verb!x!}\\verb|l'axe|\\phantom{\\verb!x!}\\verb|des|\\phantom{\\verb!x!}\\verb|absisses,|\\phantom{\\verb!x!}\\verb|devient|\\phantom{\\verb!x!}\\verb|le|\\phantom{\\verb!x!}\\verb|nouveau|\\phantom{\\verb!x!}\\verb|point|\\phantom{\\verb!x!}\\verb|choisi|\\phantom{\\verb!x!}\\verb|aléatoirement|\\phantom{\\verb!x!}\\verb|la|\\phantom{\\verb!x!}\\verb|première|\\phantom{\\verb!x!}\\verb|fois|</script></html>"
      ],
      "text/latex": [
       "\\begin{math}\n",
       "\\newcommand{\\Bold}[1]{\\mathbf{#1}}\\verb|Cette|\\phantom{\\verb!x!}\\verb|tangente,|\\phantom{\\verb!x!}\\verb|à|\\phantom{\\verb!x!}\\verb|l'endroit|\\phantom{\\verb!x!}\\verb|ou|\\phantom{\\verb!x!}\\verb|elle|\\phantom{\\verb!x!}\\verb|coupe|\\phantom{\\verb!x!}\\verb|l'axe|\\phantom{\\verb!x!}\\verb|des|\\phantom{\\verb!x!}\\verb|absisses,|\\phantom{\\verb!x!}\\verb|devient|\\phantom{\\verb!x!}\\verb|le|\\phantom{\\verb!x!}\\verb|nouveau|\\phantom{\\verb!x!}\\verb|point|\\phantom{\\verb!x!}\\verb|choisi|\\phantom{\\verb!x!}\\verb|aléatoirement|\\phantom{\\verb!x!}\\verb|la|\\phantom{\\verb!x!}\\verb|première|\\phantom{\\verb!x!}\\verb|fois|\n",
       "\\end{math}"
      ],
      "text/plain": [
       "\"Cette tangente, à l'endroit ou elle coupe l'axe des absisses, devient le nouveau point choisi aléatoirement la première fois\""
      ]
     },
     "metadata": {},
     "output_type": "display_data"
    },
    {
     "data": {
      "text/html": [
       "<html><script type=\"math/tex; mode=display\">\\newcommand{\\Bold}[1]{\\mathbf{#1}}\\verb|Et|\\phantom{\\verb!x!}\\verb|on|\\phantom{\\verb!x!}\\verb|itère|\\phantom{\\verb!x!}\\verb|cela|\\phantom{\\verb!x!}\\verb|n|\\phantom{\\verb!x!}\\verb|fois|\\phantom{\\verb!x!}\\verb|jusqu'à|\\phantom{\\verb!x!}\\verb|obtenir|\\phantom{\\verb!x!}\\verb|une|\\phantom{\\verb!x!}\\verb|valeur|\\phantom{\\verb!x!}\\verb|suffisante.|</script></html>"
      ],
      "text/latex": [
       "\\begin{math}\n",
       "\\newcommand{\\Bold}[1]{\\mathbf{#1}}\\verb|Et|\\phantom{\\verb!x!}\\verb|on|\\phantom{\\verb!x!}\\verb|itère|\\phantom{\\verb!x!}\\verb|cela|\\phantom{\\verb!x!}\\verb|n|\\phantom{\\verb!x!}\\verb|fois|\\phantom{\\verb!x!}\\verb|jusqu'à|\\phantom{\\verb!x!}\\verb|obtenir|\\phantom{\\verb!x!}\\verb|une|\\phantom{\\verb!x!}\\verb|valeur|\\phantom{\\verb!x!}\\verb|suffisante.|\n",
       "\\end{math}"
      ],
      "text/plain": [
       "\"Et on itère cela n fois jusqu'à obtenir une valeur suffisante.\""
      ]
     },
     "metadata": {},
     "output_type": "display_data"
    },
    {
     "data": {
      "text/html": [
       "<html><script type=\"math/tex; mode=display\">\\newcommand{\\Bold}[1]{\\mathbf{#1}}\\verb|Cela|\\phantom{\\verb!x!}\\verb|permet|\\phantom{\\verb!x!}\\verb|de|\\phantom{\\verb!x!}\\verb|réduire|\\phantom{\\verb!x!}\\verb|une|\\phantom{\\verb!x!}\\verb|borne|\\phantom{\\verb!x!}\\verb|de|\\phantom{\\verb!x!}\\verb|l'intervalle.|</script></html>"
      ],
      "text/latex": [
       "\\begin{math}\n",
       "\\newcommand{\\Bold}[1]{\\mathbf{#1}}\\verb|Cela|\\phantom{\\verb!x!}\\verb|permet|\\phantom{\\verb!x!}\\verb|de|\\phantom{\\verb!x!}\\verb|réduire|\\phantom{\\verb!x!}\\verb|une|\\phantom{\\verb!x!}\\verb|borne|\\phantom{\\verb!x!}\\verb|de|\\phantom{\\verb!x!}\\verb|l'intervalle.|\n",
       "\\end{math}"
      ],
      "text/plain": [
       "\"Cela permet de réduire une borne de l'intervalle.\""
      ]
     },
     "metadata": {},
     "output_type": "display_data"
    }
   ],
   "source": [
    "#Question 1 :\n",
    "show(\"On réalise le produit de la fonction f(u_n) par la tangente au point U_n a qui on soustrait U_n. \")\n",
    "show(\"On prend un point aléatoire sur un intervalle [a;b] et on trace la tangente en ce point.\")\n",
    "show(\"Cette tangente, à l'endroit ou elle coupe l'axe des absisses, devient le nouveau point choisi aléatoirement la première fois\")\n",
    "show(\"Et on itère cela n fois jusqu'à obtenir une valeur suffisante.\")\n",
    "show(\"Cela permet de réduire une borne de l'intervalle.\")"
   ]
  },
  {
   "cell_type": "code",
   "execution_count": 13,
   "metadata": {},
   "outputs": [
    {
     "data": {
      "text/html": [
       "<html><script type=\"math/tex; mode=display\">\\newcommand{\\Bold}[1]{\\mathbf{#1}}\\frac{a - x^{p}}{p x^{p - 1}}</script></html>"
      ],
      "text/latex": [
       "\\begin{math}\n",
       "\\newcommand{\\Bold}[1]{\\mathbf{#1}}\\frac{a - x^{p}}{p x^{p - 1}}\n",
       "\\end{math}"
      ],
      "text/plain": [
       "(a - x^p)/(p*x^(p - 1))"
      ]
     },
     "metadata": {},
     "output_type": "display_data"
    }
   ],
   "source": [
    "#Question 2 :\n",
    "x = var('x')\n",
    "a = var('a')\n",
    "p = var('p')\n",
    "new = 0\n",
    "new = (new - ((x^p) - a)/(p * (x^(p-1))))\n",
    "\n",
    "show(new)\n"
   ]
  },
  {
   "cell_type": "code",
   "execution_count": 27,
   "metadata": {},
   "outputs": [],
   "source": [
    "#Question 3 :\n",
    "def racine_newton(a,p,u,n):\n",
    "    new = u\n",
    "    if u == 0:\n",
    "        return (\"U doit être différent de 0.\")\n",
    "    if a < 0:\n",
    "        return (\"A n'est pas valide.\")\n",
    "    for i in range (0,n):\n",
    "        new = (new - (((new^p) - a)/(p * (new^(p-1)))))\n",
    "    return new\n",
    "    "
   ]
  },
  {
   "cell_type": "code",
   "execution_count": 30,
   "metadata": {},
   "outputs": [
    {
     "data": {
      "text/html": [
       "<html><script type=\"math/tex; mode=display\">\\newcommand{\\Bold}[1]{\\mathbf{#1}}1.00797414042890</script></html>"
      ],
      "text/latex": [
       "\\begin{math}\n",
       "\\newcommand{\\Bold}[1]{\\mathbf{#1}}1.00797414042890\n",
       "\\end{math}"
      ],
      "text/plain": [
       "1.00797414042890"
      ]
     },
     "metadata": {},
     "output_type": "display_data"
    }
   ],
   "source": [
    "#Question 4 : \n",
    "show(racine_newton(1.10,12,1,4))"
   ]
  },
  {
   "cell_type": "markdown",
   "metadata": {},
   "source": [
    "<p><span style=\"text-decoration: underline;\"><br /></span></p>\n",
    "<p><span style=\"text-decoration: underline;\">EXERCICE 6<br /></span></p>\n",
    "<p><span style=\"text-decoration: underline;\"><br /></span>a) Donner un d&eacute;veloppement limit&eacute; de $g(x)=\\arctan(x)$ en $x=0$ &agrave; l'ordre 5.</p>\n",
    "<p>b) D&eacute;ssiner :</p>\n",
    "<ol>\n",
    "<li>le graphe $g(x): \\mathbb{R}\\rightarrow (-\\frac{\\pi}{2},\\frac{\\pi}{2})$ en bleu ;</li>\n",
    "<li>le d&eacute;veloppement limit&eacute; de $g(x)$ &agrave; l'ordre 5 en rouge ;</li>\n",
    "<li>la fonction $\\tan(x): (-\\frac{\\pi}{2},\\frac{\\pi}{2}) \\rightarrow \\mathbb{R}$ en noir.</li>\n",
    "</ol>\n",
    "<div><em>Suggestion : Voir&nbsp;help(plot) pour utiliser les options \"aspect_ratio, ymin, ymax, exclude....\"</em></div>\n",
    "<p>c) Quelle relation y a-t-il entre $\\tan(x)$ et $\\arctan(x)$ ?</p>"
   ]
  },
  {
   "cell_type": "code",
   "execution_count": 32,
   "metadata": {},
   "outputs": [
    {
     "data": {
      "text/html": [
       "<html><script type=\"math/tex; mode=display\">\\newcommand{\\Bold}[1]{\\mathbf{#1}}\\frac{1}{5} \\, x^{5} - \\frac{1}{3} \\, x^{3} + x</script></html>"
      ],
      "text/latex": [
       "\\begin{math}\n",
       "\\newcommand{\\Bold}[1]{\\mathbf{#1}}\\frac{1}{5} \\, x^{5} - \\frac{1}{3} \\, x^{3} + x\n",
       "\\end{math}"
      ],
      "text/plain": [
       "1/5*x^5 - 1/3*x^3 + x"
      ]
     },
     "metadata": {},
     "output_type": "display_data"
    }
   ],
   "source": [
    "#Question a)\n",
    "g = arctan(x) \n",
    "x = var('x')\n",
    "show(taylor(f,x,0,5))"
   ]
  },
  {
   "cell_type": "code",
   "execution_count": 35,
   "metadata": {},
   "outputs": [
    {
     "data": {
      "image/png": "[encoded data removed]",
      "text/plain": [
       "Graphics object consisting of 3 graphics primitives"
      ]
     },
     "execution_count": 35,
     "metadata": {},
     "output_type": "execute_result"
    }
   ],
   "source": [
    "#Question b):\n",
    "g=(arctan(x))\n",
    "h=(taylor(f,x,0,5))\n",
    "i =(tan(x))\n",
    "x = var ('x')\n",
    "plot(g(x), (-pi/2, pi/2), color=\"blue\") + plot(h(x), (-pi/2, pi/2), color=\"red\") + plot(i(x), (-pi/2, pi/2), color=\"black\")"
   ]
  },
  {
   "cell_type": "code",
   "execution_count": 35,
   "metadata": {},
   "outputs": [
    {
     "data": {
      "text/html": [
       "<html><script type=\"math/tex; mode=display\">\\newcommand{\\Bold}[1]{\\mathbf{#1}}\\arctan\\left(x\\right) \\verb|o| \\tan\\left(x\\right) \\verb|=|\\phantom{\\verb!x!}\\verb|Id|</script></html>"
      ],
      "text/latex": [
       "\\begin{math}\n",
       "\\newcommand{\\Bold}[1]{\\mathbf{#1}}\\arctan\\left(x\\right) \\verb|o| \\tan\\left(x\\right) \\verb|=|\\phantom{\\verb!x!}\\verb|Id|\n",
       "\\end{math}"
      ],
      "text/plain": [
       "arctan(x) 'o' tan(x) '= Id'"
      ]
     },
     "metadata": {},
     "output_type": "display_data"
    }
   ],
   "source": [
    "f1 = arctan(x)\n",
    "f2 = tan(x)\n",
    "x = var('x')\n",
    "show(f1, 'o' ,f2 ,'= Id')"
   ]
  },
  {
   "cell_type": "code",
   "execution_count": null,
   "metadata": {},
   "outputs": [],
   "source": []
  },
  {
   "cell_type": "code",
   "execution_count": null,
   "metadata": {},
   "outputs": [],
   "source": []
  }
 ],
 "metadata": {
  "kernelspec": {
   "display_name": "SageMath 9.2",
   "language": "sage",
   "name": "sagemath"
  },
  "language_info": {
   "codemirror_mode": {
    "name": "ipython",
    "version": 3
   },
   "file_extension": ".py",
   "mimetype": "text/x-python",
   "name": "python",
   "nbconvert_exporter": "python",
   "pygments_lexer": "ipython3",
   "version": "3.8.6"
  }
 },
 "nbformat": 4,
 "nbformat_minor": 2
}
