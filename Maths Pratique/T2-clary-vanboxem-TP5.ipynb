{
 "cells": [
  {
   "cell_type": "markdown",
   "metadata": {},
   "source": [
    "<p><span style=\"font-size: large; background-color: #ffffff; color: #000000;\"><strong>Consignes :</strong></span></p>\n",
    "<ul>\n",
    "<li><span style=\"font-size: large; background-color: #ffffff; color: #000000;\"><strong><strong>Renommer ce fichier en ordre alphab&eacute;tique avec le numéro i de votre Tiers <span style=\"color: #ff0000;\">Ti_nom1-nom2-TP5</span></strong></strong></span></li>\n",
    "<li><span style=\"font-size: large; background-color: #ffffff; color: #000000;\"><strong><strong><strong>TP &agrave; rendre sur Teams&nbsp;<span><span style=\"color: #ff0000;\">&agrave; la fin de la s&eacute;ance</span>.</span>&nbsp;</strong></strong></strong></span></li>\n",
    "<li><span style=\"font-size: large; background-color: #ffffff; color: #000000;\"><strong>TP &agrave; faire en groupe de 2. Le groupe de travail reste le m&ecirc;me pour toute l'ann&eacute;e.</strong></span></li>\n",
    "<li><span style=\"font-size: large; background-color: #ffffff; color: #ff0000;\"><span style=\"color: #000000;\"><strong>&Agrave; compl&eacute;ter :</strong></span></span></li>\n",
    "</ul>\n",
    "<p><span style=\"font-size: large; background-color: #ffffff; color: #ff0000;\"><strong>NOM PRENOM 1 : CLARY Émilie <br /></strong></span></p>\n",
    "<p><span style=\"font-size: large; background-color: #ffffff; color: #ff0000;\"><strong>NOM PRENOM 2 : VAN BOXEM Rémi</strong></span></p>\n",
    "<p>&nbsp;</p>\n",
    "<p><span style=\"font-size: large;\"><strong></strong><strong>TP 5 : Int&eacute;gration<br /></strong></span></p>\n",
    "<p><span style=\"font-size: large;\"><strong><br /></strong></span></p>\n",
    "<ul>\n",
    "<li><span style=\"font-size: medium;\">Utiliser la commande <span style=\"font-family: courier new,courier;\"><strong>integrate</strong></span> ou <span style=\"font-size: medium;\"><span style=\"font-family: courier new,courier;\"><strong>integral</strong></span></span> pour &eacute;valuer une int&eacute;grale sur un intervalle fini ou calculer l'expression analytique d'une primitive.</span></li>\n",
    "<li><span style=\"font-size: medium;\">Utiliser la commande <strong><span style=\"font-family: courier new,courier;\">numerical_approx</span></strong> ou <strong><span style=\"font-family: courier new,courier;\">N</span></strong> pour avoir une approximation de l'int&eacute;grale.</span></li>\n",
    "</ul>\n",
    "<div><span style=\"font-size: medium;\">Quelques remarques :</span></div>\n",
    "<ul>\n",
    "<li><span style=\"font-size: medium;\">La machine renvoie UNE primitive. Pour avoir l'ensemble des primitives, il faut bien entendu ajouter une constante.</span></li>\n",
    "<li><span style=\"font-size: medium;\">La fonction $\\log$ est la fonction logarithme n&eacute;p&eacute;rien usuel, habituellement not&eacute;e $\\ln$.</span></li>\n",
    "<li><span style=\"font-size: medium;\">Sage omet les valeurs absolues, ce qui ne l'emp&ecirc;che pas de faire des calculs exacts m&ecirc;me pour les valeurs n&eacute;gatives. (Il travaille avec le logarithme complexe).</span></li>\n",
    "</ul>\n",
    "<p><span style=\"font-size: medium;\">Consultez la documentation pour les <a href=\"http://doc.sagemath.org/html/fr/tutorial/tour_algebra.html\">int&eacute;grales</a>&nbsp;.<br /></span></p>"
   ]
  },
  {
   "cell_type": "code",
   "execution_count": 1,
   "metadata": {},
   "outputs": [
    {
     "name": "stdout",
     "output_type": "stream",
     "text": [
      "Help on function integral in module sage.misc.functional:\n",
      "\n",
      "integral(x, *args, **kwds)\n",
      "    Return an indefinite or definite integral of an object ``x``.\n",
      "    \n",
      "    First call ``x.integral()`` and if that fails make an object and\n",
      "    integrate it using Maxima, maple, etc, as specified by algorithm.\n",
      "    \n",
      "    For symbolic expression calls\n",
      "    :func:`sage.calculus.calculus.integral` - see this function for\n",
      "    available options.\n",
      "    \n",
      "    EXAMPLES::\n",
      "    \n",
      "        sage: f = cyclotomic_polynomial(10)\n",
      "        sage: integral(f)\n",
      "        1/5*x^5 - 1/4*x^4 + 1/3*x^3 - 1/2*x^2 + x\n",
      "    \n",
      "    ::\n",
      "    \n",
      "        sage: integral(sin(x),x)\n",
      "        -cos(x)\n",
      "    \n",
      "    ::\n",
      "    \n",
      "        sage: y = var('y')\n",
      "        sage: integral(sin(x),y)\n",
      "        y*sin(x)\n",
      "    \n",
      "    ::\n",
      "    \n",
      "        sage: integral(sin(x), x, 0, pi/2)\n",
      "        1\n",
      "        sage: sin(x).integral(x, 0,pi/2)\n",
      "        1\n",
      "        sage: integral(exp(-x), (x, 1, oo))\n",
      "        e^(-1)\n",
      "    \n",
      "    Numerical approximation::\n",
      "    \n",
      "        sage: h = integral(tan(x)/x, (x, 1, pi/3)); h\n",
      "        integrate(tan(x)/x, x, 1, 1/3*pi)\n",
      "        sage: h.n()\n",
      "        0.07571599101...\n",
      "    \n",
      "    Specific algorithm can be used for integration::\n",
      "    \n",
      "        sage: integral(sin(x)^2, x, algorithm='maxima')\n",
      "        1/2*x - 1/4*sin(2*x)\n",
      "        sage: integral(sin(x)^2, x, algorithm='sympy')\n",
      "        -1/2*cos(x)*sin(x) + 1/2*x\n",
      "    \n",
      "    TESTS:\n",
      "    \n",
      "    A symbolic integral from :trac:`11445` that was incorrect in\n",
      "    earlier versions of Maxima::\n",
      "    \n",
      "        sage: f = abs(x - 1) + abs(x + 1) - 2*abs(x)\n",
      "        sage: integrate(f, (x, -Infinity, Infinity))\n",
      "        2\n",
      "    \n",
      "    Another symbolic integral, from :trac:`11238`, that used to return\n",
      "    zero incorrectly; with Maxima 5.26.0 one gets\n",
      "    ``1/2*sqrt(pi)*e^(1/4)``, whereas with 5.29.1, and even more so\n",
      "    with 5.33.0, the expression is less pleasant, but still has the\n",
      "    same value.  Unfortunately, the computation takes a very long time\n",
      "    with the default settings, so we temporarily use the Maxima\n",
      "    setting ``domain: real``::\n",
      "    \n",
      "        sage: sage.calculus.calculus.maxima('domain: real')\n",
      "        real\n",
      "        sage: f = exp(-x) * sinh(sqrt(x))\n",
      "        sage: t = integrate(f, x, 0, Infinity); t            # long time\n",
      "        1/4*sqrt(pi)*(erf(1) - 1)*e^(1/4) - 1/4*(sqrt(pi)*(erf(1) - 1) - sqrt(pi) + 2*e^(-1) - 2)*e^(1/4) + 1/4*sqrt(pi)*e^(1/4) - 1/2*e^(1/4) + 1/2*e^(-3/4)\n",
      "        sage: t.canonicalize_radical()  # long time\n",
      "        1/2*sqrt(pi)*e^(1/4)\n",
      "        sage: sage.calculus.calculus.maxima('domain: complex')\n",
      "        complex\n",
      "    \n",
      "    An integral which used to return -1 before maxima 5.28. See :trac:`12842`::\n",
      "    \n",
      "        sage: f = e^(-2*x)/sqrt(1-e^(-2*x))\n",
      "        sage: integrate(f, x, 0, infinity)\n",
      "        1\n",
      "    \n",
      "    This integral would cause a stack overflow in earlier versions of\n",
      "    Maxima, crashing sage. See :trac:`12377`. We don't care about the\n",
      "    result here, just that the computation completes successfully::\n",
      "    \n",
      "        sage: y = (x^2)*exp(x) / (1 + exp(x))^2\n",
      "        sage: _ = integrate(y, x, -1000, 1000)\n",
      "    \n",
      "    When SymPy cannot solve an integral it gives it back, so we must\n",
      "    be able to convert SymPy's ``Integral`` (:trac:`14723`)::\n",
      "    \n",
      "        sage: x, y, z = var('x,y,z')\n",
      "        sage: f = function('f')\n",
      "        sage: integrate(f(x), x, algorithm='sympy')\n",
      "        integrate(f(x), x)\n",
      "        sage: integrate(f(x), x, 0, 1,algorithm='sympy')\n",
      "        integrate(f(x), x, 0, 1)\n",
      "        sage: integrate(integrate(integrate(f(x,y,z), x, algorithm='sympy'), y, algorithm='sympy'), z, algorithm='sympy')\n",
      "        integrate(integrate(integrate(f(x, y, z), x), y), z)\n",
      "        sage: integrate(sin(x)*tan(x)/(1-cos(x)), x, algorithm='sympy')\n",
      "        -integrate(sin(x)*tan(x)/(cos(x) - 1), x)\n",
      "        sage: _ = var('a,b,x')\n",
      "        sage: integrate(sin(x)*tan(x)/(1-cos(x)), x, a, b, algorithm='sympy')\n",
      "        -integrate(sin(x)*tan(x)/(cos(x) - 1), x, a, b)\n",
      "        sage: import sympy\n",
      "        sage: x, y, z = sympy.symbols('x y z')\n",
      "        sage: f = sympy.Function('f')\n",
      "        sage: SR(sympy.Integral(f(x,y,z), x, y, z))\n",
      "        integrate(integrate(integrate(f(x, y, z), x), y), z)\n",
      "\n"
     ]
    }
   ],
   "source": [
    "help(integral)"
   ]
  },
  {
   "cell_type": "code",
   "execution_count": 2,
   "metadata": {},
   "outputs": [
    {
     "data": {
      "text/plain": [
       "1/3*x^3"
      ]
     },
     "execution_count": 2,
     "metadata": {},
     "output_type": "execute_result"
    }
   ],
   "source": [
    "#EXEMPLE\n",
    "x = var('x')\n",
    "f = x^2\n",
    "integral(f,x)"
   ]
  },
  {
   "cell_type": "code",
   "execution_count": 3,
   "metadata": {},
   "outputs": [
    {
     "data": {
      "text/plain": [
       "1/3"
      ]
     },
     "execution_count": 3,
     "metadata": {},
     "output_type": "execute_result"
    }
   ],
   "source": [
    "integral(f,x,0,1)"
   ]
  },
  {
   "cell_type": "code",
   "execution_count": 4,
   "metadata": {},
   "outputs": [
    {
     "data": {
      "text/plain": [
       "0.333333333333333"
      ]
     },
     "execution_count": 4,
     "metadata": {},
     "output_type": "execute_result"
    }
   ],
   "source": [
    "N(integral(f,x,0,1))"
   ]
  },
  {
   "cell_type": "markdown",
   "metadata": {},
   "source": [
    "EXERCICE 1\n",
    "\n",
    "Calculer les primitives suivantes :\n",
    "  \\begin{equation*}\n",
    "    a) \\quad \\int x \\cos x^2 \\text{ d} x \\quad\n",
    "    b) \\quad \\int 2 x^4 + \\frac{1}{x^2} + e^x +\\sin x \\text{ d} x \\quad\n",
    "    c) \\quad \\int \\dfrac{3x^4}{x^2-4} \\text{ d} x\n",
    "  \\end{equation*}"
   ]
  },
  {
   "cell_type": "code",
   "execution_count": 4,
   "metadata": {},
   "outputs": [
    {
     "data": {
      "text/html": [
       "<html><script type=\"math/tex; mode=display\">\\newcommand{\\Bold}[1]{\\mathbf{#1}}\\frac{1}{2} \\, \\sin\\left(x^{2}\\right)</script></html>"
      ],
      "text/latex": [
       "\\begin{math}\n",
       "\\newcommand{\\Bold}[1]{\\mathbf{#1}}\\frac{1}{2} \\, \\sin\\left(x^{2}\\right)\n",
       "\\end{math}"
      ],
      "text/plain": [
       "1/2*sin(x^2)"
      ]
     },
     "metadata": {},
     "output_type": "display_data"
    }
   ],
   "source": [
    "x = var('x')\n",
    "f = x*cos(x*x)\n",
    "show(integral(f,x))"
   ]
  },
  {
   "cell_type": "code",
   "execution_count": 6,
   "metadata": {
    "scrolled": true
   },
   "outputs": [
    {
     "data": {
      "text/html": [
       "<html><script type=\"math/tex; mode=display\">\\newcommand{\\Bold}[1]{\\mathbf{#1}}\\frac{2}{5} \\, x^{5} - \\frac{1}{x} - \\cos\\left(x\\right) + e^{x}</script></html>"
      ],
      "text/latex": [
       "\\begin{math}\n",
       "\\newcommand{\\Bold}[1]{\\mathbf{#1}}\\frac{2}{5} \\, x^{5} - \\frac{1}{x} - \\cos\\left(x\\right) + e^{x}\n",
       "\\end{math}"
      ],
      "text/plain": [
       "2/5*x^5 - 1/x - cos(x) + e^x"
      ]
     },
     "metadata": {},
     "output_type": "display_data"
    }
   ],
   "source": [
    "x = var('x')\n",
    "f = 2*(x^4)+(1/(x^2))+e^x+sin(x)\n",
    "show(integral(f,x))"
   ]
  },
  {
   "cell_type": "code",
   "execution_count": 7,
   "metadata": {},
   "outputs": [
    {
     "data": {
      "text/html": [
       "<html><script type=\"math/tex; mode=display\">\\newcommand{\\Bold}[1]{\\mathbf{#1}}x^{3} + 12 \\, x - 12 \\, \\log\\left(x + 2\\right) + 12 \\, \\log\\left(x - 2\\right)</script></html>"
      ],
      "text/latex": [
       "\\begin{math}\n",
       "\\newcommand{\\Bold}[1]{\\mathbf{#1}}x^{3} + 12 \\, x - 12 \\, \\log\\left(x + 2\\right) + 12 \\, \\log\\left(x - 2\\right)\n",
       "\\end{math}"
      ],
      "text/plain": [
       "x^3 + 12*x - 12*log(x + 2) + 12*log(x - 2)"
      ]
     },
     "metadata": {},
     "output_type": "display_data"
    }
   ],
   "source": [
    "x = var('x')\n",
    "f = (3*x^4)/((x^2)-4)\n",
    "show(integral(f,x))"
   ]
  },
  {
   "cell_type": "markdown",
   "metadata": {},
   "source": [
    "EXERCICE 2\n",
    "\n",
    "Calculer les intégrales et donner une approximation numérique :\n",
    "\n",
    "$$ a)  \\int_1^4 x^2+\\sqrt{x}+\\frac{1}{x}+\\sqrt[3]{x} \\text{ d} x  \\qquad b) \\ \\ \\int_0^{\\pi/2} \\cos x \\ (1+\\sin x)^4 \\text{ d}x \\quad c) \\ \\ \\int_0^{\\sqrt{3}}  \\frac{3 x^3-2 x^2 -5 x -6}{(x+1)^2(x^2+4)}   \\text{ d} x$$\n",
    "\n"
   ]
  },
  {
   "cell_type": "code",
   "execution_count": 9,
   "metadata": {
    "scrolled": true
   },
   "outputs": [
    {
     "data": {
      "text/html": [
       "<html><script type=\"math/tex; mode=display\">\\newcommand{\\Bold}[1]{\\mathbf{#1}}31.7196276944532</script></html>"
      ],
      "text/latex": [
       "\\begin{math}\n",
       "\\newcommand{\\Bold}[1]{\\mathbf{#1}}31.7196276944532\n",
       "\\end{math}"
      ],
      "text/plain": [
       "31.7196276944532"
      ]
     },
     "metadata": {},
     "output_type": "display_data"
    }
   ],
   "source": [
    "x = var('x')\n",
    "f = x^2+sqrt(x)+1/x+(sqrt(x,3))\n",
    "show(N(integral(f,x,1,4)))"
   ]
  },
  {
   "cell_type": "code",
   "execution_count": 10,
   "metadata": {},
   "outputs": [
    {
     "data": {
      "text/html": [
       "<html><script type=\"math/tex; mode=display\">\\newcommand{\\Bold}[1]{\\mathbf{#1}}6.20000000000000</script></html>"
      ],
      "text/latex": [
       "\\begin{math}\n",
       "\\newcommand{\\Bold}[1]{\\mathbf{#1}}6.20000000000000\n",
       "\\end{math}"
      ],
      "text/plain": [
       "6.20000000000000"
      ]
     },
     "metadata": {},
     "output_type": "display_data"
    }
   ],
   "source": [
    "x = var('x')\n",
    "f = cos(x)*(1+sin(x))^4\n",
    "show(N(integral(f,x,0,(pi/2))))"
   ]
  },
  {
   "cell_type": "code",
   "execution_count": 13,
   "metadata": {},
   "outputs": [
    {
     "data": {
      "text/html": [
       "<html><script type=\"math/tex; mode=display\">\\newcommand{\\Bold}[1]{\\mathbf{#1}}0.141819170178823</script></html>"
      ],
      "text/latex": [
       "\\begin{math}\n",
       "\\newcommand{\\Bold}[1]{\\mathbf{#1}}0.141819170178823\n",
       "\\end{math}"
      ],
      "text/plain": [
       "0.141819170178823"
      ]
     },
     "metadata": {},
     "output_type": "display_data"
    }
   ],
   "source": [
    "x = var('x')\n",
    "f = ((3*x^3)-(2*x^2)-5*x-6)/((x+1)^2*((x^2+4)))\n",
    "show(N(integral(f,x,1,4)))"
   ]
  },
  {
   "cell_type": "markdown",
   "metadata": {},
   "source": [
    "<p><span style=\"font-size: large;\"><strong>Boucles et fonctions</strong></span></p>\n",
    "<p class=\" CodeMirror-line sagews-output-cm-text\"><span><span class=\"CodeMirror-widget\"><span class=\"sagews-output sagews-output-done\"><span class=\"sagews-output-html\">La syntaxe de Sage est bas&eacute;e sur celle du langage Python.<br /> L'<strong>indentation</strong> du code joue un r&ocirc;le important dans cette syntaxe : le nombre d'espaces au d&eacute;but de chaque ligne a une influence sur la mani&egrave;re dont le code sera interpr&eacute;t&eacute;.<br /><br /> Pour calculer la somme des carr&eacute;s entiers de 1 &agrave; 100 en utilisant une boucle, on peut utiliser la syntaxe :</span></span></span></span></p>"
   ]
  },
  {
   "cell_type": "code",
   "execution_count": 15,
   "metadata": {},
   "outputs": [
    {
     "name": "stdout",
     "output_type": "stream",
     "text": [
      "338350\n"
     ]
    },
    {
     "data": {
      "text/html": [
       "<html><script type=\"math/tex; mode=display\">\\newcommand{\\Bold}[1]{\\mathbf{#1}}\\mathrm{None}</script></html>"
      ],
      "text/latex": [
       "\\begin{math}\n",
       "\\newcommand{\\Bold}[1]{\\mathbf{#1}}\\mathrm{None}\n",
       "\\end{math}"
      ],
      "text/plain": [
       "None"
      ]
     },
     "metadata": {},
     "output_type": "display_data"
    }
   ],
   "source": [
    "x=0\n",
    "S=0\n",
    "while x<=100:\n",
    "    S=S+x^2\n",
    "    x=x+1\n",
    "show(print(S))"
   ]
  },
  {
   "cell_type": "code",
   "execution_count": null,
   "metadata": {},
   "outputs": [],
   "source": []
  },
  {
   "cell_type": "markdown",
   "metadata": {},
   "source": [
    "C’est par l’indentation que l’on délimite le bloc exécuté dans la boucle while. Le même principe vaut notamment dans la définition de fonctions et les tests if.\n",
    "Pour définir la fonction $f(x)=0$ si $x<0$ et $f(x)=x^2$ si $x\\geq0$ , on peut faire par exemple :"
   ]
  },
  {
   "cell_type": "code",
   "execution_count": 6,
   "metadata": {},
   "outputs": [],
   "source": [
    "def f(x):\n",
    "    if x<0:\n",
    "        return 0\n",
    "    else:\n",
    "        return x^2"
   ]
  },
  {
   "cell_type": "code",
   "execution_count": 7,
   "metadata": {},
   "outputs": [
    {
     "data": {
      "text/plain": [
       "25"
      ]
     },
     "execution_count": 7,
     "metadata": {},
     "output_type": "execute_result"
    }
   ],
   "source": [
    "f(5)"
   ]
  },
  {
   "cell_type": "code",
   "execution_count": 8,
   "metadata": {},
   "outputs": [
    {
     "data": {
      "text/plain": [
       "0"
      ]
     },
     "execution_count": 8,
     "metadata": {},
     "output_type": "execute_result"
    }
   ],
   "source": [
    "f(-5)"
   ]
  },
  {
   "cell_type": "markdown",
   "metadata": {},
   "source": [
    "<p><span><span class=\"CodeMirror-widget\"><span class=\"sagews-output sagews-output-done\"><span class=\"sagews-output-html\">Les <span style=\"text-decoration: underline;\"><strong>boucles for</strong></span> utilisent la syntaxe<span style=\"font-size: medium; font-family: courier new,courier;\"> <strong>for i in <em>liste</em></strong></span><strong><em> </em></strong></span></span></span></span></p>\n",
    "<p><span><span class=\"CodeMirror-widget\"><span class=\"sagews-output sagews-output-done\"><span class=\"sagews-output-html\">Par exemple :<br /></span></span></span></span></p>"
   ]
  },
  {
   "cell_type": "code",
   "execution_count": 9,
   "metadata": {},
   "outputs": [
    {
     "data": {
      "text/plain": [
       "[0, 1, 2, 3, 4, 5, 6, 7, 8, 9]"
      ]
     },
     "execution_count": 9,
     "metadata": {},
     "output_type": "execute_result"
    }
   ],
   "source": [
    "range(10)"
   ]
  },
  {
   "cell_type": "code",
   "execution_count": 10,
   "metadata": {},
   "outputs": [
    {
     "data": {
      "text/plain": [
       "[0, 2, 4, 6, 8]"
      ]
     },
     "execution_count": 10,
     "metadata": {},
     "output_type": "execute_result"
    }
   ],
   "source": [
    "range(0,10,2)"
   ]
  },
  {
   "cell_type": "code",
   "execution_count": 11,
   "metadata": {},
   "outputs": [
    {
     "data": {
      "text/plain": [
       "[0, 3, 6, 9]"
      ]
     },
     "execution_count": 11,
     "metadata": {},
     "output_type": "execute_result"
    }
   ],
   "source": [
    "range(0,10,3)"
   ]
  },
  {
   "cell_type": "code",
   "execution_count": 12,
   "metadata": {},
   "outputs": [
    {
     "data": {
      "text/plain": [
       "[1, 3, 5, 7, 9]"
      ]
     },
     "execution_count": 12,
     "metadata": {},
     "output_type": "execute_result"
    }
   ],
   "source": [
    "range(1,10,2)"
   ]
  },
  {
   "cell_type": "markdown",
   "metadata": {},
   "source": [
    "<p>Une fonction est <em>r&eacute;cursive</em> si elle s&rsquo;appelle elle-même.</p>"
   ]
  },
  {
   "cell_type": "code",
   "execution_count": 13,
   "metadata": {},
   "outputs": [],
   "source": [
    "def puissance(x,n) :\n",
    "    #Uniquement valeurs positives\n",
    "    if n>0 :\n",
    "        return x * puissance(x, n-1)\n",
    "    else : return 1"
   ]
  },
  {
   "cell_type": "code",
   "execution_count": 14,
   "metadata": {},
   "outputs": [
    {
     "name": "stdout",
     "output_type": "stream",
     "text": [
      "32\n"
     ]
    }
   ],
   "source": [
    "print puissance(2,5)"
   ]
  },
  {
   "cell_type": "markdown",
   "metadata": {},
   "source": [
    "<p><span><strong><em>RAPPEL</em></strong></span></p>\n",
    "<p><span>On subdivise l'intervalle $I=[a,b]$ en $n$ sous-intervalles $I_k=[x_{k-1},x_k]$ avec $k=1,\\ldots, n$ et $x_k=a+k \\cdot h$ et $h=(b-a)/n$.<strong><br /></strong></span></p>\n",
    "<p><span><strong>M&eacute;thode du point milieu composite</strong></span></p>\n",
    "<p><span>$A_{pm} = h \\cdot \\sum_{k=1}^n f(\\overline{x}_n)$</span></p>\n",
    "<p><span>avec $\\overline{x}_n = \\dfrac{x_{k-1}+x_k}{2}$<strong><br /></strong></span></p>\n",
    "<p><span><strong>M&eacute;thode des trap&egrave;zes composite</strong></span></p>\n",
    "<p><span>$A_{t} = \\dfrac{h}{2} \\cdot \\sum_{k=1}^n (f(x_{k-1})+f(x_k))$</span></p>\n",
    "<p><span><strong>M&eacute;thode de Simpson composite<br /></strong></span></p>\n",
    "<p><span><span>$A_{s} = \\dfrac{h}{3} [f(x_1)+f(x_{n+1})+4 \\sum_{i\\text{ paire}} f(x_i)+2\\sum_{i \\text{ impaire}} f(x_i)]$</span><br /></span></p>\n",
    "<p>&nbsp;</p>\n",
    "<p>EXERCICE 3 : METHODE COMPOSITE DES RECTANGLES DU POINT AU MILIEU</p>\n",
    "<p>D&eacute;finir une fonction&nbsp;<strong>rectangles(f,a,b,n)</strong>&nbsp;qui prend en entr&eacute;e la fonction, les bornes de l'int&eacute;grale et le nombre de subdivisions. Elle renvoie en sortie la valeur approch&eacute;e de l'int&eacute;grale selon la m&eacute;thode des rectangles du point au milieu.</p>\n",
    "<p>Tester votre fonction sur le calcul d'une int&eacute;grale au choix et v&eacute;rifier que ce r&eacute;sultat s'approche de la valeur exacte.</p>"
   ]
  },
  {
   "cell_type": "code",
   "execution_count": 5,
   "metadata": {},
   "outputs": [
    {
     "name": "stderr",
     "output_type": "stream",
     "text": [
      "<ipython-input-5-ab8d29c7f12e>:8: DeprecationWarning: Substitution using function-call syntax and unnamed arguments is deprecated and will be removed from a future release of Sage; you can use named arguments instead, like EXPR(x=..., y=...)\n",
      "See http://trac.sagemath.org/5930 for details.\n",
      "  k = rectangles(f,Integer(1),Integer(3),Integer(7))\n"
     ]
    },
    {
     "data": {
      "text/html": [
       "<html><script type=\"math/tex; mode=display\">\\newcommand{\\Bold}[1]{\\mathbf{#1}}\\frac{72}{7}</script></html>"
      ],
      "text/latex": [
       "\\begin{math}\n",
       "\\newcommand{\\Bold}[1]{\\mathbf{#1}}\\frac{72}{7}\n",
       "\\end{math}"
      ],
      "text/plain": [
       "72/7"
      ]
     },
     "metadata": {},
     "output_type": "display_data"
    }
   ],
   "source": [
    "x = var ('x')\n",
    "f = 2*x+1\n",
    "def rectangles(f,a,b,n):\n",
    "    compt = 0    \n",
    "    for i in range(0,n-1):\n",
    "        compt += f(i)\n",
    "    return ((b-a)/(n)) * compt\n",
    "k = rectangles(f,1,3,7)\n",
    "show(k)"
   ]
  },
  {
   "cell_type": "markdown",
   "metadata": {},
   "source": [
    "<p><span>EXERCICE 4 : METHODE&nbsp;<span><span class=\"CodeMirror-widget\"><span class=\"sagews-output sagews-output-done\"><span class=\"sagews-output-html\">COMPOSITE</span></span></span></span>&nbsp;DE SIMPSON</span></p>\n",
    "<p><span><span class=\"CodeMirror-widget\"><span class=\"sagews-output sagews-output-done\"><span class=\"sagews-output-html\">Retrouver par le calcul en partant de l'expression de la m&eacute;thode de Simpson simple l'expression ci-dessus de la m&eacute;thode de Simpson composite.<br><br>\n",
    "    D&eacute;finir une fonction<span><strong>&nbsp;simpson(f,a,b,n)</strong></span></span></span></span></span>&nbsp;qui prend en entr&eacute;e la fonction, les bornes de l'int&eacute;grale et le nombre de subdivisions. Elle renvoie en sortie la valeur approch&eacute;e de l'int&eacute;grale selon la m&eacute;thode de Simpson.</p>\n",
    "<p>Tester votre fonction sur le calcul d'une int&eacute;grale au choix et v&eacute;rifier que ce r&eacute;sultat s'approche de sa valeur exacte.</p>"
   ]
  },
  {
   "cell_type": "code",
   "execution_count": 37,
   "metadata": {},
   "outputs": [
    {
     "name": "stdout",
     "output_type": "stream",
     "text": [
      "1352/147\n"
     ]
    },
    {
     "name": "stderr",
     "output_type": "stream",
     "text": [
      "<ipython-input-37-77b5d935d091>:15: DeprecationWarning: Substitution using function-call syntax and unnamed arguments is deprecated and will be removed from a future release of Sage; you can use named arguments instead, like EXPR(x=..., y=...)\n",
      "See http://trac.sagemath.org/5930 for details.\n",
      "  print(simpson(f,Integer(1),Integer(3),Integer(7)))\n"
     ]
    }
   ],
   "source": [
    "x = var ('x')\n",
    "f =2*x+1\n",
    "\n",
    "def simpson(f,a,b,n):\n",
    "    h = (b - a)/n\n",
    "    compt = 0\n",
    "    kompt = 0\n",
    "    for i in range (1,n-1):\n",
    "        compt += f(i)\n",
    "    for j in range (0,n-1):\n",
    "        kompt += f(a + (j+1/2)*h)\n",
    "    \n",
    "    return (((b-a)/(6*n))*(f(a)+2*compt+4*kompt+f(b)))\n",
    "\n",
    "print(simpson(f,1,3,7))"
   ]
  },
  {
   "cell_type": "markdown",
   "metadata": {},
   "source": [
    "<p><span>EXERCICE 5</span></p>\n",
    "<p><span>Une valeur approch&eacute;e de $ \\pi$ peut &ecirc;tre obtenue en calculant num&eacute;riquement l&rsquo;int&eacute;grale de la fonction $\\dfrac{6}{5(1+x^2)}$ sur l'intervalle $[-2-\\sqrt{3},2+\\sqrt{3}]$.</span></p>\n",
    "<ol>\n",
    "<li>&nbsp;<span>Calculer l'int&eacute;grale exacte avec la commande de Sage pour se convaincre du r&eacute;sultat et dessiner la fonction.</span></li>\n",
    "<li><span>&nbsp;Calculer de mani&egrave;re num&eacute;rique la valeur approch&eacute;e en utilisant les deux m&eacute;thodes d&eacute;finies aux exercices 3 et 4.</span></li>\n",
    "</ol>"
   ]
  },
  {
   "cell_type": "code",
   "execution_count": 3,
   "metadata": {},
   "outputs": [
    {
     "data": {
      "text/html": [
       "<html><script type=\"math/tex; mode=display\">\\newcommand{\\Bold}[1]{\\mathbf{#1}}3.14159265358979</script></html>"
      ],
      "text/latex": [
       "\\begin{math}\n",
       "\\newcommand{\\Bold}[1]{\\mathbf{#1}}3.14159265358979\n",
       "\\end{math}"
      ],
      "text/plain": [
       "3.14159265358979"
      ]
     },
     "metadata": {},
     "output_type": "display_data"
    },
    {
     "data": {
      "image/png": "[encoded data removed]",
      "text/plain": [
       "Graphics object consisting of 1 graphics primitive"
      ]
     },
     "execution_count": 3,
     "metadata": {},
     "output_type": "execute_result"
    }
   ],
   "source": [
    "x = var('x')\n",
    "f = (6/(5*(1+x^2)))\n",
    "show(N(integral(f,x,-2-sqrt(3),2+sqrt(3))))\n",
    "plot(f, (-2-sqrt(3), 2+sqrt(3)), color=\"blue\")"
   ]
  },
  {
   "cell_type": "code",
   "execution_count": 7,
   "metadata": {},
   "outputs": [
    {
     "name": "stderr",
     "output_type": "stream",
     "text": [
      "<ipython-input-7-bbf2bf157ace>:16: DeprecationWarning: Substitution using function-call syntax and unnamed arguments is deprecated and will be removed from a future release of Sage; you can use named arguments instead, like EXPR(x=..., y=...)\n",
      "See http://trac.sagemath.org/5930 for details.\n",
      "  k = N(simpson(ff,-Integer(2)-sqrt(Integer(3)),Integer(2)+sqrt(Integer(3)),Integer(100)))\n"
     ]
    },
    {
     "data": {
      "text/html": [
       "<html><script type=\"math/tex; mode=display\">\\newcommand{\\Bold}[1]{\\mathbf{#1}}4.37197436001378</script></html>"
      ],
      "text/latex": [
       "\\begin{math}\n",
       "\\newcommand{\\Bold}[1]{\\mathbf{#1}}4.37197436001378\n",
       "\\end{math}"
      ],
      "text/plain": [
       "4.37197436001378"
      ]
     },
     "metadata": {},
     "output_type": "display_data"
    }
   ],
   "source": [
    "x = var ('x')\n",
    "f = (6/(5*(1+x^2)))\n",
    "ff= integrate(f,x)\n",
    "\n",
    "def simpson(f,a,b,n):\n",
    "    h = (b - a)/n\n",
    "    compt = 0\n",
    "    kompt = 0\n",
    "    for i in range (1,n-1):\n",
    "        compt += f(i)\n",
    "    for j in range (0,n-1):\n",
    "        kompt += f(a + (j+1/2)*h)\n",
    "    \n",
    "    return (((b-a)/(6*n))*(f(a)+2*compt+4*kompt+f(b)))\n",
    "\n",
    "k = N(simpson(ff,-2-sqrt(3),2+sqrt(3),100))\n",
    "show(k)"
   ]
  },
  {
   "cell_type": "code",
   "execution_count": 6,
   "metadata": {},
   "outputs": [
    {
     "name": "stderr",
     "output_type": "stream",
     "text": [
      "<ipython-input-6-2bd1274e0c69>:8: DeprecationWarning: Substitution using function-call syntax and unnamed arguments is deprecated and will be removed from a future release of Sage; you can use named arguments instead, like EXPR(x=..., y=...)\n",
      "See http://trac.sagemath.org/5930 for details.\n",
      "  k = N(simpson(ff,-Integer(2)-sqrt(Integer(3)),Integer(2)+sqrt(Integer(3)),Integer(100)))\n"
     ]
    },
    {
     "data": {
      "text/html": [
       "<html><script type=\"math/tex; mode=display\">\\newcommand{\\Bold}[1]{\\mathbf{#1}}4.37197436001378</script></html>"
      ],
      "text/latex": [
       "\\begin{math}\n",
       "\\newcommand{\\Bold}[1]{\\mathbf{#1}}4.37197436001378\n",
       "\\end{math}"
      ],
      "text/plain": [
       "4.37197436001378"
      ]
     },
     "metadata": {},
     "output_type": "display_data"
    }
   ],
   "source": [
    "x = var ('x')\n",
    "f = 2*x+1\n",
    "def rectangles(f,a,b,n):\n",
    "    compt = 0    \n",
    "    for i in range(0,n-1):\n",
    "        compt += f(i)\n",
    "    return ((b-a)/(n)) * compt\n",
    "k = N(simpson(ff,-2-sqrt(3),2+sqrt(3),100))\n",
    "show(k)"
   ]
  },
  {
   "cell_type": "code",
   "execution_count": null,
   "metadata": {},
   "outputs": [],
   "source": []
  }
 ],
 "metadata": {
  "kernelspec": {
   "display_name": "SageMath 9.2",
   "language": "sage",
   "name": "sagemath"
  },
  "language_info": {
   "codemirror_mode": {
    "name": "ipython",
    "version": 3
   },
   "file_extension": ".py",
   "mimetype": "text/x-python",
   "name": "python",
   "nbconvert_exporter": "python",
   "pygments_lexer": "ipython3",
   "version": "3.8.6"
  }
 },
 "nbformat": 4,
 "nbformat_minor": 2
}
