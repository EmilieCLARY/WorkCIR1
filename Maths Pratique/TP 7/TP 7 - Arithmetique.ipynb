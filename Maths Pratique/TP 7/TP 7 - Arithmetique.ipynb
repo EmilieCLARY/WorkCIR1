{
 "cells": [
  {
   "cell_type": "markdown",
   "metadata": {},
   "source": [
    "<p><span style=\"font-size: large; background-color: #ffffff; color: #000000;\"><strong>Consignes :</strong></span></p>\n",
    "<ul>\n",
    "<li><span style=\"font-size: large; background-color: #ffffff; color: #000000;\"><strong><strong>Renommer ce fichier en ordre alphab&eacute;tique avec le numéro i de votre Tiers <span style=\"color: #ff0000;\">Ti_nom1-nom2-TP7</span></strong></strong></span></li>\n",
    "<li><span style=\"font-size: large; background-color: #ffffff; color: #000000;\"><strong><strong><strong>TP &agrave; rendre sur Teams&nbsp;<span><span style=\"color: #ff0000;\">pour le 28 janvier</span>.</span>&nbsp;</strong></strong></strong></span></li>\n",
    "<li><span style=\"font-size: large; background-color: #ffffff; color: #000000;\"><strong>TP &agrave; faire en groupe de 2. Le groupe de travail est le m&ecirc;me pour toute l'ann&eacute;e.</strong></span></li>\n",
    "<li><span style=\"font-size: large; background-color: #ffffff; color: #ff0000;\"><span style=\"color: #000000;\"><strong>&Agrave; compl&eacute;ter :</strong></span></span></li>\n",
    "</ul>\n",
    "<p><span style=\"font-size: large; background-color: #ffffff; color: #ff0000;\"><strong>NOM PRENOM 1 : <br /></strong></span></p>\n",
    "<p><span style=\"font-size: large; background-color: #ffffff; color: #ff0000;\"><strong>NOM PRENOM 2 : </strong></span></p>\n",
    "<p>&nbsp;</p>\n",
    "<p><br /><span style=\"font-size: large;\"><strong></strong><strong>TP 7 : Arithm&eacute;tique dans $\\mathbb{Z}$ et le codage de César<br /></strong></span></p>\n",
    "<p><span style=\"font-size: large;\"><strong><br style=\"font-size: medium;\" /></strong></span></p>\n",
    "<p>Certaines commandes utiles pour l'arithm&eacute;tique dans $\\mathbb{Z}$ :</p>\n",
    "<ul>\n",
    "<li>//</li>\n",
    "<li>%</li>\n",
    "<li>gcd(a,b)</li>\n",
    "</ul>\n"
   ]
  },
  {
   "cell_type": "markdown",
   "metadata": {},
   "source": [
    "<p><span style=\"text-decoration: underline;\">EXERCICE 1</span><br />Pythagore aurait défini l’amitié (de deux entiers)\n",
    "ainsi :\n",
    "\n",
    "<b>Définition</b> Deux nombres sont <i>amiables</i> ou <i>amicaux</i> s'ils sont distincts et chacun est la somme des diviseurs propres de l’autre.\n",
    "\n",
    "<p><li>Ecrire une fonction <b>amiable(N)</b> qui affiche la liste des paires de nombres amiables dont\n",
    "le plus petit des deux est inférieurs à N.</p>\n",
    "<p><div><li>Afficher la liste des paires de nombres amiables dont le plus petit des deux est inférieur à 5</div></p>"
   ]
  },
  {
   "cell_type": "code",
   "execution_count": null,
   "metadata": {},
   "outputs": [],
   "source": []
  },
  {
   "cell_type": "markdown",
   "metadata": {},
   "source": [
    "<span style=\"text-decoration: underline;\">EXERCICE 2</span><br />Ecrire une fonction que vous allez appeler&nbsp;<strong>cesar(message,k)</strong>&nbsp;qui prend en entr&eacute;e un message en majuscule et le d&eacute;calage de Cesar et qui returne le message crypt&eacute; ou decrypté.<br />\n",
    "<p></p>\n",
    "\n",
    "\n",
    "\n",
    "<u>Suggestions</u> : \n",
    "<p>\n",
    "<li> <i>La commande <b>ord</b> permet de transcrire les lettres d'un message en code ASCII.</i></li> \n",
    "\n",
    "Le code ASCII. . . Mais savez-vous de quoi il s’agit ?\n",
    "La mémoire de l’ordinateur conserve toutes les données sous forme numérique.\n",
    "Il n’existe pas de méthode pour stocker directement les caractères.\n",
    "Chaque caractère possède donc son équivalent numérique : c’est le code\n",
    "ASCII (American Standard Code for Information Interchange). Le code\n",
    "ASCII de base permettait de chiffer 128 caractères :\n",
    "<ul style=\"list-style-type: none;\">\n",
    "<li>- Les codes 0 à 31 ne sont pas à proprement parler des caractères. On les\n",
    "appelle caractères de contrôle, car ils permettent de faire des actions\n",
    "telles que : retour à la ligne ou bip sonore.</li>\n",
    "<li>- Les codes 48 à 57 représentent les chiffres.</li>\n",
    "<li>- Les codes 65 à 90 représentent les majuscules.</li>\n",
    "<li>-Les codes 97 à 122 représentent les minuscules.</li>\n",
    "</ul></p>\n",
    " <i> Attention au decalage des lettres ! </i>\n",
    "<p><li>  <i> La transformation inverse se fait par la fonction <strong>chr</strong> : chr(65) renvoie le caract&egrave;re A, chr(66) renvoie B...</p> </i>\n",
    "\n",
    "\n",
    " <p>\n",
    "<li> <i>Un message est une chaine de caract&egrave;res, qui se comporte comme une liste.</p> </i>\n",
    "<p><strong>message =[]&nbsp;</strong> #liste vide</p>\n",
    "<p>Si message est une chaîne alors <strong>message[0]</strong> est la pr&egrave;miere lettre, <strong>message[1]</strong> la deuxi&egrave;me lettre...et la boucle <strong>for lettre in message :</strong> permet de parcourir chacune des lettres.</p>\n",
    "<p>Pour ajouter une lettre &agrave; une liste, faites <strong>maliste.append(lettre)</strong>.&nbsp;</p>\n",
    "<p>Enfin pour transformer une liste de caract&egrave;res en une chaine, faites<strong> \"\".join(maliste)</strong></p>\n",
    "<p>&nbsp;</p>\n",
    "\n"
   ]
  },
  {
   "cell_type": "code",
   "execution_count": null,
   "metadata": {
    "collapsed": true
   },
   "outputs": [],
   "source": []
  },
  {
   "cell_type": "markdown",
   "metadata": {},
   "source": [
    "<p class=\" CodeMirror-line sagews-output-cm-text\"><span style=\"background-color: #ffffff; color: #000000;\"><span class=\"CodeMirror-widget\"><span class=\"sagews-output sagews-output-done\"><span class=\"sagews-output-html\"><span style=\"text-decoration: underline;\">EXERCICE 3</span>&nbsp;<br /> Tester votre fonction avec $k=13$ et la phrase suivante : <span style=\"text-decoration: underline;\">La vita &egrave; bella</span>\n",
    "<p>Vérifier aussi le déchiffrement.</p>\n",
    "    \n",
    "<>Suggestion : Ecrire le message en majuscule et sans espaces. "
   ]
  },
  {
   "cell_type": "code",
   "execution_count": null,
   "metadata": {
    "collapsed": true
   },
   "outputs": [],
   "source": []
  },
  {
   "cell_type": "markdown",
   "metadata": {},
   "source": [
    "<p class=\" CodeMirror-line sagews-output-cm-text\"><span style=\"color: #000000; font-family: arial,helvetica,sans-serif;\"><span class=\"CodeMirror-widget\"><span class=\"sagews-output sagews-output-done\"><span class=\"sagews-output-html\"><span style=\"text-decoration: underline;\">EXERCICE 4</span>&nbsp;<br />Avec votre fonction, d&eacute;crypter</span></span></span></span></p>\n",
    "<p align=\"center\"><span style=\"color: #000000; font-family: arial,helvetica,sans-serif;\">OHFUBSWDJHHVWODUWGHFRGHUXQPHVVDJH</span></p>"
   ]
  },
  {
   "cell_type": "code",
   "execution_count": null,
   "metadata": {
    "collapsed": true
   },
   "outputs": [],
   "source": []
  },
  {
   "cell_type": "markdown",
   "metadata": {},
   "source": [
    "<p class=\" CodeMirror-line sagews-output-cm-text\"><span><span style=\"text-decoration: underline;\">EXERCICE 5</span>&nbsp;<br />Avec votre fonction, d&eacute;crypter</span></p>\n",
    "<p align=\"center\">ARZDVIRZJDZVLOVKIVCVGIVDZVIUREJLEMZCCRXVHLVCVJVTFEURIFDV</p>\n"
   ]
  },
  {
   "cell_type": "code",
   "execution_count": null,
   "metadata": {},
   "outputs": [],
   "source": []
  }
 ],
 "metadata": {
  "kernelspec": {
   "display_name": "SageMath 9.0",
   "language": "sage",
   "name": "sagemath"
  },
  "language_info": {
   "codemirror_mode": {
    "name": "ipython",
    "version": 3
   },
   "file_extension": ".py",
   "mimetype": "text/x-python",
   "name": "python",
   "nbconvert_exporter": "python",
   "pygments_lexer": "ipython3",
   "version": "3.8.5"
  }
 },
 "nbformat": 4,
 "nbformat_minor": 2
}
