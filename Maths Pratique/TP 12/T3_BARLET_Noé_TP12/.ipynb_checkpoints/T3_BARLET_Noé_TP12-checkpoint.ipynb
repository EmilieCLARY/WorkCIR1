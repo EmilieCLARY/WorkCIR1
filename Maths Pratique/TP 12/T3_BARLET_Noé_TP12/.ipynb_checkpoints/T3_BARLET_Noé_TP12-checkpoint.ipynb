{
 "cells": [
  {
   "cell_type": "markdown",
   "metadata": {},
   "source": [
    "<p><span style=\"font-size: large; background-color: #ffffff; color: #000000;\"><strong>Consignes :</strong></span></p>\n",
    "<ul>\n",
    "<li><span style=\"font-size: large; background-color: #ffffff; color: #000000;\"><strong><strong>Renommer ce fichier en ordre alphab&eacute;tique avec le numéro i de votre Tiers <span style=\"color: #ff0000;\">Ti_nom1-nom2-TP12</span></strong></strong></span></li>\n",
    "<li><span style=\"font-size: large; background-color: #ffffff; color: #000000;\"><strong><strong><strong>TP &agrave; rendre sur Teams&nbsp;<span><span style=\"color: #ff0000;\">pour le 29 avril</span>.</span>&nbsp;</strong></strong></strong></span></li>\n",
    "<li><span style=\"font-size: large; background-color: #ffffff; color: #000000;\"><strong>TP &agrave; faire en groupe de 2. Le groupe de travail est le m&ecirc;me pour toute l'ann&eacute;e.</strong></span></li>\n",
    "<li><span style=\"font-size: large; background-color: #ffffff; color: #ff0000;\"><span style=\"color: #000000;\"><strong>&Agrave; compl&eacute;ter :</strong></span></span></li>\n",
    "</ul>\n",
    "<p><span style=\"font-size: large; background-color: #ffffff; color: #ff0000;\"><strong>NOM PRENOM 1 : <br /></strong>BARLET Noé</span></p>\n",
    "<p><span style=\"font-size: large; background-color: #ffffff; color: #ff0000;\"><strong>NOM PRENOM 2 : </strong></span></p>\n",
    "<p>&nbsp;</p>\n",
    "<p><br /><span style=\"font-size: large;\"><strong></strong><strong>TP 12 : Diagonalisation<br /></strong></span></p>\n",
    "\n",
    "La commande <b>VectorSpace(K,n)</b> pérmet de définir l'espace vectoriel $K^n$.\n",
    "\n",
    "Par exemple on peut définir :\n",
    "\n",
    "\n"
   ]
  },
  {
   "cell_type": "code",
   "execution_count": 16,
   "metadata": {},
   "outputs": [
    {
     "data": {
      "text/plain": [
       "Vector space of dimension 3 over Rational Field"
      ]
     },
     "execution_count": 16,
     "metadata": {},
     "output_type": "execute_result"
    }
   ],
   "source": [
    "E = VectorSpace(QQ,3) #ou plus simplement : E = QQ^3\n",
    "E\n"
   ]
  },
  {
   "cell_type": "markdown",
   "metadata": {},
   "source": [
    "<p><span style=\"font-size: medium;\">La commande <span style=\"font-family: courier\\ new, courier;\"><strong>MatrixSpace(K,n,p)</strong></span> permet de d&eacute;finir l'espace des matrices &agrave; $n$ lignes et $p$ colonnes &agrave; coefficients dans $K$ :</span></p>"
   ]
  },
  {
   "cell_type": "code",
   "execution_count": 17,
   "metadata": {},
   "outputs": [
    {
     "data": {
      "text/plain": [
       "Full MatrixSpace of 2 by 2 dense matrices over Rational Field"
      ]
     },
     "execution_count": 17,
     "metadata": {},
     "output_type": "execute_result"
    }
   ],
   "source": [
    "M22Q = MatrixSpace(QQ,2,2) ;  M22Q"
   ]
  },
  {
   "cell_type": "markdown",
   "metadata": {},
   "source": [
    "<p><span style=\"font-size: medium;\">La dimension d'un espace peut &ecirc;tre obtenue par <span style=\"font-family: courier\\ new, courier;\"><strong>E.dimension() <br /></strong></span><br /></span></p>"
   ]
  },
  {
   "cell_type": "code",
   "execution_count": 18,
   "metadata": {},
   "outputs": [
    {
     "data": {
      "text/plain": [
       "3"
      ]
     },
     "execution_count": 18,
     "metadata": {},
     "output_type": "execute_result"
    }
   ],
   "source": [
    "E.dimension()"
   ]
  },
  {
   "cell_type": "code",
   "execution_count": 19,
   "metadata": {},
   "outputs": [
    {
     "data": {
      "text/plain": [
       "4"
      ]
     },
     "execution_count": 19,
     "metadata": {},
     "output_type": "execute_result"
    }
   ],
   "source": [
    "M22Q.dimension()"
   ]
  },
  {
   "cell_type": "markdown",
   "metadata": {},
   "source": [
    "<p><span style=\"font-size: medium;\">Tout espace vectoriel poss&egrave;de une base canonique.</span></p>"
   ]
  },
  {
   "cell_type": "code",
   "execution_count": 20,
   "metadata": {},
   "outputs": [
    {
     "data": {
      "text/plain": [
       "[\n",
       "(1, 0, 0),\n",
       "(0, 1, 0),\n",
       "(0, 0, 1)\n",
       "]"
      ]
     },
     "execution_count": 20,
     "metadata": {},
     "output_type": "execute_result"
    }
   ],
   "source": [
    "E.basis()"
   ]
  },
  {
   "cell_type": "code",
   "execution_count": 21,
   "metadata": {},
   "outputs": [
    {
     "data": {
      "text/plain": [
       "Finite family {(0, 0): [1 0]\n",
       "[0 0], (0, 1): [0 1]\n",
       "[0 0], (1, 0): [0 0]\n",
       "[1 0], (1, 1): [0 0]\n",
       "[0 1]}"
      ]
     },
     "execution_count": 21,
     "metadata": {},
     "output_type": "execute_result"
    }
   ],
   "source": [
    "M22Q.basis()"
   ]
  },
  {
   "cell_type": "markdown",
   "metadata": {},
   "source": [
    "<p><span style=\"font-size: medium;\">La m&eacute;thode <span style=\"font-size: medium;\"><span style=\"font-family: courier\\ new, courier;\"><strong>coordinates</strong></span></span> donne les coordonn&eacute;es d'un vecteur dans la base utilisateur.</span></p>\n",
    "<p><span style=\"font-size: medium;\"><br /></span></p>"
   ]
  },
  {
   "cell_type": "code",
   "execution_count": 22,
   "metadata": {},
   "outputs": [
    {
     "data": {
      "text/plain": [
       "[3, 2, 6]"
      ]
     },
     "execution_count": 22,
     "metadata": {},
     "output_type": "execute_result"
    }
   ],
   "source": [
    "w = vector([3,2,6])\n",
    "E.coordinates(w) # sous forme de liste"
   ]
  },
  {
   "cell_type": "markdown",
   "metadata": {},
   "source": [
    "\n",
    "\n"
   ]
  },
  {
   "cell_type": "code",
   "execution_count": 23,
   "metadata": {},
   "outputs": [
    {
     "data": {
      "text/plain": [
       "(3, 2, 6)"
      ]
     },
     "execution_count": 23,
     "metadata": {},
     "output_type": "execute_result"
    }
   ],
   "source": [
    "E.coordinate_vector(w) # sous forme de vecteur"
   ]
  },
  {
   "cell_type": "markdown",
   "metadata": {},
   "source": [
    "<p>Si on veut d&eacute;finir une base diff&eacute;rente de celle canonique :</p>"
   ]
  },
  {
   "cell_type": "code",
   "execution_count": 29,
   "metadata": {},
   "outputs": [
    {
     "name": "stdout",
     "output_type": "stream",
     "text": [
      "Vector space of dimension 2 over Rational Field\n",
      "[\n",
      "(1, 0),\n",
      "(0, 1)\n",
      "]\n"
     ]
    },
    {
     "data": {
      "text/plain": [
       "Vector space of degree 2 and dimension 2 over Rational Field\n",
       "User basis matrix:\n",
       "[ 1  1]\n",
       "[ 1 -1]"
      ]
     },
     "execution_count": 29,
     "metadata": {},
     "output_type": "execute_result"
    }
   ],
   "source": [
    "F = VectorSpace(QQ,2) ; print(F)\n",
    "print(F.basis())\n",
    "\n",
    "e1p = vector([1,1])\n",
    "e2p = vector([1,-1])\n",
    "\n",
    "G = F.subspace_with_basis([e1p,e2p]) ; G"
   ]
  },
  {
   "cell_type": "code",
   "execution_count": 30,
   "metadata": {},
   "outputs": [
    {
     "data": {
      "text/plain": [
       "[-2, 1]"
      ]
     },
     "execution_count": 30,
     "metadata": {},
     "output_type": "execute_result"
    }
   ],
   "source": [
    "u = vector([-2,1])\n",
    "F.coordinates(u)"
   ]
  },
  {
   "cell_type": "code",
   "execution_count": 31,
   "metadata": {},
   "outputs": [
    {
     "data": {
      "text/plain": [
       "[-1/2, -3/2]"
      ]
     },
     "execution_count": 31,
     "metadata": {},
     "output_type": "execute_result"
    }
   ],
   "source": [
    "G.coordinates(u)"
   ]
  },
  {
   "cell_type": "code",
   "execution_count": 32,
   "metadata": {},
   "outputs": [
    {
     "data": {
      "text/plain": [
       "[-2, 1]"
      ]
     },
     "execution_count": 32,
     "metadata": {},
     "output_type": "execute_result"
    }
   ],
   "source": [
    "G.echelon_coordinates(u) #donne les coordonées dans la base canonique"
   ]
  },
  {
   "cell_type": "markdown",
   "metadata": {},
   "source": [
    "\n",
    "<p><span style=\"font-size: medium;\"><br /></span></p>\n",
    "<p><span style=\"font-size: large;\"><strong>Valeurs propres, vecteurs propres, diagonalisation</strong></span></p>\n",
    "<p><span style=\"font-size: medium;\">Soit $f: \\mathbb{R}^3 \\rightarrow \\mathbb{R}^3$ l'application lin&eacute;aire dans la base canonique : </span></p>\n",
    "<p><span style=\"font-size: medium;\">$\\left[ \\begin{matrix} 4 & 1 & -4 \\\\ 8 & 3 & -10 \\\\ 5 & 1 & -5 \\end{matrix} \\right]$</span></p>"
   ]
  },
  {
   "cell_type": "markdown",
   "metadata": {},
   "source": [
    "\n"
   ]
  },
  {
   "cell_type": "code",
   "execution_count": 33,
   "metadata": {},
   "outputs": [
    {
     "data": {
      "text/plain": [
       "[  4   1  -4]\n",
       "[  8   3 -10]\n",
       "[  5   1  -5]"
      ]
     },
     "execution_count": 33,
     "metadata": {},
     "output_type": "execute_result"
    }
   ],
   "source": [
    "A = matrix(3,3,[4,1,-4,8,3,-10,5,1,-5]) ; A"
   ]
  },
  {
   "cell_type": "markdown",
   "metadata": {},
   "source": [
    "<p>Nous cherchons une matrice inversible $P$ telle que $P^{-1} A P = D$ soit diagonale.</p>\n",
    "<p>Pour cela nous calculons le polyn&ocirc;me caracteristique &agrave; l'aide de la commande suivante :</p>\n"
   ]
  },
  {
   "cell_type": "code",
   "execution_count": 34,
   "metadata": {},
   "outputs": [
    {
     "data": {
      "text/plain": [
       "x^3 - 2*x^2 - x + 2"
      ]
     },
     "execution_count": 34,
     "metadata": {},
     "output_type": "execute_result"
    }
   ],
   "source": [
    "charpoly(A) # ou A.characteristic_polynomial()\n"
   ]
  },
  {
   "cell_type": "markdown",
   "metadata": {},
   "source": [
    "<p>ou en utilisant sa d&eacute;finition :</p>"
   ]
  },
  {
   "cell_type": "code",
   "execution_count": 35,
   "metadata": {},
   "outputs": [
    {
     "data": {
      "text/plain": [
       "((x + 5)*(x - 3) + 10)*(x - 4) + 12*x - 18"
      ]
     },
     "execution_count": 35,
     "metadata": {},
     "output_type": "execute_result"
    }
   ],
   "source": [
    "Pc = det(x - A) ; Pc"
   ]
  },
  {
   "cell_type": "code",
   "execution_count": 36,
   "metadata": {},
   "outputs": [
    {
     "data": {
      "text/plain": [
       "(x + 1)*(x - 1)*(x - 2)"
      ]
     },
     "execution_count": 36,
     "metadata": {},
     "output_type": "execute_result"
    }
   ],
   "source": [
    "factor(Pc)"
   ]
  },
  {
   "cell_type": "code",
   "execution_count": 37,
   "metadata": {},
   "outputs": [
    {
     "data": {
      "text/plain": [
       "(x - 2) * (x - 1) * (x + 1)"
      ]
     },
     "execution_count": 37,
     "metadata": {},
     "output_type": "execute_result"
    }
   ],
   "source": [
    "factor(A.characteristic_polynomial())"
   ]
  },
  {
   "cell_type": "markdown",
   "metadata": {},
   "source": [
    "<p><span style=\"font-size: large;\">On calcule les valeurs propres de $f$ par la commande :</span></p>"
   ]
  },
  {
   "cell_type": "code",
   "execution_count": 38,
   "metadata": {},
   "outputs": [
    {
     "data": {
      "text/plain": [
       "[2, 1, -1]"
      ]
     },
     "execution_count": 38,
     "metadata": {},
     "output_type": "execute_result"
    }
   ],
   "source": [
    "A.eigenvalues() # eigen = propre en allemand"
   ]
  },
  {
   "cell_type": "markdown",
   "metadata": {},
   "source": [
    "<p><span style=\"font-size: large;\">Ou comme racines du polyn&ocirc;me caract&eacute;ristique de $A $ :</span></p>"
   ]
  },
  {
   "cell_type": "code",
   "execution_count": 40,
   "metadata": {},
   "outputs": [
    {
     "name": "stdout",
     "output_type": "stream",
     "text": [
      "x^3 - 2*x^2 - x + 2\n"
     ]
    },
    {
     "data": {
      "text/plain": [
       "[(2, 1), (1, 1), (-1, 1)]"
      ]
     },
     "execution_count": 40,
     "metadata": {},
     "output_type": "execute_result"
    }
   ],
   "source": [
    "H = A.charpoly(x) ; print(H)\n",
    "H.roots() # donne les racines de H avec leur multiplicité"
   ]
  },
  {
   "cell_type": "markdown",
   "metadata": {},
   "source": [
    "<p>Les valeurs propres sont donc: $2$,&nbsp;$1$&nbsp; et $-1$ avec multiplicit&eacute; alg&eacute;brique $1$.</p>\n",
    "<p>Recherchons des vecteurs propres pour chaque valeur propre $\\lambda$.</p>\n",
    "<p><strong>Attention:</strong>&nbsp;<span style=\"font-family: 'courier new', courier;\">A.kernel()&nbsp;</span>calcule par d&eacute;faut le&nbsp;<em>noyau &agrave; gauche</em>&nbsp;de $A$,&nbsp;<em>i.e</em>. l'ensemble des vecteurs (lignes) $\\mathbf{v}$ tels que $\\mathbf{v} A = \\mathbf{0}$. Vaut mieux explicitement sp&eacute;cifier celui qui nous int&eacute;resse:&nbsp;<span style=\"font-family: 'courier new', courier;\">left_kernel() ou&nbsp;right_kernel()</span>.</p>"
   ]
  },
  {
   "cell_type": "code",
   "execution_count": 41,
   "metadata": {},
   "outputs": [
    {
     "data": {
      "text/plain": [
       "Free module of degree 3 and rank 1 over Integer Ring\n",
       "Echelon basis matrix:\n",
       "[1 2 1]"
      ]
     },
     "execution_count": 41,
     "metadata": {},
     "output_type": "execute_result"
    }
   ],
   "source": [
    "(A-2).right_kernel() # lambda = 2"
   ]
  },
  {
   "cell_type": "code",
   "execution_count": 42,
   "metadata": {},
   "outputs": [
    {
     "data": {
      "text/plain": [
       "True"
      ]
     },
     "execution_count": 42,
     "metadata": {},
     "output_type": "execute_result"
    }
   ],
   "source": [
    "v = (A-2).right_kernel().basis()[0]\n",
    "A*v == 2*v # ok"
   ]
  },
  {
   "cell_type": "code",
   "execution_count": 43,
   "metadata": {},
   "outputs": [
    {
     "data": {
      "text/plain": [
       "Free module of degree 3 and rank 1 over Integer Ring\n",
       "Echelon basis matrix:\n",
       "[1 1 1]"
      ]
     },
     "execution_count": 43,
     "metadata": {},
     "output_type": "execute_result"
    }
   ],
   "source": [
    "(A - 1).right_kernel() # lambda = 1"
   ]
  },
  {
   "cell_type": "code",
   "execution_count": 44,
   "metadata": {},
   "outputs": [
    {
     "data": {
      "text/plain": [
       "Free module of degree 3 and rank 1 over Integer Ring\n",
       "Echelon basis matrix:\n",
       "[1 3 2]"
      ]
     },
     "execution_count": 44,
     "metadata": {},
     "output_type": "execute_result"
    }
   ],
   "source": [
    "(A + 1).right_kernel() # lambda = -1"
   ]
  },
  {
   "cell_type": "markdown",
   "metadata": {},
   "source": [
    "<p>On trouve $3$ vecteurs propres ind&eacute;pendants, la matrice $M$ est donc diagonalisable. La matrice $P$ que l'on cherche correspond &agrave; la matrice de passage de la base canonique vers une base $\\mathcal{B}$ compos&eacute;e de vecteurs propres.</p>"
   ]
  },
  {
   "cell_type": "code",
   "execution_count": 45,
   "metadata": {},
   "outputs": [
    {
     "data": {
      "text/plain": [
       "[(1, 2, 1), (1, 1, 1), (1, 3, 2)]"
      ]
     },
     "execution_count": 45,
     "metadata": {},
     "output_type": "execute_result"
    }
   ],
   "source": [
    "B = []\n",
    "for vp in [2, 1,-1]:\n",
    "    B += (A - vp).right_kernel().basis()\n",
    "B"
   ]
  },
  {
   "cell_type": "markdown",
   "metadata": {},
   "source": [
    "<p>$\\mathcal{B}$ est une famille de vecteurs, nous voulons la matrice $P$ dont les colonnes sont les coordonn&eacute;es de ces vecteurs par rapport &agrave; la base canonique.</p>"
   ]
  },
  {
   "cell_type": "code",
   "execution_count": 46,
   "metadata": {},
   "outputs": [
    {
     "data": {
      "text/plain": [
       "[1 1 1]\n",
       "[2 1 3]\n",
       "[1 1 2]"
      ]
     },
     "execution_count": 46,
     "metadata": {},
     "output_type": "execute_result"
    }
   ],
   "source": [
    "P = transpose(matrix(B)); P"
   ]
  },
  {
   "cell_type": "markdown",
   "metadata": {},
   "source": [
    "<p>V&eacute;rification:</p>"
   ]
  },
  {
   "cell_type": "code",
   "execution_count": 47,
   "metadata": {},
   "outputs": [
    {
     "data": {
      "text/plain": [
       "[ 2  0  0]\n",
       "[ 0  1  0]\n",
       "[ 0  0 -1]"
      ]
     },
     "execution_count": 47,
     "metadata": {},
     "output_type": "execute_result"
    }
   ],
   "source": [
    "P^-1*A*P"
   ]
  },
  {
   "cell_type": "markdown",
   "metadata": {},
   "source": [
    "<p>&nbsp;</p>\n",
    "<p><span style=\"font-size: large;\">On constate que $A$ est diagonalisable sur $\\mathbb{R}$ (pourquoi ?). On peut construire une base de $\\mathbb{R}^3$ constitu&eacute;e de vecteurs propres avec la commande :<br /></span></p>"
   ]
  },
  {
   "cell_type": "code",
   "execution_count": 48,
   "metadata": {},
   "outputs": [
    {
     "data": {
      "text/plain": [
       "[(2,\n",
       "  [\n",
       "  (1, 2, 1)\n",
       "  ],\n",
       "  1),\n",
       " (1,\n",
       "  [\n",
       "  (1, 1, 1)\n",
       "  ],\n",
       "  1),\n",
       " (-1,\n",
       "  [\n",
       "  (1, 3, 2)\n",
       "  ],\n",
       "  1)]"
      ]
     },
     "execution_count": 48,
     "metadata": {},
     "output_type": "execute_result"
    }
   ],
   "source": [
    "V = A.eigenvectors_right() ; V"
   ]
  },
  {
   "cell_type": "markdown",
   "metadata": {},
   "source": [
    "<p><span style=\"font-size: large;\">qui donne dans $V$ une liste de triplets : valeur propre, liste de vecteurs, multiplicit&eacute;. La base cherch&eacute;e est :</span></p>"
   ]
  },
  {
   "cell_type": "code",
   "execution_count": 49,
   "metadata": {},
   "outputs": [
    {
     "data": {
      "text/plain": [
       "[(1, 2, 1), (1, 1, 1), (1, 3, 2)]"
      ]
     },
     "execution_count": 49,
     "metadata": {},
     "output_type": "execute_result"
    }
   ],
   "source": [
    "Bp = [V[i][1][0] for i in range(3)] ; Bp"
   ]
  },
  {
   "cell_type": "markdown",
   "metadata": {},
   "source": [
    "<p><span style=\"font-size: large;\">La matrice de passage $P$ de la base canonique $B$ &agrave; la base $B' $ est donc :<br /></span></p>"
   ]
  },
  {
   "cell_type": "code",
   "execution_count": 50,
   "metadata": {},
   "outputs": [
    {
     "data": {
      "text/plain": [
       "[1 1 1]\n",
       "[2 1 3]\n",
       "[1 1 2]"
      ]
     },
     "execution_count": 50,
     "metadata": {},
     "output_type": "execute_result"
    }
   ],
   "source": [
    "P = matrix(Bp).transpose() ; P"
   ]
  },
  {
   "cell_type": "markdown",
   "metadata": {},
   "source": [
    "<p><span style=\"font-size: large;\">On v&eacute;rifie que, dans la base $B'$, la matrice $D$ de $f$ est diagonale :</span></p>"
   ]
  },
  {
   "cell_type": "code",
   "execution_count": 51,
   "metadata": {},
   "outputs": [
    {
     "data": {
      "text/plain": [
       "[ 2  0  0]\n",
       "[ 0  1  0]\n",
       "[ 0  0 -1]"
      ]
     },
     "execution_count": 51,
     "metadata": {},
     "output_type": "execute_result"
    }
   ],
   "source": [
    "D = P^-1 * A * P ; D"
   ]
  },
  {
   "cell_type": "markdown",
   "metadata": {},
   "source": [
    "<p><strong><span style=\"text-decoration: underline;\">Pour r&eacute;sumer</span></strong></p>\n",
    "<p>Comment utiliser Sage pour diagonaliser une matrice, c'est-&agrave;-dire chercher une matrice $P$ inversible telle que $P^{-1}AP$ soit diagonale ?</p>\n",
    "<p>Pour les valeurs propres :</p>\n",
    "<ol>\n",
    "<li>On d&eacute;finit la matrice : <span style=\"font-family: courier new,courier;\">A=matrix(.....)</span></li>\n",
    "<li>On calcule le polyn&ocirc;me caracteristique : <span style=\"font-family: courier new,courier;\">charpoly(A) (ou&nbsp; A.characteristic_polynomial()) ou det(x-A)</span></li>\n",
    "<li>On factorise le polyn&ocirc;me caracteristique pour lire les valeurs propres de $A$ : <span style=\"font-family: courier new,courier;\">factor(charpoly(A))</span><strong><em></em></strong></li>\n",
    "</ol>\n",
    "<p>On peut v&eacute;rifier nos calculs avec la commande de Sage :<span style=\"font-family: courier new,courier;\">&nbsp;A.eigenvalues()&nbsp;</span> (\"eigen = propre en allemand\")</p>\n",
    "<p>Pour les vecteurs propres :</p>\n",
    "<ol>\n",
    "<li>On calcule le vecteur propre pour chaque valeur propre :&nbsp;<span>A.kernel()</span>&nbsp;(help(kernel))<strong>&nbsp;<br /></strong></li>\n",
    "<li><strong>Attention :</strong><span>&nbsp;A.kernel()</span>&nbsp; calcule par d&eacute;faut le&nbsp;<em>noyau &agrave; gauche</em>&nbsp;de $A$,&nbsp;<em>i.e</em>. l'ensemble des vecteurs (lignes) $\\mathbf{v}$ tels que $\\mathbf{v} A = \\mathbf{0}$. Donc on explicite celui qui nous int&eacute;resse:&nbsp;<span>left_kernel(</span>) ou&nbsp;<span>right_kernel()</span>.</li>\n",
    "<li>Pour extraire le vecteur :&nbsp;<span>(A - lambda).right_kernel().basis()</span></li>\n",
    "<li>Si elle est diagonalisable, on cr&eacute;e la matrice de passage $P$ de la base canonique vers une base $B$ form&eacute;e par les vecteurs propres.</li>\n",
    "<li>On v&eacute;rifie que $P^{-1}AP$ soit une matrice diagonale.</li>\n",
    "</ol>\n",
    "<p>&nbsp;</p>\n",
    "<p>&nbsp;</p>\n",
    "<p><span style=\"text-decoration: underline;\">EXERCICE 1</span></p>\n",
    "<p>Dans $\\mathbb{R}^3$ muni de sa base canonique $B=\\{i,j,k\\}$, on consid&egrave;re les vecteurs suivants : $u=2i-j+k$, $v=i+2j-k$ et $w=i+j-3k$.</p>\n",
    "<p>Montrer que la famille $\\{u,v,w\\}$ est une base de&nbsp;$\\mathbb{R}^3$ et d&eacute;terminer les coordonn&eacute;es du vecteur $x=2i+3j+4k$ dans la base $B'=\\{u,v,w\\}$.</p>"
   ]
  },
  {
   "cell_type": "code",
   "execution_count": 53,
   "metadata": {},
   "outputs": [
    {
     "data": {
      "text/html": [
       "<html><script type=\"math/tex; mode=display\">\\newcommand{\\Bold}[1]{\\mathbf{#1}}-13</script></html>"
      ],
      "text/latex": [
       "\\begin{math}\n",
       "\\newcommand{\\Bold}[1]{\\mathbf{#1}}-13\n",
       "\\end{math}"
      ],
      "text/plain": [
       "-13"
      ]
     },
     "metadata": {},
     "output_type": "display_data"
    },
    {
     "data": {
      "text/html": [
       "<html><script type=\"math/tex; mode=display\">\\newcommand{\\Bold}[1]{\\mathbf{#1}}\\left[\\frac{8}{13}, \\frac{37}{13}, -\\frac{27}{13}\\right]</script></html>"
      ],
      "text/latex": [
       "\\begin{math}\n",
       "\\newcommand{\\Bold}[1]{\\mathbf{#1}}\\left[\\frac{8}{13}, \\frac{37}{13}, -\\frac{27}{13}\\right]\n",
       "\\end{math}"
      ],
      "text/plain": [
       "[8/13, 37/13, -27/13]"
      ]
     },
     "metadata": {},
     "output_type": "display_data"
    },
    {
     "data": {
      "text/html": [
       "<html><script type=\"math/tex; mode=display\">\\newcommand{\\Bold}[1]{\\mathbf{#1}}\\left(5,\\,4,\\,-7\\right)</script></html>"
      ],
      "text/latex": [
       "\\begin{math}\n",
       "\\newcommand{\\Bold}[1]{\\mathbf{#1}}\\left(5,\\,4,\\,-7\\right)\n",
       "\\end{math}"
      ],
      "text/plain": [
       "(5, 4, -7)"
      ]
     },
     "metadata": {},
     "output_type": "display_data"
    }
   ],
   "source": [
    "u = (2, -1, 1)\n",
    "v = (1, 2, -1)\n",
    "w = (1, 1, -3)\n",
    "A = matrix(3,3, [u,v,w])\n",
    "#Affichage du determinant de A\n",
    "show(det(A))\n",
    "Q = VectorSpace(QQ,3)\n",
    "Bprim = Q.subspace_with_basis([u,v,w])\n",
    "\n",
    "x = vector([2, 3, 4])\n",
    "F = Bprim.coordinates(x)\n",
    "G = A*x\n",
    "#Affichage des coordonnés\n",
    "show(F)\n",
    "#Affichage de (A)*x\n",
    "show(G)"
   ]
  },
  {
   "cell_type": "markdown",
   "metadata": {},
   "source": [
    "<p><span style=\"text-decoration: underline;\">EXERCICE 2</span></p>\n",
    "<p>a) &Eacute;crire une fonction&nbsp;<span>diagonalize(<em>A</em>)</span>&nbsp;qui renvoie une liste&nbsp;<span>[<em>D</em>,&nbsp;<em>P</em>]</span>&nbsp;form&eacute;e d'une matrice diagonale $D$ et d'une matrice inversible $P$ telle que $P^{-1} A P = D$; si la matrice n'est pas diagonalisable, un message d'erreur est affich&eacute;.</p>"
   ]
  },
  {
   "cell_type": "code",
   "execution_count": 54,
   "metadata": {},
   "outputs": [],
   "source": [
    "def diagonalize(A):\n",
    "    cleanValues = []\n",
    "    cleanVectors = []\n",
    "    base = []\n",
    "    roots = charpoly(A).roots()\n",
    "    for root in roots:\n",
    "        cleanValues.append(root[0])\n",
    "    for cleanValues in cleanValues:\n",
    "        cleanVectors += (A+(-1*(cleanValues))).right_kernel().basis()\n",
    "    P = transpose(matrix(cleanVectors))\n",
    "    D = P^-1 * A * P \n",
    "    return(D, P)"
   ]
  },
  {
   "cell_type": "markdown",
   "metadata": {},
   "source": [
    "<p><span id=\"cell_outer_51\">b) Essayer votre fonction sur les matrices suivantes (comparer avec <span style=\"font-family: 'courier new', courier;\"><em>A</em>.right_eigenmatrix()</span>).</span></p>"
   ]
  },
  {
   "cell_type": "code",
   "execution_count": 55,
   "metadata": {},
   "outputs": [
    {
     "data": {
      "text/plain": [
       "[1 2]\n",
       "[3 2]"
      ]
     },
     "execution_count": 55,
     "metadata": {},
     "output_type": "execute_result"
    }
   ],
   "source": [
    "A1 = matrix(QQ, [[1, 2], [3,2]]); A1"
   ]
  },
  {
   "cell_type": "code",
   "execution_count": 56,
   "metadata": {},
   "outputs": [
    {
     "data": {
      "text/html": [
       "<html><script type=\"math/tex; mode=display\">\\newcommand{\\Bold}[1]{\\mathbf{#1}}\\left(\\left(\\begin{array}{rr}\n",
       "4 & 0 \\\\\n",
       "0 & -1\n",
       "\\end{array}\\right), \\left(\\begin{array}{rr}\n",
       "1 & 1 \\\\\n",
       "\\frac{3}{2} & -1\n",
       "\\end{array}\\right)\\right)</script></html>"
      ],
      "text/latex": [
       "\\begin{math}\n",
       "\\newcommand{\\Bold}[1]{\\mathbf{#1}}\\left(\\left(\\begin{array}{rr}\n",
       "4 & 0 \\\\\n",
       "0 & -1\n",
       "\\end{array}\\right), \\left(\\begin{array}{rr}\n",
       "1 & 1 \\\\\n",
       "\\frac{3}{2} & -1\n",
       "\\end{array}\\right)\\right)\n",
       "\\end{math}"
      ],
      "text/plain": [
       "(\n",
       "[ 4  0]  [  1   1]\n",
       "[ 0 -1], [3/2  -1]\n",
       ")"
      ]
     },
     "metadata": {},
     "output_type": "display_data"
    },
    {
     "data": {
      "text/html": [
       "<html><script type=\"math/tex; mode=display\">\\newcommand{\\Bold}[1]{\\mathbf{#1}}\\left(\\left(\\begin{array}{rr}\n",
       "4 & 0 \\\\\n",
       "0 & -1\n",
       "\\end{array}\\right), \\left(\\begin{array}{rr}\n",
       "1 & 1 \\\\\n",
       "\\frac{3}{2} & -1\n",
       "\\end{array}\\right)\\right)</script></html>"
      ],
      "text/latex": [
       "\\begin{math}\n",
       "\\newcommand{\\Bold}[1]{\\mathbf{#1}}\\left(\\left(\\begin{array}{rr}\n",
       "4 & 0 \\\\\n",
       "0 & -1\n",
       "\\end{array}\\right), \\left(\\begin{array}{rr}\n",
       "1 & 1 \\\\\n",
       "\\frac{3}{2} & -1\n",
       "\\end{array}\\right)\\right)\n",
       "\\end{math}"
      ],
      "text/plain": [
       "(\n",
       "[ 4  0]  [  1   1]\n",
       "[ 0 -1], [3/2  -1]\n",
       ")"
      ]
     },
     "metadata": {},
     "output_type": "display_data"
    }
   ],
   "source": [
    "show(A1.right_eigenmatrix())\n",
    "show(diagonalize(A1))"
   ]
  },
  {
   "cell_type": "code",
   "execution_count": 57,
   "metadata": {},
   "outputs": [
    {
     "data": {
      "text/plain": [
       "[  16    9   83  -33  -24    8]\n",
       "[  13    5   56  -27  -18    4]\n",
       "[  37   29  236  -83  -64   26]\n",
       "[ -66  -45 -385  145  108  -40]\n",
       "[ 221  157 1323 -487 -367  140]\n",
       "[ -40  -40 -302   96   78  -36]"
      ]
     },
     "execution_count": 57,
     "metadata": {},
     "output_type": "execute_result"
    }
   ],
   "source": [
    "A2 = matrix(QQ, [[16,9,83,-33,-24,8], [13,5,56,-27,-18,4], [37,29,236,-83,-64,26], [-66,-45,-385,145,108,-40], [221,157,1323,-487,-367,140], [-40,-40,-302,96,78,-36]]); A2"
   ]
  },
  {
   "cell_type": "code",
   "execution_count": 58,
   "metadata": {},
   "outputs": [
    {
     "data": {
      "text/html": [
       "<html><script type=\"math/tex; mode=display\">\\newcommand{\\Bold}[1]{\\mathbf{#1}}\\left(\\left(\\begin{array}{rrrrrr}\n",
       "-1 & 0 & 0 & 0 & 0 & 0 \\\\\n",
       "0 & -2 & 0 & 0 & 0 & 0 \\\\\n",
       "0 & 0 & 1 & 0 & 0 & 0 \\\\\n",
       "0 & 0 & 0 & 1 & 0 & 0 \\\\\n",
       "0 & 0 & 0 & 0 & 0 & 0 \\\\\n",
       "0 & 0 & 0 & 0 & 0 & 0\n",
       "\\end{array}\\right), \\left(\\begin{array}{rrrrrr}\n",
       "1 & 1 & 1 & 0 & 1 & 0 \\\\\n",
       "1 & 0 & 0 & 1 & 0 & 1 \\\\\n",
       "3 & 5 & 2 & -1 & 7 & -2 \\\\\n",
       "-5 & -7 & -3 & -2 & -11 & 3 \\\\\n",
       "17 & 25 & 11 & 1 & 37 & -10 \\\\\n",
       "-4 & -8 & -2 & 4 & -9 & 2\n",
       "\\end{array}\\right)\\right)</script></html>"
      ],
      "text/latex": [
       "\\begin{math}\n",
       "\\newcommand{\\Bold}[1]{\\mathbf{#1}}\\left(\\left(\\begin{array}{rrrrrr}\n",
       "-1 & 0 & 0 & 0 & 0 & 0 \\\\\n",
       "0 & -2 & 0 & 0 & 0 & 0 \\\\\n",
       "0 & 0 & 1 & 0 & 0 & 0 \\\\\n",
       "0 & 0 & 0 & 1 & 0 & 0 \\\\\n",
       "0 & 0 & 0 & 0 & 0 & 0 \\\\\n",
       "0 & 0 & 0 & 0 & 0 & 0\n",
       "\\end{array}\\right), \\left(\\begin{array}{rrrrrr}\n",
       "1 & 1 & 1 & 0 & 1 & 0 \\\\\n",
       "1 & 0 & 0 & 1 & 0 & 1 \\\\\n",
       "3 & 5 & 2 & -1 & 7 & -2 \\\\\n",
       "-5 & -7 & -3 & -2 & -11 & 3 \\\\\n",
       "17 & 25 & 11 & 1 & 37 & -10 \\\\\n",
       "-4 & -8 & -2 & 4 & -9 & 2\n",
       "\\end{array}\\right)\\right)\n",
       "\\end{math}"
      ],
      "text/plain": [
       "(\n",
       "[-1  0  0  0  0  0]  [  1   1   1   0   1   0]\n",
       "[ 0 -2  0  0  0  0]  [  1   0   0   1   0   1]\n",
       "[ 0  0  1  0  0  0]  [  3   5   2  -1   7  -2]\n",
       "[ 0  0  0  1  0  0]  [ -5  -7  -3  -2 -11   3]\n",
       "[ 0  0  0  0  0  0]  [ 17  25  11   1  37 -10]\n",
       "[ 0  0  0  0  0  0], [ -4  -8  -2   4  -9   2]\n",
       ")"
      ]
     },
     "metadata": {},
     "output_type": "display_data"
    },
    {
     "data": {
      "text/html": [
       "<html><script type=\"math/tex; mode=display\">\\newcommand{\\Bold}[1]{\\mathbf{#1}}\\left(\\left(\\begin{array}{rrrrrr}\n",
       "-1 & 0 & 0 & 0 & 0 & 0 \\\\\n",
       "0 & -2 & 0 & 0 & 0 & 0 \\\\\n",
       "0 & 0 & 1 & 0 & 0 & 0 \\\\\n",
       "0 & 0 & 0 & 1 & 0 & 0 \\\\\n",
       "0 & 0 & 0 & 0 & 0 & 0 \\\\\n",
       "0 & 0 & 0 & 0 & 0 & 0\n",
       "\\end{array}\\right), \\left(\\begin{array}{rrrrrr}\n",
       "1 & 1 & 1 & 0 & 1 & 0 \\\\\n",
       "1 & 0 & 0 & 1 & 0 & 1 \\\\\n",
       "3 & 5 & 2 & -1 & 7 & -2 \\\\\n",
       "-5 & -7 & -3 & -2 & -11 & 3 \\\\\n",
       "17 & 25 & 11 & 1 & 37 & -10 \\\\\n",
       "-4 & -8 & -2 & 4 & -9 & 2\n",
       "\\end{array}\\right)\\right)</script></html>"
      ],
      "text/latex": [
       "\\begin{math}\n",
       "\\newcommand{\\Bold}[1]{\\mathbf{#1}}\\left(\\left(\\begin{array}{rrrrrr}\n",
       "-1 & 0 & 0 & 0 & 0 & 0 \\\\\n",
       "0 & -2 & 0 & 0 & 0 & 0 \\\\\n",
       "0 & 0 & 1 & 0 & 0 & 0 \\\\\n",
       "0 & 0 & 0 & 1 & 0 & 0 \\\\\n",
       "0 & 0 & 0 & 0 & 0 & 0 \\\\\n",
       "0 & 0 & 0 & 0 & 0 & 0\n",
       "\\end{array}\\right), \\left(\\begin{array}{rrrrrr}\n",
       "1 & 1 & 1 & 0 & 1 & 0 \\\\\n",
       "1 & 0 & 0 & 1 & 0 & 1 \\\\\n",
       "3 & 5 & 2 & -1 & 7 & -2 \\\\\n",
       "-5 & -7 & -3 & -2 & -11 & 3 \\\\\n",
       "17 & 25 & 11 & 1 & 37 & -10 \\\\\n",
       "-4 & -8 & -2 & 4 & -9 & 2\n",
       "\\end{array}\\right)\\right)\n",
       "\\end{math}"
      ],
      "text/plain": [
       "(\n",
       "[-1  0  0  0  0  0]  [  1   1   1   0   1   0]\n",
       "[ 0 -2  0  0  0  0]  [  1   0   0   1   0   1]\n",
       "[ 0  0  1  0  0  0]  [  3   5   2  -1   7  -2]\n",
       "[ 0  0  0  1  0  0]  [ -5  -7  -3  -2 -11   3]\n",
       "[ 0  0  0  0  0  0]  [ 17  25  11   1  37 -10]\n",
       "[ 0  0  0  0  0  0], [ -4  -8  -2   4  -9   2]\n",
       ")"
      ]
     },
     "metadata": {},
     "output_type": "display_data"
    }
   ],
   "source": [
    "show(A2.right_eigenmatrix())\n",
    "show(diagonalize(A2))"
   ]
  },
  {
   "cell_type": "markdown",
   "metadata": {},
   "source": [
    "<p><span style=\"text-decoration: underline;\">EXERCICE 3</span></p>\n",
    "<p>&nbsp;</p>\n",
    "<p>Consid&eacute;rons la matrice $M$ suivante : $\\left[\\begin{matrix} 3 & 0 & 0 \\\\ 1 & 3 & 1 \\\\ -1 & 0 & 2 \\end{matrix}\\right].$</p>\n",
    "<p>Calculer la puissance $M^7$ en utilisant sa matrice diagonale et de passage. &Eacute;crivez aussi la relation que vous utilisez pour ce calcul.</p>"
   ]
  },
  {
   "cell_type": "code",
   "execution_count": 59,
   "metadata": {},
   "outputs": [
    {
     "data": {
      "text/html": [
       "<html><script type=\"math/tex; mode=display\">\\newcommand{\\Bold}[1]{\\mathbf{#1}}(x - 2) \\cdot (x - 3)^{2}</script></html>"
      ],
      "text/latex": [
       "\\begin{math}\n",
       "\\newcommand{\\Bold}[1]{\\mathbf{#1}}(x - 2) \\cdot (x - 3)^{2}\n",
       "\\end{math}"
      ],
      "text/plain": [
       "(x - 2) * (x - 3)^2"
      ]
     },
     "metadata": {},
     "output_type": "display_data"
    },
    {
     "data": {
      "text/html": [
       "<html><script type=\"math/tex; mode=display\">\\newcommand{\\Bold}[1]{\\mathbf{#1}}\\left(\\left(\\begin{array}{rrr}\n",
       "2 & 0 & 0 \\\\\n",
       "0 & 3 & 0 \\\\\n",
       "0 & 0 & 3\n",
       "\\end{array}\\right), \\left(\\begin{array}{rrr}\n",
       "0 & 1 & 0 \\\\\n",
       "1 & 0 & 1 \\\\\n",
       "-1 & -1 & 0\n",
       "\\end{array}\\right)\\right)</script></html>"
      ],
      "text/latex": [
       "\\begin{math}\n",
       "\\newcommand{\\Bold}[1]{\\mathbf{#1}}\\left(\\left(\\begin{array}{rrr}\n",
       "2 & 0 & 0 \\\\\n",
       "0 & 3 & 0 \\\\\n",
       "0 & 0 & 3\n",
       "\\end{array}\\right), \\left(\\begin{array}{rrr}\n",
       "0 & 1 & 0 \\\\\n",
       "1 & 0 & 1 \\\\\n",
       "-1 & -1 & 0\n",
       "\\end{array}\\right)\\right)\n",
       "\\end{math}"
      ],
      "text/plain": [
       "(\n",
       "[2 0 0]  [ 0  1  0]\n",
       "[0 3 0]  [ 1  0  1]\n",
       "[0 0 3], [-1 -1  0]\n",
       ")"
      ]
     },
     "metadata": {},
     "output_type": "display_data"
    },
    {
     "name": "stdout",
     "output_type": "stream",
     "text": [
      "M^7 =\n"
     ]
    },
    {
     "data": {
      "text/html": [
       "<html><script type=\"math/tex; mode=display\">\\newcommand{\\Bold}[1]{\\mathbf{#1}}\\left(\\begin{array}{rrr}\n",
       "2187 & 0 & 0 \\\\\n",
       "2059 & 2187 & 2059 \\\\\n",
       "-2059 & 0 & 128\n",
       "\\end{array}\\right)</script></html>"
      ],
      "text/latex": [
       "\\begin{math}\n",
       "\\newcommand{\\Bold}[1]{\\mathbf{#1}}\\left(\\begin{array}{rrr}\n",
       "2187 & 0 & 0 \\\\\n",
       "2059 & 2187 & 2059 \\\\\n",
       "-2059 & 0 & 128\n",
       "\\end{array}\\right)\n",
       "\\end{math}"
      ],
      "text/plain": [
       "[ 2187     0     0]\n",
       "[ 2059  2187  2059]\n",
       "[-2059     0   128]"
      ]
     },
     "metadata": {},
     "output_type": "display_data"
    }
   ],
   "source": [
    "# M^k = PD^kP^-1\n",
    "M = matrix(3,3, [[3,0,0], [1,3,1], [-1,0,2]])\n",
    "show(factor(charpoly(M)))\n",
    "D = matrix(3,3,[[2,0,0], [0,3,0], [0,0,3]])\n",
    "P = matrix(3,3,[[0,1,0],[1,0,1],[-1,-1,0]])\n",
    "show((D,P))\n",
    "# d'ou\n",
    "print(f\"M^7 =\")\n",
    "show(P*D^7*P^-1)"
   ]
  },
  {
   "cell_type": "markdown",
   "metadata": {},
   "source": [
    "<p><span style=\"text-decoration: underline;\">EXERCICE 4</span>&nbsp;: <strong>M&Eacute;THODE DE LA PUISSANCE</strong><span style=\"text-decoration: underline;\"><br /></span></p>\n",
    "<p><br style=\"text-decoration: underline;\" /><span style=\"color: #000000;\">&Eacute;crire la fonction <strong>eigpower(A,tol,nmax)</strong> qui &eacute;value num&eacute;riquement une valeur propre d'une matrice.<br /> Elle calcule avec la m&eacute;thode de la puissance la valeur propre de $A$ de module maximal &agrave; partir d'une donn&eacute;e initial qui par d&eacute;faut est le vecteur constitu&eacute; de 1. <br /> Cette fonction utilise la tol&eacute;rance <em>tol</em> pour l'erreur absolue, un nombre maximal d'iteration <em>nmax</em> et d&eacute;marre d'un <em>vecteur initial v0</em>.<br /> La fonction retourne le vecteur propre <em>v</em> tel que $A*v=\\lambda *v$ et le num&eacute;ro de l'iteration &agrave; laquelle $v$ a &eacute;t&eacute; calcul&eacute;.<br /><br />Des suggestions :</span></p>\n",
    "<ul>\n",
    "<li><span style=\"color: #000000;\">D&eacute;finir $v0$ un vecteur unitaire colonne de la m<span class=\"st\"><em>&ecirc;</em></span>me taille que la matrice $A$.</span></li>\n",
    "<li><span style=\"color: #000000;\">Calculer le produit de la matrice $A$ par $v0$ : $vProd =A*v0$.</span></li>\n",
    "<li><span style=\"color: #000000;\">On normalise (<span style=\"font-family: courier\\ new, courier;\">norm</span>) le vecteur : <span>$v0= vProd/norm(vProd)$</span><br /></span></li>\n",
    "<li><span style=\"color: #000000;\">Calculer $\\lambda = v0^T * A*v0$. <br style=\"color: #000000;\" /></span></li>\n",
    "<li><span style=\"color: #000000;\">Jusqu'&agrave; quand l'erreur n'est pas inferieur &agrave; la tol et on n'a pas rejoint le nombre maximales d'iterations, calculer $vProd=A*v0$ et $\\lambda=v0^T * A* v0$ <br /></span></li>\n",
    "<li><span style=\"color: #000000;\">Returner $\\lambda $ et le nombre d'iterations effectu&eacute;es.<br /></span></li>\n",
    "</ul>\n",
    "<p><span style=\"color: #000000;\">Testez votre fonction avec la&nbsp; matrice $B$ ci-dessous et comparez votre r&eacute;sultat avec la commande <span style=\"font-family: courier new,courier;\">B.eigenvalues()</span></span></p>"
   ]
  },
  {
   "cell_type": "code",
   "execution_count": 64,
   "metadata": {},
   "outputs": [],
   "source": [
    "def eigpower(A,tol,nmax,v0):\n",
    "    i = 0\n",
    "    v0 = matrix(QQ,v0).transpose()\n",
    "    vProd = A*v0\n",
    "    lstart = transpose(v0)*vProd\n",
    "    l = lstart+1\n",
    "    while ((l-lstart>tol or l-lstart<-tol) and i<nmax): \n",
    "        vProd = A*v0\n",
    "        v0 = vProd/vProd.norm()\n",
    "        l = transpose(v0)*A*v0\n",
    "        i += 1\n",
    "    return [l,v0,i]"
   ]
  },
  {
   "cell_type": "code",
   "execution_count": 65,
   "metadata": {},
   "outputs": [
    {
     "data": {
      "text/plain": [
       "[30  2  3 13]\n",
       "[ 5 11 10  8]\n",
       "[ 9  7  6 12]\n",
       "[ 4 14 15  1]"
      ]
     },
     "execution_count": 65,
     "metadata": {},
     "output_type": "execute_result"
    }
   ],
   "source": [
    "B = matrix(QQ,[[30, 2,3,13],[5,11,10,8],[9,7,6,12],[4,14,15,1]]); B"
   ]
  },
  {
   "cell_type": "code",
   "execution_count": 66,
   "metadata": {},
   "outputs": [
    {
     "data": {
      "text/html": [
       "<html><script type=\"math/tex; mode=display\">\\newcommand{\\Bold}[1]{\\mathbf{#1}}\\left[\\left(\\begin{array}{r}\n",
       "39.39601087034531\n",
       "\\end{array}\\right), \\left(\\begin{array}{r}\n",
       "0.7354225381337087 \\\\\n",
       "0.38151791175712196 \\\\\n",
       "0.41375598069479036 \\\\\n",
       "0.37736422969427147\n",
       "\\end{array}\\right), 20\\right]</script></html>"
      ],
      "text/latex": [
       "\\begin{math}\n",
       "\\newcommand{\\Bold}[1]{\\mathbf{#1}}\\left[\\left(\\begin{array}{r}\n",
       "39.39601087034531\n",
       "\\end{array}\\right), \\left(\\begin{array}{r}\n",
       "0.7354225381337087 \\\\\n",
       "0.38151791175712196 \\\\\n",
       "0.41375598069479036 \\\\\n",
       "0.37736422969427147\n",
       "\\end{array}\\right), 20\\right]\n",
       "\\end{math}"
      ],
      "text/plain": [
       "[\n",
       "                     [ 0.7354225381337087]    \n",
       "                     [0.38151791175712196]    \n",
       "                     [0.41375598069479036]    \n",
       "[39.39601087034531], [0.37736422969427147], 20\n",
       "]"
      ]
     },
     "metadata": {},
     "output_type": "display_data"
    },
    {
     "data": {
      "text/html": [
       "<html><script type=\"math/tex; mode=display\">\\newcommand{\\Bold}[1]{\\mathbf{#1}}\\left[-9.50221368271688?, 0.2854057899066645?, 17.82079703055716?, 39.39601086225306?\\right]</script></html>"
      ],
      "text/latex": [
       "\\begin{math}\n",
       "\\newcommand{\\Bold}[1]{\\mathbf{#1}}\\left[-9.50221368271688?, 0.2854057899066645?, 17.82079703055716?, 39.39601086225306?\\right]\n",
       "\\end{math}"
      ],
      "text/plain": [
       "[-9.50221368271688?, 0.2854057899066645?, 17.82079703055716?, 39.39601086225306?]"
      ]
     },
     "metadata": {},
     "output_type": "display_data"
    }
   ],
   "source": [
    "# affichage de eigpower()\n",
    "show(eigpower(B, 10^-6, 20, vector([1,1,1,1])))\n",
    "# affichage de B.eigenvalues()\n",
    "show(B.eigenvalues())"
   ]
  },
  {
   "cell_type": "markdown",
   "metadata": {},
   "source": [
    "<p><span style=\"text-decoration: underline;\">EXERCICE 5 : <span style=\"text-decoration: underline;\"> CONNECTIONS INTERURBAINES</span><br /></span></p>\n",
    "<div class=\"sagews-output-html\"><span style=\"color: #000000;\">Etant donn&eacute; $n$ villes, on note $A$ la matrice dont les coefficients $a_{ij}$ valent 1 si la $i-$&egrave;me ville est directement reli&eacute;e &agrave; la $j-$&egrave;me, et 0 sinon.<br />On peut montrer que les composantes d'un vecteurs propre <strong>x</strong> de norme 1 associ&eacute; &agrave; la valeur propre la plus grande donnent le taux d'accessibilit&eacute; (qui est une mesure de la facilit&eacute; d'acc&egrave;s) des diverses villes.<br />Calculer ce vecteur dans le cas des connections ferroviaires entre les onze plus grandes villes de Lombardie.<img src=lombardie.jpg></img> <br /></span></div>\n",
    "<div class=\"sagews-output-html\"><span><br /></span></div>\n",
    "<div class=\"sagews-output-html\"><span>On note $A\\in M_{11 \\times 11}(\\mathbb{R})$ la matrice associ&eacute;e au r&eacute;seau ferroviaire de Lombardie, i.e. la matrice dont les coefficients $a_{ij}$ sont &eacute;gaux &agrave; 1 s'il y a une connection directe entre la ville $i$ et la ville $j$, et 0 sinon.<br />En posant <span style=\"font-family: courier new,courier;\">tol=1.e-12</span> et $v0$ le vecteur unitaire avec 11 composantes, calculer avec la m&eacute;thode de la puissance (fonction <span style=\"font-family: courier new,courier;\">eigpower</span> de l'exercice 3) l'approximation d'un vecteur propre associ&eacute; &agrave; la valeur propre de $A$ de plus grand module. <br />En d&eacute;duire la ville la mieux et la moins bien desservie.</span></div>"
   ]
  },
  {
   "cell_type": "code",
   "execution_count": 67,
   "metadata": {},
   "outputs": [
    {
     "data": {
      "text/html": [
       "<html><script type=\"math/tex; mode=display\">\\newcommand{\\Bold}[1]{\\mathbf{#1}}\\left(\\begin{array}{rrrrrrrrrrr}\n",
       "0 & 1 & 1 & 1 & 1 & 1 & 1 & 0 & 0 & 0 & 0 \\\\\n",
       "1 & 0 & 0 & 0 & 0 & 0 & 0 & 0 & 0 & 0 & 0 \\\\\n",
       "1 & 0 & 0 & 0 & 0 & 0 & 0 & 0 & 0 & 1 & 0 \\\\\n",
       "1 & 0 & 0 & 0 & 1 & 0 & 0 & 0 & 0 & 1 & 0 \\\\\n",
       "1 & 0 & 0 & 1 & 0 & 1 & 0 & 1 & 0 & 0 & 0 \\\\\n",
       "1 & 0 & 0 & 0 & 1 & 0 & 0 & 1 & 0 & 0 & 0 \\\\\n",
       "1 & 0 & 0 & 0 & 0 & 0 & 0 & 0 & 0 & 0 & 0 \\\\\n",
       "0 & 0 & 0 & 0 & 1 & 1 & 0 & 0 & 1 & 0 & 0 \\\\\n",
       "0 & 0 & 0 & 0 & 0 & 0 & 0 & 1 & 0 & 0 & 0 \\\\\n",
       "0 & 0 & 1 & 1 & 0 & 0 & 0 & 0 & 0 & 0 & 1 \\\\\n",
       "0 & 0 & 0 & 0 & 0 & 0 & 0 & 0 & 0 & 1 & 0\n",
       "\\end{array}\\right)</script></html>"
      ],
      "text/latex": [
       "\\begin{math}\n",
       "\\newcommand{\\Bold}[1]{\\mathbf{#1}}\\left(\\begin{array}{rrrrrrrrrrr}\n",
       "0 & 1 & 1 & 1 & 1 & 1 & 1 & 0 & 0 & 0 & 0 \\\\\n",
       "1 & 0 & 0 & 0 & 0 & 0 & 0 & 0 & 0 & 0 & 0 \\\\\n",
       "1 & 0 & 0 & 0 & 0 & 0 & 0 & 0 & 0 & 1 & 0 \\\\\n",
       "1 & 0 & 0 & 0 & 1 & 0 & 0 & 0 & 0 & 1 & 0 \\\\\n",
       "1 & 0 & 0 & 1 & 0 & 1 & 0 & 1 & 0 & 0 & 0 \\\\\n",
       "1 & 0 & 0 & 0 & 1 & 0 & 0 & 1 & 0 & 0 & 0 \\\\\n",
       "1 & 0 & 0 & 0 & 0 & 0 & 0 & 0 & 0 & 0 & 0 \\\\\n",
       "0 & 0 & 0 & 0 & 1 & 1 & 0 & 0 & 1 & 0 & 0 \\\\\n",
       "0 & 0 & 0 & 0 & 0 & 0 & 0 & 1 & 0 & 0 & 0 \\\\\n",
       "0 & 0 & 1 & 1 & 0 & 0 & 0 & 0 & 0 & 0 & 1 \\\\\n",
       "0 & 0 & 0 & 0 & 0 & 0 & 0 & 0 & 0 & 1 & 0\n",
       "\\end{array}\\right)\n",
       "\\end{math}"
      ],
      "text/plain": [
       "[0 1 1 1 1 1 1 0 0 0 0]\n",
       "[1 0 0 0 0 0 0 0 0 0 0]\n",
       "[1 0 0 0 0 0 0 0 0 1 0]\n",
       "[1 0 0 0 1 0 0 0 0 1 0]\n",
       "[1 0 0 1 0 1 0 1 0 0 0]\n",
       "[1 0 0 0 1 0 0 1 0 0 0]\n",
       "[1 0 0 0 0 0 0 0 0 0 0]\n",
       "[0 0 0 0 1 1 0 0 1 0 0]\n",
       "[0 0 0 0 0 0 0 1 0 0 0]\n",
       "[0 0 1 1 0 0 0 0 0 0 1]\n",
       "[0 0 0 0 0 0 0 0 0 1 0]"
      ]
     },
     "metadata": {},
     "output_type": "display_data"
    },
    {
     "data": {
      "image/png": "[encoded data removed]",
      "text/plain": [
       "Graphics object consisting of 50 graphics primitives"
      ]
     },
     "metadata": {},
     "output_type": "display_data"
    },
    {
     "data": {
      "text/html": [
       "<html><script type=\"math/tex; mode=display\">\\newcommand{\\Bold}[1]{\\mathbf{#1}}\\left[\\left(\\begin{array}{r}\n",
       "3.3152346660795553\n",
       "\\end{array}\\right), \\left(\\begin{array}{r}\n",
       "0.5265245505387183 \\\\\n",
       "0.15924995519447685 \\\\\n",
       "0.2168888908019526 \\\\\n",
       "0.3583454219664402 \\\\\n",
       "0.46908047665166225 \\\\\n",
       "0.3863572609797849 \\\\\n",
       "0.15924995519447685 \\\\\n",
       "0.2835890806060497 \\\\\n",
       "0.08565077462082048 \\\\\n",
       "0.19028681879168924 \\\\\n",
       "0.057638935607475766\n",
       "\\end{array}\\right), 20\\right]</script></html>"
      ],
      "text/latex": [
       "\\begin{math}\n",
       "\\newcommand{\\Bold}[1]{\\mathbf{#1}}\\left[\\left(\\begin{array}{r}\n",
       "3.3152346660795553\n",
       "\\end{array}\\right), \\left(\\begin{array}{r}\n",
       "0.5265245505387183 \\\\\n",
       "0.15924995519447685 \\\\\n",
       "0.2168888908019526 \\\\\n",
       "0.3583454219664402 \\\\\n",
       "0.46908047665166225 \\\\\n",
       "0.3863572609797849 \\\\\n",
       "0.15924995519447685 \\\\\n",
       "0.2835890806060497 \\\\\n",
       "0.08565077462082048 \\\\\n",
       "0.19028681879168924 \\\\\n",
       "0.057638935607475766\n",
       "\\end{array}\\right), 20\\right]\n",
       "\\end{math}"
      ],
      "text/plain": [
       "[\n",
       "                      [  0.5265245505387183]    \n",
       "                      [ 0.15924995519447685]    \n",
       "                      [  0.2168888908019526]    \n",
       "                      [  0.3583454219664402]    \n",
       "                      [ 0.46908047665166225]    \n",
       "                      [  0.3863572609797849]    \n",
       "                      [ 0.15924995519447685]    \n",
       "                      [  0.2835890806060497]    \n",
       "                      [ 0.08565077462082048]    \n",
       "                      [ 0.19028681879168924]    \n",
       "[3.3152346660795553], [0.057638935607475766], 20\n",
       "]"
      ]
     },
     "metadata": {},
     "output_type": "display_data"
    },
    {
     "name": "stdout",
     "output_type": "stream",
     "text": [
      "On contate que la ligne avec le nombre le plus proche de 1 est Milan, qui est ainsi la ville la plus connectée.\n",
      "Inversement, la ville la moins connectée est Mantoue.\n"
     ]
    }
   ],
   "source": [
    "A = matrix(11, 11, [\n",
    "           [0,1,1,1,1,1,1,0,0,0,0],\n",
    "           [1,0,0,0,0,0,0,0,0,0,0],\n",
    "           [1,0,0,0,0,0,0,0,0,1,0],\n",
    "           [1,0,0,0,1,0,0,0,0,1,0],\n",
    "           [1,0,0,1,0,1,0,1,0,0,0],\n",
    "           [1,0,0,0,1,0,0,1,0,0,0],\n",
    "           [1,0,0,0,0,0,0,0,0,0,0],\n",
    "           [0,0,0,0,1,1,0,0,1,0,0],\n",
    "           [0,0,0,0,0,0,0,1,0,0,0],\n",
    "           [0,0,1,1,0,0,0,0,0,0,1],\n",
    "           [0,0,0,0,0,0,0,0,0,1,0]\n",
    "])\n",
    "\n",
    "# affichage graphique\n",
    "show(A)\n",
    "show(DiGraph(A))\n",
    "show(eigpower(A, 10^-12, 20, vector([1,1,1,1,1,1,1,1,1,1,1])))\n",
    "\n",
    "# affichage partie texte/question\n",
    "print(f\"On contate que la ligne avec le nombre le plus proche de 1 est Milan, qui est ainsi la ville la plus connectée.\")\n",
    "print(f\"Inversement, la ville la moins connectée est Mantoue.\")"
   ]
  },
  {
   "cell_type": "markdown",
   "metadata": {},
   "source": [
    "<p><span style=\"color: #ff0000;\"><strong><em><span style=\"text-decoration: underline;\">CURIOSIT&Eacute;</span>&nbsp;: L'alg&egrave;bre lineaire &agrave; la base de Google!</em></strong></span></p>\n",
    "<p><span id=\"cell_outer_73\"><a href=\"http://www.incomediary.com/wp-content/uploads/2012/02/larry-page-sergey-brin.jpg\">Deux jeunes docteurs en informatique</a> ont un jour eu l'id&eacute;e de classer les pages web par ordre de pertinence (puis ils ont fond&eacute; une compagnie pour mettre en pratique <a href=\"http://en.wikipedia.org/wiki/Pagerank\">leur id&eacute;e</a> et &ccedil;a a <a href=\"https://www.google.com/finance?chddm=953649&amp;q=GOOG\">plut&ocirc;t pas mal march&eacute;</a>). </span></p>\n",
    "<p><span>Leur id&eacute;e &eacute;tait de consid&eacute;rer qu'une page est pertinente si elle est r&eacute;f&eacute;renc&eacute;e par beaucoup de pages pertinentes. On peut impl&eacute;menter cette id&eacute;e un peu circulaire gr&acirc;ce &agrave; la notion de marche al&eacute;atoire: on repr&eacute;sente le web par un graphe orient&eacute; (exemples de graphe : connections interurbaines des villes de Lombardie), chaque sommet repr&eacute;sente une page et les ar&ecirc;tes repr&eacute;sentent les hyperliens. On imagine quelqu'un se baladant al&eacute;atoirement de page en page; &agrave; la longue il finira par tomber sur les pages les plus pertinentes puisqu'elles vont avoir tendance &agrave; attirer le trafic.</span></p>\n",
    "<p>Voici comment on peut cr&eacute;er un<em> graphe non orient&eacute;</em> et sa matrice d'adjacence dans Sage :</p>"
   ]
  },
  {
   "cell_type": "code",
   "execution_count": 68,
   "metadata": {},
   "outputs": [
    {
     "data": {
      "image/png": "[encoded data removed]",
      "text/plain": [
       "Graphics object consisting of 7 graphics primitives"
      ]
     },
     "metadata": {},
     "output_type": "display_data"
    }
   ],
   "source": [
    "A = matrix([[0,1,1], [1,0,1], [1,1,0]])\n",
    "k = Graph(A) # graphe complet K_3\n",
    "k.show()"
   ]
  },
  {
   "cell_type": "code",
   "execution_count": 69,
   "metadata": {},
   "outputs": [
    {
     "data": {
      "text/plain": [
       "[0 1 1]\n",
       "[1 0 1]\n",
       "[1 1 0]"
      ]
     },
     "execution_count": 69,
     "metadata": {},
     "output_type": "execute_result"
    }
   ],
   "source": [
    "k.adjacency_matrix()"
   ]
  },
  {
   "cell_type": "markdown",
   "metadata": {},
   "source": [
    "<p>Et voici comment un<em> graphe orient&eacute;</em> et sa matrice d'adjacence :</p>"
   ]
  },
  {
   "cell_type": "code",
   "execution_count": 70,
   "metadata": {},
   "outputs": [
    {
     "data": {
      "image/png": "[encoded data removed]",
      "text/plain": [
       "Graphics object consisting of 16 graphics primitives"
      ]
     },
     "metadata": {},
     "output_type": "display_data"
    }
   ],
   "source": [
    "g = DiGraph([(0,1), (0,2), (1,2), (2,1), (2,3), (1,3), (3,0), (3,1)])\n",
    "g.show()"
   ]
  },
  {
   "cell_type": "markdown",
   "metadata": {},
   "source": [
    "<p><span style=\"color: #000000;\">Vous disposez maintenant de (presque) tous les moyens (matrice d'adjacence d'un graphe, valeurs propres...) pour comprendre l'algorithme sur lequel se base la recherche des plus imposants moteurs de recherche : GOOGLE.</span></p>"
   ]
  },
  {
   "cell_type": "code",
   "execution_count": null,
   "metadata": {},
   "outputs": [],
   "source": []
  },
  {
   "cell_type": "code",
   "execution_count": null,
   "metadata": {},
   "outputs": [],
   "source": []
  }
 ],
 "metadata": {
  "kernelspec": {
   "display_name": "SageMath 9.2",
   "language": "sage",
   "name": "sagemath"
  },
  "language_info": {
   "codemirror_mode": {
    "name": "ipython",
    "version": 3
   },
   "file_extension": ".py",
   "mimetype": "text/x-python",
   "name": "python",
   "nbconvert_exporter": "python",
   "pygments_lexer": "ipython3",
   "version": "3.8.5"
  }
 },
 "nbformat": 4,
 "nbformat_minor": 2
}
