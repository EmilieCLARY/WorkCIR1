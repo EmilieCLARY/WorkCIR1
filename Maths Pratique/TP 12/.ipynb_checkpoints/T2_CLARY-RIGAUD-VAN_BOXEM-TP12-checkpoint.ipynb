{
 "cells": [
  {
   "cell_type": "markdown",
   "metadata": {},
   "source": [
    "<p><span style=\"font-size: large; background-color: #ffffff; color: #000000;\"><strong>Consignes :</strong></span></p>\n",
    "<ul>\n",
    "<li><span style=\"font-size: large; background-color: #ffffff; color: #000000;\"><strong><strong>Renommer ce fichier en ordre alphab&eacute;tique avec le numéro i de votre Tiers <span style=\"color: #ff0000;\">Ti_nom1-nom2-TP12</span></strong></strong></span></li>\n",
    "<li><span style=\"font-size: large; background-color: #ffffff; color: #000000;\"><strong><strong><strong>TP &agrave; rendre sur Teams&nbsp;<span><span style=\"color: #ff0000;\">pour le 29 avril</span>.</span>&nbsp;</strong></strong></strong></span></li>\n",
    "<li><span style=\"font-size: large; background-color: #ffffff; color: #000000;\"><strong>TP &agrave; faire en groupe de 2. Le groupe de travail est le m&ecirc;me pour toute l'ann&eacute;e.</strong></span></li>\n",
    "<li><span style=\"font-size: large; background-color: #ffffff; color: #ff0000;\"><span style=\"color: #000000;\"><strong>&Agrave; compl&eacute;ter :</strong></span></span></li>\n",
    "</ul>\n",
    "<p><span style=\"font-size: large; background-color: #ffffff; color: #ff0000;\"><strong>NOM PRENOM 1 : <br /></strong></span></p>\n",
    "<p><span style=\"font-size: large; background-color: #ffffff; color: #ff0000;\"><strong>NOM PRENOM 2 : </strong></span></p>\n",
    "<p>&nbsp;</p>\n",
    "<p><br /><span style=\"font-size: large;\"><strong></strong><strong>TP 12 : Diagonalisation<br /></strong></span></p>\n",
    "\n",
    "La commande <b>VectorSpace(K,n)</b> pérmet de définir l'espace vectoriel $K^n$.\n",
    "\n",
    "Par exemple on peut définir :\n",
    "\n",
    "\n"
   ]
  },
  {
   "cell_type": "code",
   "execution_count": 2,
   "metadata": {},
   "outputs": [
    {
     "data": {
      "text/plain": [
       "Vector space of dimension 3 over Rational Field"
      ]
     },
     "execution_count": 2,
     "metadata": {},
     "output_type": "execute_result"
    }
   ],
   "source": [
    "E = VectorSpace(QQ,3) #ou plus simplement : E = QQ^3\n",
    "E\n"
   ]
  },
  {
   "cell_type": "markdown",
   "metadata": {},
   "source": [
    "<p><span style=\"font-size: medium;\">La commande <span style=\"font-family: courier\\ new, courier;\"><strong>MatrixSpace(K,n,p)</strong></span> permet de d&eacute;finir l'espace des matrices &agrave; $n$ lignes et $p$ colonnes &agrave; coefficients dans $K$ :</span></p>"
   ]
  },
  {
   "cell_type": "code",
   "execution_count": 3,
   "metadata": {},
   "outputs": [
    {
     "data": {
      "text/plain": [
       "Full MatrixSpace of 2 by 2 dense matrices over Rational Field"
      ]
     },
     "execution_count": 3,
     "metadata": {},
     "output_type": "execute_result"
    }
   ],
   "source": [
    "M22Q = MatrixSpace(QQ,2,2) ;  M22Q"
   ]
  },
  {
   "cell_type": "markdown",
   "metadata": {},
   "source": [
    "<p><span style=\"font-size: medium;\">La dimension d'un espace peut &ecirc;tre obtenue par <span style=\"font-family: courier\\ new, courier;\"><strong>E.dimension() <br /></strong></span><br /></span></p>"
   ]
  },
  {
   "cell_type": "code",
   "execution_count": 4,
   "metadata": {},
   "outputs": [
    {
     "data": {
      "text/plain": [
       "3"
      ]
     },
     "execution_count": 4,
     "metadata": {},
     "output_type": "execute_result"
    }
   ],
   "source": [
    "E.dimension()"
   ]
  },
  {
   "cell_type": "code",
   "execution_count": 4,
   "metadata": {},
   "outputs": [
    {
     "data": {
      "text/plain": [
       "4"
      ]
     },
     "execution_count": 4,
     "metadata": {},
     "output_type": "execute_result"
    }
   ],
   "source": [
    "M22Q.dimension()"
   ]
  },
  {
   "cell_type": "markdown",
   "metadata": {},
   "source": [
    "<p><span style=\"font-size: medium;\">Tout espace vectoriel poss&egrave;de une base canonique.</span></p>"
   ]
  },
  {
   "cell_type": "code",
   "execution_count": 8,
   "metadata": {},
   "outputs": [
    {
     "data": {
      "text/plain": [
       "[\n",
       "(1, 0, 0),\n",
       "(0, 1, 0),\n",
       "(0, 0, 1)\n",
       "]"
      ]
     },
     "execution_count": 8,
     "metadata": {},
     "output_type": "execute_result"
    }
   ],
   "source": [
    "E.basis()"
   ]
  },
  {
   "cell_type": "code",
   "execution_count": 9,
   "metadata": {},
   "outputs": [
    {
     "data": {
      "text/plain": [
       "Finite family {(0, 0): [1 0]\n",
       "[0 0], (0, 1): [0 1]\n",
       "[0 0], (1, 0): [0 0]\n",
       "[1 0], (1, 1): [0 0]\n",
       "[0 1]}"
      ]
     },
     "execution_count": 9,
     "metadata": {},
     "output_type": "execute_result"
    }
   ],
   "source": [
    "M22Q.basis()"
   ]
  },
  {
   "cell_type": "markdown",
   "metadata": {},
   "source": [
    "<p><span style=\"font-size: medium;\">La m&eacute;thode <span style=\"font-size: medium;\"><span style=\"font-family: courier\\ new, courier;\"><strong>coordinates</strong></span></span> donne les coordonn&eacute;es d'un vecteur dans la base utilisateur.</span></p>\n",
    "<p><span style=\"font-size: medium;\"><br /></span></p>"
   ]
  },
  {
   "cell_type": "code",
   "execution_count": 10,
   "metadata": {},
   "outputs": [
    {
     "data": {
      "text/plain": [
       "[3, 2, 6]"
      ]
     },
     "execution_count": 10,
     "metadata": {},
     "output_type": "execute_result"
    }
   ],
   "source": [
    "w = vector([3,2,6])\n",
    "E.coordinates(w) # sous forme de liste"
   ]
  },
  {
   "cell_type": "markdown",
   "metadata": {},
   "source": [
    "\n",
    "\n"
   ]
  },
  {
   "cell_type": "code",
   "execution_count": 11,
   "metadata": {},
   "outputs": [
    {
     "data": {
      "text/plain": [
       "(3, 2, 6)"
      ]
     },
     "execution_count": 11,
     "metadata": {},
     "output_type": "execute_result"
    }
   ],
   "source": [
    "E.coordinate_vector(w) # sous forme de vecteur"
   ]
  },
  {
   "cell_type": "markdown",
   "metadata": {},
   "source": [
    "<p>Si on veut d&eacute;finir une base diff&eacute;rente de celle canonique :</p>"
   ]
  },
  {
   "cell_type": "code",
   "execution_count": 13,
   "metadata": {},
   "outputs": [
    {
     "name": "stdout",
     "output_type": "stream",
     "text": [
      "Vector space of dimension 2 over Rational Field\n",
      "[\n",
      "(1, 0),\n",
      "(0, 1)\n",
      "]\n"
     ]
    },
    {
     "data": {
      "text/plain": [
       "Vector space of degree 2 and dimension 2 over Rational Field\n",
       "User basis matrix:\n",
       "[ 1  1]\n",
       "[ 1 -1]"
      ]
     },
     "execution_count": 13,
     "metadata": {},
     "output_type": "execute_result"
    }
   ],
   "source": [
    "F = VectorSpace(QQ,2) ; print F\n",
    "print F.basis()\n",
    "\n",
    "e1p = vector([1,1])\n",
    "e2p = vector([1,-1])\n",
    "\n",
    "G = F.subspace_with_basis([e1p,e2p]) ; G"
   ]
  },
  {
   "cell_type": "code",
   "execution_count": 14,
   "metadata": {},
   "outputs": [
    {
     "data": {
      "text/plain": [
       "[-2, 1]"
      ]
     },
     "execution_count": 14,
     "metadata": {},
     "output_type": "execute_result"
    }
   ],
   "source": [
    "u = vector([-2,1])\n",
    "F.coordinates(u)"
   ]
  },
  {
   "cell_type": "code",
   "execution_count": 15,
   "metadata": {},
   "outputs": [
    {
     "data": {
      "text/plain": [
       "[-1/2, -3/2]"
      ]
     },
     "execution_count": 15,
     "metadata": {},
     "output_type": "execute_result"
    }
   ],
   "source": [
    "G.coordinates(u)"
   ]
  },
  {
   "cell_type": "code",
   "execution_count": 16,
   "metadata": {},
   "outputs": [
    {
     "data": {
      "text/plain": [
       "[-2, 1]"
      ]
     },
     "execution_count": 16,
     "metadata": {},
     "output_type": "execute_result"
    }
   ],
   "source": [
    "G.echelon_coordinates(u) #donne les coordonées dans la base canonique"
   ]
  },
  {
   "cell_type": "markdown",
   "metadata": {},
   "source": [
    "\n",
    "<p><span style=\"font-size: medium;\"><br /></span></p>\n",
    "<p><span style=\"font-size: large;\"><strong>Valeurs propres, vecteurs propres, diagonalisation</strong></span></p>\n",
    "<p><span style=\"font-size: medium;\">Soit $f: \\mathbb{R}^3 \\rightarrow \\mathbb{R}^3$ l'application lin&eacute;aire dans la base canonique : </span></p>\n",
    "<p><span style=\"font-size: medium;\">$\\left[ \\begin{matrix} 4 & 1 & -4 \\\\ 8 & 3 & -10 \\\\ 5 & 1 & -5 \\end{matrix} \\right]$</span></p>"
   ]
  },
  {
   "cell_type": "markdown",
   "metadata": {},
   "source": [
    "\n"
   ]
  },
  {
   "cell_type": "code",
   "execution_count": 5,
   "metadata": {},
   "outputs": [
    {
     "data": {
      "text/plain": [
       "[  4   1  -4]\n",
       "[  8   3 -10]\n",
       "[  5   1  -5]"
      ]
     },
     "execution_count": 5,
     "metadata": {},
     "output_type": "execute_result"
    }
   ],
   "source": [
    "A = matrix(3,3,[4,1,-4,8,3,-10,5,1,-5]) ; A"
   ]
  },
  {
   "cell_type": "markdown",
   "metadata": {},
   "source": [
    "<p>Nous cherchons une matrice inversible $P$ telle que $P^{-1} A P = D$ soit diagonale.</p>\n",
    "<p>Pour cela nous calculons le polyn&ocirc;me caracteristique &agrave; l'aide de la commande suivante :</p>\n"
   ]
  },
  {
   "cell_type": "code",
   "execution_count": 19,
   "metadata": {},
   "outputs": [
    {
     "data": {
      "text/plain": [
       "x^3 - 2*x^2 - x + 2"
      ]
     },
     "execution_count": 19,
     "metadata": {},
     "output_type": "execute_result"
    }
   ],
   "source": [
    "charpoly(A) # ou A.characteristic_polynomial()\n"
   ]
  },
  {
   "cell_type": "markdown",
   "metadata": {},
   "source": [
    "<p>ou en utilisant sa d&eacute;finition :</p>"
   ]
  },
  {
   "cell_type": "code",
   "execution_count": 20,
   "metadata": {},
   "outputs": [
    {
     "data": {
      "text/plain": [
       "((x + 5)*(x - 3) + 10)*(x - 4) + 12*x - 18"
      ]
     },
     "execution_count": 20,
     "metadata": {},
     "output_type": "execute_result"
    }
   ],
   "source": [
    "Pc = det(x - A) ; Pc"
   ]
  },
  {
   "cell_type": "code",
   "execution_count": 21,
   "metadata": {},
   "outputs": [
    {
     "data": {
      "text/plain": [
       "(x + 1)*(x - 1)*(x - 2)"
      ]
     },
     "execution_count": 21,
     "metadata": {},
     "output_type": "execute_result"
    }
   ],
   "source": [
    "factor(Pc)"
   ]
  },
  {
   "cell_type": "code",
   "execution_count": 22,
   "metadata": {},
   "outputs": [
    {
     "data": {
      "text/plain": [
       "(x - 2) * (x - 1) * (x + 1)"
      ]
     },
     "execution_count": 22,
     "metadata": {},
     "output_type": "execute_result"
    }
   ],
   "source": [
    "factor(A.characteristic_polynomial())"
   ]
  },
  {
   "cell_type": "markdown",
   "metadata": {},
   "source": [
    "<p><span style=\"font-size: large;\">On calcule les valeurs propres de $f$ par la commande :</span></p>"
   ]
  },
  {
   "cell_type": "code",
   "execution_count": 23,
   "metadata": {},
   "outputs": [
    {
     "data": {
      "text/plain": [
       "[2, 1, -1]"
      ]
     },
     "execution_count": 23,
     "metadata": {},
     "output_type": "execute_result"
    }
   ],
   "source": [
    "A.eigenvalues() # eigen = propre en allemand"
   ]
  },
  {
   "cell_type": "markdown",
   "metadata": {},
   "source": [
    "<p><span style=\"font-size: large;\">Ou comme racines du polyn&ocirc;me caract&eacute;ristique de $A $ :</span></p>"
   ]
  },
  {
   "cell_type": "code",
   "execution_count": 24,
   "metadata": {},
   "outputs": [
    {
     "name": "stdout",
     "output_type": "stream",
     "text": [
      "x^3 - 2*x^2 - x + 2\n"
     ]
    },
    {
     "data": {
      "text/plain": [
       "[(2, 1), (1, 1), (-1, 1)]"
      ]
     },
     "execution_count": 24,
     "metadata": {},
     "output_type": "execute_result"
    }
   ],
   "source": [
    "H = A.charpoly(x) ; print H\n",
    "H.roots() # donne les racines de H avec leur multiplicité"
   ]
  },
  {
   "cell_type": "markdown",
   "metadata": {},
   "source": [
    "<p>Les valeurs propres sont donc: $2$,&nbsp;$1$&nbsp; et $-1$ avec multiplicit&eacute; alg&eacute;brique $1$.</p>\n",
    "<p>Recherchons des vecteurs propres pour chaque valeur propre $\\lambda$.</p>\n",
    "<p><strong>Attention:</strong>&nbsp;<span style=\"font-family: 'courier new', courier;\">A.kernel()&nbsp;</span>calcule par d&eacute;faut le&nbsp;<em>noyau &agrave; gauche</em>&nbsp;de $A$,&nbsp;<em>i.e</em>. l'ensemble des vecteurs (lignes) $\\mathbf{v}$ tels que $\\mathbf{v} A = \\mathbf{0}$. Vaut mieux explicitement sp&eacute;cifier celui qui nous int&eacute;resse:&nbsp;<span style=\"font-family: 'courier new', courier;\">left_kernel() ou&nbsp;right_kernel()</span>.</p>"
   ]
  },
  {
   "cell_type": "code",
   "execution_count": 25,
   "metadata": {},
   "outputs": [
    {
     "data": {
      "text/plain": [
       "Free module of degree 3 and rank 1 over Integer Ring\n",
       "Echelon basis matrix:\n",
       "[1 2 1]"
      ]
     },
     "execution_count": 25,
     "metadata": {},
     "output_type": "execute_result"
    }
   ],
   "source": [
    "(A-2).right_kernel() # lambda = 2"
   ]
  },
  {
   "cell_type": "code",
   "execution_count": 26,
   "metadata": {},
   "outputs": [
    {
     "data": {
      "text/plain": [
       "True"
      ]
     },
     "execution_count": 26,
     "metadata": {},
     "output_type": "execute_result"
    }
   ],
   "source": [
    "v = (A-2).right_kernel().basis()[0]\n",
    "A*v == 2*v # ok"
   ]
  },
  {
   "cell_type": "code",
   "execution_count": 27,
   "metadata": {},
   "outputs": [
    {
     "data": {
      "text/plain": [
       "Free module of degree 3 and rank 1 over Integer Ring\n",
       "Echelon basis matrix:\n",
       "[1 1 1]"
      ]
     },
     "execution_count": 27,
     "metadata": {},
     "output_type": "execute_result"
    }
   ],
   "source": [
    "(A - 1).right_kernel() # lambda = 1"
   ]
  },
  {
   "cell_type": "code",
   "execution_count": 6,
   "metadata": {},
   "outputs": [
    {
     "data": {
      "text/plain": [
       "Free module of degree 3 and rank 1 over Integer Ring\n",
       "Echelon basis matrix:\n",
       "[1 3 2]"
      ]
     },
     "execution_count": 6,
     "metadata": {},
     "output_type": "execute_result"
    }
   ],
   "source": [
    "(A + 1).right_kernel() # lambda = -1"
   ]
  },
  {
   "cell_type": "markdown",
   "metadata": {},
   "source": [
    "<p>On trouve $3$ vecteurs propres ind&eacute;pendants, la matrice $M$ est donc diagonalisable. La matrice $P$ que l'on cherche correspond &agrave; la matrice de passage de la base canonique vers une base $\\mathcal{B}$ compos&eacute;e de vecteurs propres.</p>"
   ]
  },
  {
   "cell_type": "code",
   "execution_count": 29,
   "metadata": {},
   "outputs": [
    {
     "data": {
      "text/plain": [
       "[(1, 2, 1), (1, 1, 1), (1, 3, 2)]"
      ]
     },
     "execution_count": 29,
     "metadata": {},
     "output_type": "execute_result"
    }
   ],
   "source": [
    "B = []\n",
    "for vp in [2, 1,-1]:\n",
    "    B += (A - vp).right_kernel().basis()\n",
    "B"
   ]
  },
  {
   "cell_type": "markdown",
   "metadata": {},
   "source": [
    "<p>$\\mathcal{B}$ est une famille de vecteurs, nous voulons la matrice $P$ dont les colonnes sont les coordonn&eacute;es de ces vecteurs par rapport &agrave; la base canonique.</p>"
   ]
  },
  {
   "cell_type": "code",
   "execution_count": 30,
   "metadata": {},
   "outputs": [
    {
     "data": {
      "text/plain": [
       "[1 1 1]\n",
       "[2 1 3]\n",
       "[1 1 2]"
      ]
     },
     "execution_count": 30,
     "metadata": {},
     "output_type": "execute_result"
    }
   ],
   "source": [
    "P = transpose(matrix(B)); P"
   ]
  },
  {
   "cell_type": "markdown",
   "metadata": {},
   "source": [
    "<p>V&eacute;rification:</p>"
   ]
  },
  {
   "cell_type": "code",
   "execution_count": 31,
   "metadata": {},
   "outputs": [
    {
     "data": {
      "text/plain": [
       "[ 2  0  0]\n",
       "[ 0  1  0]\n",
       "[ 0  0 -1]"
      ]
     },
     "execution_count": 31,
     "metadata": {},
     "output_type": "execute_result"
    }
   ],
   "source": [
    "P^-1*A*P"
   ]
  },
  {
   "cell_type": "markdown",
   "metadata": {},
   "source": [
    "<p>&nbsp;</p>\n",
    "<p><span style=\"font-size: large;\">On constate que $A$ est diagonalisable sur $\\mathbb{R}$ (pourquoi ?). On peut construire une base de $\\mathbb{R}^3$ constitu&eacute;e de vecteurs propres avec la commande :<br /></span></p>"
   ]
  },
  {
   "cell_type": "code",
   "execution_count": 32,
   "metadata": {},
   "outputs": [
    {
     "data": {
      "text/plain": [
       "[(2, [\n",
       "  (1, 2, 1)\n",
       "  ], 1), (1, [\n",
       "  (1, 1, 1)\n",
       "  ], 1), (-1, [\n",
       "  (1, 3, 2)\n",
       "  ], 1)]"
      ]
     },
     "execution_count": 32,
     "metadata": {},
     "output_type": "execute_result"
    }
   ],
   "source": [
    "V = A.eigenvectors_right() ; V"
   ]
  },
  {
   "cell_type": "markdown",
   "metadata": {},
   "source": [
    "<p><span style=\"font-size: large;\">qui donne dans $V$ une liste de triplets : valeur propre, liste de vecteurs, multiplicit&eacute;. La base cherch&eacute;e est :</span></p>"
   ]
  },
  {
   "cell_type": "code",
   "execution_count": 33,
   "metadata": {},
   "outputs": [
    {
     "data": {
      "text/plain": [
       "[(1, 2, 1), (1, 1, 1), (1, 3, 2)]"
      ]
     },
     "execution_count": 33,
     "metadata": {},
     "output_type": "execute_result"
    }
   ],
   "source": [
    "Bp = [V[i][1][0] for i in range(3)] ; Bp"
   ]
  },
  {
   "cell_type": "markdown",
   "metadata": {},
   "source": [
    "<p><span style=\"font-size: large;\">La matrice de passage $P$ de la base canonique $B$ &agrave; la base $B' $ est donc :<br /></span></p>"
   ]
  },
  {
   "cell_type": "code",
   "execution_count": 34,
   "metadata": {},
   "outputs": [
    {
     "data": {
      "text/plain": [
       "[1 1 1]\n",
       "[2 1 3]\n",
       "[1 1 2]"
      ]
     },
     "execution_count": 34,
     "metadata": {},
     "output_type": "execute_result"
    }
   ],
   "source": [
    "P = matrix(Bp).transpose() ; P"
   ]
  },
  {
   "cell_type": "markdown",
   "metadata": {},
   "source": [
    "<p><span style=\"font-size: large;\">On v&eacute;rifie que, dans la base $B'$, la matrice $D$ de $f$ est diagonale :</span></p>"
   ]
  },
  {
   "cell_type": "code",
   "execution_count": 35,
   "metadata": {},
   "outputs": [
    {
     "data": {
      "text/plain": [
       "[ 2  0  0]\n",
       "[ 0  1  0]\n",
       "[ 0  0 -1]"
      ]
     },
     "execution_count": 35,
     "metadata": {},
     "output_type": "execute_result"
    }
   ],
   "source": [
    "D = P^-1 * A * P ; D"
   ]
  },
  {
   "cell_type": "markdown",
   "metadata": {},
   "source": [
    "<p><strong><span style=\"text-decoration: underline;\">Pour r&eacute;sumer</span></strong></p>\n",
    "<p>Comment utiliser Sage pour diagonaliser une matrice, c'est-&agrave;-dire chercher une matrice $P$ inversible telle que $P^{-1}AP$ soit diagonale ?</p>\n",
    "<p>Pour les valeurs propres :</p>\n",
    "<ol>\n",
    "<li>On d&eacute;finit la matrice : <span style=\"font-family: courier new,courier;\">A=matrix(.....)</span></li>\n",
    "<li>On calcule le polyn&ocirc;me caracteristique : <span style=\"font-family: courier new,courier;\">charpoly(A) (ou&nbsp; A.characteristic_polynomial()) ou det(x-A)</span></li>\n",
    "<li>On factorise le polyn&ocirc;me caracteristique pour lire les valeurs propres de $A$ : <span style=\"font-family: courier new,courier;\">factor(charpoly(A))</span><strong><em></em></strong></li>\n",
    "</ol>\n",
    "<p>On peut v&eacute;rifier nos calculs avec la commande de Sage :<span style=\"font-family: courier new,courier;\">&nbsp;A.eigenvalues()&nbsp;</span> (\"eigen = propre en allemand\")</p>\n",
    "<p>Pour les vecteurs propres :</p>\n",
    "<ol>\n",
    "<li>On calcule le vecteur propre pour chaque valeur propre :&nbsp;<span>A.kernel()</span>&nbsp;(help(kernel))<strong>&nbsp;<br /></strong></li>\n",
    "<li><strong>Attention :</strong><span>&nbsp;A.kernel()</span>&nbsp; calcule par d&eacute;faut le&nbsp;<em>noyau &agrave; gauche</em>&nbsp;de $A$,&nbsp;<em>i.e</em>. l'ensemble des vecteurs (lignes) $\\mathbf{v}$ tels que $\\mathbf{v} A = \\mathbf{0}$. Donc on explicite celui qui nous int&eacute;resse:&nbsp;<span>left_kernel(</span>) ou&nbsp;<span>right_kernel()</span>.</li>\n",
    "<li>Pour extraire le vecteur :&nbsp;<span>(A - lambda).right_kernel().basis()</span></li>\n",
    "<li>Si elle est diagonalisable, on cr&eacute;e la matrice de passage $P$ de la base canonique vers une base $B$ form&eacute;e par les vecteurs propres.</li>\n",
    "<li>On v&eacute;rifie que $P^{-1}AP$ soit une matrice diagonale.</li>\n",
    "</ol>\n",
    "<p>&nbsp;</p>\n",
    "<p>&nbsp;</p>\n",
    "<p><span style=\"text-decoration: underline;\">EXERCICE 1</span></p>\n",
    "<p>Dans $\\mathbb{R}^3$ muni de sa base canonique $B=\\{i,j,k\\}$, on consid&egrave;re les vecteurs suivants : $u=2i-j+k$, $v=i+2j-k$ et $w=i+j-3k$.</p>\n",
    "<p>Montrer que la famille $\\{u,v,w\\}$ est une base de&nbsp;$\\mathbb{R}^3$ et d&eacute;terminer les coordonn&eacute;es du vecteur $x=2i+3j+4k$ dans la base $B'=\\{u,v,w\\}$.</p>"
   ]
  },
  {
   "cell_type": "code",
   "execution_count": null,
   "metadata": {},
   "outputs": [],
   "source": []
  },
  {
   "cell_type": "markdown",
   "metadata": {},
   "source": [
    "<p><span style=\"text-decoration: underline;\">EXERCICE 2</span></p>\n",
    "<p>a) &Eacute;crire une fonction&nbsp;<span>diagonalize(<em>A</em>)</span>&nbsp;qui renvoie une liste&nbsp;<span>[<em>D</em>,&nbsp;<em>P</em>]</span>&nbsp;form&eacute;e d'une matrice diagonale $D$ et d'une matrice inversible $P$ telle que $P^{-1} A P = D$; si la matrice n'est pas diagonalisable, un message d'erreur est affich&eacute;.</p>"
   ]
  },
  {
   "cell_type": "code",
   "execution_count": null,
   "metadata": {},
   "outputs": [],
   "source": []
  },
  {
   "cell_type": "markdown",
   "metadata": {},
   "source": [
    "<p><span id=\"cell_outer_51\">b) Essayer votre fonction sur les matrices suivantes (comparer avec <span style=\"font-family: 'courier new', courier;\"><em>A</em>.right_eigenmatrix()</span>).</span></p>"
   ]
  },
  {
   "cell_type": "code",
   "execution_count": 1,
   "metadata": {},
   "outputs": [
    {
     "data": {
      "text/plain": [
       "[1 2]\n",
       "[3 2]"
      ]
     },
     "execution_count": 1,
     "metadata": {},
     "output_type": "execute_result"
    }
   ],
   "source": [
    "A1 = matrix(QQ, [[1, 2], [3,2]]); A1"
   ]
  },
  {
   "cell_type": "code",
   "execution_count": null,
   "metadata": {},
   "outputs": [],
   "source": []
  },
  {
   "cell_type": "code",
   "execution_count": 2,
   "metadata": {},
   "outputs": [
    {
     "data": {
      "text/plain": [
       "[  16    9   83  -33  -24    8]\n",
       "[  13    5   56  -27  -18    4]\n",
       "[  37   29  236  -83  -64   26]\n",
       "[ -66  -45 -385  145  108  -40]\n",
       "[ 221  157 1323 -487 -367  140]\n",
       "[ -40  -40 -302   96   78  -36]"
      ]
     },
     "execution_count": 2,
     "metadata": {},
     "output_type": "execute_result"
    }
   ],
   "source": [
    "A2 = matrix(QQ, [[16,9,83,-33,-24,8], [13,5,56,-27,-18,4], [37,29,236,-83,-64,26], [-66,-45,-385,145,108,-40], [221,157,1323,-487,-367,140], [-40,-40,-302,96,78,-36]]); A2"
   ]
  },
  {
   "cell_type": "code",
   "execution_count": null,
   "metadata": {},
   "outputs": [],
   "source": []
  },
  {
   "cell_type": "markdown",
   "metadata": {},
   "source": [
    "<p><span style=\"text-decoration: underline;\">EXERCICE 3</span></p>\n",
    "<p>&nbsp;</p>\n",
    "<p>Consid&eacute;rons la matrice $M$ suivante : $\\left[\\begin{matrix} 3 & 0 & 0 \\\\ 1 & 3 & 1 \\\\ -1 & 0 & 2 \\end{matrix}\\right].$</p>\n",
    "<p>Calculer la puissance $M^7$ en utilisant sa matrice diagonale et de passage. &Eacute;crivez aussi la relation que vous utilisez pour ce calcul.</p>"
   ]
  },
  {
   "cell_type": "code",
   "execution_count": null,
   "metadata": {},
   "outputs": [],
   "source": []
  },
  {
   "cell_type": "markdown",
   "metadata": {},
   "source": [
    "<p><span style=\"text-decoration: underline;\">EXERCICE 4</span>&nbsp;: <strong>M&Eacute;THODE DE LA PUISSANCE</strong><span style=\"text-decoration: underline;\"><br /></span></p>\n",
    "<p><br style=\"text-decoration: underline;\" /><span style=\"color: #000000;\">&Eacute;crire la fonction <strong>eigpower(A,tol,nmax)</strong> qui &eacute;value num&eacute;riquement une valeur propre d'une matrice.<br /> Elle calcule avec la m&eacute;thode de la puissance la valeur propre de $A$ de module maximal &agrave; partir d'une donn&eacute;e initial qui par d&eacute;faut est le vecteur constitu&eacute; de 1. <br /> Cette fonction utilise la tol&eacute;rance <em>tol</em> pour l'erreur absolue, un nombre maximal d'iteration <em>nmax</em> et d&eacute;marre d'un <em>vecteur initial v0</em>.<br /> La fonction retourne le vecteur propre <em>v</em> tel que $A*v=\\lambda *v$ et le num&eacute;ro de l'iteration &agrave; laquelle $v$ a &eacute;t&eacute; calcul&eacute;.<br /><br />Des suggestions :</span></p>\n",
    "<ul>\n",
    "<li><span style=\"color: #000000;\">D&eacute;finir $v0$ un vecteur unitaire colonne de la m<span class=\"st\"><em>&ecirc;</em></span>me taille que la matrice $A$.</span></li>\n",
    "<li><span style=\"color: #000000;\">Calculer le produit de la matrice $A$ par $v0$ : $vProd =A*v0$.</span></li>\n",
    "<li><span style=\"color: #000000;\">On normalise (<span style=\"font-family: courier\\ new, courier;\">norm</span>) le vecteur : <span>$v0= vProd/norm(vProd)$</span><br /></span></li>\n",
    "<li><span style=\"color: #000000;\">Calculer $\\lambda = v0^T * A*v0$. <br style=\"color: #000000;\" /></span></li>\n",
    "<li><span style=\"color: #000000;\">Jusqu'&agrave; quand l'erreur n'est pas inferieur &agrave; la tol et on n'a pas rejoint le nombre maximales d'iterations, calculer $vProd=A*v0$ et $\\lambda=v0^T * A* v0$ <br /></span></li>\n",
    "<li><span style=\"color: #000000;\">Returner $\\lambda $ et le nombre d'iterations effectu&eacute;es.<br /></span></li>\n",
    "</ul>\n",
    "<p><span style=\"color: #000000;\">Testez votre fonction avec la&nbsp; matrice $B$ ci-dessous et comparez votre r&eacute;sultat avec la commande <span style=\"font-family: courier new,courier;\">B.eigenvalues()</span></span></p>"
   ]
  },
  {
   "cell_type": "code",
   "execution_count": null,
   "metadata": {},
   "outputs": [],
   "source": []
  },
  {
   "cell_type": "code",
   "execution_count": 4,
   "metadata": {},
   "outputs": [
    {
     "data": {
      "text/plain": [
       "[30  2  3 13]\n",
       "[ 5 11 10  8]\n",
       "[ 9  7  6 12]\n",
       "[ 4 14 15  1]"
      ]
     },
     "execution_count": 4,
     "metadata": {},
     "output_type": "execute_result"
    }
   ],
   "source": [
    "B = matrix(QQ, [[30, 2,3,13], [5,11,10,8],[9,7,6,12],[4,14,15,1]]); B"
   ]
  },
  {
   "cell_type": "code",
   "execution_count": null,
   "metadata": {},
   "outputs": [],
   "source": []
  },
  {
   "cell_type": "markdown",
   "metadata": {},
   "source": [
    "<p><span style=\"text-decoration: underline;\">EXERCICE 5 : <span style=\"text-decoration: underline;\"> CONNECTIONS INTERURBAINES</span><br /></span></p>\n",
    "<div class=\"sagews-output-html\"><span style=\"color: #000000;\">Etant donn&eacute; $n$ villes, on note $A$ la matrice dont les coefficients $a_{ij}$ valent 1 si la $i-$&egrave;me ville est directement reli&eacute;e &agrave; la $j-$&egrave;me, et 0 sinon.<br />On peut montrer que les composantes d'un vecteurs propre <strong>x</strong> de norme 1 associ&eacute; &agrave; la valeur propre la plus grande donnent le taux d'accessibilit&eacute; (qui est une mesure de la facilit&eacute; d'acc&egrave;s) des diverses villes.<br />Calculer ce vecteur dans le cas des connections ferroviaires entre les onze plus grandes villes de Lombardie.<img src=lombardie.jpg></img> <br /></span></div>\n",
    "<div class=\"sagews-output-html\"><span><br /></span></div>\n",
    "<div class=\"sagews-output-html\"><span>On note $A\\in M_{11 \\times 11}(\\mathbb{R})$ la matrice associ&eacute;e au r&eacute;seau ferroviaire de Lombardie, i.e. la matrice dont les coefficients $a_{ij}$ sont &eacute;gaux &agrave; 1 s'il y a une connection directe entre la ville $i$ et la ville $j$, et 0 sinon.<br />En posant <span style=\"font-family: courier new,courier;\">tol=1.e-12</span> et $v0$ le vecteur unitaire avec 11 composantes, calculer avec la m&eacute;thode de la puissance (fonction <span style=\"font-family: courier new,courier;\">eigpower</span> de l'exercice 3) l'approximation d'un vecteur propre associ&eacute; &agrave; la valeur propre de $A$ de plus grand module. <br />En d&eacute;duire la ville la mieux et la moins bien desservie.</span></div>"
   ]
  },
  {
   "cell_type": "code",
   "execution_count": null,
   "metadata": {},
   "outputs": [],
   "source": []
  },
  {
   "cell_type": "markdown",
   "metadata": {},
   "source": [
    "<p><span style=\"color: #ff0000;\"><strong><em><span style=\"text-decoration: underline;\">CURIOSIT&Eacute;</span>&nbsp;: L'alg&egrave;bre lineaire &agrave; la base de Google!</em></strong></span></p>\n",
    "<p><span id=\"cell_outer_73\"><a href=\"http://www.incomediary.com/wp-content/uploads/2012/02/larry-page-sergey-brin.jpg\">Deux jeunes docteurs en informatique</a> ont un jour eu l'id&eacute;e de classer les pages web par ordre de pertinence (puis ils ont fond&eacute; une compagnie pour mettre en pratique <a href=\"http://en.wikipedia.org/wiki/Pagerank\">leur id&eacute;e</a> et &ccedil;a a <a href=\"https://www.google.com/finance?chddm=953649&amp;q=GOOG\">plut&ocirc;t pas mal march&eacute;</a>). </span></p>\n",
    "<p><span>Leur id&eacute;e &eacute;tait de consid&eacute;rer qu'une page est pertinente si elle est r&eacute;f&eacute;renc&eacute;e par beaucoup de pages pertinentes. On peut impl&eacute;menter cette id&eacute;e un peu circulaire gr&acirc;ce &agrave; la notion de marche al&eacute;atoire: on repr&eacute;sente le web par un graphe orient&eacute; (exemples de graphe : connections interurbaines des villes de Lombardie), chaque sommet repr&eacute;sente une page et les ar&ecirc;tes repr&eacute;sentent les hyperliens. On imagine quelqu'un se baladant al&eacute;atoirement de page en page; &agrave; la longue il finira par tomber sur les pages les plus pertinentes puisqu'elles vont avoir tendance &agrave; attirer le trafic.</span></p>\n",
    "<p>Voici comment on peut cr&eacute;er un<em> graphe non orient&eacute;</em> et sa matrice d'adjacence dans Sage :</p>"
   ]
  },
  {
   "cell_type": "code",
   "execution_count": 39,
   "metadata": {},
   "outputs": [
    {
     "data": {
      "image/png": "[encoded data removed]",
      "text/plain": [
       "Graphics object consisting of 7 graphics primitives"
      ]
     },
     "metadata": {},
     "output_type": "display_data"
    }
   ],
   "source": [
    "A = matrix([[0,1,1], [1,0,1], [1,1,0]])\n",
    "k = Graph(A) # graphe complet K_3\n",
    "k.show()"
   ]
  },
  {
   "cell_type": "code",
   "execution_count": 40,
   "metadata": {},
   "outputs": [
    {
     "data": {
      "text/plain": [
       "[0 1 1]\n",
       "[1 0 1]\n",
       "[1 1 0]"
      ]
     },
     "execution_count": 40,
     "metadata": {},
     "output_type": "execute_result"
    }
   ],
   "source": [
    "k.adjacency_matrix()"
   ]
  },
  {
   "cell_type": "markdown",
   "metadata": {},
   "source": [
    "<p>Et voici comment un<em> graphe orient&eacute;</em> et sa matrice d'adjacence :</p>"
   ]
  },
  {
   "cell_type": "code",
   "execution_count": 41,
   "metadata": {},
   "outputs": [
    {
     "data": {
      "image/png": "[encoded data removed]",
      "text/plain": [
       "Graphics object consisting of 16 graphics primitives"
      ]
     },
     "metadata": {},
     "output_type": "display_data"
    }
   ],
   "source": [
    "g = DiGraph([(0,1), (0,2), (1,2), (2,1), (2,3), (1,3), (3,0), (3,1)])\n",
    "g.show()"
   ]
  },
  {
   "cell_type": "markdown",
   "metadata": {},
   "source": [
    "<p><span style=\"color: #000000;\">Vous disposez maintenant de (presque) tous les moyens (matrice d'adjacence d'un graphe, valeurs propres...) pour comprendre l'algorithme sur lequel se base la recherche des plus imposants moteurs de recherche : GOOGLE.</span></p>"
   ]
  },
  {
   "cell_type": "code",
   "execution_count": null,
   "metadata": {},
   "outputs": [],
   "source": []
  }
 ],
 "metadata": {
  "kernelspec": {
   "display_name": "SageMath 9.2",
   "language": "sage",
   "name": "sagemath"
  },
  "language_info": {
   "codemirror_mode": {
    "name": "ipython",
    "version": 3
   },
   "file_extension": ".py",
   "mimetype": "text/x-python",
   "name": "python",
   "nbconvert_exporter": "python",
   "pygments_lexer": "ipython3",
   "version": "3.9.3"
  }
 },
 "nbformat": 4,
 "nbformat_minor": 2
}
