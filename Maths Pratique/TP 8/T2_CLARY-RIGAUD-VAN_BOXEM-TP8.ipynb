{
 "cells": [
  {
   "cell_type": "markdown",
   "metadata": {},
   "source": [
    "<p><span style=\"font-size: large; background-color: #ffffff; color: #000000;\"><strong>Consignes :</strong></span></p>\n",
    "<ul>\n",
    "<li><span style=\"font-size: large; background-color: #ffffff; color: #000000;\"><strong><strong>Renommer ce fichier en ordre alphab&eacute;tique avec le numéro i de votre Tiers <span style=\"color: #ff0000;\">Ti_nom1-nom2-TP8</span></strong></strong></span></li>\n",
    "<li><span style=\"font-size: large; background-color: #ffffff; color: #000000;\"><strong><strong><strong>TP &agrave; rendre sur Teams&nbsp;<span><span style=\"color: #ff0000;\">pour le 18 février</span>.</span>&nbsp;</strong></strong></strong></span></li>\n",
    "<li><span style=\"font-size: large; background-color: #ffffff; color: #000000;\"><strong>TP &agrave; faire en groupe de 2. Le groupe de travail est le m&ecirc;me pour toute l'ann&eacute;e.</strong></span></li>\n",
    "<li><span style=\"font-size: large; background-color: #ffffff; color: #ff0000;\"><span style=\"color: #000000;\"><strong>&Agrave; compl&eacute;ter :</strong></span></span></li>\n",
    "</ul>\n",
    "<p><span style=\"font-size: large; background-color: #ffffff; color: #ff0000;\"><strong>NOM PRENOM 1 : CLARY Emilie<br /></strong></span></p>\n",
    "<p><span style=\"font-size: large; background-color: #ffffff; color: #ff0000;\"><strong>NOM PRENOM 2 : RIGAUD Mathilde</strong></span></p>\n",
    "<p><span style=\"font-size: large; background-color: #ffffff; color: #ff0000;\"><strong>NOM PRENOM 3 : VAN BOXEM Rémi<br /></strong></span></p><p>&nbsp;</p>\n",
    "<p><br /><span style=\"font-size: large;\"><strong></strong><strong>TP 8 : Cryptographie et Polynômes<br /></strong></span></p>\n",
    "\n",
    "\n",
    "\n",
    "<p><span style=\"font-size: medium;\"><strong><span style=\"font-size: large;\"><br /></span></strong></span></p>\n",
    "<p><span style=\"text-decoration: underline;\">EXERCICE 1</span></p>\n",
    "<p>Une compagnie veut instaurer un syst&eacute;me de commandes sur Internet. Elle instaure donc un cryptage &agrave; cl&eacute; publique (RSA) pour la transmission du num&eacute;ro de carte de cr&eacute;dit. Le num&eacute;ro de carte de cr&eacute;dit est un num&eacute;ro de 16 chiffres auquel on ajoute les 4 chiffres qui correspondent &agrave; la date d'expiration, soit un nombre de 20 chiffres.</p>\n",
    "<p>La compagnie choisit donc $p$ et $q$ deux grands nombres premiers :</p>\n",
    "<p>$$p=9760959751111112041886431$$</p>\n",
    "<p>$$q=8345523998678341256491111$$</p>\n",
    "<p>La compagnie choisit sa cl&eacute; d'ncryptage $e=45879256903$.</p>\n",
    "<p>Un client dont le num&eacute;ro de sa carte de cr&eacute;dit est $1234 \\ 5678 \\ 9098 \\ 7654$ et la date d'expiration est le 01/06 enverra donc le message $M=12345678909876540106$.</p>\n",
    "<p>&nbsp;</p>\n",
    "\n",
    "<b>Commenter soigneusement votre code !</b>\n",
    "<p>1) Quel est le message $M'$ transmis par le logicel d'envoi ?</p>\n",
    "<p>2) V&eacute;rifier que le num&eacute;ro r&eacute;&ccedil;u correspond bien au num&eacute;ro de la carte de cr&eacute;dit du client ainsi que sa date d'expiration.</p>\n",
    "\n",
    "Suggestion : voir help(inverse_mod) et help(power_mod)\n",
    "<pre>&nbsp;</pre>\n",
    "\n",
    "\n"
   ]
  },
  {
   "cell_type": "code",
   "execution_count": 2,
   "metadata": {},
   "outputs": [
    {
     "data": {
      "text/html": [
       "<html><script type=\"math/tex; mode=display\">\\newcommand{\\Bold}[1]{\\mathbf{#1}}\\verb|C|\\phantom{\\verb!x!}\\verb|=| 6251765106260591109794074603619900234555266946485</script></html>"
      ],
      "text/plain": [
       "'C = ' 6251765106260591109794074603619900234555266946485"
      ]
     },
     "metadata": {},
     "output_type": "display_data"
    }
   ],
   "source": [
    "# n = p*q\n",
    "# avec p = 9760959751111112041886431 et q = 8345523998678341256491111\n",
    "p = 9760959751111112041886431\n",
    "q = 8345523998678341256491111\n",
    "M = 12345678909876540106\n",
    "n = 9760959751111112041886431*8345523998678341256491111\n",
    "e = 45879256903\n",
    "C = power_mod(M,e,n)\n",
    "show(\"C = \",C)"
   ]
  },
  {
   "cell_type": "code",
   "execution_count": 4,
   "metadata": {},
   "outputs": [
    {
     "data": {
      "text/plain": [
       "1"
      ]
     },
     "execution_count": 4,
     "metadata": {},
     "output_type": "execute_result"
    }
   ],
   "source": [
    "phin = (9760959751111112041886431-1)*(8345523998678341256491111-1)\n",
    "gcd(phin,e) #calcul phin(n) pour déterminer ma clé privée"
   ]
  },
  {
   "cell_type": "code",
   "execution_count": 7,
   "metadata": {},
   "outputs": [
    {
     "data": {
      "text/html": [
       "<html><script type=\"math/tex; mode=display\">\\newcommand{\\Bold}[1]{\\mathbf{#1}}\\verb|La|\\phantom{\\verb!x!}\\verb|clé|\\phantom{\\verb!x!}\\verb|privée|\\phantom{\\verb!x!}\\verb|est|\\phantom{\\verb!x!}\\verb|:| 61424931651866171450267589992180175612167475740167</script></html>"
      ],
      "text/plain": [
       "'La clé privée est : ' 61424931651866171450267589992180175612167475740167"
      ]
     },
     "metadata": {},
     "output_type": "display_data"
    }
   ],
   "source": [
    "d=inverse_mod(e,phin)\n",
    "show(\"La clé privée est : \", d)"
   ]
  },
  {
   "cell_type": "code",
   "execution_count": 8,
   "metadata": {},
   "outputs": [
    {
     "data": {
      "text/html": [
       "<html><script type=\"math/tex; mode=display\">\\newcommand{\\Bold}[1]{\\mathbf{#1}}\\verb|Le|\\phantom{\\verb!x!}\\verb|message|\\phantom{\\verb!x!}\\verb|de|\\phantom{\\verb!x!}\\verb|base|\\phantom{\\verb!x!}\\verb|est|\\phantom{\\verb!x!}\\verb|:| 12345678909876540106</script></html>"
      ],
      "text/plain": [
       "'Le message de base est : ' 12345678909876540106"
      ]
     },
     "metadata": {},
     "output_type": "display_data"
    }
   ],
   "source": [
    "show(\"Le message de base est : \",power_mod(C,d,n)) #retrouve le code de base"
   ]
  },
  {
   "cell_type": "markdown",
   "metadata": {},
   "source": [
    "<p><span style=\"text-decoration: underline;\">EXERCICE 2</span></p>\n",
    "<p><span>Alice a pris connaissance de la cl&eacute; publique de Bob : (253,3), o&ugrave; 253 correspond &agrave; $n$ et 3 &agrave; $e$.</span><br /><span>Elle veut lui envoyer le message OUI.</span><br /><span><span><span class=\"CodeMirror-widget\"><span class=\"sagews-output sagews-output-done\"><span class=\"sagews-output-html\">Elle chiffre le message selon le code standard sur 26 lettres (A=0, B=1, C=2 ...) et elle envoie lettre par lettre</span></span></span></span><br /><span><span class=\"CodeMirror-widget\"><span class=\"sagews-output sagews-output-done\"><span class=\"sagews-output-html\">O = ..., U=..., I =....</span></span></span></span></span><br /><span>A l'aide de Sage (voir par exemple help(factor)):</span></p>\n",
    "<p class=\" CodeMirror-line sagews-output-cm-text\"><span>1) D&eacute;terminer le message $M$ en clair et ensuite le message $M'$. Quel est le message $M'$ cod&eacute; ?</span></p>"
   ]
  },
  {
   "cell_type": "code",
   "execution_count": 45,
   "metadata": {},
   "outputs": [],
   "source": [
    "reset()\n",
    "O = 14\n",
    "U = 20\n",
    "I = 8\n",
    "e = 8\n",
    "n = 253"
   ]
  },
  {
   "cell_type": "code",
   "execution_count": 46,
   "metadata": {},
   "outputs": [
    {
     "data": {
      "text/plain": [
       "82"
      ]
     },
     "execution_count": 46,
     "metadata": {},
     "output_type": "execute_result"
    }
   ],
   "source": [
    "power_mod(O,e,n)"
   ]
  },
  {
   "cell_type": "code",
   "execution_count": 43,
   "metadata": {},
   "outputs": [
    {
     "data": {
      "text/plain": [
       "190"
      ]
     },
     "execution_count": 43,
     "metadata": {},
     "output_type": "execute_result"
    }
   ],
   "source": [
    "power_mod(U,e,n)"
   ]
  },
  {
   "cell_type": "code",
   "execution_count": 44,
   "metadata": {},
   "outputs": [
    {
     "data": {
      "text/plain": [
       "27"
      ]
     },
     "execution_count": 44,
     "metadata": {},
     "output_type": "execute_result"
    }
   ],
   "source": [
    "power_mod(I,e,n)"
   ]
  },
  {
   "cell_type": "markdown",
   "metadata": {},
   "source": [
    "2) D&eacute;terminer dans ce cas simple, les 2 nombres premiers $p$ et <span style=\"color: #000000; font-family: arial,helvetica,sans-serif;\"><span class=\"CodeMirror-widget\"><span class=\"sagews-output sagews-output-done\"><span class=\"sagews-output-html\">$q$</span></span></span></span>, $\\varphi(n)$ et la cl&eacute; $ d$ de decodage.<br /> "
   ]
  },
  {
   "cell_type": "code",
   "execution_count": 47,
   "metadata": {},
   "outputs": [
    {
     "data": {
      "text/plain": [
       "11 * 23"
      ]
     },
     "execution_count": 47,
     "metadata": {},
     "output_type": "execute_result"
    }
   ],
   "source": [
    "n = 253\n",
    "factor(253)"
   ]
  },
  {
   "cell_type": "code",
   "execution_count": 48,
   "metadata": {},
   "outputs": [
    {
     "data": {
      "text/html": [
       "<html><script type=\"math/tex; mode=display\">\\newcommand{\\Bold}[1]{\\mathbf{#1}}\\verb|Phi|\\phantom{\\verb!x!}\\verb|est|\\phantom{\\verb!x!}\\verb|égal|\\phantom{\\verb!x!}\\verb|à|\\phantom{\\verb!x!}\\verb|:| 220</script></html>"
      ],
      "text/plain": [
       "'Phi est égal à : ' 220"
      ]
     },
     "metadata": {},
     "output_type": "display_data"
    }
   ],
   "source": [
    "phi = (11-1)*(23-1)\n",
    "show(\"Phi est égal à : \", phi)"
   ]
  },
  {
   "cell_type": "code",
   "execution_count": 49,
   "metadata": {},
   "outputs": [
    {
     "data": {
      "text/html": [
       "<html><script type=\"math/tex; mode=display\">\\newcommand{\\Bold}[1]{\\mathbf{#1}}\\verb|La|\\phantom{\\verb!x!}\\verb|clé|\\phantom{\\verb!x!}\\verb|privée|\\phantom{\\verb!x!}\\verb|est|\\phantom{\\verb!x!}\\verb|:| 147</script></html>"
      ],
      "text/plain": [
       "'La clé privée est :' 147"
      ]
     },
     "metadata": {},
     "output_type": "display_data"
    }
   ],
   "source": [
    "d = inverse_mod(3,phi)\n",
    "show(\"La clé privée est :\", d )"
   ]
  },
  {
   "cell_type": "markdown",
   "metadata": {},
   "source": [
    " 3) Assurez-vous, en d&eacute;crytptant le message, que vous obtenez bien le message OUI en clair.<br />"
   ]
  },
  {
   "cell_type": "code",
   "execution_count": 2,
   "metadata": {},
   "outputs": [
    {
     "data": {
      "text/plain": [
       "'O'"
      ]
     },
     "execution_count": 2,
     "metadata": {},
     "output_type": "execute_result"
    }
   ],
   "source": [
    "chr(power_mod(214,147,253)+65)"
   ]
  },
  {
   "cell_type": "code",
   "execution_count": 3,
   "metadata": {},
   "outputs": [
    {
     "data": {
      "text/plain": [
       "'U'"
      ]
     },
     "execution_count": 3,
     "metadata": {},
     "output_type": "execute_result"
    }
   ],
   "source": [
    "chr(power_mod(157,147,253) + 65)"
   ]
  },
  {
   "cell_type": "code",
   "execution_count": 4,
   "metadata": {},
   "outputs": [
    {
     "data": {
      "text/plain": [
       "'I'"
      ]
     },
     "execution_count": 4,
     "metadata": {},
     "output_type": "execute_result"
    }
   ],
   "source": [
    "chr(power_mod(6,147,253) + 65)"
   ]
  },
  {
   "cell_type": "markdown",
   "metadata": {},
   "source": [
    "4) Montrer et expliquer pourquoi on n'aurait pas pu d&eacute;crypter le message correctement si Alice avait voulu trasmettre son message en un seul bloc.<br /> "
   ]
  },
  {
   "cell_type": "code",
   "execution_count": 23,
   "metadata": {},
   "outputs": [
    {
     "data": {
      "text/html": [
       "<html><script type=\"math/tex; mode=display\">\\newcommand{\\Bold}[1]{\\mathbf{#1}}\\verb|le|\\phantom{\\verb!x!}\\verb|message|\\phantom{\\verb!x!}\\verb|décrypté|\\phantom{\\verb!x!}\\verb|aurait|\\phantom{\\verb!x!}\\verb|donné;| 142008</script></html>"
      ],
      "text/plain": [
       "'le message décrypté aurait donné;' 142008"
      ]
     },
     "metadata": {},
     "output_type": "display_data"
    },
    {
     "data": {
      "text/html": [
       "<html><script type=\"math/tex; mode=display\">\\newcommand{\\Bold}[1]{\\mathbf{#1}}\\verb|le|\\phantom{\\verb!x!}\\verb|message|\\phantom{\\verb!x!}\\verb|est|\\phantom{\\verb!x!}\\verb|faux|\\phantom{\\verb!x!}\\verb|car|\\phantom{\\verb!x!}\\verb|n|\\phantom{\\verb!x!}\\verb|est|\\phantom{\\verb!x!}\\verb|inférieur|\\phantom{\\verb!x!}\\verb|à|\\phantom{\\verb!x!}\\verb|m|</script></html>"
      ],
      "text/plain": [
       "'le message est faux car n est inférieur à m'"
      ]
     },
     "metadata": {},
     "output_type": "display_data"
    }
   ],
   "source": [
    "OUI=142008\n",
    "M = power_mod(OUI,e,n)\n",
    "m = power_mod(M,d,n)\n",
    "show('le message décrypté aurait donné;' ,m)\n",
    "#le code est faux car m n'est pas inférieur à n\n",
    "#Du coup la clée n'est plus adapté\n",
    "#Donc résultat faux\n",
    "\n",
    "show('le message est faux car n est inférieur à m')\n",
    "\n"
   ]
  },
  {
   "cell_type": "markdown",
   "metadata": {},
   "source": [
    "5) Elle d&eacute;cide alors d'utiliser les nombres premiers $p=5147$ et $q=7351$. Montrer que la cl&eacute; $e=307$ est compatible puis coder ce message en un bloc.<br />"
   ]
  },
  {
   "cell_type": "code",
   "execution_count": 6,
   "metadata": {},
   "outputs": [
    {
     "data": {
      "text/html": [
       "<html><script type=\"math/tex; mode=display\">\\newcommand{\\Bold}[1]{\\mathbf{#1}}1</script></html>"
      ],
      "text/plain": [
       "1"
      ]
     },
     "metadata": {},
     "output_type": "display_data"
    },
    {
     "data": {
      "text/html": [
       "<html><script type=\"math/tex; mode=display\">\\newcommand{\\Bold}[1]{\\mathbf{#1}}\\verb|la|\\phantom{\\verb!x!}\\verb|clef|\\phantom{\\verb!x!}\\verb|est|\\phantom{\\verb!x!}\\verb|donc|\\phantom{\\verb!x!}\\verb|compatible|</script></html>"
      ],
      "text/plain": [
       "'la clef est donc compatible'"
      ]
     },
     "metadata": {},
     "output_type": "display_data"
    },
    {
     "data": {
      "text/html": [
       "<html><script type=\"math/tex; mode=display\">\\newcommand{\\Bold}[1]{\\mathbf{#1}}36481808</script></html>"
      ],
      "text/plain": [
       "36481808"
      ]
     },
     "metadata": {},
     "output_type": "display_data"
    }
   ],
   "source": [
    "#reprenons le cas d'au-dessus\n",
    "OUI = 142008\n",
    "p = 5147\n",
    "q = 7351\n",
    "n = p*q\n",
    "e = 307\n",
    "phin = (p-1)*(q-1)\n",
    "\n",
    "#si le pgcd de Phi(n) et e est 1, ils sont premiers entre eux donc la clef est compatible\n",
    "show(gcd(phin,e))\n",
    "show('la clef est donc compatible')\n",
    "\n",
    "#on code le message en un seul bloc\n",
    "M = power_mod(OUI,e,n)\n",
    "show(M)"
   ]
  },
  {
   "cell_type": "markdown",
   "metadata": {},
   "source": [
    " 6) Calculer la cl&eacute; $d$ de d&eacute;codage et assurez-vous du message d&eacute;cod&eacute;."
   ]
  },
  {
   "cell_type": "code",
   "execution_count": 21,
   "metadata": {},
   "outputs": [
    {
     "data": {
      "text/html": [
       "<html><script type=\"math/tex; mode=display\">\\newcommand{\\Bold}[1]{\\mathbf{#1}}\\verb|la|\\phantom{\\verb!x!}\\verb|clée|\\phantom{\\verb!x!}\\verb|de|\\phantom{\\verb!x!}\\verb|décodage|\\phantom{\\verb!x!}\\verb|est:| 34743043</script></html>"
      ],
      "text/plain": [
       "'la clée de décodage est:' 34743043"
      ]
     },
     "metadata": {},
     "output_type": "display_data"
    },
    {
     "data": {
      "text/html": [
       "<html><script type=\"math/tex; mode=display\">\\newcommand{\\Bold}[1]{\\mathbf{#1}}\\verb|le|\\phantom{\\verb!x!}\\verb|message|\\phantom{\\verb!x!}\\verb|décodé|\\phantom{\\verb!x!}\\verb|est:| 142008</script></html>"
      ],
      "text/plain": [
       "'le message décodé est:' 142008"
      ]
     },
     "metadata": {},
     "output_type": "display_data"
    }
   ],
   "source": [
    "#on calcule la clée privée d\n",
    "d = inverse_mod(e,phin)\n",
    "show('la clée de décodage est:' ,d)\n",
    "\n",
    "#on décrypte le message\n",
    "m = power_mod(M,d,n)\n",
    "show('le message décodé est:' ,m)"
   ]
  },
  {
   "cell_type": "markdown",
   "metadata": {},
   "source": [
    "<p class=\"shrunk\"><span style=\"text-decoration: underline;\">EXERCICE 2(b)</span></p>\n",
    "<p class=\"shrunk\">En utilisant les mêmes donn&eacute;es (253,3) de l'exo 3 d&eacute;chiffrez :</p>\n",
    "<p class=\"shrunk\">1, 106, 0, 153, 214, 153, 214, 157, 13, 0, 153, 64, 192, 1, 6, 64, 173, 8, 214, 210, 86, 106, 6, 13</p>"
   ]
  },
  {
   "cell_type": "code",
   "execution_count": 54,
   "metadata": {},
   "outputs": [
    {
     "data": {
      "text/html": [
       "<html><script type=\"math/tex; mode=display\">\\newcommand{\\Bold}[1]{\\mathbf{#1}}\\verb|B|</script></html>"
      ],
      "text/plain": [
       "'B'"
      ]
     },
     "metadata": {},
     "output_type": "display_data"
    },
    {
     "data": {
      "text/html": [
       "<html><script type=\"math/tex; mode=display\">\\newcommand{\\Bold}[1]{\\mathbf{#1}}\\verb|R|</script></html>"
      ],
      "text/plain": [
       "'R'"
      ]
     },
     "metadata": {},
     "output_type": "display_data"
    },
    {
     "data": {
      "text/html": [
       "<html><script type=\"math/tex; mode=display\">\\newcommand{\\Bold}[1]{\\mathbf{#1}}\\verb|A|</script></html>"
      ],
      "text/plain": [
       "'A'"
      ]
     },
     "metadata": {},
     "output_type": "display_data"
    },
    {
     "data": {
      "text/html": [
       "<html><script type=\"math/tex; mode=display\">\\newcommand{\\Bold}[1]{\\mathbf{#1}}\\verb|V|</script></html>"
      ],
      "text/plain": [
       "'V'"
      ]
     },
     "metadata": {},
     "output_type": "display_data"
    },
    {
     "data": {
      "text/html": [
       "<html><script type=\"math/tex; mode=display\">\\newcommand{\\Bold}[1]{\\mathbf{#1}}\\verb|O|</script></html>"
      ],
      "text/plain": [
       "'O'"
      ]
     },
     "metadata": {},
     "output_type": "display_data"
    },
    {
     "data": {
      "text/html": [
       "<html><script type=\"math/tex; mode=display\">\\newcommand{\\Bold}[1]{\\mathbf{#1}}\\verb|V|</script></html>"
      ],
      "text/plain": [
       "'V'"
      ]
     },
     "metadata": {},
     "output_type": "display_data"
    },
    {
     "data": {
      "text/html": [
       "<html><script type=\"math/tex; mode=display\">\\newcommand{\\Bold}[1]{\\mathbf{#1}}\\verb|O|</script></html>"
      ],
      "text/plain": [
       "'O'"
      ]
     },
     "metadata": {},
     "output_type": "display_data"
    },
    {
     "data": {
      "text/html": [
       "<html><script type=\"math/tex; mode=display\">\\newcommand{\\Bold}[1]{\\mathbf{#1}}\\verb|U|</script></html>"
      ],
      "text/plain": [
       "'U'"
      ]
     },
     "metadata": {},
     "output_type": "display_data"
    },
    {
     "data": {
      "text/html": [
       "<html><script type=\"math/tex; mode=display\">\\newcommand{\\Bold}[1]{\\mathbf{#1}}\\verb|S|</script></html>"
      ],
      "text/plain": [
       "'S'"
      ]
     },
     "metadata": {},
     "output_type": "display_data"
    },
    {
     "data": {
      "text/html": [
       "<html><script type=\"math/tex; mode=display\">\\newcommand{\\Bold}[1]{\\mathbf{#1}}\\verb|A|</script></html>"
      ],
      "text/plain": [
       "'A'"
      ]
     },
     "metadata": {},
     "output_type": "display_data"
    },
    {
     "data": {
      "text/html": [
       "<html><script type=\"math/tex; mode=display\">\\newcommand{\\Bold}[1]{\\mathbf{#1}}\\verb|V|</script></html>"
      ],
      "text/plain": [
       "'V'"
      ]
     },
     "metadata": {},
     "output_type": "display_data"
    },
    {
     "data": {
      "text/html": [
       "<html><script type=\"math/tex; mode=display\">\\newcommand{\\Bold}[1]{\\mathbf{#1}}\\verb|E|</script></html>"
      ],
      "text/plain": [
       "'E'"
      ]
     },
     "metadata": {},
     "output_type": "display_data"
    },
    {
     "data": {
      "text/html": [
       "<html><script type=\"math/tex; mode=display\">\\newcommand{\\Bold}[1]{\\mathbf{#1}}\\verb|Z|</script></html>"
      ],
      "text/plain": [
       "'Z'"
      ]
     },
     "metadata": {},
     "output_type": "display_data"
    },
    {
     "data": {
      "text/html": [
       "<html><script type=\"math/tex; mode=display\">\\newcommand{\\Bold}[1]{\\mathbf{#1}}\\verb|B|</script></html>"
      ],
      "text/plain": [
       "'B'"
      ]
     },
     "metadata": {},
     "output_type": "display_data"
    },
    {
     "data": {
      "text/html": [
       "<html><script type=\"math/tex; mode=display\">\\newcommand{\\Bold}[1]{\\mathbf{#1}}\\verb|I|</script></html>"
      ],
      "text/plain": [
       "'I'"
      ]
     },
     "metadata": {},
     "output_type": "display_data"
    },
    {
     "data": {
      "text/html": [
       "<html><script type=\"math/tex; mode=display\">\\newcommand{\\Bold}[1]{\\mathbf{#1}}\\verb|E|</script></html>"
      ],
      "text/plain": [
       "'E'"
      ]
     },
     "metadata": {},
     "output_type": "display_data"
    },
    {
     "data": {
      "text/html": [
       "<html><script type=\"math/tex; mode=display\">\\newcommand{\\Bold}[1]{\\mathbf{#1}}\\verb|N|</script></html>"
      ],
      "text/plain": [
       "'N'"
      ]
     },
     "metadata": {},
     "output_type": "display_data"
    },
    {
     "data": {
      "text/html": [
       "<html><script type=\"math/tex; mode=display\">\\newcommand{\\Bold}[1]{\\mathbf{#1}}\\verb|C|</script></html>"
      ],
      "text/plain": [
       "'C'"
      ]
     },
     "metadata": {},
     "output_type": "display_data"
    },
    {
     "data": {
      "text/html": [
       "<html><script type=\"math/tex; mode=display\">\\newcommand{\\Bold}[1]{\\mathbf{#1}}\\verb|O|</script></html>"
      ],
      "text/plain": [
       "'O'"
      ]
     },
     "metadata": {},
     "output_type": "display_data"
    },
    {
     "data": {
      "text/html": [
       "<html><script type=\"math/tex; mode=display\">\\newcommand{\\Bold}[1]{\\mathbf{#1}}\\verb|M|</script></html>"
      ],
      "text/plain": [
       "'M'"
      ]
     },
     "metadata": {},
     "output_type": "display_data"
    },
    {
     "data": {
      "text/html": [
       "<html><script type=\"math/tex; mode=display\">\\newcommand{\\Bold}[1]{\\mathbf{#1}}\\verb|P|</script></html>"
      ],
      "text/plain": [
       "'P'"
      ]
     },
     "metadata": {},
     "output_type": "display_data"
    },
    {
     "data": {
      "text/html": [
       "<html><script type=\"math/tex; mode=display\">\\newcommand{\\Bold}[1]{\\mathbf{#1}}\\verb|R|</script></html>"
      ],
      "text/plain": [
       "'R'"
      ]
     },
     "metadata": {},
     "output_type": "display_data"
    },
    {
     "data": {
      "text/html": [
       "<html><script type=\"math/tex; mode=display\">\\newcommand{\\Bold}[1]{\\mathbf{#1}}\\verb|I|</script></html>"
      ],
      "text/plain": [
       "'I'"
      ]
     },
     "metadata": {},
     "output_type": "display_data"
    },
    {
     "data": {
      "text/html": [
       "<html><script type=\"math/tex; mode=display\">\\newcommand{\\Bold}[1]{\\mathbf{#1}}\\verb|S|</script></html>"
      ],
      "text/plain": [
       "'S'"
      ]
     },
     "metadata": {},
     "output_type": "display_data"
    }
   ],
   "source": [
    "list = [1, 106, 0, 153, 214, 153, 214, 157, 13, 0, 153, 64, 192, 1, 6, 64, 173, 8, 214, 210, 86, 106, 6, 13]\n",
    "for i in list:\n",
    "    show(chr(power_mod(i,147,253) + 65))"
   ]
  },
  {
   "cell_type": "markdown",
   "metadata": {},
   "source": [
    "<p class=\" CodeMirror-line sagews-output-cm-text\"><span style=\"text-decoration: underline;\">EXERCICE 3</span><br /><br /></p>\n",
    "En utilisant l'<a href=\"https://fr.wikipedia.org/wiki/Analyse_fr%C3%A9quentielle\">analyse fréquentielle</a>\n"
   ]
  },
  {
   "cell_type": "code",
   "execution_count": 62,
   "metadata": {},
   "outputs": [],
   "source": [
    "def freqs(s):\n",
    "    \n",
    "    res = {}\n",
    "    \n",
    "    for c in s:\n",
    "        if not c in res:\n",
    "            res[c] = 0\n",
    "        res[c] += 1\n",
    "\n",
    "    res = sorted(res.items(), key=operator.itemgetter(1), reverse=True)\n",
    "    \n",
    "    img = Graphics()\n",
    "    \n",
    "    r = .25\n",
    "    \n",
    "    for i in range(len(res)):\n",
    "        c,f = res[i]\n",
    "        img += polygon( [(i+r, 0), (i+r, f), (i+1-r, f), (i+1-r, 0)] )\n",
    "        img += text(c, (i+.5,f/2), color=\"white\")\n",
    "        \n",
    "    show(img, aspect_ratio=\"auto\")"
   ]
  },
  {
   "cell_type": "markdown",
   "metadata": {},
   "source": [
    "et la rotation inverse de l'alphabet"
   ]
  },
  {
   "cell_type": "code",
   "execution_count": 63,
   "metadata": {},
   "outputs": [],
   "source": [
    "def rot(s,i,alpha):\n",
    "\n",
    "    res = \"\"\n",
    "    \n",
    "    for c in s:\n",
    "        if c in alpha:\n",
    "            res += alpha[ (alpha.index(c) + i) % len(alpha) ]\n",
    "        else:\n",
    "            #print u\"Caractère %s ignoré\" % c\n",
    "            res += c\n",
    "            \n",
    "    return res"
   ]
  },
  {
   "cell_type": "markdown",
   "metadata": {},
   "source": [
    "comme dans l'exemple ci-dessous :"
   ]
  },
  {
   "cell_type": "code",
   "execution_count": 64,
   "metadata": {},
   "outputs": [
    {
     "data": {
      "image/png": "[encoded data removed]",
      "text/plain": [
       "Graphics object consisting of 42 graphics primitives"
      ]
     },
     "metadata": {},
     "output_type": "display_data"
    }
   ],
   "source": [
    "m = \"SXYVVHUTUSUIQHJHUILEYHUJHEFSBQIIYGKUIKHLYDWJIYNBUJJHUIJEKJYBCQHSXURYUDTKFHUCYUHSEKF\"\n",
    "freqs(m)"
   ]
  },
  {
   "cell_type": "code",
   "execution_count": 88,
   "metadata": {},
   "outputs": [
    {
     "data": {
      "text/html": [
       "<html><script type=\"math/tex; mode=display\">\\newcommand{\\Bold}[1]{\\mathbf{#1}}\\begin{array}{l}\n",
       "\\verb|ZKZH|\\phantom{\\verb!x!}\\verb|GZN?IN|\\phantom{\\verb!x!}\\verb|Z?N|\\phantom{\\verb!x!}\\verb|G?;N,ZVGD;!ZOOONZINBZIZ,VGNDGN|\\\\\n",
       "\\verb|AV?!NAVD,ZN!,Z;NV!!ZI!DJINVNGTVG|\\phantom{\\verb!x!}\\verb|CVWZ!N?!DGD;Z|\\\\\n",
       "\\verb|NZ!NVNGTJ,Y,ZNYVI;NGZ.?ZGNXZG?DUXDNZ;!NZX,D!NR|\n",
       "\\end{array}</script></html>"
      ],
      "text/plain": [
       "'ZKZH GZN?IN Z?N G?;N,ZVGD;!ZOOONZINBZIZ,VGNDGN\\nAV?!NAVD,ZN!,Z;NV!!ZI!DJINVNGTVG CVWZ!N?!DGD;Z\\nNZ!NVNGTJ,Y,ZNYVI;NGZ.?ZGNXZG?DUXDNZ;!NZX,D!NR'"
      ]
     },
     "metadata": {},
     "output_type": "display_data"
    }
   ],
   "source": [
    "alpha = \"ABCDEFGHIJKLMNOPQRSTUVWXYZ\"\n",
    "k = alpha.index(\"U\") - alpha.index(\"E\")  # 16\n",
    "\n",
    "show(rot(m,-k,alpha))"
   ]
  },
  {
   "cell_type": "markdown",
   "metadata": {},
   "source": [
    "décrypter :"
   ]
  },
  {
   "cell_type": "code",
   "execution_count": 72,
   "metadata": {},
   "outputs": [
    {
     "data": {
      "image/png": "[encoded data removed]",
      "text/plain": [
       "Graphics object consisting of 52 graphics primitives"
      ]
     },
     "metadata": {},
     "output_type": "display_data"
    },
    {
     "data": {
      "text/html": [
       "<html><script type=\"math/tex; mode=display\">\\newcommand{\\Bold}[1]{\\mathbf{#1}}\\begin{array}{l}\n",
       "\\verb|PAPX|\\phantom{\\verb!x!}\\verb|WPD?YD|\\phantom{\\verb!x!}\\verb|P?D|\\phantom{\\verb!x!}\\verb|W?;D,PLWT;!PEEEDPYDRPYP,LWDTWD|\\\\\n",
       "\\verb|QL?!DQLT,PD!,P;DL!!PY!TZYDLDWJLW|\\phantom{\\verb!x!}\\verb|SLMP!D?!TWT;P|\\\\\n",
       "\\verb|DP!DLDWJZ,O,PDOLY;DWP.?PWDNPW?TKNTDP;!DPN,T!DH|\n",
       "\\end{array}</script></html>"
      ],
      "text/plain": [
       "'PAPX WPD?YD P?D W?;D,PLWT;!PEEEDPYDRPYP,LWDTWD\\nQL?!DQLT,PD!,P;DL!!PY!TZYDLDWJLW SLMP!D?!TWT;P\\nDP!DLDWJZ,O,PDOLY;DWP.?PWDNPW?TKNTDP;!DPN,T!DH'"
      ]
     },
     "metadata": {},
     "output_type": "display_data"
    }
   ],
   "source": [
    "m = \"PAPX WPD?YD P?D W?;D,PLWT;!PEEEDPYDRPYP,LWDTWD\\nQL?!DQLT,PD!,P;DL!!PY!TZYDLDWJLW SLMP!D?!TWT;P\\nDP!DLDWJZ,O,PDOLY;DWP.?PWDNPW?TKNTDP;!DPN,T!DH\"\n",
    "freqs(m)\n",
    "show(m)"
   ]
  },
  {
   "cell_type": "code",
   "execution_count": 86,
   "metadata": {},
   "outputs": [
    {
     "data": {
      "text/html": [
       "<html><script type=\"math/tex; mode=display\">\\newcommand{\\Bold}[1]{\\mathbf{#1}}\\begin{array}{l}\n",
       "\\verb|EXEMPLE|\\phantom{\\verb!x!}\\verb|UN|\\phantom{\\verb!x!}\\verb|PEU|\\phantom{\\verb!x!}\\verb|PLU;|\\phantom{\\verb!x!}\\verb|,EALI;!E111|\\phantom{\\verb!x!}\\verb|EN|\\phantom{\\verb!x!}\\verb|GENE,AL|\\phantom{\\verb!x!}\\verb|IL|\\\\\n",
       "\\verb|FAU!|\\phantom{\\verb!x!}\\verb|FAI,E|\\phantom{\\verb!x!}\\verb|!,E;|\\phantom{\\verb!x!}\\verb|A!!EN!ION|\\phantom{\\verb!x!}\\verb|A|\\phantom{\\verb!x!}\\verb|L'ALPHABE!|\\phantom{\\verb!x!}\\verb|U!ILI;E|\\\\\n",
       "\\phantom{\\verb!x!}\\verb|E!|\\phantom{\\verb!x!}\\verb|A|\\phantom{\\verb!x!}\\verb|L'O,D,E|\\phantom{\\verb!x!}\\verb|DAN;|\\phantom{\\verb!x!}\\verb|LETUEL|\\phantom{\\verb!x!}\\verb|CELUI-CI|\\phantom{\\verb!x!}\\verb|E;!|\\phantom{\\verb!x!}\\verb|EC,I!|\\phantom{\\verb!x!}\\verb|.|\n",
       "\\end{array}</script></html>"
      ],
      "text/plain": [
       "\"EXEMPLE UN PEU PLU; ,EALI;!E111 EN GENE,AL IL \\nFAU! FAI,E !,E; A!!EN!ION A L'ALPHABE! U!ILI;E\\n E! A L'O,D,E DAN; LETUEL CELUI-CI E;! EC,I! .\""
      ]
     },
     "metadata": {},
     "output_type": "display_data"
    }
   ],
   "source": [
    "alpha = \"ABCDEFGHIJKLMNOPQRSTUVWXYZ 123.?'-\"\n",
    "d = alpha.index(\"P\") - alpha.index(\"E\")  # 16\n",
    "\n",
    "show(rot(m,-d,alpha))"
   ]
  },
  {
   "cell_type": "markdown",
   "metadata": {},
   "source": [
    "<p><br /><span style=\"font-size: large;\"><strong></strong><strong>Polynômes<br /></strong></span></p>\n",
    "\n",
    "<p>Certaines commandes utiles sur les&nbsp;<a href=\"http://doc.sagemath.org/html/en/reference/polynomial_rings/sage/rings/polynomial/multi_polynomial_element.html\">polyn&ocirc;mes</a>&nbsp; ou&nbsp;<a href=\"http://doc.sagemath.org/html/fr/tutorial/tour_polynomial.html\">ici</a>&nbsp;:</p>\n",
    "<p>&nbsp;</p>\n",
    "<ul>\n",
    "<li>P.&lt;X&gt; = ZZ[] : on cr&eacute;e un&nbsp;&nbsp;un polyn&ocirc;me sur un ensemble $\\mathbb{K}$ ($\\mathbb{Z}$, $\\mathbb{Q}$,&nbsp;&nbsp;$\\mathbb{R}$ ou&nbsp;$\\mathbb{C}$)</li>\n",
    "<li>P.degree()</li>\n",
    "<li>P.roots()</li>\n",
    "<li>P.variables()</li>\n",
    "<li>P.variable_name()</li>\n",
    "<li>P.coefficients()</li>\n",
    "<li>gcd(P,Q)</li>\n",
    "<li>xgcd(P,Q)</li>\n",
    "<li>lcm(P,Q)</li>\n",
    "</ul>"
   ]
  },
  {
   "cell_type": "markdown",
   "metadata": {},
   "source": [
    "<p class=\" CodeMirror-line sagews-output-cm-text\"><span style=\"text-decoration: underline;\">EXERCICE 4</span><br /><br /></p>\n",
    "<p>On consid&egrave;re les&nbsp;polyn&ocirc;mes suivants :</p>\n",
    "<p>$$P = 3(X-1)(X+1)(X+2) \\qquad \\text{ et } \\qquad Q=(X-1)^2(X+2)(X^2+3)$$&nbsp;</p>\n",
    "<p>Donner leur degr&eacute; et calculer le ppcm entre $P$ et $Q$.</p>"
   ]
  },
  {
   "cell_type": "code",
   "execution_count": 13,
   "metadata": {},
   "outputs": [
    {
     "data": {
      "text/html": [
       "<html><script type=\"math/tex; mode=display\">\\newcommand{\\Bold}[1]{\\mathbf{#1}}\\verb|cc|</script></html>"
      ],
      "text/plain": [
       "'cc'"
      ]
     },
     "metadata": {},
     "output_type": "display_data"
    }
   ],
   "source": [
    "show(\"cc\")"
   ]
  },
  {
   "cell_type": "code",
   "execution_count": 101,
   "metadata": {
    "scrolled": true
   },
   "outputs": [
    {
     "data": {
      "text/html": [
       "<html><script type=\"math/tex; mode=display\">\\newcommand{\\Bold}[1]{\\mathbf{#1}}\\verb|Le|\\phantom{\\verb!x!}\\verb|degré|\\phantom{\\verb!x!}\\verb|du|\\phantom{\\verb!x!}\\verb|polynôme|\\phantom{\\verb!x!}\\verb|P|\\phantom{\\verb!x!}\\verb|est|\\phantom{\\verb!x!}\\verb|:| 3</script></html>"
      ],
      "text/plain": [
       "'Le degré du polynôme P est : ' 3"
      ]
     },
     "metadata": {},
     "output_type": "display_data"
    }
   ],
   "source": [
    "# Pour P\n",
    "P.<X> = ZZ[]\n",
    "P = 3*(X-1)*(X+1)*(X+2)\n",
    "show(\"Le degré du polynôme P est : \", P.degree())"
   ]
  },
  {
   "cell_type": "code",
   "execution_count": 102,
   "metadata": {
    "scrolled": true
   },
   "outputs": [
    {
     "data": {
      "text/html": [
       "<html><script type=\"math/tex; mode=display\">\\newcommand{\\Bold}[1]{\\mathbf{#1}}\\verb|Le|\\phantom{\\verb!x!}\\verb|degré|\\phantom{\\verb!x!}\\verb|du|\\phantom{\\verb!x!}\\verb|polynôme|\\phantom{\\verb!x!}\\verb|Q|\\phantom{\\verb!x!}\\verb|est|\\phantom{\\verb!x!}\\verb|:| 5</script></html>"
      ],
      "text/plain": [
       "'Le degré du polynôme Q est : ' 5"
      ]
     },
     "metadata": {},
     "output_type": "display_data"
    }
   ],
   "source": [
    "# Pour Q\n",
    "Q.<X> = ZZ[]\n",
    "Q = ((X-1)^(2))*(X+2)*(X^2+3)\n",
    "show(\"Le degré du polynôme Q est : \", Q.degree())"
   ]
  },
  {
   "cell_type": "code",
   "execution_count": 103,
   "metadata": {},
   "outputs": [
    {
     "data": {
      "text/html": [
       "<html><script type=\"math/tex; mode=display\">\\newcommand{\\Bold}[1]{\\mathbf{#1}}\\verb|Le|\\phantom{\\verb!x!}\\verb|ppcm|\\phantom{\\verb!x!}\\verb|est|\\phantom{\\verb!x!}\\verb|égal|\\phantom{\\verb!x!}\\verb|à|\\phantom{\\verb!x!}\\verb|:| 3X^{6} + 3X^{5} + 6X^{3} - 21X^{2} - 9X + 18</script></html>"
      ],
      "text/plain": [
       "'Le ppcm est égal à : ' 3*X^6 + 3*X^5 + 6*X^3 - 21*X^2 - 9*X + 18"
      ]
     },
     "metadata": {},
     "output_type": "display_data"
    }
   ],
   "source": [
    "show(\"Le ppcm est égal à : \", P.lcm(Q))"
   ]
  },
  {
   "cell_type": "markdown",
   "metadata": {},
   "source": [
    "<p class=\" CodeMirror-line sagews-output-cm-text\"><span><span style=\"text-decoration: underline;\">EXERCICE 5</span><br /><br /></span></p>\n",
    "<p>Calculer le pgcd et les coefficients de B&eacute;zout des polyn&ocirc;mes : \n",
    "    $$ A=8X^4-26X^3+21X^2-X-2  \\qquad \\text{ et } \\qquad B=X^3-2X^2 $$ \n",
    "    </p>\n",
    "<p>&nbsp;</p>"
   ]
  },
  {
   "cell_type": "code",
   "execution_count": 26,
   "metadata": {},
   "outputs": [
    {
     "data": {
      "text/html": [
       "<html><script type=\"math/tex; mode=display\">\\newcommand{\\Bold}[1]{\\mathbf{#1}}\\verb|Le|\\phantom{\\verb!x!}\\verb|pgcd|\\phantom{\\verb!x!}\\verb|de|\\phantom{\\verb!x!}\\verb|A|\\phantom{\\verb!x!}\\verb|et|\\phantom{\\verb!x!}\\verb|B|\\phantom{\\verb!x!}\\verb|est|\\phantom{\\verb!x!}\\verb|égal|\\phantom{\\verb!x!}\\verb|à|\\phantom{\\verb!x!}\\verb|:| X - 2</script></html>"
      ],
      "text/plain": [
       "'Le pgcd de A et B est égal à : ' X - 2"
      ]
     },
     "metadata": {},
     "output_type": "display_data"
    },
    {
     "data": {
      "text/html": [
       "<html><script type=\"math/tex; mode=display\">\\newcommand{\\Bold}[1]{\\mathbf{#1}}\\verb|Les|\\phantom{\\verb!x!}\\verb|coefficients|\\phantom{\\verb!x!}\\verb|de|\\phantom{\\verb!x!}\\verb|Bézout|\\phantom{\\verb!x!}\\verb|sont|\\phantom{\\verb!x!}\\verb|:| \\left(X - 2, -X + 1, 8X^{2} - 18X + 11\\right)</script></html>"
      ],
      "text/plain": [
       "'Les coefficients de Bézout sont : ' (X - 2, -X + 1, 8*X^2 - 18*X + 11)"
      ]
     },
     "metadata": {},
     "output_type": "display_data"
    }
   ],
   "source": [
    "# Pour A\n",
    "A.<X> = ZZ[]\n",
    "A = 8*X^4 - 26*X^3 + 21*X^2-X-2\n",
    "\n",
    "# Pour B\n",
    "B.<X> = ZZ[]\n",
    "B = X^3 -2*X^2\n",
    "\n",
    "#pgcd\n",
    "show(\"Le pgcd de A et B est égal à : \",gcd(A,B))\n",
    "show(\"Les coefficients de Bézout sont : \", xgcd(A,B) )"
   ]
  },
  {
   "cell_type": "markdown",
   "metadata": {},
   "source": [
    "<p><span style=\"text-decoration: underline;\"><span style=\"font-family: arial,helvetica,sans-serif;\">EXERCICE 6</span></span></p>\n",
    "<p class=\" CodeMirror-line sagews-output-cm-text\"><span style=\"color: #000000; font-family: arial,helvetica,sans-serif;\"><span class=\"CodeMirror-widget\"><span class=\"sagews-output sagews-output-done\"><span class=\"sagews-output-html\"> Soit $ P(X)=X^2+1 $</span></span></span></span></p>\n",
    "<ol>\n",
    "<li>\n",
    "<p><span style=\"color: #000000; font-family: arial,helvetica,sans-serif;\">D&eacute;finir $P$ sur&nbsp;<span style=\"color: #000000; font-family: arial,helvetica,sans-serif;\">$\\mathbb{R}$</span> et <span style=\"color: #000000; font-family: arial,helvetica,sans-serif;\">$\\mathbb{C}$.</span><br /></span></p>\n",
    "</li>\n",
    "<li>\n",
    "<p><span style=\"color: #000000; font-family: arial,helvetica,sans-serif;\">Trouver les racines du polyn&ocirc;me $P$ dans $\\mathbb{R}$ et dans $\\mathbb{C}$.</span></p>\n",
    "</li>\n",
    "<li>\n",
    "<p><span style=\"color: #000000; font-family: arial,helvetica,sans-serif;\">Factoriser $P$ dans $\\mathbb{R}$ et dans $\\mathbb{C}$.</span></p>\n",
    "</li>\n",
    "    <li>\n",
    "<p><span style=\"color: #000000; font-family: arial,helvetica,sans-serif;\">Commenter vos résultats.</span></p>\n",
    "</li>\n",
    "</ol>"
   ]
  },
  {
   "cell_type": "code",
   "execution_count": 87,
   "metadata": {},
   "outputs": [
    {
     "data": {
      "text/html": [
       "<html><script type=\"math/tex; mode=display\">\\newcommand{\\Bold}[1]{\\mathbf{#1}}\\verb|Les|\\phantom{\\verb!x!}\\verb|racines|\\phantom{\\verb!x!}\\verb|réelles|\\phantom{\\verb!x!}\\verb|de|\\phantom{\\verb!x!}\\verb|P|\\phantom{\\verb!x!}\\verb|sont|\\phantom{\\verb!x!}\\verb|:| \\left[\\right]</script></html>"
      ],
      "text/plain": [
       "'Les racines réelles de P sont : ' []"
      ]
     },
     "metadata": {},
     "output_type": "display_data"
    },
    {
     "data": {
      "text/html": [
       "<html><script type=\"math/tex; mode=display\">\\newcommand{\\Bold}[1]{\\mathbf{#1}}\\verb|Les|\\phantom{\\verb!x!}\\verb|racines|\\phantom{\\verb!x!}\\verb|complexes|\\phantom{\\verb!x!}\\verb|de|\\phantom{\\verb!x!}\\verb|P|\\phantom{\\verb!x!}\\verb|sont|\\phantom{\\verb!x!}\\verb|:| \\left[\\left(-1.00000000000000i, 1\\right), \\left(1.00000000000000i, 1\\right)\\right]</script></html>"
      ],
      "text/plain": [
       "'Les racines complexes de P sont : ' [(-1.00000000000000*I, 1), (1.00000000000000*I, 1)]"
      ]
     },
     "metadata": {},
     "output_type": "display_data"
    },
    {
     "data": {
      "text/html": [
       "<html><script type=\"math/tex; mode=display\">\\newcommand{\\Bold}[1]{\\mathbf{#1}}(X^{2} + 0.000000000000000 X + 1.00000000000000)</script></html>"
      ],
      "text/plain": [
       "X^2 + 1.00000000000000"
      ]
     },
     "metadata": {},
     "output_type": "display_data"
    },
    {
     "data": {
      "text/html": [
       "<html><script type=\"math/tex; mode=display\">\\newcommand{\\Bold}[1]{\\mathbf{#1}}(X - 1.00000000000000i) \\cdot (X + 1.00000000000000i)</script></html>"
      ],
      "text/plain": [
       "(X - I) * (X + I)"
      ]
     },
     "metadata": {},
     "output_type": "display_data"
    }
   ],
   "source": [
    "# Définition de P\n",
    "## Dans les réels\n",
    "Pr.<X> = RR[]\n",
    "Pr = X^2+1\n",
    "## Dans les complexes\n",
    "Pc.<X> = CC[]\n",
    "Pc = X^2+1\n",
    "\n",
    "#Les racines de P dans RR\n",
    "show(\"Les racines réelles de P sont : \", Pr.roots()) #il n'y a pas de racine sur R \n",
    "\n",
    "#Les racines de P dans CC\n",
    "show(\"Les racines complexes de P sont : \", Pc.roots())\n",
    "\n",
    "# Factorisation de P dans les réels\n",
    "show(factor(Pr))\n",
    "\n",
    "# Factorisation de P dans les complexes\n",
    "show(factor(Pc))\n"
   ]
  },
  {
   "cell_type": "markdown",
   "metadata": {},
   "source": [
    "<p><br /><span style=\"font-size: large;\"><strong></strong><strong>M&Eacute;THODE DE RUFFINI<br /></strong></span></p>\n",
    "\n",
    "La méthode de Ruffni est, la plupart du temps, utilisée à des fins de factorisation.\n",
    "\n",
    "On vérifie si un polynôme est divisible par $X -\\alpha$.\n",
    "\n",
    "Si tel est le cas, le reste de la division est nul et on factorise le polynôme\n",
    "$P(X) = Q(X)(X -\\alpha)$.\n",
    "\n",
    "Si ce n'est pas le cas, le reste n'est pas nul et vaut $R$, on peut écrire :\n",
    "$P(X) = Q(X)(X -\\alpha) + R$.\n",
    "\n",
    "Donc cette méthode nous permet aussi de diviser un polynôme $P$ par un binôme de la\n",
    "forme $X -\\alpha$.\n",
    "\n",
    "<p><span style=\"text-decoration: underline;\"><span style=\"font-family: arial,helvetica,sans-serif;\">EXERCICE 7</span></span></p>\n",
    "\n",
    "Implementer une fonction $ruffini(P,alpha)$.<br> \n",
    "Elle prend en entrée un polynome $P$ et un coefficient $\\alpha \\in \\mathbb{R}$.\n",
    "Elle donne en sortie le quotient $Q$ et le reste $R$ de la division par $X -\\alpha$.\n",
    "\n",
    "Tester votre fonction sur le polynôme $X^3-X^2-5X-3$, avec $\\alpha=-1, 1, 2$."
   ]
  },
  {
   "cell_type": "code",
   "execution_count": 96,
   "metadata": {},
   "outputs": [],
   "source": [
    "def ruffini(p, alpha):\n",
    "    d.<X> = ZZ[]\n",
    "    d = X - alpha \n",
    "    q, r = p.quo_rem(d)\n",
    "    return (q, r)"
   ]
  },
  {
   "cell_type": "code",
   "execution_count": 104,
   "metadata": {},
   "outputs": [
    {
     "data": {
      "text/html": [
       "<html><script type=\"math/tex; mode=display\">\\newcommand{\\Bold}[1]{\\mathbf{#1}}\\left(X^{2} - 2X - 3, 0\\right)</script></html>"
      ],
      "text/plain": [
       "(X^2 - 2*X - 3, 0)"
      ]
     },
     "metadata": {},
     "output_type": "display_data"
    },
    {
     "data": {
      "text/html": [
       "<html><script type=\"math/tex; mode=display\">\\newcommand{\\Bold}[1]{\\mathbf{#1}}\\left(X^{2} - 5, -8\\right)</script></html>"
      ],
      "text/plain": [
       "(X^2 - 5, -8)"
      ]
     },
     "metadata": {},
     "output_type": "display_data"
    },
    {
     "data": {
      "text/html": [
       "<html><script type=\"math/tex; mode=display\">\\newcommand{\\Bold}[1]{\\mathbf{#1}}\\left(X^{2} + X - 3, -9\\right)</script></html>"
      ],
      "text/plain": [
       "(X^2 + X - 3, -9)"
      ]
     },
     "metadata": {},
     "output_type": "display_data"
    }
   ],
   "source": [
    "Pr.<X> = ZZ[]\n",
    "Pr = X^3 -X^2-5*X-3\n",
    "for i in [-1,1,2]:\n",
    "    show(ruffini(Pr,i))"
   ]
  }
 ],
 "metadata": {
  "kernelspec": {
   "display_name": "SageMath 9.1",
   "language": "sage",
   "name": "sagemath"
  },
  "language_info": {
   "codemirror_mode": {
    "name": "ipython",
    "version": 3
   },
   "file_extension": ".py",
   "mimetype": "text/x-python",
   "name": "python",
   "nbconvert_exporter": "python",
   "pygments_lexer": "ipython3",
   "version": "3.7.3"
  }
 },
 "nbformat": 4,
 "nbformat_minor": 2
}
